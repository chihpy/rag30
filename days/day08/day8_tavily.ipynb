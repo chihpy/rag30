{
 "cells": [
  {
   "cell_type": "raw",
   "id": "91d2baa7-4c4b-4682-843f-b381c423591c",
   "metadata": {},
   "source": [
    "pip install llama-index-tools-tavily-research "
   ]
  },
  {
   "cell_type": "code",
   "execution_count": null,
   "id": "5e5768a3-9f7a-415b-a763-a02214c938b0",
   "metadata": {},
   "outputs": [],
   "source": [
    "# [tavily](https://www.tavily.com/)\n",
    "# put TAVILY_API_KEY to .env\n",
    "import os\n",
    "from dotenv import find_dotenv, load_dotenv\n",
    "_ = load_dotenv(find_dotenv())\n",
    "\n",
    "TAVILY_API_KEY = os.getenv(\"TAVILY_API_KEY\")"
   ]
  },
  {
   "cell_type": "code",
   "execution_count": null,
   "id": "680802bf-f4e4-4741-82a7-60c4907945bc",
   "metadata": {},
   "outputs": [],
   "source": [
    "# Set up Tavily tool\n",
    "from llama_index.tools.tavily_research.base import TavilyToolSpec\n",
    "\n",
    "tavily_tool = TavilyToolSpec(\n",
    "    api_key=TAVILY_API_KEY,\n",
    ")\n",
    "\n",
    "tavily_tool_list = tavily_tool.to_tool_list()\n",
    "for tool in tavily_tool_list:\n",
    "    print(tool.metadata.name)"
   ]
  },
  {
   "cell_type": "code",
   "execution_count": null,
   "id": "bc2c8156-1fc1-47a1-b49a-347f5751943e",
   "metadata": {},
   "outputs": [],
   "source": [
    "query = '徵象(Signs)及症狀(Symptoms)之區別?'"
   ]
  },
  {
   "cell_type": "code",
   "execution_count": null,
   "id": "ffc74c38-f676-432f-9657-6d80de1c730d",
   "metadata": {},
   "outputs": [],
   "source": [
    "tavily_response = tavily_tool.search(query, max_results=3)\n",
    "tavily_response"
   ]
  },
  {
   "cell_type": "code",
   "execution_count": null,
   "id": "c2dc39b8-fa14-483b-9d8f-8bbc791c7cd7",
   "metadata": {},
   "outputs": [],
   "source": [
    "doc = tavily_response[0]\n",
    "text = doc.text_resource.text\n",
    "metadata = doc.metadata\n",
    "metadata"
   ]
  },
  {
   "cell_type": "code",
   "execution_count": null,
   "id": "34171efc-d98c-49f6-a9dc-84a9348864e1",
   "metadata": {},
   "outputs": [],
   "source": [
    "text"
   ]
  },
  {
   "cell_type": "markdown",
   "id": "85d2d29b-f1b8-4b4e-90b5-b27f1680a20d",
   "metadata": {},
   "source": [
    "# search tool in an agent"
   ]
  },
  {
   "cell_type": "code",
   "execution_count": null,
   "id": "7806a9b1-76bc-49dd-b099-1485c3d6cc0b",
   "metadata": {},
   "outputs": [],
   "source": [
    "from llama_index.core.agent.workflow import FunctionAgent\n",
    "from llama_index.llms.openai import OpenAI\n",
    "\n",
    "agent = FunctionAgent(\n",
    "    tools=tavily_tool_list,\n",
    "    llm=OpenAI(model=\"gpt-5-mini\"),\n",
    "#    system_prompt=system_prompt,\n",
    "    streaming=False,\n",
    "    verbose=True,\n",
    ")"
   ]
  },
  {
   "cell_type": "code",
   "execution_count": null,
   "id": "93e86b67-4223-42c5-96e4-9c83f8402ca6",
   "metadata": {},
   "outputs": [],
   "source": [
    "result = await agent.run(query)\n",
    "print(\"-----\\nResult: \")\n",
    "print(result)"
   ]
  },
  {
   "cell_type": "code",
   "execution_count": null,
   "id": "86fa3c56-0a04-4b91-853b-78169190fc05",
   "metadata": {},
   "outputs": [],
   "source": [
    "print(tavily_tool_list[0].metadata.name)"
   ]
  },
  {
   "cell_type": "code",
   "execution_count": null,
   "id": "02db8523-4608-4cc3-af4b-8323083ee429",
   "metadata": {},
   "outputs": [],
   "source": [
    "from llama_index.core.agent.workflow import FunctionAgent\n",
    "from llama_index.llms.openai import OpenAI\n",
    "\n",
    "agent = FunctionAgent(\n",
    "    tools=tavily_tool_list,\n",
    "    llm=OpenAI(model=\"gpt-5-mini\"),\n",
    "#    system_prompt=system_prompt,\n",
    "    streaming=False,\n",
    "    verbose=True,\n",
    ")"
   ]
  },
  {
   "cell_type": "code",
   "execution_count": null,
   "id": "cea449aa-37f0-410a-8ef8-9b68c37ac3f3",
   "metadata": {},
   "outputs": [],
   "source": [
    "result = await agent.run(query)\n",
    "print(result)"
   ]
  },
  {
   "cell_type": "code",
   "execution_count": null,
   "id": "be3dee1d-23e4-440f-bb49-da7462cabf4f",
   "metadata": {},
   "outputs": [],
   "source": [
    "result"
   ]
  },
  {
   "cell_type": "code",
   "execution_count": null,
   "id": "8cf7a1c8-313b-435a-962f-4c763759c98e",
   "metadata": {},
   "outputs": [],
   "source": [
    "system_prompt = \"\"\"\n",
    "你是一個考題助理，不能直接用自己的知識回答。\n",
    "\n",
    "任務流程：\n",
    "1. 根據使用者問題，先分析並決定最重要的 **關鍵字或子問題**（必須明確列出）。\n",
    "2. 對每個關鍵字或子問題，呼叫 tavily 搜尋工具來獲取相關資訊。\n",
    "3. 根據搜尋回傳的內容，整理出最終答案。\n",
    "   - 不允許只靠你內建的知識作答。\n",
    "\n",
    "規則：\n",
    "- 如果沒有搜尋結果，請誠實說明。\n",
    "- 回答時，先列出你選定的關鍵字，再呈現答案。\n",
    "\"\"\""
   ]
  },
  {
   "cell_type": "code",
   "execution_count": null,
   "id": "2a513c7f-12e9-402b-8fd9-a8e034d94634",
   "metadata": {},
   "outputs": [],
   "source": [
    "from llama_index.core.agent.workflow import FunctionAgent\n",
    "from llama_index.llms.openai import OpenAI\n",
    "\n",
    "agent = FunctionAgent(\n",
    "    tools=tavily_tool_list,\n",
    "    llm=OpenAI(model=\"gpt-5-mini\"),\n",
    "    system_prompt=system_prompt,\n",
    "    streaming=False,\n",
    "    verbose=True,\n",
    ")\n"
   ]
  },
  {
   "cell_type": "code",
   "execution_count": null,
   "id": "30131310-e589-4aad-8c3a-f89c9294f388",
   "metadata": {},
   "outputs": [],
   "source": [
    "result = await agent.run(query)\n",
    "print(\"-----\\nResult: \")\n",
    "print(result)"
   ]
  },
  {
   "cell_type": "code",
   "execution_count": null,
   "id": "b2331966-46ce-48e7-beb1-64536f2e4a4d",
   "metadata": {
    "scrolled": true
   },
   "outputs": [],
   "source": [
    "result"
   ]
  },
  {
   "cell_type": "code",
   "execution_count": null,
   "id": "33f0be39-bb94-4e93-b04f-40893e6c35c0",
   "metadata": {},
   "outputs": [],
   "source": [
    "result.response"
   ]
  },
  {
   "cell_type": "code",
   "execution_count": null,
   "id": "b798fc36-11f6-4cc5-8cc9-1e143a1eeff7",
   "metadata": {
    "scrolled": true
   },
   "outputs": [],
   "source": [
    "result.raw"
   ]
  },
  {
   "cell_type": "code",
   "execution_count": null,
   "id": "a04da63f-a717-4d4c-9bcf-db6efdcbe927",
   "metadata": {},
   "outputs": [],
   "source": [
    "len(result.tool_calls)"
   ]
  },
  {
   "cell_type": "code",
   "execution_count": null,
   "id": "3e993dec-137f-4a36-b3ad-9e9581bd04d5",
   "metadata": {},
   "outputs": [],
   "source": [
    "result.tool_calls[0]"
   ]
  },
  {
   "cell_type": "code",
   "execution_count": null,
   "id": "b00f578a-4d4f-480b-8720-63c072bbddf8",
   "metadata": {},
   "outputs": [],
   "source": [
    "for tool_call_result in result.tool_calls:\n",
    "    print(f'tool_name: {tool_call_result.tool_name}')\n",
    "    print(f'query: {tool_call_result.tool_kwargs}')"
   ]
  },
  {
   "cell_type": "code",
   "execution_count": null,
   "id": "3bddd3b6-39f2-49ad-90a5-e232fcac4b25",
   "metadata": {},
   "outputs": [],
   "source": [
    "len(tool_call_result.tool_output.blocks)"
   ]
  },
  {
   "cell_type": "code",
   "execution_count": null,
   "id": "4eed292f-191c-4be9-8b34-951e68029390",
   "metadata": {},
   "outputs": [],
   "source": [
    "tool_call_result.tool_kwargs"
   ]
  },
  {
   "cell_type": "code",
   "execution_count": null,
   "id": "eb9fa0a9-76d2-4f87-974a-2cb13c9ba56c",
   "metadata": {},
   "outputs": [],
   "source": [
    "tool_call_result"
   ]
  },
  {
   "cell_type": "code",
   "execution_count": null,
   "id": "f6cb60cc-f881-470c-80da-409e2ac15710",
   "metadata": {},
   "outputs": [],
   "source": [
    "from langfuse import get_client\n",
    "langfuse = get_client()\n",
    "\n",
    "# Verify connection\n",
    "if langfuse.auth_check():\n",
    "    print(\"Langfuse client is authenticated and ready!\")\n",
    "else:\n",
    "    print(\"Authentication failed. Please check your credentials and host.\")\n",
    "\n",
    "from openinference.instrumentation.llama_index import LlamaIndexInstrumentor\n",
    "\n",
    "# Initialize LlamaIndex instrumentation\n",
    "LlamaIndexInstrumentor().instrument()"
   ]
  },
  {
   "cell_type": "code",
   "execution_count": null,
   "id": "66abbdaf-f155-43dd-bf20-bc07b324d698",
   "metadata": {},
   "outputs": [],
   "source": [
    "result = await agent.run(query)\n",
    "print(result)"
   ]
  },
  {
   "cell_type": "code",
   "execution_count": null,
   "id": "b8d96098-ed63-4710-80c9-0bf90eaff4d2",
   "metadata": {},
   "outputs": [],
   "source": [
    "result"
   ]
  },
  {
   "cell_type": "code",
   "execution_count": null,
   "id": "593475cd-7ebd-49f3-82d4-195a3ca8fcf2",
   "metadata": {},
   "outputs": [],
   "source": [
    "agent"
   ]
  },
  {
   "cell_type": "raw",
   "id": "f2efb949-185f-44a0-bd90-1bef7cada454",
   "metadata": {},
   "source": [
    "# reference:\n",
    "- [llamaindex-tools-tavily-research](https://github.com/run-llama/llama_index/blob/main/llama-index-integrations/tools/llama-index-tools-tavily-research/examples/tavily.ipynb)"
   ]
  },
  {
   "cell_type": "code",
   "execution_count": null,
   "id": "5d1ca009-97cc-4116-bcd0-d46cc7717932",
   "metadata": {},
   "outputs": [],
   "source": [
    "llm=OpenAI(model=\"gpt-5-mini\")"
   ]
  },
  {
   "cell_type": "code",
   "execution_count": null,
   "id": "b80042ab-2842-4b49-99bf-b9884c48bb80",
   "metadata": {},
   "outputs": [],
   "source": [
    "result = \"\"\"我將先列出我用來檢索的關鍵字／子問題，然後給出整理後的答案（答案依據檢索到的資料，而非僅憑我內建知識）。\n",
    "\n",
    "檢索關鍵字／子問題\n",
    "1) 「徵象 症狀 區別 定義」  \n",
    "2) 「signs vs symptoms difference objective subjective」  \n",
    "3) 「徵象 範例 症狀 範例」  \n",
    "4) 「醫學 教科書 徵象 症狀 定義」\n",
    "\n",
    "整理後答案（依據上述搜尋結果）\n",
    "- 基本定義（要點）\n",
    "  - 症狀（Symptom）：為患者主觀感受或描述，只有患者本人才會知道或感受到，不能由他人直接量測或觀察到。例如：疼痛、噁心、頭暈、疲倦、心悸的感覺。（來源：多個醫療衛教網站與教科書說明）\n",
    "  - 徵象（Sign）：為醫療人員或他人可客觀觀察或測量到的發現，可以被第三方確認。例如：發燒（可測到體溫）、皮疹、腫脹、血壓升高、實體檢查發現的觸痛、實驗室或影像檢查結果。簡言之：徵象是「可觀察/可量測的客觀證據」。（來源：Mayo Clinic 等醫療網站說明）\n",
    "\n",
    "- 判別重點（簡單記憶法）\n",
    "  - 症狀 = 主觀（patient-reported）  \n",
    "  - 徵象 = 客觀（observer- or test-detected）\n",
    "\n",
    "- 常見範例（配對示例）\n",
    "  - 患者說「我覺得發燒、很冷」→ 症狀（feeling feverish）；測到體溫 38.5°C → 徵象（fever，客觀測量）。  \n",
    "  - 患者說「肚子痛」→ 症狀；觸診時腹部壓痛 → 徵象（腹部壓痛）。  \n",
    "  - 患者感到頭暈→ 症狀；眼震（nystagmus）或血壓過低測得→ 徵象。  \n",
    "  - 咳嗽可同時為患者主訴（症狀），但醫護在診間觀察到持續劇烈咳嗽或吐痰帶血則為徵象；同理，尿液肉眼見血或檢驗出血尿為徵象。（來源：臨床教科書與臨床衛教資料）\n",
    "\n",
    "- 記錄與臨床流程上的應用\n",
    "  - 在病歷書寫與臨床流程（例如 SOAP 記錄法）中，通常把患者描述的主觀資訊放在 S（Subjective，症狀）欄，把檢查、生命徵象、檢驗或影像結果等客觀發現放在 O（Objective，徵象）欄。臨床診斷與處置會綜合兩者。 （來源：臨床教科書與醫療網站）\n",
    "\n",
    "- 進一步提醒 / 邊界情況\n",
    "  - 有時某些「外顯的主觀經驗」（例如患者自行看到皮疹或血尿）會被患者敘述為症狀，但當醫師或檢驗證實並測量後即成為徵象。  \n",
    "  - 臨床上「症狀」與「徵象」往往共同使用以協助鑑別診斷：症狀提示要進一步檢查，徵象（尤其是可測量的檢驗或影像）則有助於確認診斷與評估病情嚴重度。 （來源：多方醫療衛教與教科書說明）\n",
    "\n",
    "如果你需要，我可以把我檢索到的具體來源（例如醫院網站、衛福部或教科書章節連結）列出來，或給更多臨床配對範例供練習。要我列出來源嗎？\"\"\""
   ]
  },
  {
   "cell_type": "code",
   "execution_count": null,
   "id": "01e3bc2a-4246-491a-a3ff-b789fbcb0ca6",
   "metadata": {},
   "outputs": [],
   "source": [
    "from llama_index.core.llms import ChatMessage"
   ]
  },
  {
   "cell_type": "code",
   "execution_count": null,
   "id": "6ffd324f-8901-42e8-a898-238a57e000d9",
   "metadata": {},
   "outputs": [],
   "source": [
    "prompt = \"\"\"你是一個知識卡生成器。  \n",
    "請將輸入的資訊整理成三段，分別是：  \n",
    "1. # question （原始問題，保持簡潔明確）  \n",
    "2. # context （可協助用來回答原始問題的關鍵資訊，如原始問題中特殊名詞的定義）  \n",
    "3. # answer （最終整合的答案，盡可能一言以蔽之，否則條列清楚，避免多餘贅述）  \n",
    "\n",
    "請務必輸出成以下格式，不要額外加其他文字：\n",
    "\n",
    "# question\n",
    "{填入問題}\n",
    "\n",
    "# context\n",
    "{填入相關的關鍵資訊}\n",
    "\n",
    "# answer\n",
    "{填入條理清晰的答案}\n",
    "\"\"\"\n"
   ]
  },
  {
   "cell_type": "code",
   "execution_count": null,
   "id": "d9dc6ca2-f663-4089-8ed6-2b7fdfce2744",
   "metadata": {},
   "outputs": [],
   "source": [
    "query = '徵象(Signs)及症狀(Symptoms)之區別?'\n",
    "messages_dict = [\n",
    "    {'role': 'user', 'content': query},\n",
    "    {'role': 'assistant', 'content': result},\n",
    "    {'role': 'user', 'content': prompt}\n",
    "]\n",
    "messages = [ChatMessage(**msg) for msg in messages_dict]\n",
    "\n",
    "# Print the list of ChatMessage objects to verify the conversion.\n",
    "print(messages)"
   ]
  },
  {
   "cell_type": "code",
   "execution_count": null,
   "id": "7c404c07-338e-4229-88c4-f0ee83d35506",
   "metadata": {},
   "outputs": [],
   "source": [
    "response = llm.chat(messages)\n",
    "print(response)"
   ]
  },
  {
   "cell_type": "code",
   "execution_count": null,
   "id": "75c8032a-fa2e-4923-9b08-1c486a162f76",
   "metadata": {},
   "outputs": [],
   "source": []
  }
 ],
 "metadata": {
  "kernelspec": {
   "display_name": "rag30",
   "language": "python",
   "name": "rag30"
  },
  "language_info": {
   "codemirror_mode": {
    "name": "ipython",
    "version": 3
   },
   "file_extension": ".py",
   "mimetype": "text/x-python",
   "name": "python",
   "nbconvert_exporter": "python",
   "pygments_lexer": "ipython3",
   "version": "3.12.0"
  }
 },
 "nbformat": 4,
 "nbformat_minor": 5
}
