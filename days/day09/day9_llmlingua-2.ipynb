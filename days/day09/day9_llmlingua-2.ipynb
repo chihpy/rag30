{
 "cells": [
  {
   "cell_type": "raw",
   "id": "2aa05a6f-8caa-47b1-9fa2-00647a11fc53",
   "metadata": {},
   "source": [
    "pip install llama-index-postprocessor-longllmlingua\n",
    "reference: https://github.com/run-llama/llama_index/blob/05fb789ae818a01802850a3f54c8ee2613466c8e/llama-index-integrations/postprocessor/llama-index-postprocessor-longllmlingua/examples/longllmlingua2.ipynb"
   ]
  },
  {
   "cell_type": "code",
   "execution_count": null,
   "id": "9d302bc0-dddb-400e-8114-adae774a7a58",
   "metadata": {},
   "outputs": [],
   "source": [
    "import os\n",
    "from dotenv import find_dotenv, load_dotenv\n",
    "_ = load_dotenv(find_dotenv())\n",
    "\n",
    "TAVILY_API_KEY = os.getenv(\"TAVILY_API_KEY\")"
   ]
  },
  {
   "cell_type": "code",
   "execution_count": null,
   "id": "c15281ce-e054-455f-923a-42f5b27503c0",
   "metadata": {},
   "outputs": [],
   "source": [
    "from llama_index.tools.tavily_research.base import TavilyToolSpec\n",
    "\n",
    "tavily_tool = TavilyToolSpec(\n",
    "    api_key=TAVILY_API_KEY,\n",
    ")"
   ]
  },
  {
   "cell_type": "code",
   "execution_count": null,
   "id": "38632824-2d90-4c5b-ac06-edc5ecb79c94",
   "metadata": {},
   "outputs": [],
   "source": [
    "question = '徵象(Signs)及症狀(Symptoms)之區別?'"
   ]
  },
  {
   "cell_type": "code",
   "execution_count": null,
   "id": "9f865b62-a752-4e46-b772-1bca12f9bba9",
   "metadata": {},
   "outputs": [],
   "source": [
    "tavily_response = tavily_tool.search(question, max_results=3)\n",
    "type(tavily_response), len(tavily_response)"
   ]
  },
  {
   "cell_type": "code",
   "execution_count": null,
   "id": "3cf4bb0f-e7ec-4c13-94fd-bc0cbb37b213",
   "metadata": {},
   "outputs": [],
   "source": [
    "tavily_response[0]"
   ]
  },
  {
   "cell_type": "code",
   "execution_count": null,
   "id": "e2662d6d-e5f2-4e64-89b8-b8ceb98055ff",
   "metadata": {},
   "outputs": [],
   "source": [
    "from llama_index.core.schema import TextNode"
   ]
  },
  {
   "cell_type": "code",
   "execution_count": null,
   "id": "c60ea3e7-cc41-4a5c-b3ba-6ee1a1508f51",
   "metadata": {},
   "outputs": [],
   "source": [
    "#nodes = [TextNode(text=doc.text, metadata=doc.metadata, id_=doc.doc_id) for doc in tavily_response]\n",
    "\n",
    "from llama_index.core.schema import TextNode, NodeWithScore\n",
    "\n",
    "nodes = [\n",
    "    NodeWithScore(\n",
    "        node=TextNode(\n",
    "            text=doc.text,\n",
    "            metadata=doc.metadata,\n",
    "            id_=doc.doc_id,\n",
    "        )\n",
    "    )\n",
    "    for doc in tavily_response\n",
    "]"
   ]
  },
  {
   "cell_type": "code",
   "execution_count": null,
   "id": "94b8bf2c-7c53-4e60-9b10-445d9f9c143f",
   "metadata": {},
   "outputs": [],
   "source": [
    "nodes[0]"
   ]
  },
  {
   "cell_type": "code",
   "execution_count": null,
   "id": "9e866fe4-c9d0-4a69-baf7-cf4c84131d47",
   "metadata": {},
   "outputs": [],
   "source": [
    "import time\n",
    "# pip install llama-index-postprocessor-longllmlingua\n",
    "from llama_index.postprocessor.longllmlingua import LongLLMLinguaPostprocessor"
   ]
  },
  {
   "cell_type": "code",
   "execution_count": null,
   "id": "897deaf9-2ee3-4862-97ab-f6560d807a3b",
   "metadata": {},
   "outputs": [],
   "source": [
    "start = time.time()\n",
    "\n",
    "compressor_llmlingua2 = LongLLMLinguaPostprocessor(\n",
    "    model_name=\"microsoft/llmlingua-2-xlm-roberta-large-meetingbank\",\n",
    "    device_map=\"auto\",  # Mac users rejoice!\n",
    "    use_llmlingua2=True,\n",
    ")\n",
    "\n",
    "end = time.time()\n",
    "\n",
    "print(f'dur: {end - start:.2f} sec')"
   ]
  },
  {
   "cell_type": "code",
   "execution_count": null,
   "id": "95b59824-19f0-4c73-a867-f48ce62e23bf",
   "metadata": {},
   "outputs": [],
   "source": [
    "from llama_index.core.schema import QueryBundle\n",
    "import time\n",
    "\n",
    "start = time.time()\n",
    "results = compressor_llmlingua2._postprocess_nodes(\n",
    "    nodes, query_bundle=QueryBundle(query_str=question)\n",
    ")\n",
    "end = time.time()\n",
    "\n",
    "print(f'dur: {end - start:.2f} sec')"
   ]
  },
  {
   "cell_type": "code",
   "execution_count": null,
   "id": "1dca1652-aac5-4d14-b8f9-6a3bd37ae6af",
   "metadata": {},
   "outputs": [],
   "source": [
    "results"
   ]
  },
  {
   "cell_type": "code",
   "execution_count": null,
   "id": "1c3e130a-4b1a-4516-9855-bb65f427aa1d",
   "metadata": {},
   "outputs": [],
   "source": [
    "single_node_list = [nodes[0]]"
   ]
  },
  {
   "cell_type": "code",
   "execution_count": null,
   "id": "d9fff84c-7a79-40d4-b660-db861023c410",
   "metadata": {},
   "outputs": [],
   "source": [
    "single_node_list"
   ]
  },
  {
   "cell_type": "code",
   "execution_count": null,
   "id": "38cb995a-b575-4845-bbe9-9d348a04bb6f",
   "metadata": {},
   "outputs": [],
   "source": [
    "\n",
    "start = time.time()\n",
    "results = compressor_llmlingua2._postprocess_nodes(\n",
    "    single_node_list, query_bundle=QueryBundle(query_str=question)\n",
    ")\n",
    "end = time.time()\n",
    "\n",
    "print(f'dur: {end - start:.2f} sec')"
   ]
  },
  {
   "cell_type": "code",
   "execution_count": null,
   "id": "48d65ae5-8e62-43b6-8aff-2e6425e36278",
   "metadata": {},
   "outputs": [],
   "source": [
    "results"
   ]
  },
  {
   "cell_type": "code",
   "execution_count": null,
   "id": "cb9d8780-7fdc-41ce-941a-065b3a0ba602",
   "metadata": {},
   "outputs": [],
   "source": [
    "start = time.time()\n",
    "\n",
    "compressor_llmlingua2 = LongLLMLinguaPostprocessor(\n",
    "    model_name=\"microsoft/llmlingua-2-xlm-roberta-large-meetingbank\",\n",
    "    device_map=\"cpu\",  # Mac users rejoice!\n",
    "    use_llmlingua2=True,\n",
    "    target_token=17,\n",
    ")\n",
    "\n",
    "end = time.time()\n",
    "\n",
    "print(f'dur: {end - start:.2f} sec')"
   ]
  },
  {
   "cell_type": "code",
   "execution_count": null,
   "id": "728e0a32-a1b6-4fe3-b475-e1ccfe6269f0",
   "metadata": {},
   "outputs": [],
   "source": [
    "question = '大杯珍珠奶茶微糖微冰的簡稱是什麼?'\n",
    "\n",
    "nodes = [\n",
    "    NodeWithScore(\n",
    "        node=TextNode(\n",
    "            text='大杯珍珠奶茶微糖微冰',\n",
    "            metadata={'url': 'url://12345'},\n",
    "            id_='yoyoyo',\n",
    "        )\n",
    "    )\n",
    "]"
   ]
  },
  {
   "cell_type": "code",
   "execution_count": null,
   "id": "e5735ede-ee98-4ee9-a609-84ddf5d8e423",
   "metadata": {},
   "outputs": [],
   "source": [
    "start = time.time()\n",
    "results = compressor_llmlingua2._postprocess_nodes(\n",
    "    nodes, query_bundle=QueryBundle(query_str=question)\n",
    ")\n",
    "end = time.time()\n",
    "\n",
    "print(f'dur: {end - start:.2f} sec')"
   ]
  },
  {
   "cell_type": "code",
   "execution_count": null,
   "id": "e447ad68-8bb2-42c3-8017-ceb56638534e",
   "metadata": {},
   "outputs": [],
   "source": [
    "results"
   ]
  },
  {
   "cell_type": "code",
   "execution_count": null,
   "id": "f18a977a-d054-4eb7-b988-8dd623712a79",
   "metadata": {},
   "outputs": [],
   "source": [
    "compressor_llmlingua2?"
   ]
  },
  {
   "cell_type": "code",
   "execution_count": null,
   "id": "46fccd04-a782-440f-be4e-ca3312dc5272",
   "metadata": {},
   "outputs": [],
   "source": []
  }
 ],
 "metadata": {
  "kernelspec": {
   "display_name": "rag30",
   "language": "python",
   "name": "rag30"
  },
  "language_info": {
   "codemirror_mode": {
    "name": "ipython",
    "version": 3
   },
   "file_extension": ".py",
   "mimetype": "text/x-python",
   "name": "python",
   "nbconvert_exporter": "python",
   "pygments_lexer": "ipython3",
   "version": "3.12.0"
  }
 },
 "nbformat": 4,
 "nbformat_minor": 5
}
