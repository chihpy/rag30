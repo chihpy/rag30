{
 "cells": [
  {
   "cell_type": "code",
   "execution_count": 1,
   "id": "1aa1d882-9ff1-486c-8e36-741747951a82",
   "metadata": {},
   "outputs": [],
   "source": [
    "import os\n",
    "import numpy as np\n",
    "import matplotlib.pyplot as plt\n",
    "from utils import json_load"
   ]
  },
  {
   "cell_type": "code",
   "execution_count": 2,
   "id": "4828a9d9-3ebb-4114-b9cc-2048ad146238",
   "metadata": {},
   "outputs": [
    {
     "name": "stdout",
     "output_type": "stream",
     "text": [
      "load data from: data/deliverables/ada-002_semantic_similarity/2_llama_zh_semantic_result.json\n",
      "80\n"
     ]
    },
    {
     "data": {
      "text/plain": [
       "{'reference_answer': '常見針灸配穴法中,所指的「四關穴」,為下列何穴位之組合?',\n",
       " 'reference_context': '1.常見針灸配穴法中，所指的「四關穴」，為下列何穴位之組合？\\n\\xa0\\nA.上星、日月\\nB.合谷、太衝\\nC.內關、外關\\nD.上關、下關',\n",
       " 'response': '台九気终飯加度泩。吃的“六南分。，是一条有分题不别的宽器。',\n",
       " 'semantic_score': 0.776408433921812}"
      ]
     },
     "execution_count": 2,
     "metadata": {},
     "output_type": "execute_result"
    }
   ],
   "source": [
    "# get evaluator result\n",
    "#MODEL_NAME = 'text-embedding-3-small'  # \"text-embedding-ada-002\"\n",
    "MODEL_NAME = \"text-embedding-ada-002\"\n",
    "model_base_name = '-'.join(MODEL_NAME.split('-')[-2:])\n",
    "response_model = '2_llama_zh' # '4_gemma'\n",
    "\n",
    "small_3_dir = os.path.join('data', 'deliverables', f\"{model_base_name}_semantic_similarity\")\n",
    "small_3_file_path = os.path.join(small_3_dir, f'{response_model}_semantic_result.json')\n",
    "\n",
    "small_3_data  = json_load(small_3_file_path)\n",
    "print(len(small_3_data))\n",
    "small_3_data['1']"
   ]
  },
  {
   "cell_type": "code",
   "execution_count": 3,
   "id": "4b761886-c163-4e74-854c-f06aca90623c",
   "metadata": {},
   "outputs": [
    {
     "name": "stdout",
     "output_type": "stream",
     "text": [
      "load data from: data/source/normalized_exact_match_result/2_llama_zh_evaluation_result.json\n"
     ]
    },
    {
     "data": {
      "text/plain": [
       "{'qid': '1',\n",
       " 'ispass': False,\n",
       " 'label': '常見針灸配穴法中,所指的「四關穴」,為下列何穴位之組合?',\n",
       " 'pred': '台九気终飯加度泩。吃的“六南分。，是一条有分题不别的宽器。',\n",
       " 'nlabel': '常見針灸配穴法中所指的四關穴為下列何穴位之組合',\n",
       " 'npred': '台九気终飯加度泩吃的六南分是一条有分题不别的宽器'}"
      ]
     },
     "execution_count": 3,
     "metadata": {},
     "output_type": "execute_result"
    }
   ],
   "source": [
    "# get exact match data\n",
    "dataset_dir = os.path.join('data', 'source', 'normalized_exact_match_result')\n",
    "label_file_path = os.path.join(dataset_dir, f'{response_model}_evaluation_result.json')\n",
    "label_data = json_load(label_file_path)\n",
    "label_data[0]"
   ]
  },
  {
   "cell_type": "code",
   "execution_count": 4,
   "id": "4665b9b6-4d93-44bf-bed4-cd969f749cf5",
   "metadata": {},
   "outputs": [],
   "source": [
    "# get binary labels\n",
    "# and prediction scores\n",
    "# 由於這邊同樣是用 stem，所以認定 label 是 答案\n",
    "labels = []\n",
    "small_3_scores = []  # 3-small\n",
    "\n",
    "for idx, label in enumerate(label_data):\n",
    "    # get exact match and qid\n",
    "    qid = label['qid']\n",
    "    if label['ispass']:\n",
    "        labels.append(1)\n",
    "    else:\n",
    "        labels.append(0)\n",
    "        \n",
    "    # get small-3 pred\n",
    "    small_3_result = small_3_data[qid]\n",
    "    small_3_score = small_3_result['semantic_score']\n",
    "    small_3_scores.append(small_3_score)\n"
   ]
  },
  {
   "cell_type": "markdown",
   "id": "18429124-b5e6-4c8b-ba21-a25f4e89dda5",
   "metadata": {},
   "source": [
    "## small_3 selection"
   ]
  },
  {
   "cell_type": "code",
   "execution_count": 5,
   "id": "11501db1-7d3d-497b-be85-903cb4d60f3a",
   "metadata": {},
   "outputs": [
    {
     "name": "stdout",
     "output_type": "stream",
     "text": [
      "<class 'numpy.ndarray'> (81,) <class 'numpy.ndarray'> (81,) <class 'numpy.ndarray'> (80,)\n"
     ]
    }
   ],
   "source": [
    "from sklearn.metrics import precision_recall_curve\n",
    "precisions, recalls, thresholds = precision_recall_curve(labels, small_3_scores)\n",
    "print(type(precisions), precisions.shape, type(recalls), recalls.shape, type(thresholds), thresholds.shape)"
   ]
  },
  {
   "cell_type": "code",
   "execution_count": 6,
   "id": "4a05e76b-0599-47f9-bded-eff1891ec9b5",
   "metadata": {},
   "outputs": [
    {
     "name": "stderr",
     "output_type": "stream",
     "text": [
      "/home/poyuan/miniconda3/envs/rag30/lib/python3.12/site-packages/tqdm/auto.py:21: TqdmWarning: IProgress not found. Please update jupyter and ipywidgets. See https://ipywidgets.readthedocs.io/en/stable/user_install.html\n",
      "  from .autonotebook import tqdm as notebook_tqdm\n"
     ]
    }
   ],
   "source": [
    "import evaluate  # pip install evaluate\n",
    "\n",
    "def _get_binary_prediction(pred, thr):\n",
    "    return [0.0 if p <= thr else 1. for p in pred]\n",
    "\n",
    "def _get_precision_recall(pred, label):\n",
    "    precision_metric = evaluate.load(\"precision\")\n",
    "    recall_metric = evaluate.load(\"recall\")\n",
    "\n",
    "    combined = evaluate.combine([precision_metric, recall_metric])\n",
    "    results = combined.compute(predictions=pred, references=label)\n",
    "    return results  # dict \n",
    "\n",
    "def get_precision_recall(pred, label, thr):\n",
    "    binary_pred = _get_binary_prediction(pred, thr)\n",
    "    result = _get_precision_recall(binary_pred, label)\n",
    "    return result  # dict "
   ]
  },
  {
   "cell_type": "code",
   "execution_count": 7,
   "id": "7c764817-545c-4512-a7a3-767d4fa5f8a2",
   "metadata": {},
   "outputs": [
    {
     "data": {
      "text/plain": [
       "{'precision': 0.3717948717948718, 'recall': 1.0}"
      ]
     },
     "execution_count": 7,
     "metadata": {},
     "output_type": "execute_result"
    }
   ],
   "source": [
    "get_precision_recall(small_3_scores, labels, thresholds[1])"
   ]
  },
  {
   "cell_type": "code",
   "execution_count": 8,
   "id": "d0310805-ffee-468b-932c-be634700f15c",
   "metadata": {},
   "outputs": [
    {
     "data": {
      "text/plain": [
       "(81,)"
      ]
     },
     "execution_count": 8,
     "metadata": {},
     "output_type": "execute_result"
    }
   ],
   "source": [
    "def get_f1_score(precisions, recalls):\n",
    "    # from precision and recall\n",
    "    f1_scores = np.where(\n",
    "        (precisions + recalls) > 0,\n",
    "        2 * precisions * recalls / (precisions + recalls),\n",
    "        0.0,\n",
    "    )\n",
    "    return f1_scores\n",
    "\n",
    "f1_scores = get_f1_score(precisions, recalls)\n",
    "f1_scores.shape"
   ]
  },
  {
   "cell_type": "code",
   "execution_count": 9,
   "id": "39bdbeba-0fdf-486b-a1bf-26e372b44530",
   "metadata": {},
   "outputs": [],
   "source": [
    "def get_topk_highlight(precisions, recalls, k=3):\n",
    "    f1_scores = get_f1_score(precisions, recalls)\n",
    "    topk_idx = np.argsort(-f1_scores)[:k]\n",
    "\n",
    "    highlights = []\n",
    "    for idx in topk_idx:\n",
    "        thr = None if idx == 0 else thresholds[idx - 1]\n",
    "        highlights.append({\n",
    "            \"f1\": float(f1_scores[idx]),\n",
    "            \"precision\": float(precisions[idx]),\n",
    "            \"recall\": float(recalls[idx]),\n",
    "            \"threshold\": None if thr is None else float(thr),\n",
    "            \"idx\": int(idx),\n",
    "        })\n",
    "    return highlights"
   ]
  },
  {
   "cell_type": "code",
   "execution_count": 10,
   "id": "c61d4d3f-a73a-4d21-9476-2bb9fe38b9cc",
   "metadata": {},
   "outputs": [
    {
     "data": {
      "text/plain": [
       "[{'f1': 0.9508196721311475,\n",
       "  'precision': 0.90625,\n",
       "  'recall': 1.0,\n",
       "  'threshold': 0.9642988120688676,\n",
       "  'idx': 48},\n",
       " {'f1': 0.9491525423728815,\n",
       "  'precision': 0.9333333333333333,\n",
       "  'recall': 0.9655172413793104,\n",
       "  'threshold': 0.9676289405210952,\n",
       "  'idx': 50},\n",
       " {'f1': 0.9454545454545454,\n",
       "  'precision': 1.0,\n",
       "  'recall': 0.896551724137931,\n",
       "  'threshold': 0.9899387683709545,\n",
       "  'idx': 54}]"
      ]
     },
     "execution_count": 10,
     "metadata": {},
     "output_type": "execute_result"
    }
   ],
   "source": [
    "highlights = get_topk_highlight(precisions, recalls)\n",
    "highlights"
   ]
  },
  {
   "cell_type": "code",
   "execution_count": 11,
   "id": "a32f01a2-5a2b-4e7a-9acf-c9553c75b81e",
   "metadata": {},
   "outputs": [
    {
     "data": {
      "text/plain": [
       "{'precision': 0.90625, 'recall': 1.0}"
      ]
     },
     "execution_count": 11,
     "metadata": {},
     "output_type": "execute_result"
    }
   ],
   "source": [
    "get_precision_recall(small_3_scores, labels, highlights[0]['threshold'])"
   ]
  }
 ],
 "metadata": {
  "kernelspec": {
   "display_name": "rag30",
   "language": "python",
   "name": "rag30"
  },
  "language_info": {
   "codemirror_mode": {
    "name": "ipython",
    "version": 3
   },
   "file_extension": ".py",
   "mimetype": "text/x-python",
   "name": "python",
   "nbconvert_exporter": "python",
   "pygments_lexer": "ipython3",
   "version": "3.12.0"
  }
 },
 "nbformat": 4,
 "nbformat_minor": 5
}
