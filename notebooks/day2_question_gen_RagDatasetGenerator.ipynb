{
 "cells": [
  {
   "cell_type": "code",
   "execution_count": null,
   "id": "c7647ec1-67d8-49da-931b-01e7fe8cce69",
   "metadata": {},
   "outputs": [],
   "source": []
  },
  {
   "cell_type": "raw",
   "id": "bdb47eb9-abd9-4558-8fd1-0dbd0ef07be9",
   "metadata": {},
   "source": [
    "pip install llama-index-llms-openai\n",
    "pip install llama-index"
   ]
  },
  {
   "cell_type": "code",
   "execution_count": 1,
   "id": "bd44c39a-d8da-4b92-8bfb-66bf8252c3da",
   "metadata": {},
   "outputs": [
    {
     "name": "stdout",
     "output_type": "stream",
     "text": [
      "/home/poyuan/workspace/rag30/.env\n"
     ]
    }
   ],
   "source": [
    "from dotenv import find_dotenv\n",
    "from dotenv import load_dotenv\n",
    "print(find_dotenv())\n",
    "succ = load_dotenv(find_dotenv())\n",
    "if not succ:\n",
    "    raise ValueError('load_dotenv FALSE')"
   ]
  },
  {
   "cell_type": "code",
   "execution_count": 2,
   "id": "ca4839a3-36b2-482a-a8f4-c34af9e1ed54",
   "metadata": {},
   "outputs": [],
   "source": [
    "from llama_index.llms.openai import OpenAI"
   ]
  },
  {
   "cell_type": "code",
   "execution_count": 3,
   "id": "81458cfb-3bd2-4b15-b5fd-1cd8d091f772",
   "metadata": {},
   "outputs": [],
   "source": [
    "# set context for llm provider\n",
    "llm = OpenAI(model=\"gpt-5-mini\", temperature=0.0)"
   ]
  },
  {
   "cell_type": "code",
   "execution_count": 4,
   "id": "52f4680b-0325-4d5a-ba23-6030d0f4a285",
   "metadata": {},
   "outputs": [],
   "source": [
    "# read document\n",
    "from llama_index.core import SimpleDirectoryReader\n",
    "source_dir = '../data/'\n",
    "reader = SimpleDirectoryReader(source_dir, required_exts=['.txt'])\n",
    "documents = reader.load_data()"
   ]
  },
  {
   "cell_type": "code",
   "execution_count": 5,
   "id": "b4f04d66-cee0-4e37-a52d-51e3aa7e59d0",
   "metadata": {
    "scrolled": true
   },
   "outputs": [
    {
     "data": {
      "text/plain": [
       "'各位同學大家好 我們來上課吧\\n剛才只是用Google的VO3\\n這個可以生成影片的人工智慧\\n隨便生了一些影片\\n作為開場,我們現在來正式開始這門課\\n我們先把投影片開起來\\n歡迎來到這門超級有趣的課程\\n很高興'"
      ]
     },
     "execution_count": 5,
     "metadata": {},
     "output_type": "execute_result"
    }
   ],
   "source": [
    "doc = documents[0]\n",
    "doc.text[:100]"
   ]
  },
  {
   "cell_type": "code",
   "execution_count": 6,
   "id": "b552d882-3609-47db-aa12-87aab46bd1e2",
   "metadata": {},
   "outputs": [
    {
     "name": "stderr",
     "output_type": "stream",
     "text": [
      "/home/poyuan/miniconda3/envs/rag30/lib/python3.12/site-packages/tqdm/auto.py:21: TqdmWarning: IProgress not found. Please update jupyter and ipywidgets. See https://ipywidgets.readthedocs.io/en/stable/user_install.html\n",
      "  from .autonotebook import tqdm as notebook_tqdm\n",
      "Parsing nodes: 100%|██████████████████████████████████████████████████████████████████████| 1/1 [00:00<00:00,  5.30it/s]\n"
     ]
    }
   ],
   "source": [
    "from llama_index.core.llama_dataset.generator import RagDatasetGenerator\n",
    "# instantiate a DatasetGenerator\n",
    "dataset_generator = RagDatasetGenerator.from_documents(\n",
    "    documents,\n",
    "    llm=llm,\n",
    "    num_questions_per_chunk=1,  # set the number of questions per nodes\n",
    "    show_progress=True,\n",
    ")"
   ]
  },
  {
   "cell_type": "code",
   "execution_count": 7,
   "id": "65166368-119e-46f1-a604-132f109deec6",
   "metadata": {},
   "outputs": [
    {
     "data": {
      "text/plain": [
       "9"
      ]
     },
     "execution_count": 7,
     "metadata": {},
     "output_type": "execute_result"
    }
   ],
   "source": [
    "len(dataset_generator.nodes)"
   ]
  },
  {
   "cell_type": "code",
   "execution_count": 9,
   "id": "8d161f22-8676-40d7-a368-c161ea79f8f6",
   "metadata": {},
   "outputs": [
    {
     "name": "stdout",
     "output_type": "stream",
     "text": [
      "各位同學大家好 我們\n",
      "idx: 0, beg: 0, end: 720\n",
      "第一種\n",
      "如果你未來想\n",
      "idx: 1, beg: 721, end: 1527\n",
      "to this co\n",
      "idx: 2, beg: 1436, end: 2255\n",
      "code放在這頁投影\n",
      "idx: 3, beg: 2256, end: 3003\n",
      "Cool上留言區的問\n",
      "idx: 4, beg: 2869, end: 3277\n",
      "Cool寄給所有有修\n",
      "idx: 5, beg: 3231, end: 4015\n",
      "Cool那個平台上面\n",
      "idx: 6, beg: 3882, end: 4612\n",
      "業設計成這樣呢\n",
      "為什\n",
      "idx: 7, beg: 4482, end: 5182\n",
      "預防針\n",
      "幫助你在未來\n",
      "idx: 8, beg: 5038, end: 5264\n"
     ]
    }
   ],
   "source": [
    "for idx, node in enumerate(dataset_generator.nodes):\n",
    "    print(node.text[:10])\n",
    "    print(f\"idx: {idx}, beg: {node.start_char_idx}, end: {node.end_char_idx}\")"
   ]
  },
  {
   "cell_type": "code",
   "execution_count": 11,
   "id": "9963b424-e352-43a3-bcd9-cfd88ba7532d",
   "metadata": {},
   "outputs": [
    {
     "data": {
      "text/plain": [
       "'第一種\\n如果你未來想'"
      ]
     },
     "execution_count": 11,
     "metadata": {},
     "output_type": "execute_result"
    }
   ],
   "source": [
    "doc.text[721:731]"
   ]
  },
  {
   "cell_type": "code",
   "execution_count": 12,
   "id": "e5825c15-68d4-4c18-8b37-83ae77b87136",
   "metadata": {},
   "outputs": [
    {
     "name": "stderr",
     "output_type": "stream",
     "text": [
      "  0%|                                                                                             | 0/9 [00:00<?, ?it/s]2025-09-19 22:14:34,004 - INFO - HTTP Request: POST https://api.openai.com/v1/chat/completions \"HTTP/1.1 200 OK\"\n",
      " 11%|█████████▍                                                                           | 1/9 [00:08<01:11,  8.88s/it]2025-09-19 22:14:36,460 - INFO - HTTP Request: POST https://api.openai.com/v1/chat/completions \"HTTP/1.1 200 OK\"\n",
      " 22%|██████████████████▉                                                                  | 2/9 [00:11<00:35,  5.10s/it]2025-09-19 22:14:36,563 - INFO - HTTP Request: POST https://api.openai.com/v1/chat/completions \"HTTP/1.1 200 OK\"\n",
      " 33%|████████████████████████████▎                                                        | 3/9 [00:11<00:16,  2.82s/it]2025-09-19 22:14:39,431 - INFO - HTTP Request: POST https://api.openai.com/v1/chat/completions \"HTTP/1.1 200 OK\"\n",
      " 44%|█████████████████████████████████████▊                                               | 4/9 [00:14<00:14,  2.84s/it]2025-09-19 22:14:45,267 - INFO - HTTP Request: POST https://api.openai.com/v1/chat/completions \"HTTP/1.1 200 OK\"\n",
      " 56%|███████████████████████████████████████████████▏                                     | 5/9 [00:20<00:15,  3.92s/it]2025-09-19 22:14:46,597 - INFO - HTTP Request: POST https://api.openai.com/v1/chat/completions \"HTTP/1.1 200 OK\"\n",
      " 67%|████████████████████████████████████████████████████████▋                            | 6/9 [00:21<00:09,  3.04s/it]2025-09-19 22:14:47,528 - INFO - HTTP Request: POST https://api.openai.com/v1/chat/completions \"HTTP/1.1 200 OK\"\n",
      " 78%|██████████████████████████████████████████████████████████████████                   | 7/9 [00:22<00:04,  2.35s/it]2025-09-19 22:14:52,640 - INFO - HTTP Request: POST https://api.openai.com/v1/chat/completions \"HTTP/1.1 200 OK\"\n",
      " 89%|███████████████████████████████████████████████████████████████████████████▌         | 8/9 [00:27<00:03,  3.23s/it]2025-09-19 22:14:57,729 - INFO - HTTP Request: POST https://api.openai.com/v1/chat/completions \"HTTP/1.1 200 OK\"\n",
      "100%|█████████████████████████████████████████████████████████████████████████████████████| 9/9 [00:32<00:00,  3.62s/it]\n"
     ]
    }
   ],
   "source": [
    "questions = dataset_generator.generate_questions_from_nodes()"
   ]
  },
  {
   "cell_type": "code",
   "execution_count": 14,
   "id": "317ee1c5-711c-44cb-8aec-ee295ede7bae",
   "metadata": {},
   "outputs": [
    {
     "data": {
      "text/html": [
       "<div>\n",
       "<style scoped>\n",
       "    .dataframe tbody tr th:only-of-type {\n",
       "        vertical-align: middle;\n",
       "    }\n",
       "\n",
       "    .dataframe tbody tr th {\n",
       "        vertical-align: top;\n",
       "    }\n",
       "\n",
       "    .dataframe thead th {\n",
       "        text-align: right;\n",
       "    }\n",
       "</style>\n",
       "<table border=\"1\" class=\"dataframe\">\n",
       "  <thead>\n",
       "    <tr style=\"text-align: right;\">\n",
       "      <th></th>\n",
       "      <th>query</th>\n",
       "      <th>reference_contexts</th>\n",
       "      <th>reference_answer</th>\n",
       "      <th>reference_answer_by</th>\n",
       "      <th>query_by</th>\n",
       "    </tr>\n",
       "  </thead>\n",
       "  <tbody>\n",
       "    <tr>\n",
       "      <th>0</th>\n",
       "      <td>請回答下列問題（每題請用完整句說明）：</td>\n",
       "      <td>[各位同學大家好 我們來上課吧\\n剛才只是用Google的VO3\\n這個可以生成影片的人工智...</td>\n",
       "      <td></td>\n",
       "      <td>None</td>\n",
       "      <td>ai (gpt-5-mini)</td>\n",
       "    </tr>\n",
       "    <tr>\n",
       "      <th>1</th>\n",
       "      <td>根據本文內容完成下列題目：</td>\n",
       "      <td>[第一種\\n如果你未來想要更深入人工智慧領域\\n這門可絕對是很好的入門\\n當然要完全掌握AI...</td>\n",
       "      <td></td>\n",
       "      <td>None</td>\n",
       "      <td>ai (gpt-5-mini)</td>\n",
       "    </tr>\n",
       "    <tr>\n",
       "      <th>2</th>\n",
       "      <td>請完成下列題目（請以條列或短文回答）：</td>\n",
       "      <td>[to this course\\n這個也是VO3自己生成的\\n他產生的影片是帶有聲音的\\n那...</td>\n",
       "      <td></td>\n",
       "      <td>None</td>\n",
       "      <td>ai (gpt-5-mini)</td>\n",
       "    </tr>\n",
       "    <tr>\n",
       "      <th>3</th>\n",
       "      <td>題目：請根據課程說明回答下列問題（每題請簡潔說明）：</td>\n",
       "      <td>[code放在這頁投影片上面\\n那我們上課的方式呢\\n主要是以直播進行\\n那我會在那個台灣大...</td>\n",
       "      <td></td>\n",
       "      <td>None</td>\n",
       "      <td>ai (gpt-5-mini)</td>\n",
       "    </tr>\n",
       "    <tr>\n",
       "      <th>4</th>\n",
       "      <td>請根據上文回答下列四個問題並簡要說明理由或步驟：</td>\n",
       "      <td>[Cool上留言區的問題\\n那旁聽生\\n如果你想要加入NTU Cool的話\\n請直接寄信給助...</td>\n",
       "      <td></td>\n",
       "      <td>None</td>\n",
       "      <td>ai (gpt-5-mini)</td>\n",
       "    </tr>\n",
       "    <tr>\n",
       "      <th>5</th>\n",
       "      <td>請回答下列題目（分三部分）：</td>\n",
       "      <td>[Cool寄給所有有修課的同學\\n但是假設你發現直播斷線\\n非常重要的一點就是\\n請勿驚慌 ...</td>\n",
       "      <td></td>\n",
       "      <td>None</td>\n",
       "      <td>ai (gpt-5-mini)</td>\n",
       "    </tr>\n",
       "    <tr>\n",
       "      <th>6</th>\n",
       "      <td>閱讀上文後，請回答下列三部分的題目：</td>\n",
       "      <td>[Cool那個平台上面\\n回答一些選擇題\\n就算是完成作業的繳交\\n那今天就會公告作業一\\n...</td>\n",
       "      <td></td>\n",
       "      <td>None</td>\n",
       "      <td>ai (gpt-5-mini)</td>\n",
       "    </tr>\n",
       "    <tr>\n",
       "      <th>7</th>\n",
       "      <td>請根據上文內容回答下列問題（單題多項，請依序作答）：</td>\n",
       "      <td>[業設計成這樣呢\\n為什麼作業要跑三個小時呢\\n我只允許這個作業三分鐘\\n就應該要跑完\\n我...</td>\n",
       "      <td></td>\n",
       "      <td>None</td>\n",
       "      <td>ai (gpt-5-mini)</td>\n",
       "    </tr>\n",
       "    <tr>\n",
       "      <th>8</th>\n",
       "      <td>根據本文內容，請回答下列各項：</td>\n",
       "      <td>[預防針\\n幫助你在未來面對更大的挑戰\\n幫助你在未來面對挑戰的時候\\n做好心理準備\\n另外...</td>\n",
       "      <td></td>\n",
       "      <td>None</td>\n",
       "      <td>ai (gpt-5-mini)</td>\n",
       "    </tr>\n",
       "  </tbody>\n",
       "</table>\n",
       "</div>"
      ],
      "text/plain": [
       "                        query  \\\n",
       "0         請回答下列問題（每題請用完整句說明）：   \n",
       "1               根據本文內容完成下列題目：   \n",
       "2         請完成下列題目（請以條列或短文回答）：   \n",
       "3  題目：請根據課程說明回答下列問題（每題請簡潔說明）：   \n",
       "4    請根據上文回答下列四個問題並簡要說明理由或步驟：   \n",
       "5              請回答下列題目（分三部分）：   \n",
       "6          閱讀上文後，請回答下列三部分的題目：   \n",
       "7  請根據上文內容回答下列問題（單題多項，請依序作答）：   \n",
       "8             根據本文內容，請回答下列各項：   \n",
       "\n",
       "                                  reference_contexts reference_answer  \\\n",
       "0  [各位同學大家好 我們來上課吧\\n剛才只是用Google的VO3\\n這個可以生成影片的人工智...                    \n",
       "1  [第一種\\n如果你未來想要更深入人工智慧領域\\n這門可絕對是很好的入門\\n當然要完全掌握AI...                    \n",
       "2  [to this course\\n這個也是VO3自己生成的\\n他產生的影片是帶有聲音的\\n那...                    \n",
       "3  [code放在這頁投影片上面\\n那我們上課的方式呢\\n主要是以直播進行\\n那我會在那個台灣大...                    \n",
       "4  [Cool上留言區的問題\\n那旁聽生\\n如果你想要加入NTU Cool的話\\n請直接寄信給助...                    \n",
       "5  [Cool寄給所有有修課的同學\\n但是假設你發現直播斷線\\n非常重要的一點就是\\n請勿驚慌 ...                    \n",
       "6  [Cool那個平台上面\\n回答一些選擇題\\n就算是完成作業的繳交\\n那今天就會公告作業一\\n...                    \n",
       "7  [業設計成這樣呢\\n為什麼作業要跑三個小時呢\\n我只允許這個作業三分鐘\\n就應該要跑完\\n我...                    \n",
       "8  [預防針\\n幫助你在未來面對更大的挑戰\\n幫助你在未來面對挑戰的時候\\n做好心理準備\\n另外...                    \n",
       "\n",
       "  reference_answer_by         query_by  \n",
       "0                None  ai (gpt-5-mini)  \n",
       "1                None  ai (gpt-5-mini)  \n",
       "2                None  ai (gpt-5-mini)  \n",
       "3                None  ai (gpt-5-mini)  \n",
       "4                None  ai (gpt-5-mini)  \n",
       "5                None  ai (gpt-5-mini)  \n",
       "6                None  ai (gpt-5-mini)  \n",
       "7                None  ai (gpt-5-mini)  \n",
       "8                None  ai (gpt-5-mini)  "
      ]
     },
     "execution_count": 14,
     "metadata": {},
     "output_type": "execute_result"
    }
   ],
   "source": [
    "df = questions.to_pandas()\n",
    "df"
   ]
  },
  {
   "cell_type": "code",
   "execution_count": 15,
   "id": "bb1446f9-95aa-42df-bc0c-989d98b25907",
   "metadata": {},
   "outputs": [],
   "source": [
    "import os\n",
    "DEST_DIR= 'questions'\n",
    "os.makedirs(DEST_DIR, exist_ok=True)\n",
    "df.to_json(\n",
    "    os.path.join(DEST_DIR, \"question_v1.json\"),\n",
    "    orient=\"records\",\n",
    "    force_ascii=False,\n",
    "    indent=2\n",
    ")"
   ]
  },
  {
   "cell_type": "markdown",
   "id": "855a17cc-2387-4218-8183-269bed58a83d",
   "metadata": {},
   "source": [
    "# v2"
   ]
  },
  {
   "cell_type": "code",
   "execution_count": 16,
   "id": "56022dea-ca18-41d9-b566-a74deaa48c50",
   "metadata": {},
   "outputs": [],
   "source": [
    "text_question_template = \"\"\"以下是情境資訊：\n",
    "---------------------\n",
    "{context_str}\n",
    "---------------------\n",
    "請僅根據上述情境資訊（而非先驗知識），\n",
    "依照下方查詢生成問題。\n",
    "{query_str}\n",
    "\"\"\"\n",
    "\n",
    "question_gen_query = \"\"\"你是一位老師／教授。你的任務是為即將到來的測驗／考試，根據所提供的內容資訊，設計 1 題考題。  \n",
    "考題應該涵蓋文件中的多樣化主題，並且僅限於給定的情境資訊。\"\"\"\n",
    "\n"
   ]
  },
  {
   "cell_type": "code",
   "execution_count": 17,
   "id": "2b38f66b-a1c1-4deb-8f54-1b251d6c9197",
   "metadata": {},
   "outputs": [],
   "source": [
    "from llama_index.core.prompts.base import BasePromptTemplate, PromptTemplate"
   ]
  },
  {
   "cell_type": "code",
   "execution_count": 18,
   "id": "d0e4fd86-07cc-4834-8638-cd1821f56721",
   "metadata": {},
   "outputs": [
    {
     "name": "stderr",
     "output_type": "stream",
     "text": [
      "Parsing nodes: 100%|█████████████████████████████████████████████████████████████████████| 1/1 [00:00<00:00, 112.82it/s]\n"
     ]
    }
   ],
   "source": [
    "dataset_generator_v2 = RagDatasetGenerator.from_documents(\n",
    "    documents,\n",
    "    llm=llm,\n",
    "    num_questions_per_chunk=1,  # set the number of questions per nodes\n",
    "    text_question_template = PromptTemplate(text_question_template),\n",
    "    question_gen_query = question_gen_query,\n",
    "    show_progress=True,\n",
    ")"
   ]
  },
  {
   "cell_type": "code",
   "execution_count": 19,
   "id": "50756cd8-34c0-4e6e-807a-fd7efe091a63",
   "metadata": {},
   "outputs": [
    {
     "name": "stderr",
     "output_type": "stream",
     "text": [
      "  0%|                                                                                             | 0/9 [00:00<?, ?it/s]2025-09-19 22:16:20,491 - INFO - Retrying request to /chat/completions in 0.494151 seconds\n",
      "2025-09-19 22:16:30,945 - INFO - HTTP Request: POST https://api.openai.com/v1/chat/completions \"HTTP/1.1 200 OK\"\n",
      " 11%|█████████▍                                                                           | 1/9 [00:10<01:23, 10.46s/it]2025-09-19 22:16:33,404 - INFO - HTTP Request: POST https://api.openai.com/v1/chat/completions \"HTTP/1.1 200 OK\"\n",
      " 22%|██████████████████▉                                                                  | 2/9 [00:12<00:40,  5.76s/it]2025-09-19 22:16:39,240 - INFO - HTTP Request: POST https://api.openai.com/v1/chat/completions \"HTTP/1.1 200 OK\"\n",
      " 33%|████████████████████████████▎                                                        | 3/9 [00:18<00:34,  5.79s/it]2025-09-19 22:16:39,547 - INFO - HTTP Request: POST https://api.openai.com/v1/chat/completions \"HTTP/1.1 200 OK\"\n",
      " 44%|█████████████████████████████████████▊                                               | 4/9 [00:19<00:18,  3.63s/it]2025-09-19 22:16:48,866 - INFO - HTTP Request: POST https://api.openai.com/v1/chat/completions \"HTTP/1.1 200 OK\"\n",
      " 56%|███████████████████████████████████████████████▏                                     | 5/9 [00:28<00:22,  5.68s/it]2025-09-19 22:16:49,070 - INFO - HTTP Request: POST https://api.openai.com/v1/chat/completions \"HTTP/1.1 200 OK\"\n",
      " 67%|████████████████████████████████████████████████████████▋                            | 6/9 [00:28<00:11,  3.82s/it]2025-09-19 22:16:53,986 - INFO - HTTP Request: POST https://api.openai.com/v1/chat/completions \"HTTP/1.1 200 OK\"\n",
      " 78%|██████████████████████████████████████████████████████████████████                   | 7/9 [00:33<00:08,  4.18s/it]2025-09-19 22:16:54,600 - INFO - HTTP Request: POST https://api.openai.com/v1/chat/completions \"HTTP/1.1 200 OK\"\n",
      " 89%|███████████████████████████████████████████████████████████████████████████▌         | 8/9 [00:34<00:03,  3.04s/it]2025-09-19 22:17:00,747 - INFO - HTTP Request: POST https://api.openai.com/v1/chat/completions \"HTTP/1.1 200 OK\"\n",
      "100%|█████████████████████████████████████████████████████████████████████████████████████| 9/9 [00:40<00:00,  4.47s/it]\n"
     ]
    }
   ],
   "source": [
    "questions_v2 = dataset_generator_v2.generate_questions_from_nodes()"
   ]
  },
  {
   "cell_type": "code",
   "execution_count": 20,
   "id": "92ebc564-959c-41d9-a40c-31b678c595fd",
   "metadata": {},
   "outputs": [
    {
     "data": {
      "text/html": [
       "<div>\n",
       "<style scoped>\n",
       "    .dataframe tbody tr th:only-of-type {\n",
       "        vertical-align: middle;\n",
       "    }\n",
       "\n",
       "    .dataframe tbody tr th {\n",
       "        vertical-align: top;\n",
       "    }\n",
       "\n",
       "    .dataframe thead th {\n",
       "        text-align: right;\n",
       "    }\n",
       "</style>\n",
       "<table border=\"1\" class=\"dataframe\">\n",
       "  <thead>\n",
       "    <tr style=\"text-align: right;\">\n",
       "      <th></th>\n",
       "      <th>query</th>\n",
       "      <th>reference_contexts</th>\n",
       "      <th>reference_answer</th>\n",
       "      <th>reference_answer_by</th>\n",
       "      <th>query_by</th>\n",
       "    </tr>\n",
       "  </thead>\n",
       "  <tbody>\n",
       "    <tr>\n",
       "      <th>0</th>\n",
       "      <td>請依據課堂導言（上述內容）作答。此題共三小題，請用完整句子說明你的答案。</td>\n",
       "      <td>[各位同學大家好 我們來上課吧\\n剛才只是用Google的VO3\\n這個可以生成影片的人工智...</td>\n",
       "      <td></td>\n",
       "      <td>None</td>\n",
       "      <td>ai (gpt-5-mini)</td>\n",
       "    </tr>\n",
       "    <tr>\n",
       "      <th>1</th>\n",
       "      <td>考題（1題，含3部分，共20分）：</td>\n",
       "      <td>[第一種\\n如果你未來想要更深入人工智慧領域\\n這門可絕對是很好的入門\\n當然要完全掌握AI...</td>\n",
       "      <td></td>\n",
       "      <td>None</td>\n",
       "      <td>ai (gpt-5-mini)</td>\n",
       "    </tr>\n",
       "    <tr>\n",
       "      <th>2</th>\n",
       "      <td>出題（共 1 題，總分 15 分）：</td>\n",
       "      <td>[to this course\\n這個也是VO3自己生成的\\n他產生的影片是帶有聲音的\\n那...</td>\n",
       "      <td></td>\n",
       "      <td>None</td>\n",
       "      <td>ai (gpt-5-mini)</td>\n",
       "    </tr>\n",
       "    <tr>\n",
       "      <th>3</th>\n",
       "      <td>根據課堂說明，請回答下列各題（每小題詳述理由與根據課堂內容）：</td>\n",
       "      <td>[code放在這頁投影片上面\\n那我們上課的方式呢\\n主要是以直播進行\\n那我會在那個台灣大...</td>\n",
       "      <td></td>\n",
       "      <td>None</td>\n",
       "      <td>ai (gpt-5-mini)</td>\n",
       "    </tr>\n",
       "    <tr>\n",
       "      <th>4</th>\n",
       "      <td>請閱讀下列情境，並回答題中各小題（考試採簡答）：</td>\n",
       "      <td>[Cool上留言區的問題\\n那旁聽生\\n如果你想要加入NTU Cool的話\\n請直接寄信給助...</td>\n",
       "      <td></td>\n",
       "      <td>None</td>\n",
       "      <td>ai (gpt-5-mini)</td>\n",
       "    </tr>\n",
       "    <tr>\n",
       "      <th>5</th>\n",
       "      <td>請回答下列一題（總分 30 分）。請僅根據提供的情境資訊作答。</td>\n",
       "      <td>[Cool寄給所有有修課的同學\\n但是假設你發現直播斷線\\n非常重要的一點就是\\n請勿驚慌 ...</td>\n",
       "      <td></td>\n",
       "      <td>None</td>\n",
       "      <td>ai (gpt-5-mini)</td>\n",
       "    </tr>\n",
       "    <tr>\n",
       "      <th>6</th>\n",
       "      <td>請閱讀下列情境摘要（僅以考題所給資訊為依據），然後回答問題（共 25 分）：</td>\n",
       "      <td>[Cool那個平台上面\\n回答一些選擇題\\n就算是完成作業的繳交\\n那今天就會公告作業一\\n...</td>\n",
       "      <td></td>\n",
       "      <td>None</td>\n",
       "      <td>ai (gpt-5-mini)</td>\n",
       "    </tr>\n",
       "    <tr>\n",
       "      <th>7</th>\n",
       "      <td>考題（共一題，分為四部分，請依題目中所給情境資訊作答）：</td>\n",
       "      <td>[業設計成這樣呢\\n為什麼作業要跑三個小時呢\\n我只允許這個作業三分鐘\\n就應該要跑完\\n我...</td>\n",
       "      <td></td>\n",
       "      <td>None</td>\n",
       "      <td>ai (gpt-5-mini)</td>\n",
       "    </tr>\n",
       "    <tr>\n",
       "      <th>8</th>\n",
       "      <td>出題（1題，共100分）：</td>\n",
       "      <td>[預防針\\n幫助你在未來面對更大的挑戰\\n幫助你在未來面對挑戰的時候\\n做好心理準備\\n另外...</td>\n",
       "      <td></td>\n",
       "      <td>None</td>\n",
       "      <td>ai (gpt-5-mini)</td>\n",
       "    </tr>\n",
       "  </tbody>\n",
       "</table>\n",
       "</div>"
      ],
      "text/plain": [
       "                                    query  \\\n",
       "0    請依據課堂導言（上述內容）作答。此題共三小題，請用完整句子說明你的答案。   \n",
       "1                       考題（1題，含3部分，共20分）：   \n",
       "2                      出題（共 1 題，總分 15 分）：   \n",
       "3         根據課堂說明，請回答下列各題（每小題詳述理由與根據課堂內容）：   \n",
       "4                請閱讀下列情境，並回答題中各小題（考試採簡答）：   \n",
       "5         請回答下列一題（總分 30 分）。請僅根據提供的情境資訊作答。   \n",
       "6  請閱讀下列情境摘要（僅以考題所給資訊為依據），然後回答問題（共 25 分）：   \n",
       "7            考題（共一題，分為四部分，請依題目中所給情境資訊作答）：   \n",
       "8                           出題（1題，共100分）：   \n",
       "\n",
       "                                  reference_contexts reference_answer  \\\n",
       "0  [各位同學大家好 我們來上課吧\\n剛才只是用Google的VO3\\n這個可以生成影片的人工智...                    \n",
       "1  [第一種\\n如果你未來想要更深入人工智慧領域\\n這門可絕對是很好的入門\\n當然要完全掌握AI...                    \n",
       "2  [to this course\\n這個也是VO3自己生成的\\n他產生的影片是帶有聲音的\\n那...                    \n",
       "3  [code放在這頁投影片上面\\n那我們上課的方式呢\\n主要是以直播進行\\n那我會在那個台灣大...                    \n",
       "4  [Cool上留言區的問題\\n那旁聽生\\n如果你想要加入NTU Cool的話\\n請直接寄信給助...                    \n",
       "5  [Cool寄給所有有修課的同學\\n但是假設你發現直播斷線\\n非常重要的一點就是\\n請勿驚慌 ...                    \n",
       "6  [Cool那個平台上面\\n回答一些選擇題\\n就算是完成作業的繳交\\n那今天就會公告作業一\\n...                    \n",
       "7  [業設計成這樣呢\\n為什麼作業要跑三個小時呢\\n我只允許這個作業三分鐘\\n就應該要跑完\\n我...                    \n",
       "8  [預防針\\n幫助你在未來面對更大的挑戰\\n幫助你在未來面對挑戰的時候\\n做好心理準備\\n另外...                    \n",
       "\n",
       "  reference_answer_by         query_by  \n",
       "0                None  ai (gpt-5-mini)  \n",
       "1                None  ai (gpt-5-mini)  \n",
       "2                None  ai (gpt-5-mini)  \n",
       "3                None  ai (gpt-5-mini)  \n",
       "4                None  ai (gpt-5-mini)  \n",
       "5                None  ai (gpt-5-mini)  \n",
       "6                None  ai (gpt-5-mini)  \n",
       "7                None  ai (gpt-5-mini)  \n",
       "8                None  ai (gpt-5-mini)  "
      ]
     },
     "execution_count": 20,
     "metadata": {},
     "output_type": "execute_result"
    }
   ],
   "source": [
    "df = questions_v2.to_pandas()\n",
    "df"
   ]
  },
  {
   "cell_type": "code",
   "execution_count": 21,
   "id": "77b889bb-9fd4-4e1c-8f93-be813de9aeb4",
   "metadata": {},
   "outputs": [],
   "source": [
    "df.to_json(\n",
    "    os.path.join(DEST_DIR, \"question_v2.json\"),\n",
    "    orient=\"records\",\n",
    "    force_ascii=False,\n",
    "    indent=2\n",
    ")"
   ]
  },
  {
   "cell_type": "markdown",
   "id": "8494614d-b305-4b8b-bc9a-f6e4766347fa",
   "metadata": {},
   "source": [
    "# v3"
   ]
  },
  {
   "cell_type": "code",
   "execution_count": 24,
   "id": "e6c38093-00e0-4d34-b35d-cb71bac43ab4",
   "metadata": {},
   "outputs": [
    {
     "data": {
      "text/plain": [
       "'你是一位老師／教授。你的任務是為根據所提供的上課內容片段，設計 1 題問題來問學生。  \\n問題應該涵蓋文件中的多樣化主題，並且需要在上課內容片段中找的到答案。'"
      ]
     },
     "execution_count": 24,
     "metadata": {},
     "output_type": "execute_result"
    }
   ],
   "source": [
    "num_questions_per_chunk = 1\n",
    "text_question_template = \"\"\"以下是上課內容片段：\n",
    "---------------------\n",
    "{context_str}\n",
    "---------------------\n",
    "{query_str}\n",
    "\"\"\"\n",
    "\n",
    "question_gen_query = f\"\"\"你是一位老師／教授。你的任務是為根據所提供的上課內容片段，設計 {num_questions_per_chunk} 題問題來問學生。  \n",
    "問題應該涵蓋文件中的多樣化主題，並且需要在上課內容片段中找的到答案。\"\"\"\n",
    "\n",
    "question_gen_query"
   ]
  },
  {
   "cell_type": "code",
   "execution_count": 25,
   "id": "682b5fb7-6d7a-47c3-a42c-210a71b70d69",
   "metadata": {},
   "outputs": [
    {
     "name": "stderr",
     "output_type": "stream",
     "text": [
      "Parsing nodes: 100%|█████████████████████████████████████████████████████████████████████| 1/1 [00:00<00:00, 107.77it/s]\n"
     ]
    }
   ],
   "source": [
    "dataset_generator_v3 = RagDatasetGenerator.from_documents(\n",
    "    documents,\n",
    "    llm=llm,\n",
    "    num_questions_per_chunk=num_questions_per_chunk,  # set the number of questions per nodes\n",
    "    text_question_template = PromptTemplate(text_question_template),\n",
    "    question_gen_query = question_gen_query,\n",
    "    show_progress=True,\n",
    ")"
   ]
  },
  {
   "cell_type": "code",
   "execution_count": 26,
   "id": "b9990219-f187-4d8f-b1a5-55755afa650a",
   "metadata": {},
   "outputs": [
    {
     "name": "stderr",
     "output_type": "stream",
     "text": [
      "  0%|                                                                                             | 0/9 [00:00<?, ?it/s]2025-09-19 22:25:07,564 - INFO - Retrying request to /chat/completions in 0.390820 seconds\n",
      "2025-09-19 22:25:16,084 - INFO - HTTP Request: POST https://api.openai.com/v1/chat/completions \"HTTP/1.1 200 OK\"\n",
      " 11%|█████████▍                                                                           | 1/9 [00:08<01:08,  8.53s/it]2025-09-19 22:25:16,099 - INFO - HTTP Request: POST https://api.openai.com/v1/chat/completions \"HTTP/1.1 200 OK\"\n",
      "2025-09-19 22:25:17,025 - INFO - HTTP Request: POST https://api.openai.com/v1/chat/completions \"HTTP/1.1 200 OK\"\n",
      " 33%|████████████████████████████▎                                                        | 3/9 [00:09<00:15,  2.56s/it]2025-09-19 22:25:18,071 - INFO - HTTP Request: POST https://api.openai.com/v1/chat/completions \"HTTP/1.1 200 OK\"\n",
      " 44%|█████████████████████████████████████▊                                               | 4/9 [00:10<00:10,  2.04s/it]2025-09-19 22:25:23,563 - INFO - HTTP Request: POST https://api.openai.com/v1/chat/completions \"HTTP/1.1 200 OK\"\n",
      " 56%|███████████████████████████████████████████████▏                                     | 5/9 [00:16<00:12,  3.18s/it]2025-09-19 22:25:24,907 - INFO - HTTP Request: POST https://api.openai.com/v1/chat/completions \"HTTP/1.1 200 OK\"\n",
      " 67%|████████████████████████████████████████████████████████▋                            | 6/9 [00:17<00:07,  2.59s/it]2025-09-19 22:25:26,367 - INFO - HTTP Request: POST https://api.openai.com/v1/chat/completions \"HTTP/1.1 200 OK\"\n",
      " 78%|██████████████████████████████████████████████████████████████████                   | 7/9 [00:18<00:04,  2.23s/it]2025-09-19 22:25:28,627 - INFO - HTTP Request: POST https://api.openai.com/v1/chat/completions \"HTTP/1.1 200 OK\"\n",
      " 89%|███████████████████████████████████████████████████████████████████████████▌         | 8/9 [00:21<00:02,  2.24s/it]2025-09-19 22:25:33,142 - INFO - HTTP Request: POST https://api.openai.com/v1/chat/completions \"HTTP/1.1 200 OK\"\n",
      "100%|█████████████████████████████████████████████████████████████████████████████████████| 9/9 [00:25<00:00,  2.84s/it]\n"
     ]
    }
   ],
   "source": [
    "questions_v3 = dataset_generator_v3.generate_questions_from_nodes()"
   ]
  },
  {
   "cell_type": "code",
   "execution_count": 27,
   "id": "fcfea155-5dd8-4c62-ac31-569c6dabe03d",
   "metadata": {},
   "outputs": [
    {
     "data": {
      "text/html": [
       "<div>\n",
       "<style scoped>\n",
       "    .dataframe tbody tr th:only-of-type {\n",
       "        vertical-align: middle;\n",
       "    }\n",
       "\n",
       "    .dataframe tbody tr th {\n",
       "        vertical-align: top;\n",
       "    }\n",
       "\n",
       "    .dataframe thead th {\n",
       "        text-align: right;\n",
       "    }\n",
       "</style>\n",
       "<table border=\"1\" class=\"dataframe\">\n",
       "  <thead>\n",
       "    <tr style=\"text-align: right;\">\n",
       "      <th></th>\n",
       "      <th>query</th>\n",
       "      <th>reference_contexts</th>\n",
       "      <th>reference_answer</th>\n",
       "      <th>reference_answer_by</th>\n",
       "      <th>query_by</th>\n",
       "    </tr>\n",
       "  </thead>\n",
       "  <tbody>\n",
       "    <tr>\n",
       "      <th>0</th>\n",
       "      <td>請回答下列三小題（答案均可從課堂片段中找到）：</td>\n",
       "      <td>[各位同學大家好 我們來上課吧\\n剛才只是用Google的VO3\\n這個可以生成影片的人工智...</td>\n",
       "      <td></td>\n",
       "      <td>None</td>\n",
       "      <td>ai (gpt-5-mini)</td>\n",
       "    </tr>\n",
       "    <tr>\n",
       "      <th>1</th>\n",
       "      <td>請根據上課內容片段回答以下問題（可各列要點）：</td>\n",
       "      <td>[第一種\\n如果你未來想要更深入人工智慧領域\\n這門可絕對是很好的入門\\n當然要完全掌握AI...</td>\n",
       "      <td></td>\n",
       "      <td>None</td>\n",
       "      <td>ai (gpt-5-mini)</td>\n",
       "    </tr>\n",
       "    <tr>\n",
       "      <th>2</th>\n",
       "      <td>請回答下列問題（可分段作答）：</td>\n",
       "      <td>[to this course\\n這個也是VO3自己生成的\\n他產生的影片是帶有聲音的\\n那...</td>\n",
       "      <td></td>\n",
       "      <td>None</td>\n",
       "      <td>ai (gpt-5-mini)</td>\n",
       "    </tr>\n",
       "    <tr>\n",
       "      <th>3</th>\n",
       "      <td>請根據課堂說明回答下列各題（在課堂內容片段中可找到答案）：</td>\n",
       "      <td>[code放在這頁投影片上面\\n那我們上課的方式呢\\n主要是以直播進行\\n那我會在那個台灣大...</td>\n",
       "      <td></td>\n",
       "      <td>None</td>\n",
       "      <td>ai (gpt-5-mini)</td>\n",
       "    </tr>\n",
       "    <tr>\n",
       "      <th>4</th>\n",
       "      <td>請回答下列綜合題（可分項作答）：</td>\n",
       "      <td>[Cool上留言區的問題\\n那旁聽生\\n如果你想要加入NTU Cool的話\\n請直接寄信給助...</td>\n",
       "      <td></td>\n",
       "      <td>None</td>\n",
       "      <td>ai (gpt-5-mini)</td>\n",
       "    </tr>\n",
       "    <tr>\n",
       "      <th>5</th>\n",
       "      <td>請回答下列問題（所有答案都可在上課內容片段中找到）：</td>\n",
       "      <td>[Cool寄給所有有修課的同學\\n但是假設你發現直播斷線\\n非常重要的一點就是\\n請勿驚慌 ...</td>\n",
       "      <td></td>\n",
       "      <td>None</td>\n",
       "      <td>ai (gpt-5-mini)</td>\n",
       "    </tr>\n",
       "    <tr>\n",
       "      <th>6</th>\n",
       "      <td>請讀取課堂片段後回答下列問題（答案均可在片段中找到）：</td>\n",
       "      <td>[Cool那個平台上面\\n回答一些選擇題\\n就算是完成作業的繳交\\n那今天就會公告作業一\\n...</td>\n",
       "      <td></td>\n",
       "      <td>None</td>\n",
       "      <td>ai (gpt-5-mini)</td>\n",
       "    </tr>\n",
       "    <tr>\n",
       "      <th>7</th>\n",
       "      <td>請根據上課內容片段回答下列問題：</td>\n",
       "      <td>[業設計成這樣呢\\n為什麼作業要跑三個小時呢\\n我只允許這個作業三分鐘\\n就應該要跑完\\n我...</td>\n",
       "      <td></td>\n",
       "      <td>None</td>\n",
       "      <td>ai (gpt-5-mini)</td>\n",
       "    </tr>\n",
       "    <tr>\n",
       "      <th>8</th>\n",
       "      <td>請回答下列問題（可分點作答）：</td>\n",
       "      <td>[預防針\\n幫助你在未來面對更大的挑戰\\n幫助你在未來面對挑戰的時候\\n做好心理準備\\n另外...</td>\n",
       "      <td></td>\n",
       "      <td>None</td>\n",
       "      <td>ai (gpt-5-mini)</td>\n",
       "    </tr>\n",
       "  </tbody>\n",
       "</table>\n",
       "</div>"
      ],
      "text/plain": [
       "                           query  \\\n",
       "0        請回答下列三小題（答案均可從課堂片段中找到）：   \n",
       "1        請根據上課內容片段回答以下問題（可各列要點）：   \n",
       "2                請回答下列問題（可分段作答）：   \n",
       "3  請根據課堂說明回答下列各題（在課堂內容片段中可找到答案）：   \n",
       "4               請回答下列綜合題（可分項作答）：   \n",
       "5     請回答下列問題（所有答案都可在上課內容片段中找到）：   \n",
       "6    請讀取課堂片段後回答下列問題（答案均可在片段中找到）：   \n",
       "7               請根據上課內容片段回答下列問題：   \n",
       "8                請回答下列問題（可分點作答）：   \n",
       "\n",
       "                                  reference_contexts reference_answer  \\\n",
       "0  [各位同學大家好 我們來上課吧\\n剛才只是用Google的VO3\\n這個可以生成影片的人工智...                    \n",
       "1  [第一種\\n如果你未來想要更深入人工智慧領域\\n這門可絕對是很好的入門\\n當然要完全掌握AI...                    \n",
       "2  [to this course\\n這個也是VO3自己生成的\\n他產生的影片是帶有聲音的\\n那...                    \n",
       "3  [code放在這頁投影片上面\\n那我們上課的方式呢\\n主要是以直播進行\\n那我會在那個台灣大...                    \n",
       "4  [Cool上留言區的問題\\n那旁聽生\\n如果你想要加入NTU Cool的話\\n請直接寄信給助...                    \n",
       "5  [Cool寄給所有有修課的同學\\n但是假設你發現直播斷線\\n非常重要的一點就是\\n請勿驚慌 ...                    \n",
       "6  [Cool那個平台上面\\n回答一些選擇題\\n就算是完成作業的繳交\\n那今天就會公告作業一\\n...                    \n",
       "7  [業設計成這樣呢\\n為什麼作業要跑三個小時呢\\n我只允許這個作業三分鐘\\n就應該要跑完\\n我...                    \n",
       "8  [預防針\\n幫助你在未來面對更大的挑戰\\n幫助你在未來面對挑戰的時候\\n做好心理準備\\n另外...                    \n",
       "\n",
       "  reference_answer_by         query_by  \n",
       "0                None  ai (gpt-5-mini)  \n",
       "1                None  ai (gpt-5-mini)  \n",
       "2                None  ai (gpt-5-mini)  \n",
       "3                None  ai (gpt-5-mini)  \n",
       "4                None  ai (gpt-5-mini)  \n",
       "5                None  ai (gpt-5-mini)  \n",
       "6                None  ai (gpt-5-mini)  \n",
       "7                None  ai (gpt-5-mini)  \n",
       "8                None  ai (gpt-5-mini)  "
      ]
     },
     "execution_count": 27,
     "metadata": {},
     "output_type": "execute_result"
    }
   ],
   "source": [
    "df = questions_v3.to_pandas()\n",
    "df"
   ]
  },
  {
   "cell_type": "code",
   "execution_count": 28,
   "id": "517b924e-fdde-4af8-93d3-38eb3ab4dae6",
   "metadata": {},
   "outputs": [],
   "source": [
    "df.to_json(\n",
    "    os.path.join(DEST_DIR, \"question_v3.json\"),\n",
    "    orient=\"records\",\n",
    "    force_ascii=False,\n",
    "    indent=2\n",
    ")"
   ]
  },
  {
   "cell_type": "markdown",
   "id": "5cb01388-d457-43b3-989f-51d036d29bd0",
   "metadata": {},
   "source": [
    "# v4"
   ]
  },
  {
   "cell_type": "code",
   "execution_count": 29,
   "id": "7233f068-76f0-42a9-93b6-7257f55d821f",
   "metadata": {},
   "outputs": [],
   "source": [
    "num_questions_per_chunk = 1\n",
    "text_question_template = \"\"\"以下是上課內容片段：\n",
    "---------------------\n",
    "{context_str}\n",
    "---------------------\n",
    "{query_str}\n",
    "\"\"\"\n",
    "\n",
    "question_gen_query = f\"\"\"你的任務是為根據所提供的上課內容片段，設計 {num_questions_per_chunk} 題問題來問學生。  \n",
    "問題應該涵蓋文件中的多樣化主題，並且需要在上課內容片段中找的到答案。\n",
    "範例輸出：\n",
    "什麼是深度學習的醍醐味？\n",
    "\"\"\"\n",
    "\n"
   ]
  },
  {
   "cell_type": "code",
   "execution_count": 31,
   "id": "2c030e6f-61c2-435f-8942-d80cfc5fc041",
   "metadata": {},
   "outputs": [
    {
     "name": "stderr",
     "output_type": "stream",
     "text": [
      "Parsing nodes: 100%|█████████████████████████████████████████████████████████████████████| 1/1 [00:00<00:00, 115.41it/s]\n"
     ]
    }
   ],
   "source": [
    "dataset_generator_v4 = RagDatasetGenerator.from_documents(\n",
    "    documents,\n",
    "    llm=llm,\n",
    "    num_questions_per_chunk = num_questions_per_chunk,  # set the number of questions per nodes\n",
    "    text_question_template = PromptTemplate(text_question_template),\n",
    "    question_gen_query = question_gen_query,\n",
    "    show_progress=True,\n",
    ")"
   ]
  },
  {
   "cell_type": "code",
   "execution_count": 32,
   "id": "6f3eaccd-c1d6-43b4-81ff-5f2084bd12e9",
   "metadata": {},
   "outputs": [
    {
     "name": "stderr",
     "output_type": "stream",
     "text": [
      "  0%|                                                                                             | 0/9 [00:00<?, ?it/s]2025-09-19 22:26:39,966 - INFO - Retrying request to /chat/completions in 0.392901 seconds\n",
      "2025-09-19 22:26:47,428 - INFO - HTTP Request: POST https://api.openai.com/v1/chat/completions \"HTTP/1.1 200 OK\"\n",
      " 11%|█████████▍                                                                           | 1/9 [00:07<00:59,  7.47s/it]2025-09-19 22:26:49,066 - INFO - HTTP Request: POST https://api.openai.com/v1/chat/completions \"HTTP/1.1 200 OK\"\n",
      " 22%|██████████████████▉                                                                  | 2/9 [00:09<00:28,  4.04s/it]2025-09-19 22:26:50,697 - INFO - HTTP Request: POST https://api.openai.com/v1/chat/completions \"HTTP/1.1 200 OK\"\n",
      " 33%|████████████████████████████▎                                                        | 3/9 [00:10<00:17,  2.94s/it]2025-09-19 22:26:52,688 - INFO - HTTP Request: POST https://api.openai.com/v1/chat/completions \"HTTP/1.1 200 OK\"\n",
      " 44%|█████████████████████████████████████▊                                               | 4/9 [00:12<00:12,  2.57s/it]2025-09-19 22:26:55,707 - INFO - HTTP Request: POST https://api.openai.com/v1/chat/completions \"HTTP/1.1 200 OK\"\n",
      " 56%|███████████████████████████████████████████████▏                                     | 5/9 [00:15<00:10,  2.73s/it]2025-09-19 22:26:58,267 - INFO - HTTP Request: POST https://api.openai.com/v1/chat/completions \"HTTP/1.1 200 OK\"\n",
      " 67%|████████████████████████████████████████████████████████▋                            | 6/9 [00:18<00:08,  2.67s/it]2025-09-19 22:27:00,519 - INFO - HTTP Request: POST https://api.openai.com/v1/chat/completions \"HTTP/1.1 200 OK\"\n",
      " 78%|██████████████████████████████████████████████████████████████████                   | 7/9 [00:20<00:05,  2.53s/it]2025-09-19 22:27:03,392 - INFO - HTTP Request: POST https://api.openai.com/v1/chat/completions \"HTTP/1.1 200 OK\"\n",
      "2025-09-19 22:27:03,394 - INFO - HTTP Request: POST https://api.openai.com/v1/chat/completions \"HTTP/1.1 200 OK\"\n",
      "100%|█████████████████████████████████████████████████████████████████████████████████████| 9/9 [00:23<00:00,  2.60s/it]\n"
     ]
    }
   ],
   "source": [
    "questions_v4 = dataset_generator_v4.generate_questions_from_nodes()"
   ]
  },
  {
   "cell_type": "code",
   "execution_count": 33,
   "id": "3d73dcfa-6c20-4d18-acab-762c3f4ef4ab",
   "metadata": {},
   "outputs": [
    {
     "data": {
      "text/html": [
       "<div>\n",
       "<style scoped>\n",
       "    .dataframe tbody tr th:only-of-type {\n",
       "        vertical-align: middle;\n",
       "    }\n",
       "\n",
       "    .dataframe tbody tr th {\n",
       "        vertical-align: top;\n",
       "    }\n",
       "\n",
       "    .dataframe thead th {\n",
       "        text-align: right;\n",
       "    }\n",
       "</style>\n",
       "<table border=\"1\" class=\"dataframe\">\n",
       "  <thead>\n",
       "    <tr style=\"text-align: right;\">\n",
       "      <th></th>\n",
       "      <th>query</th>\n",
       "      <th>reference_contexts</th>\n",
       "      <th>reference_answer</th>\n",
       "      <th>reference_answer_by</th>\n",
       "      <th>query_by</th>\n",
       "    </tr>\n",
       "  </thead>\n",
       "  <tbody>\n",
       "    <tr>\n",
       "      <th>0</th>\n",
       "      <td>這門課的主要目標是什麼？老師用什麼比喻來說明為何要了解AI背後的原理，並簡述該比喻的重點？</td>\n",
       "      <td>[各位同學大家好 我們來上課吧\\n剛才只是用Google的VO3\\n這個可以生成影片的人工智...</td>\n",
       "      <td></td>\n",
       "      <td>None</td>\n",
       "      <td>ai (gpt-5-mini)</td>\n",
       "    </tr>\n",
       "    <tr>\n",
       "      <th>1</th>\n",
       "      <td>請列出上課片段中提到的兩個AI工具（VO3 與 Eleven Labs），分別說明它們在示範...</td>\n",
       "      <td>[第一種\\n如果你未來想要更深入人工智慧領域\\n這門可絕對是很好的入門\\n當然要完全掌握AI...</td>\n",
       "      <td></td>\n",
       "      <td>None</td>\n",
       "      <td>ai (gpt-5-mini)</td>\n",
       "    </tr>\n",
       "    <tr>\n",
       "      <th>2</th>\n",
       "      <td>這門課共有幾講？請說明前四講、第五到第八講與第九、第十講各自的重點主題；並說明老師示範影片中...</td>\n",
       "      <td>[to this course\\n這個也是VO3自己生成的\\n他產生的影片是帶有聲音的\\n那...</td>\n",
       "      <td></td>\n",
       "      <td>None</td>\n",
       "      <td>ai (gpt-5-mini)</td>\n",
       "    </tr>\n",
       "    <tr>\n",
       "      <th>3</th>\n",
       "      <td>請說明本課程每週的上課時間與流程（包含授課與助教講解作業的大致時長）、課程錄影何時會上線，以...</td>\n",
       "      <td>[code放在這頁投影片上面\\n那我們上課的方式呢\\n主要是以直播進行\\n那我會在那個台灣大...</td>\n",
       "      <td></td>\n",
       "      <td>None</td>\n",
       "      <td>ai (gpt-5-mini)</td>\n",
       "    </tr>\n",
       "    <tr>\n",
       "      <th>4</th>\n",
       "      <td>如果你想要旁聽這門課，要如何加入 NTU Cool？在 NTU Cool 的哪裡可以留下上課...</td>\n",
       "      <td>[Cool上留言區的問題\\n那旁聽生\\n如果你想要加入NTU Cool的話\\n請直接寄信給助...</td>\n",
       "      <td></td>\n",
       "      <td>None</td>\n",
       "      <td>ai (gpt-5-mini)</td>\n",
       "    </tr>\n",
       "    <tr>\n",
       "      <th>5</th>\n",
       "      <td>請說明本課程作業的時程與繳交方式：每份作業通常給多少時間？前兩個作業的截止日為何？最後一個作...</td>\n",
       "      <td>[Cool寄給所有有修課的同學\\n但是假設你發現直播斷線\\n非常重要的一點就是\\n請勿驚慌 ...</td>\n",
       "      <td></td>\n",
       "      <td>None</td>\n",
       "      <td>ai (gpt-5-mini)</td>\n",
       "    </tr>\n",
       "    <tr>\n",
       "      <th>6</th>\n",
       "      <td>除了在 NTU Cool 繳交作業外，還有哪個繳交系統？它的用途是什麼？另外，課程把作業難度...</td>\n",
       "      <td>[Cool那個平台上面\\n回答一些選擇題\\n就算是完成作業的繳交\\n那今天就會公告作業一\\n...</td>\n",
       "      <td></td>\n",
       "      <td>None</td>\n",
       "      <td>ai (gpt-5-mini)</td>\n",
       "    </tr>\n",
       "    <tr>\n",
       "      <th>7</th>\n",
       "      <td>為什麼講者會在課程中保留需要訓練三到四小時的作業？請說明至少兩個理由，並指出課程目前是否包含...</td>\n",
       "      <td>[業設計成這樣呢\\n為什麼作業要跑三個小時呢\\n我只允許這個作業三分鐘\\n就應該要跑完\\n我...</td>\n",
       "      <td></td>\n",
       "      <td>None</td>\n",
       "      <td>ai (gpt-5-mini)</td>\n",
       "    </tr>\n",
       "    <tr>\n",
       "      <th>8</th>\n",
       "      <td>如果你對生成式AI一無所知，老師建議先看哪一門課程？看完之後想進一步了解這些AI是如何被訓練...</td>\n",
       "      <td>[預防針\\n幫助你在未來面對更大的挑戰\\n幫助你在未來面對挑戰的時候\\n做好心理準備\\n另外...</td>\n",
       "      <td></td>\n",
       "      <td>None</td>\n",
       "      <td>ai (gpt-5-mini)</td>\n",
       "    </tr>\n",
       "  </tbody>\n",
       "</table>\n",
       "</div>"
      ],
      "text/plain": [
       "                                               query  \\\n",
       "0      這門課的主要目標是什麼？老師用什麼比喻來說明為何要了解AI背後的原理，並簡述該比喻的重點？   \n",
       "1  請列出上課片段中提到的兩個AI工具（VO3 與 Eleven Labs），分別說明它們在示範...   \n",
       "2  這門課共有幾講？請說明前四講、第五到第八講與第九、第十講各自的重點主題；並說明老師示範影片中...   \n",
       "3  請說明本課程每週的上課時間與流程（包含授課與助教講解作業的大致時長）、課程錄影何時會上線，以...   \n",
       "4  如果你想要旁聽這門課，要如何加入 NTU Cool？在 NTU Cool 的哪裡可以留下上課...   \n",
       "5  請說明本課程作業的時程與繳交方式：每份作業通常給多少時間？前兩個作業的截止日為何？最後一個作...   \n",
       "6  除了在 NTU Cool 繳交作業外，還有哪個繳交系統？它的用途是什麼？另外，課程把作業難度...   \n",
       "7  為什麼講者會在課程中保留需要訓練三到四小時的作業？請說明至少兩個理由，並指出課程目前是否包含...   \n",
       "8  如果你對生成式AI一無所知，老師建議先看哪一門課程？看完之後想進一步了解這些AI是如何被訓練...   \n",
       "\n",
       "                                  reference_contexts reference_answer  \\\n",
       "0  [各位同學大家好 我們來上課吧\\n剛才只是用Google的VO3\\n這個可以生成影片的人工智...                    \n",
       "1  [第一種\\n如果你未來想要更深入人工智慧領域\\n這門可絕對是很好的入門\\n當然要完全掌握AI...                    \n",
       "2  [to this course\\n這個也是VO3自己生成的\\n他產生的影片是帶有聲音的\\n那...                    \n",
       "3  [code放在這頁投影片上面\\n那我們上課的方式呢\\n主要是以直播進行\\n那我會在那個台灣大...                    \n",
       "4  [Cool上留言區的問題\\n那旁聽生\\n如果你想要加入NTU Cool的話\\n請直接寄信給助...                    \n",
       "5  [Cool寄給所有有修課的同學\\n但是假設你發現直播斷線\\n非常重要的一點就是\\n請勿驚慌 ...                    \n",
       "6  [Cool那個平台上面\\n回答一些選擇題\\n就算是完成作業的繳交\\n那今天就會公告作業一\\n...                    \n",
       "7  [業設計成這樣呢\\n為什麼作業要跑三個小時呢\\n我只允許這個作業三分鐘\\n就應該要跑完\\n我...                    \n",
       "8  [預防針\\n幫助你在未來面對更大的挑戰\\n幫助你在未來面對挑戰的時候\\n做好心理準備\\n另外...                    \n",
       "\n",
       "  reference_answer_by         query_by  \n",
       "0                None  ai (gpt-5-mini)  \n",
       "1                None  ai (gpt-5-mini)  \n",
       "2                None  ai (gpt-5-mini)  \n",
       "3                None  ai (gpt-5-mini)  \n",
       "4                None  ai (gpt-5-mini)  \n",
       "5                None  ai (gpt-5-mini)  \n",
       "6                None  ai (gpt-5-mini)  \n",
       "7                None  ai (gpt-5-mini)  \n",
       "8                None  ai (gpt-5-mini)  "
      ]
     },
     "execution_count": 33,
     "metadata": {},
     "output_type": "execute_result"
    }
   ],
   "source": [
    "df = questions_v4.to_pandas()\n",
    "df"
   ]
  },
  {
   "cell_type": "code",
   "execution_count": 34,
   "id": "2a9f727a-e653-4eec-9c2c-c516e264ba00",
   "metadata": {},
   "outputs": [],
   "source": [
    "df.to_json(\n",
    "    os.path.join(DEST_DIR, \"question_v4.json\"),\n",
    "    orient=\"records\",\n",
    "    force_ascii=False,\n",
    "    indent=2\n",
    ")"
   ]
  },
  {
   "cell_type": "code",
   "execution_count": 35,
   "id": "c3f83dae-4b96-4c46-8948-eb6e3027d8ea",
   "metadata": {},
   "outputs": [
    {
     "data": {
      "text/plain": [
       "\u001b[31mSignature:\u001b[39m questions.save_json(path: str) -> \u001b[38;5;28;01mNone\u001b[39;00m\n",
       "\u001b[31mDocstring:\u001b[39m Save json.\n",
       "\u001b[31mFile:\u001b[39m      ~/miniconda3/envs/rag30/lib/python3.12/site-packages/llama_index/core/llama_dataset/base.py\n",
       "\u001b[31mType:\u001b[39m      method"
      ]
     },
     "metadata": {},
     "output_type": "display_data"
    }
   ],
   "source": [
    "questions.save_json?"
   ]
  },
  {
   "cell_type": "markdown",
   "id": "61680f23-2ead-4e5d-8f23-a8ff9aff824b",
   "metadata": {},
   "source": [
    "# v5"
   ]
  },
  {
   "cell_type": "code",
   "execution_count": 41,
   "id": "0e09cd9d-5323-4c72-9fab-d114381ad488",
   "metadata": {},
   "outputs": [],
   "source": [
    "num_questions_per_chunk = 1\n",
    "\n",
    "text_question_template = PromptTemplate(\n",
    "    f\"\"\"你是一位專業的課程助教，你的任務是根據上課內容的片段，設計 {num_questions_per_chunk} 個問題來問學生。\n",
    "問題風格以單一且直接的問句為主，並且需要在上課內容中找得到答案。\n",
    "若是要求出複數題，則問題應該盡可能涵蓋不同的面向。\n",
    "\n",
    "範例輸入:\n",
    "以下是上課內容片段：\n",
    "---------------------\n",
    "\"業設計成這樣呢\\n為什麼作業要跑三個小時呢\\n我只允許這個作業三分鐘\\n就應該要>跑完\\n我們有當然可以把這些特別花時間\\n需要特別花時間訓練的作業拿掉\\n但是我還是選>擇在這門課裡面\\n保留那一些\\n需要一定訓練時間的作業\\n因為焦躁的等待人工智慧訓練的結果\\n迷茫的調參數\\n不知道會不會成功\\n這個就是人工智慧的醍醐味\\n所以大家需要學習\\n在迷茫中前進\\n這個就是模型的訓練\\n我們特別把這一部分保留在課程裡面\\n讓你體驗說\\n模型訓練不出來的焦躁\\n到底是什麼樣的感覺\\n而且我必須要強調啊\\n什麼三四個小時的等待訓練時間\\n真的不算什麼\\n我們過去有很多作業訓練時間都是\\n至少三天起跳\\n你要至少訓練三天\\n你才能夠拿到成績\\n那我知道說很多同學在做作業的時候\\n往往你都在實現\\n最後一天才開始做作業\\n但那一種啊\\n需要訓練三天以上的模型\\n你只在前一天才開始做作業\\n你是絕不可能完成的\\n這個時候我告訴你\\n你唯一可以做的事情\\n就是放棄這樣子\\n還好我們這堂課裡面呢\\n現在是沒有需要訓練一天以上的作業啦\\n我們把那種\\n特別需要花時間訓練的作業\\n還是拿掉了\\n只保留了需要訓練三四個小時的作業\\n但我只想要強調說\\n三四個小時的訓練時間\\n真的不算什麼\\n如果你要真正用大量的資料\\n大規模的訓練模型\\n訓練個數週\\n其實都是常見的事情\\n而這一些\\n需要一點訓練時間的作業\\n它的定位就像是預防針\\n幫助你在未來面對更大的挑戰\\n幫助你在未來面對挑戰的時候\\n做好心理準備\\n另外呢\\n鼓勵大家如果有空的話\\n可以先看一些線上的錄影進行預習\\n那假設你對於生成式AI一無所知的話\\n那你可以先看生成式AI導論2024的課程\\n那如果2024的課程看完\\n你想要進一步了解\\n這些AI是怎麼被訓練出來的\"\n",
    "---------------------\n",
    "範例輸出:\n",
    "什麼是深度學習的醍醐味？\n",
    "\n",
    "輸入:\n",
    "以下是上課內容片段：\n",
    "---------------------\n",
    "{{context_str}}\n",
    "---------------------\n",
    "\"\"\"\n",
    ")\n",
    "\n",
    "question_gen_query = '輸出:\\n'"
   ]
  },
  {
   "cell_type": "code",
   "execution_count": 42,
   "id": "e474b4fa-f70c-49e6-ba8e-d2c9518c8c77",
   "metadata": {},
   "outputs": [
    {
     "name": "stderr",
     "output_type": "stream",
     "text": [
      "Parsing nodes: 100%|█████████████████████████████████████████████████████████████████████| 1/1 [00:00<00:00, 109.81it/s]\n"
     ]
    }
   ],
   "source": [
    "dataset_generator_v5 = RagDatasetGenerator.from_documents(\n",
    "    documents,\n",
    "    llm=llm,\n",
    "    num_questions_per_chunk = num_questions_per_chunk,  # set the number of questions per nodes\n",
    "    text_question_template = text_question_template,\n",
    "    question_gen_query = question_gen_query,\n",
    "    show_progress=True,\n",
    ")"
   ]
  },
  {
   "cell_type": "code",
   "execution_count": 43,
   "id": "e1c284ce-0529-49cf-ac5d-34ad460925e6",
   "metadata": {},
   "outputs": [
    {
     "name": "stderr",
     "output_type": "stream",
     "text": [
      "  0%|                                                                                             | 0/9 [00:00<?, ?it/s]2025-09-19 23:04:32,700 - INFO - Retrying request to /chat/completions in 0.473507 seconds\n",
      "2025-09-19 23:04:37,650 - INFO - HTTP Request: POST https://api.openai.com/v1/chat/completions \"HTTP/1.1 200 OK\"\n",
      " 11%|█████████▍                                                                           | 1/9 [00:04<00:39,  4.96s/it]2025-09-19 23:04:38,094 - INFO - HTTP Request: POST https://api.openai.com/v1/chat/completions \"HTTP/1.1 200 OK\"\n",
      " 22%|██████████████████▉                                                                  | 2/9 [00:05<00:16,  2.30s/it]2025-09-19 23:04:39,980 - INFO - HTTP Request: POST https://api.openai.com/v1/chat/completions \"HTTP/1.1 200 OK\"\n",
      " 33%|████████████████████████████▎                                                        | 3/9 [00:07<00:12,  2.11s/it]2025-09-19 23:04:40,535 - INFO - HTTP Request: POST https://api.openai.com/v1/chat/completions \"HTTP/1.1 200 OK\"\n",
      " 44%|█████████████████████████████████████▊                                               | 4/9 [00:07<00:07,  1.50s/it]2025-09-19 23:04:42,792 - INFO - HTTP Request: POST https://api.openai.com/v1/chat/completions \"HTTP/1.1 200 OK\"\n",
      " 56%|███████████████████████████████████████████████▏                                     | 5/9 [00:10<00:07,  1.77s/it]2025-09-19 23:04:44,020 - INFO - HTTP Request: POST https://api.openai.com/v1/chat/completions \"HTTP/1.1 200 OK\"\n",
      " 67%|████████████████████████████████████████████████████████▋                            | 6/9 [00:11<00:04,  1.59s/it]2025-09-19 23:04:46,508 - INFO - HTTP Request: POST https://api.openai.com/v1/chat/completions \"HTTP/1.1 200 OK\"\n",
      " 78%|██████████████████████████████████████████████████████████████████                   | 7/9 [00:13<00:03,  1.88s/it]2025-09-19 23:04:49,728 - INFO - HTTP Request: POST https://api.openai.com/v1/chat/completions \"HTTP/1.1 200 OK\"\n",
      " 89%|███████████████████████████████████████████████████████████████████████████▌         | 8/9 [00:17<00:02,  2.31s/it]2025-09-19 23:04:51,389 - INFO - HTTP Request: POST https://api.openai.com/v1/chat/completions \"HTTP/1.1 200 OK\"\n",
      "100%|█████████████████████████████████████████████████████████████████████████████████████| 9/9 [00:18<00:00,  2.08s/it]\n"
     ]
    },
    {
     "data": {
      "text/html": [
       "<div>\n",
       "<style scoped>\n",
       "    .dataframe tbody tr th:only-of-type {\n",
       "        vertical-align: middle;\n",
       "    }\n",
       "\n",
       "    .dataframe tbody tr th {\n",
       "        vertical-align: top;\n",
       "    }\n",
       "\n",
       "    .dataframe thead th {\n",
       "        text-align: right;\n",
       "    }\n",
       "</style>\n",
       "<table border=\"1\" class=\"dataframe\">\n",
       "  <thead>\n",
       "    <tr style=\"text-align: right;\">\n",
       "      <th></th>\n",
       "      <th>query</th>\n",
       "      <th>reference_contexts</th>\n",
       "      <th>reference_answer</th>\n",
       "      <th>reference_answer_by</th>\n",
       "      <th>query_by</th>\n",
       "    </tr>\n",
       "  </thead>\n",
       "  <tbody>\n",
       "    <tr>\n",
       "      <th>0</th>\n",
       "      <td>剛才老師用哪一個可以生成影片的人工智慧做開場？</td>\n",
       "      <td>[各位同學大家好 我們來上課吧\\n剛才只是用Google的VO3\\n這個可以生成影片的人工智...</td>\n",
       "      <td></td>\n",
       "      <td>None</td>\n",
       "      <td>ai (gpt-5-mini)</td>\n",
       "    </tr>\n",
       "    <tr>\n",
       "      <th>1</th>\n",
       "      <td>VO3可以接受哪些輸入來生成影片？</td>\n",
       "      <td>[第一種\\n如果你未來想要更深入人工智慧領域\\n這門可絕對是很好的入門\\n當然要完全掌握AI...</td>\n",
       "      <td></td>\n",
       "      <td>None</td>\n",
       "      <td>ai (gpt-5-mini)</td>\n",
       "    </tr>\n",
       "    <tr>\n",
       "      <th>2</th>\n",
       "      <td>講者用哪個軟體合成他的講課聲音？</td>\n",
       "      <td>[to this course\\n這個也是VO3自己生成的\\n他產生的影片是帶有聲音的\\n那...</td>\n",
       "      <td></td>\n",
       "      <td>None</td>\n",
       "      <td>ai (gpt-5-mini)</td>\n",
       "    </tr>\n",
       "    <tr>\n",
       "      <th>3</th>\n",
       "      <td>這門課每週的上課時間何時開始？</td>\n",
       "      <td>[code放在這頁投影片上面\\n那我們上課的方式呢\\n主要是以直播進行\\n那我會在那個台灣大...</td>\n",
       "      <td></td>\n",
       "      <td>None</td>\n",
       "      <td>ai (gpt-5-mini)</td>\n",
       "    </tr>\n",
       "    <tr>\n",
       "      <th>4</th>\n",
       "      <td>如果你想加入 NTU Cool 當旁聽生，應該怎麼做？</td>\n",
       "      <td>[Cool上留言區的問題\\n那旁聽生\\n如果你想要加入NTU Cool的話\\n請直接寄信給助...</td>\n",
       "      <td></td>\n",
       "      <td>None</td>\n",
       "      <td>ai (gpt-5-mini)</td>\n",
       "    </tr>\n",
       "    <tr>\n",
       "      <th>5</th>\n",
       "      <td>這門課總共有幾講？</td>\n",
       "      <td>[Cool寄給所有有修課的同學\\n但是假設你發現直播斷線\\n非常重要的一點就是\\n請勿驚慌 ...</td>\n",
       "      <td></td>\n",
       "      <td>None</td>\n",
       "      <td>ai (gpt-5-mini)</td>\n",
       "    </tr>\n",
       "    <tr>\n",
       "      <th>6</th>\n",
       "      <td>JudgeBoi 是什麼？</td>\n",
       "      <td>[Cool那個平台上面\\n回答一些選擇題\\n就算是完成作業的繳交\\n那今天就會公告作業一\\n...</td>\n",
       "      <td></td>\n",
       "      <td>None</td>\n",
       "      <td>ai (gpt-5-mini)</td>\n",
       "    </tr>\n",
       "    <tr>\n",
       "      <th>7</th>\n",
       "      <td>講者為什麼在課程中保留那些需要一定訓練時間的作業？</td>\n",
       "      <td>[業設計成這樣呢\\n為什麼作業要跑三個小時呢\\n我只允許這個作業三分鐘\\n就應該要跑完\\n我...</td>\n",
       "      <td></td>\n",
       "      <td>None</td>\n",
       "      <td>ai (gpt-5-mini)</td>\n",
       "    </tr>\n",
       "    <tr>\n",
       "      <th>8</th>\n",
       "      <td>如果你對生成式AI一無所知，講者建議先看哪一門課程？</td>\n",
       "      <td>[預防針\\n幫助你在未來面對更大的挑戰\\n幫助你在未來面對挑戰的時候\\n做好心理準備\\n另外...</td>\n",
       "      <td></td>\n",
       "      <td>None</td>\n",
       "      <td>ai (gpt-5-mini)</td>\n",
       "    </tr>\n",
       "  </tbody>\n",
       "</table>\n",
       "</div>"
      ],
      "text/plain": [
       "                         query  \\\n",
       "0      剛才老師用哪一個可以生成影片的人工智慧做開場？   \n",
       "1            VO3可以接受哪些輸入來生成影片？   \n",
       "2             講者用哪個軟體合成他的講課聲音？   \n",
       "3              這門課每週的上課時間何時開始？   \n",
       "4  如果你想加入 NTU Cool 當旁聽生，應該怎麼做？   \n",
       "5                    這門課總共有幾講？   \n",
       "6                JudgeBoi 是什麼？   \n",
       "7    講者為什麼在課程中保留那些需要一定訓練時間的作業？   \n",
       "8   如果你對生成式AI一無所知，講者建議先看哪一門課程？   \n",
       "\n",
       "                                  reference_contexts reference_answer  \\\n",
       "0  [各位同學大家好 我們來上課吧\\n剛才只是用Google的VO3\\n這個可以生成影片的人工智...                    \n",
       "1  [第一種\\n如果你未來想要更深入人工智慧領域\\n這門可絕對是很好的入門\\n當然要完全掌握AI...                    \n",
       "2  [to this course\\n這個也是VO3自己生成的\\n他產生的影片是帶有聲音的\\n那...                    \n",
       "3  [code放在這頁投影片上面\\n那我們上課的方式呢\\n主要是以直播進行\\n那我會在那個台灣大...                    \n",
       "4  [Cool上留言區的問題\\n那旁聽生\\n如果你想要加入NTU Cool的話\\n請直接寄信給助...                    \n",
       "5  [Cool寄給所有有修課的同學\\n但是假設你發現直播斷線\\n非常重要的一點就是\\n請勿驚慌 ...                    \n",
       "6  [Cool那個平台上面\\n回答一些選擇題\\n就算是完成作業的繳交\\n那今天就會公告作業一\\n...                    \n",
       "7  [業設計成這樣呢\\n為什麼作業要跑三個小時呢\\n我只允許這個作業三分鐘\\n就應該要跑完\\n我...                    \n",
       "8  [預防針\\n幫助你在未來面對更大的挑戰\\n幫助你在未來面對挑戰的時候\\n做好心理準備\\n另外...                    \n",
       "\n",
       "  reference_answer_by         query_by  \n",
       "0                None  ai (gpt-5-mini)  \n",
       "1                None  ai (gpt-5-mini)  \n",
       "2                None  ai (gpt-5-mini)  \n",
       "3                None  ai (gpt-5-mini)  \n",
       "4                None  ai (gpt-5-mini)  \n",
       "5                None  ai (gpt-5-mini)  \n",
       "6                None  ai (gpt-5-mini)  \n",
       "7                None  ai (gpt-5-mini)  \n",
       "8                None  ai (gpt-5-mini)  "
      ]
     },
     "execution_count": 43,
     "metadata": {},
     "output_type": "execute_result"
    }
   ],
   "source": [
    "questions_v5 = dataset_generator_v5.generate_questions_from_nodes()\n",
    "df = questions_v5.to_pandas()\n",
    "df"
   ]
  },
  {
   "cell_type": "code",
   "execution_count": 44,
   "id": "beaa8313-db04-45bb-88a2-0952c8eac16c",
   "metadata": {},
   "outputs": [],
   "source": [
    "df.to_json(\n",
    "    os.path.join(DEST_DIR, \"question_v5.json\"),\n",
    "    orient=\"records\",\n",
    "    force_ascii=False,\n",
    "    indent=2\n",
    ")"
   ]
  },
  {
   "cell_type": "code",
   "execution_count": null,
   "id": "62d7b5b1-d3bc-4b01-9c8f-8649d876adbf",
   "metadata": {},
   "outputs": [],
   "source": []
  }
 ],
 "metadata": {
  "kernelspec": {
   "display_name": "rag30",
   "language": "python",
   "name": "rag30"
  },
  "language_info": {
   "codemirror_mode": {
    "name": "ipython",
    "version": 3
   },
   "file_extension": ".py",
   "mimetype": "text/x-python",
   "name": "python",
   "nbconvert_exporter": "python",
   "pygments_lexer": "ipython3",
   "version": "3.12.0"
  }
 },
 "nbformat": 4,
 "nbformat_minor": 5
}
