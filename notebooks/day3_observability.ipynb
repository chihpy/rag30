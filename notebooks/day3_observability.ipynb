{
 "cells": [
  {
   "cell_type": "code",
   "execution_count": 3,
   "id": "21241d28-6c98-422e-8bd0-481e7050da84",
   "metadata": {},
   "outputs": [
    {
     "name": "stdout",
     "output_type": "stream",
     "text": [
      "Langfuse client is authenticated and ready!\n"
     ]
    }
   ],
   "source": [
    "from dotenv import find_dotenv, load_dotenv\n",
    "from langfuse import get_client\n",
    "\n",
    "_ = load_dotenv(find_dotenv())\n",
    "langfuse = get_client()\n",
    "\n",
    "# Verify connection\n",
    "if langfuse.auth_check():\n",
    "    print(\"Langfuse client is authenticated and ready!\")\n",
    "else:\n",
    "    print(\"Authentication failed. Please check your credentials and host.\")"
   ]
  },
  {
   "cell_type": "code",
   "execution_count": 4,
   "id": "fddc9dd1-8b72-400c-8189-980676a30f06",
   "metadata": {},
   "outputs": [],
   "source": [
    "from openinference.instrumentation.llama_index import LlamaIndexInstrumentor\n",
    "\n",
    "# Initialize LlamaIndex instrumentation\n",
    "LlamaIndexInstrumentor().instrument()"
   ]
  },
  {
   "cell_type": "code",
   "execution_count": 5,
   "id": "48f7d738-cf5e-458e-94b4-6204a9aa291a",
   "metadata": {},
   "outputs": [],
   "source": [
    "from llama_index.core import Document\n",
    "from llama_index.core import VectorStoreIndex\n",
    "\n",
    "index = VectorStoreIndex.from_documents([Document.example()])\n",
    "\n",
    "query_engine = index.as_query_engine()"
   ]
  },
  {
   "cell_type": "code",
   "execution_count": 7,
   "id": "c9ed369c-0f22-4734-801a-5383b810eac4",
   "metadata": {},
   "outputs": [],
   "source": [
    "response = query_engine.query(\"Hello LangFuse!\")"
   ]
  },
  {
   "cell_type": "code",
   "execution_count": 8,
   "id": "693324fe-1bd6-445b-b0a3-4256d7137699",
   "metadata": {},
   "outputs": [
    {
     "data": {
      "text/plain": [
       "Response(response='LlamaIndex is a comprehensive toolkit designed to help augment Large Language Models (LLMs) with private data. It offers data connectors for various data sources, tools to structure data for easy use with LLMs, an advanced retrieval/query interface, and seamless integrations with different application frameworks. Whether you are a beginner or an advanced user, LlamaIndex provides the necessary tools to ingest, query, and customize data for LLM applications.', source_nodes=[NodeWithScore(node=TextNode(id_='a7d63613-49ff-40fa-85a8-97267fa233ab', embedding=None, metadata={'filename': 'README.md', 'category': 'codebase'}, excluded_embed_metadata_keys=[], excluded_llm_metadata_keys=[], relationships={<NodeRelationship.SOURCE: '1'>: RelatedNodeInfo(node_id='e642f1e5-8255-4385-ae74-bd88bfbf38d6', node_type='4', metadata={'filename': 'README.md', 'category': 'codebase'}, hash='8f24ce02310203160c5e18490ef2c8acba3077d47170f8d9ae1191e323687c3a')}, metadata_template='{key}: {value}', metadata_separator='\\n', text='Context\\nLLMs are a phenomenal piece of technology for knowledge generation and reasoning.\\nThey are pre-trained on large amounts of publicly available data.\\nHow do we best augment LLMs with our own private data?\\nWe need a comprehensive toolkit to help perform this data augmentation for LLMs.\\n\\nProposed Solution\\nThat\\'s where LlamaIndex comes in. LlamaIndex is a \"data framework\" to help\\nyou build LLM  apps. It provides the following tools:\\n\\nOffers data connectors to ingest your existing data sources and data formats\\n(APIs, PDFs, docs, SQL, etc.)\\nProvides ways to structure your data (indices, graphs) so that this data can be\\neasily used with LLMs.\\nProvides an advanced retrieval/query interface over your data:\\nFeed in any LLM input prompt, get back retrieved context and knowledge-augmented output.\\nAllows easy integrations with your outer application framework\\n(e.g. with LangChain, Flask, Docker, ChatGPT, anything else).\\nLlamaIndex provides tools for both beginner users and advanced users.\\nOur high-level API allows beginner users to use LlamaIndex to ingest and\\nquery their data in 5 lines of code. Our lower-level APIs allow advanced users to\\ncustomize and extend any module (data connectors, indices, retrievers, query engines,\\nreranking modules), to fit their needs.', mimetype='text/plain', start_char_idx=1, end_char_idx=1279, metadata_seperator='\\n', text_template='{metadata_str}\\n\\n{content}'), score=0.7360862909715465)], metadata={'a7d63613-49ff-40fa-85a8-97267fa233ab': {'filename': 'README.md', 'category': 'codebase'}})"
      ]
     },
     "execution_count": 8,
     "metadata": {},
     "output_type": "execute_result"
    }
   ],
   "source": [
    "response"
   ]
  },
  {
   "cell_type": "code",
   "execution_count": 9,
   "id": "e7d91b84-c05b-4ab1-8586-5b2229caf5fe",
   "metadata": {},
   "outputs": [
    {
     "data": {
      "text/plain": [
       "llama_index.core.base.response.schema.Response"
      ]
     },
     "execution_count": 9,
     "metadata": {},
     "output_type": "execute_result"
    }
   ],
   "source": [
    "type(response)"
   ]
  },
  {
   "cell_type": "code",
   "execution_count": 12,
   "id": "14e0a838-6036-4862-87d8-fc05d41881e8",
   "metadata": {},
   "outputs": [],
   "source": [
    "user_id = \"woodchuck_chuck\"\n",
    "sess_id = \"hello_session_v2\"\n",
    "\n",
    "with langfuse.start_as_current_span(name=\"current_span_name\") as span:\n",
    "    span.update_trace(user_id=user_id, session_id=sess_id, tags=[\"tag_v2\"])\n",
    "    query_engine.query(\"Hello LangFuse v2!\")"
   ]
  },
  {
   "cell_type": "code",
   "execution_count": 11,
   "id": "4158b78f-3f78-46ae-a400-2830f46e14f0",
   "metadata": {},
   "outputs": [],
   "source": [
    "langfuse.flush()"
   ]
  },
  {
   "cell_type": "code",
   "execution_count": null,
   "id": "923c9ef5-2006-48f3-96db-afe80db8bee9",
   "metadata": {},
   "outputs": [],
   "source": []
  }
 ],
 "metadata": {
  "kernelspec": {
   "display_name": "rag30",
   "language": "python",
   "name": "rag30"
  },
  "language_info": {
   "codemirror_mode": {
    "name": "ipython",
    "version": 3
   },
   "file_extension": ".py",
   "mimetype": "text/x-python",
   "name": "python",
   "nbconvert_exporter": "python",
   "pygments_lexer": "ipython3",
   "version": "3.12.0"
  }
 },
 "nbformat": 4,
 "nbformat_minor": 5
}
