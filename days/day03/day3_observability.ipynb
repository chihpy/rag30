{
 "cells": [
  {
   "cell_type": "code",
   "execution_count": null,
   "id": "21241d28-6c98-422e-8bd0-481e7050da84",
   "metadata": {},
   "outputs": [],
   "source": [
    "from dotenv import find_dotenv, load_dotenv\n",
    "from langfuse import get_client\n",
    "\n",
    "_ = load_dotenv(find_dotenv())\n",
    "langfuse = get_client()\n",
    "\n",
    "# Verify connection\n",
    "if langfuse.auth_check():\n",
    "    print(\"Langfuse client is authenticated and ready!\")\n",
    "else:\n",
    "    print(\"Authentication failed. Please check your credentials and host.\")"
   ]
  },
  {
   "cell_type": "code",
   "execution_count": null,
   "id": "fddc9dd1-8b72-400c-8189-980676a30f06",
   "metadata": {},
   "outputs": [],
   "source": [
    "from openinference.instrumentation.llama_index import LlamaIndexInstrumentor\n",
    "\n",
    "# Initialize LlamaIndex instrumentation\n",
    "LlamaIndexInstrumentor().instrument()"
   ]
  },
  {
   "cell_type": "code",
   "execution_count": null,
   "id": "48f7d738-cf5e-458e-94b4-6204a9aa291a",
   "metadata": {},
   "outputs": [],
   "source": [
    "from llama_index.core import Document\n",
    "from llama_index.core import VectorStoreIndex\n",
    "\n",
    "index = VectorStoreIndex.from_documents([Document.example()])\n",
    "\n",
    "query_engine = index.as_query_engine()"
   ]
  },
  {
   "cell_type": "code",
   "execution_count": null,
   "id": "c9ed369c-0f22-4734-801a-5383b810eac4",
   "metadata": {},
   "outputs": [],
   "source": [
    "response = query_engine.query(\"Hello LangFuse!\")"
   ]
  },
  {
   "cell_type": "code",
   "execution_count": null,
   "id": "693324fe-1bd6-445b-b0a3-4256d7137699",
   "metadata": {},
   "outputs": [],
   "source": [
    "response"
   ]
  },
  {
   "cell_type": "code",
   "execution_count": null,
   "id": "e7d91b84-c05b-4ab1-8586-5b2229caf5fe",
   "metadata": {},
   "outputs": [],
   "source": [
    "type(response)"
   ]
  },
  {
   "cell_type": "code",
   "execution_count": null,
   "id": "14e0a838-6036-4862-87d8-fc05d41881e8",
   "metadata": {},
   "outputs": [],
   "source": [
    "user_id = \"woodchuck_chuck\"\n",
    "sess_id = \"hello_session_v2\"\n",
    "\n",
    "with langfuse.start_as_current_span(name=\"current_span_name\") as span:\n",
    "    span.update_trace(user_id=user_id, session_id=sess_id, tags=[\"tag_v2\"])\n",
    "    query_engine.query(\"Hello LangFuse v2!\")"
   ]
  },
  {
   "cell_type": "code",
   "execution_count": null,
   "id": "4158b78f-3f78-46ae-a400-2830f46e14f0",
   "metadata": {},
   "outputs": [],
   "source": [
    "langfuse.flush()"
   ]
  },
  {
   "cell_type": "code",
   "execution_count": null,
   "id": "923c9ef5-2006-48f3-96db-afe80db8bee9",
   "metadata": {},
   "outputs": [],
   "source": []
  }
 ],
 "metadata": {
  "kernelspec": {
   "display_name": "rag30",
   "language": "python",
   "name": "rag30"
  },
  "language_info": {
   "codemirror_mode": {
    "name": "ipython",
    "version": 3
   },
   "file_extension": ".py",
   "mimetype": "text/x-python",
   "name": "python",
   "nbconvert_exporter": "python",
   "pygments_lexer": "ipython3",
   "version": "3.12.0"
  }
 },
 "nbformat": 4,
 "nbformat_minor": 5
}
