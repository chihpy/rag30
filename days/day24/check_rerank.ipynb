{
 "cells": [
  {
   "cell_type": "code",
   "execution_count": 1,
   "id": "1e1f7190-5532-4108-b32e-f2d301cc3155",
   "metadata": {},
   "outputs": [],
   "source": [
    "import os\n",
    "import matplotlib.pyplot as plt\n",
    "import pandas as pd"
   ]
  },
  {
   "cell_type": "raw",
   "id": "94344fc1-7945-4be7-86fb-c86a0145c95c",
   "metadata": {},
   "source": [
    "retrieve_file_path = os.path.join('data', 'temp', 'baseline_rag_result_retrieved_faithfulness.csv')\n",
    "rerank_file_path = os.path.join('data', 'temp', 'baseline_rag_result_reranked_faithfulness.csv')"
   ]
  },
  {
   "cell_type": "code",
   "execution_count": 2,
   "id": "a351cc18-8b93-48b7-9e76-94bde420dbf1",
   "metadata": {},
   "outputs": [],
   "source": [
    "retrieve_file_path = os.path.join('data', 'temp', 'baseline_rag_result_R3_retrieved_faithfulness.csv')\n",
    "rerank_file_path = os.path.join('data', 'temp', 'baseline_rag_result_R3_reranked_faithfulness.csv')"
   ]
  },
  {
   "cell_type": "code",
   "execution_count": 3,
   "id": "6a07f320-ec1e-4ec8-a44a-11951f86277c",
   "metadata": {},
   "outputs": [
    {
     "data": {
      "text/html": [
       "<div>\n",
       "<style scoped>\n",
       "    .dataframe tbody tr th:only-of-type {\n",
       "        vertical-align: middle;\n",
       "    }\n",
       "\n",
       "    .dataframe tbody tr th {\n",
       "        vertical-align: top;\n",
       "    }\n",
       "\n",
       "    .dataframe thead th {\n",
       "        text-align: right;\n",
       "    }\n",
       "</style>\n",
       "<table border=\"1\" class=\"dataframe\">\n",
       "  <thead>\n",
       "    <tr style=\"text-align: right;\">\n",
       "      <th></th>\n",
       "      <th>query</th>\n",
       "      <th>reference_contexts</th>\n",
       "      <th>reference_answer</th>\n",
       "      <th>reference_answer_by</th>\n",
       "      <th>query_by</th>\n",
       "      <th>response</th>\n",
       "      <th>retrieved_nodes</th>\n",
       "      <th>reranked_nodes</th>\n",
       "      <th>faithful_score</th>\n",
       "      <th>faithful_feedback</th>\n",
       "    </tr>\n",
       "  </thead>\n",
       "  <tbody>\n",
       "    <tr>\n",
       "      <th>0</th>\n",
       "      <td>這門課希望學生從使用者變成什麼？</td>\n",
       "      <td>['各位同學大家好 我們來上課吧\\n剛才只是用Google的VO3\\n這個可以生成影片的人工...</td>\n",
       "      <td>理解者，甚至是創造者。</td>\n",
       "      <td>ai (gpt-5-mini)</td>\n",
       "      <td>ai (gpt-5-mini)</td>\n",
       "      <td>這門課希望學生從使用者變成創作者。</td>\n",
       "      <td>[{'id': '18773912-c8b5-4fb4-8d4b-cb4e38758012'...</td>\n",
       "      <td>[{'id': 'f1b8dce2-5b45-4ed8-b44d-0bf6e2306877'...</td>\n",
       "      <td>0.0</td>\n",
       "      <td>NO</td>\n",
       "    </tr>\n",
       "    <tr>\n",
       "      <th>1</th>\n",
       "      <td>剛才用來生成倒數計時影片和讓人長出翅膀的影片是使用哪個工具？</td>\n",
       "      <td>['第一種\\n如果你未來想要更深入人工智慧領域\\n這門可絕對是很好的入門\\n當然要完全掌握A...</td>\n",
       "      <td>答案：Google 的 VO3</td>\n",
       "      <td>ai (gpt-5-mini)</td>\n",
       "      <td>ai (gpt-5-mini)</td>\n",
       "      <td>抱歉，無法提供該工具的資訊。</td>\n",
       "      <td>[{'id': '18773912-c8b5-4fb4-8d4b-cb4e38758012'...</td>\n",
       "      <td>[{'id': '18773912-c8b5-4fb4-8d4b-cb4e38758012'...</td>\n",
       "      <td>0.0</td>\n",
       "      <td>NO</td>\n",
       "    </tr>\n",
       "    <tr>\n",
       "      <th>2</th>\n",
       "      <td>哪個軟體被用來合成講師的聲音？</td>\n",
       "      <td>['也是VO3自己生成的\\n他產生的影片是帶有聲音的\\n那其他中文講課的聲音也通通都是合成的...</td>\n",
       "      <td>答案：Eleven Labs。</td>\n",
       "      <td>ai (gpt-5-mini)</td>\n",
       "      <td>ai (gpt-5-mini)</td>\n",
       "      <td>沒有提到任何軟體被用來合成講師的聲音。</td>\n",
       "      <td>[{'id': '18773912-c8b5-4fb4-8d4b-cb4e38758012'...</td>\n",
       "      <td>[{'id': '18773912-c8b5-4fb4-8d4b-cb4e38758012'...</td>\n",
       "      <td>1.0</td>\n",
       "      <td>YES</td>\n",
       "    </tr>\n",
       "  </tbody>\n",
       "</table>\n",
       "</div>"
      ],
      "text/plain": [
       "                            query  \\\n",
       "0                這門課希望學生從使用者變成什麼？   \n",
       "1  剛才用來生成倒數計時影片和讓人長出翅膀的影片是使用哪個工具？   \n",
       "2                 哪個軟體被用來合成講師的聲音？   \n",
       "\n",
       "                                  reference_contexts reference_answer  \\\n",
       "0  ['各位同學大家好 我們來上課吧\\n剛才只是用Google的VO3\\n這個可以生成影片的人工...      理解者，甚至是創造者。   \n",
       "1  ['第一種\\n如果你未來想要更深入人工智慧領域\\n這門可絕對是很好的入門\\n當然要完全掌握A...  答案：Google 的 VO3   \n",
       "2  ['也是VO3自己生成的\\n他產生的影片是帶有聲音的\\n那其他中文講課的聲音也通通都是合成的...  答案：Eleven Labs。   \n",
       "\n",
       "  reference_answer_by         query_by             response  \\\n",
       "0     ai (gpt-5-mini)  ai (gpt-5-mini)    這門課希望學生從使用者變成創作者。   \n",
       "1     ai (gpt-5-mini)  ai (gpt-5-mini)       抱歉，無法提供該工具的資訊。   \n",
       "2     ai (gpt-5-mini)  ai (gpt-5-mini)  沒有提到任何軟體被用來合成講師的聲音。   \n",
       "\n",
       "                                     retrieved_nodes  \\\n",
       "0  [{'id': '18773912-c8b5-4fb4-8d4b-cb4e38758012'...   \n",
       "1  [{'id': '18773912-c8b5-4fb4-8d4b-cb4e38758012'...   \n",
       "2  [{'id': '18773912-c8b5-4fb4-8d4b-cb4e38758012'...   \n",
       "\n",
       "                                      reranked_nodes  faithful_score  \\\n",
       "0  [{'id': 'f1b8dce2-5b45-4ed8-b44d-0bf6e2306877'...             0.0   \n",
       "1  [{'id': '18773912-c8b5-4fb4-8d4b-cb4e38758012'...             0.0   \n",
       "2  [{'id': '18773912-c8b5-4fb4-8d4b-cb4e38758012'...             1.0   \n",
       "\n",
       "  faithful_feedback  \n",
       "0                NO  \n",
       "1                NO  \n",
       "2               YES  "
      ]
     },
     "execution_count": 3,
     "metadata": {},
     "output_type": "execute_result"
    }
   ],
   "source": [
    "retrieve_df = pd.read_csv(retrieve_file_path)\n",
    "retrieve_df.head(3)"
   ]
  },
  {
   "cell_type": "code",
   "execution_count": 4,
   "id": "ea17e82e-cd67-4ecc-b91b-e98f0191fdca",
   "metadata": {},
   "outputs": [
    {
     "data": {
      "text/html": [
       "<div>\n",
       "<style scoped>\n",
       "    .dataframe tbody tr th:only-of-type {\n",
       "        vertical-align: middle;\n",
       "    }\n",
       "\n",
       "    .dataframe tbody tr th {\n",
       "        vertical-align: top;\n",
       "    }\n",
       "\n",
       "    .dataframe thead th {\n",
       "        text-align: right;\n",
       "    }\n",
       "</style>\n",
       "<table border=\"1\" class=\"dataframe\">\n",
       "  <thead>\n",
       "    <tr style=\"text-align: right;\">\n",
       "      <th></th>\n",
       "      <th>retrieve_faithful_score</th>\n",
       "      <th>retrieve_faithful_feedback</th>\n",
       "    </tr>\n",
       "  </thead>\n",
       "  <tbody>\n",
       "    <tr>\n",
       "      <th>0</th>\n",
       "      <td>0.0</td>\n",
       "      <td>NO</td>\n",
       "    </tr>\n",
       "    <tr>\n",
       "      <th>1</th>\n",
       "      <td>0.0</td>\n",
       "      <td>NO</td>\n",
       "    </tr>\n",
       "    <tr>\n",
       "      <th>2</th>\n",
       "      <td>1.0</td>\n",
       "      <td>YES</td>\n",
       "    </tr>\n",
       "  </tbody>\n",
       "</table>\n",
       "</div>"
      ],
      "text/plain": [
       "   retrieve_faithful_score retrieve_faithful_feedback\n",
       "0                      0.0                         NO\n",
       "1                      0.0                         NO\n",
       "2                      1.0                        YES"
      ]
     },
     "execution_count": 4,
     "metadata": {},
     "output_type": "execute_result"
    }
   ],
   "source": [
    "retrieve_df = retrieve_df[['faithful_score', 'faithful_feedback']].copy()\n",
    "retrieve_df.columns = ['retrieve_faithful_score', 'retrieve_faithful_feedback']\n",
    "retrieve_df.head(3)"
   ]
  },
  {
   "cell_type": "code",
   "execution_count": 5,
   "id": "a17346ef-c7ba-4e19-8606-c917b1ca70da",
   "metadata": {},
   "outputs": [
    {
     "data": {
      "text/html": [
       "<div>\n",
       "<style scoped>\n",
       "    .dataframe tbody tr th:only-of-type {\n",
       "        vertical-align: middle;\n",
       "    }\n",
       "\n",
       "    .dataframe tbody tr th {\n",
       "        vertical-align: top;\n",
       "    }\n",
       "\n",
       "    .dataframe thead th {\n",
       "        text-align: right;\n",
       "    }\n",
       "</style>\n",
       "<table border=\"1\" class=\"dataframe\">\n",
       "  <thead>\n",
       "    <tr style=\"text-align: right;\">\n",
       "      <th></th>\n",
       "      <th>query</th>\n",
       "      <th>reference_contexts</th>\n",
       "      <th>reference_answer</th>\n",
       "      <th>reference_answer_by</th>\n",
       "      <th>query_by</th>\n",
       "      <th>response</th>\n",
       "      <th>retrieved_nodes</th>\n",
       "      <th>reranked_nodes</th>\n",
       "      <th>faithful_score</th>\n",
       "      <th>faithful_feedback</th>\n",
       "    </tr>\n",
       "  </thead>\n",
       "  <tbody>\n",
       "    <tr>\n",
       "      <th>0</th>\n",
       "      <td>這門課希望學生從使用者變成什麼？</td>\n",
       "      <td>['各位同學大家好 我們來上課吧\\n剛才只是用Google的VO3\\n這個可以生成影片的人工...</td>\n",
       "      <td>理解者，甚至是創造者。</td>\n",
       "      <td>ai (gpt-5-mini)</td>\n",
       "      <td>ai (gpt-5-mini)</td>\n",
       "      <td>這門課希望學生從使用者變成創作者。</td>\n",
       "      <td>[{'id': '18773912-c8b5-4fb4-8d4b-cb4e38758012'...</td>\n",
       "      <td>[{'id': 'f1b8dce2-5b45-4ed8-b44d-0bf6e2306877'...</td>\n",
       "      <td>0.0</td>\n",
       "      <td>NO</td>\n",
       "    </tr>\n",
       "    <tr>\n",
       "      <th>1</th>\n",
       "      <td>剛才用來生成倒數計時影片和讓人長出翅膀的影片是使用哪個工具？</td>\n",
       "      <td>['第一種\\n如果你未來想要更深入人工智慧領域\\n這門可絕對是很好的入門\\n當然要完全掌握A...</td>\n",
       "      <td>答案：Google 的 VO3</td>\n",
       "      <td>ai (gpt-5-mini)</td>\n",
       "      <td>ai (gpt-5-mini)</td>\n",
       "      <td>抱歉，無法提供該工具的資訊。</td>\n",
       "      <td>[{'id': '18773912-c8b5-4fb4-8d4b-cb4e38758012'...</td>\n",
       "      <td>[{'id': '18773912-c8b5-4fb4-8d4b-cb4e38758012'...</td>\n",
       "      <td>0.0</td>\n",
       "      <td>NO</td>\n",
       "    </tr>\n",
       "    <tr>\n",
       "      <th>2</th>\n",
       "      <td>哪個軟體被用來合成講師的聲音？</td>\n",
       "      <td>['也是VO3自己生成的\\n他產生的影片是帶有聲音的\\n那其他中文講課的聲音也通通都是合成的...</td>\n",
       "      <td>答案：Eleven Labs。</td>\n",
       "      <td>ai (gpt-5-mini)</td>\n",
       "      <td>ai (gpt-5-mini)</td>\n",
       "      <td>沒有提到任何軟體被用來合成講師的聲音。</td>\n",
       "      <td>[{'id': '18773912-c8b5-4fb4-8d4b-cb4e38758012'...</td>\n",
       "      <td>[{'id': '18773912-c8b5-4fb4-8d4b-cb4e38758012'...</td>\n",
       "      <td>1.0</td>\n",
       "      <td>YES</td>\n",
       "    </tr>\n",
       "  </tbody>\n",
       "</table>\n",
       "</div>"
      ],
      "text/plain": [
       "                            query  \\\n",
       "0                這門課希望學生從使用者變成什麼？   \n",
       "1  剛才用來生成倒數計時影片和讓人長出翅膀的影片是使用哪個工具？   \n",
       "2                 哪個軟體被用來合成講師的聲音？   \n",
       "\n",
       "                                  reference_contexts reference_answer  \\\n",
       "0  ['各位同學大家好 我們來上課吧\\n剛才只是用Google的VO3\\n這個可以生成影片的人工...      理解者，甚至是創造者。   \n",
       "1  ['第一種\\n如果你未來想要更深入人工智慧領域\\n這門可絕對是很好的入門\\n當然要完全掌握A...  答案：Google 的 VO3   \n",
       "2  ['也是VO3自己生成的\\n他產生的影片是帶有聲音的\\n那其他中文講課的聲音也通通都是合成的...  答案：Eleven Labs。   \n",
       "\n",
       "  reference_answer_by         query_by             response  \\\n",
       "0     ai (gpt-5-mini)  ai (gpt-5-mini)    這門課希望學生從使用者變成創作者。   \n",
       "1     ai (gpt-5-mini)  ai (gpt-5-mini)       抱歉，無法提供該工具的資訊。   \n",
       "2     ai (gpt-5-mini)  ai (gpt-5-mini)  沒有提到任何軟體被用來合成講師的聲音。   \n",
       "\n",
       "                                     retrieved_nodes  \\\n",
       "0  [{'id': '18773912-c8b5-4fb4-8d4b-cb4e38758012'...   \n",
       "1  [{'id': '18773912-c8b5-4fb4-8d4b-cb4e38758012'...   \n",
       "2  [{'id': '18773912-c8b5-4fb4-8d4b-cb4e38758012'...   \n",
       "\n",
       "                                      reranked_nodes  faithful_score  \\\n",
       "0  [{'id': 'f1b8dce2-5b45-4ed8-b44d-0bf6e2306877'...             0.0   \n",
       "1  [{'id': '18773912-c8b5-4fb4-8d4b-cb4e38758012'...             0.0   \n",
       "2  [{'id': '18773912-c8b5-4fb4-8d4b-cb4e38758012'...             1.0   \n",
       "\n",
       "  faithful_feedback  \n",
       "0                NO  \n",
       "1                NO  \n",
       "2               YES  "
      ]
     },
     "execution_count": 5,
     "metadata": {},
     "output_type": "execute_result"
    }
   ],
   "source": [
    "rerank_df = pd.read_csv(rerank_file_path)\n",
    "rerank_df.head(3)"
   ]
  },
  {
   "cell_type": "code",
   "execution_count": 6,
   "id": "28011f9d-0ba4-48dc-825c-49ddb6b59980",
   "metadata": {},
   "outputs": [
    {
     "data": {
      "text/html": [
       "<div>\n",
       "<style scoped>\n",
       "    .dataframe tbody tr th:only-of-type {\n",
       "        vertical-align: middle;\n",
       "    }\n",
       "\n",
       "    .dataframe tbody tr th {\n",
       "        vertical-align: top;\n",
       "    }\n",
       "\n",
       "    .dataframe thead th {\n",
       "        text-align: right;\n",
       "    }\n",
       "</style>\n",
       "<table border=\"1\" class=\"dataframe\">\n",
       "  <thead>\n",
       "    <tr style=\"text-align: right;\">\n",
       "      <th></th>\n",
       "      <th>rerank_faithful_score</th>\n",
       "      <th>rerank_faithful_feedback</th>\n",
       "    </tr>\n",
       "  </thead>\n",
       "  <tbody>\n",
       "    <tr>\n",
       "      <th>0</th>\n",
       "      <td>0.0</td>\n",
       "      <td>NO</td>\n",
       "    </tr>\n",
       "    <tr>\n",
       "      <th>1</th>\n",
       "      <td>0.0</td>\n",
       "      <td>NO</td>\n",
       "    </tr>\n",
       "    <tr>\n",
       "      <th>2</th>\n",
       "      <td>1.0</td>\n",
       "      <td>YES</td>\n",
       "    </tr>\n",
       "  </tbody>\n",
       "</table>\n",
       "</div>"
      ],
      "text/plain": [
       "   rerank_faithful_score rerank_faithful_feedback\n",
       "0                    0.0                       NO\n",
       "1                    0.0                       NO\n",
       "2                    1.0                      YES"
      ]
     },
     "execution_count": 6,
     "metadata": {},
     "output_type": "execute_result"
    }
   ],
   "source": [
    "rerank_df = rerank_df[['faithful_score', 'faithful_feedback']].copy()\n",
    "rerank_df.columns = ['rerank_faithful_score', 'rerank_faithful_feedback']\n",
    "rerank_df.head(3)"
   ]
  },
  {
   "cell_type": "code",
   "execution_count": 7,
   "id": "ab3731e7-d81d-4f4f-bc26-edc34f60c89e",
   "metadata": {},
   "outputs": [
    {
     "data": {
      "text/plain": [
       "[<matplotlib.lines.Line2D at 0x7fc4a9a856a0>]"
      ]
     },
     "execution_count": 7,
     "metadata": {},
     "output_type": "execute_result"
    },
    {
     "data": {
      "image/png": "[encoded data removed]",
      "text/plain": [
       "<Figure size 640x480 with 1 Axes>"
      ]
     },
     "metadata": {},
     "output_type": "display_data"
    }
   ],
   "source": [
    "rerank_scores = rerank_df['rerank_faithful_score'].tolist()\n",
    "retrieve_scores = retrieve_df['retrieve_faithful_score'].tolist()\n",
    "plt.title('faithful')\n",
    "plt.plot(rerank_scores)\n",
    "plt.plot(retrieve_scores)"
   ]
  },
  {
   "cell_type": "code",
   "execution_count": null,
   "id": "f49788d0-18f8-48c9-a49d-268d9eb988c8",
   "metadata": {},
   "outputs": [],
   "source": []
  }
 ],
 "metadata": {
  "kernelspec": {
   "display_name": "rag30",
   "language": "python",
   "name": "rag30"
  },
  "language_info": {
   "codemirror_mode": {
    "name": "ipython",
    "version": 3
   },
   "file_extension": ".py",
   "mimetype": "text/x-python",
   "name": "python",
   "nbconvert_exporter": "python",
   "pygments_lexer": "ipython3",
   "version": "3.12.0"
  }
 },
 "nbformat": 4,
 "nbformat_minor": 5
}
