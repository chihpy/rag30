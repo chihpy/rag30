{
 "cells": [
  {
   "cell_type": "markdown",
   "id": "55e1110a-61cf-4aff-8727-378574e2a56f",
   "metadata": {},
   "source": [
    "# pydantic"
   ]
  },
  {
   "cell_type": "code",
   "execution_count": 1,
   "id": "dc5e9c8c-39b9-4944-a3d2-5a6e25f38f3f",
   "metadata": {},
   "outputs": [
    {
     "name": "stdout",
     "output_type": "stream",
     "text": [
      "our pydantic version: 2.11.9\n",
      "{'$defs': {'Options': {'description': '單選題的選項物件，包含 A, B, C, D 四個選項',\n",
      "                       'properties': {'A': {'description': '選項A',\n",
      "                                            'title': 'A',\n",
      "                                            'type': 'string'},\n",
      "                                      'B': {'description': '選項B',\n",
      "                                            'title': 'B',\n",
      "                                            'type': 'string'},\n",
      "                                      'C': {'description': '選項C',\n",
      "                                            'title': 'C',\n",
      "                                            'type': 'string'},\n",
      "                                      'D': {'description': '選項D',\n",
      "                                            'title': 'D',\n",
      "                                            'type': 'string'}},\n",
      "                       'required': ['A', 'B', 'C', 'D'],\n",
      "                       'title': 'Options',\n",
      "                       'type': 'object'}},\n",
      " 'description': '單選題結構，包含題號、題幹、選項與答案',\n",
      " 'properties': {'ans': {'anyOf': [{'type': 'string'}, {'type': 'null'}],\n",
      "                        'default': None,\n",
      "                        'description': '答案',\n",
      "                        'title': 'Ans'},\n",
      "                'options': {'$ref': '#/$defs/Options',\n",
      "                            'description': '本題的四個選項'},\n",
      "                'qid': {'description': '題號', 'title': 'Qid', 'type': 'integer'},\n",
      "                'question': {'description': '題幹',\n",
      "                             'title': 'Question',\n",
      "                             'type': 'string'}},\n",
      " 'required': ['qid', 'question', 'options'],\n",
      " 'title': 'MCQ',\n",
      " 'type': 'object'}\n"
     ]
    }
   ],
   "source": [
    "import pydantic  # pip show pydantic\n",
    "print(f\"our pydantic version: {pydantic.VERSION}\")\n",
    "from pprint import pprint\n",
    "from typing import List, Optional, Tuple\n",
    "from pydantic import BaseModel\n",
    "from pydantic import BaseModel\n",
    "from pydantic import Field\n",
    "\n",
    "class Options(BaseModel):\n",
    "    \"\"\"單選題的選項物件，包含 A, B, C, D 四個選項\"\"\"\n",
    "    A: str = Field(..., description='選項A')\n",
    "    B: str = Field(..., description='選項B')\n",
    "    C: str = Field(..., description='選項C')\n",
    "    D: str = Field(..., description='選項D')\n",
    "\n",
    "class MCQ(BaseModel):\n",
    "    \"\"\"單選題結構，包含題號、題幹、選項與答案\"\"\"\n",
    "    qid: int = Field(..., description='題號')\n",
    "    question: str = Field(..., description='題幹')\n",
    "    options: Options = Field(..., description=\"本題的四個選項\")\n",
    "    ans: Optional[str] = Field(default=None, description='答案')\n",
    "\n",
    "class Meta(BaseModel):\n",
    "    \"\"\"試題原始資訊，包含 年分、科目、第幾次考試\"\"\"\n",
    "    year: Optional[int] = Field(default=None, description='第?年')\n",
    "    subject: Optional[str] = Field(default=None, description='科目名稱')\n",
    "    times: Optional[int] = Field(default=None, description='第?次考試')\n",
    "\n",
    "class ExtractExam(BaseModel):\n",
    "    \"\"\"\n",
    "    提取整份考卷\n",
    "\n",
    "    - qset: 單選題考題集合\n",
    "    - subject: 科目名稱\n",
    "    - year: 考試年分\n",
    "    - times: 第幾次考試\n",
    "    \"\"\"\n",
    "    qset: List[MCQ] = Field(..., description='單選題考題')\n",
    "    metadata: Meta = Field(..., description='考題資訊')\n",
    "\n",
    "schema = MCQ.model_json_schema()\n",
    "pprint(schema)"
   ]
  },
  {
   "cell_type": "markdown",
   "id": "877d0673-475c-4071-9432-8c00d35c177c",
   "metadata": {},
   "source": [
    "# load data"
   ]
  },
  {
   "cell_type": "code",
   "execution_count": 2,
   "id": "be8d27d3-237d-486e-bebf-9c944863fea6",
   "metadata": {},
   "outputs": [
    {
     "name": "stdout",
     "output_type": "stream",
     "text": [
      "len of documents: 14\n",
      "text len: 871\n",
      "---\n",
      "114年第一次專門職業及技術人員高等考試醫師牙醫師中醫師藥師考 \n",
      "試分階段考試、醫事檢驗師、醫事放射師、物理治療師考試 \n",
      "代 　 　 號 ： 4 3 1 8 \n",
      "類 科 名 稱 ： 中 醫 師 ( 二 ) \n",
      "科 目 名 稱 ： 中 醫 臨 床 醫 學 （ 四 ） （ 包 括 針 灸 科 學 ） \n",
      "考 試 時 間 ： 1 小 時 3 0 分 鐘 座 號 ： _ _ _ _ _ _ _ _ _ _ _ \n",
      "  ※注意：本試題禁止使用電子計算器   　　　　　　　  \n",
      "※本試題為單一選擇題，請選出一個正確或最適當答案。\n",
      "1 . 常 見 針 灸 配 穴 法 中 ， 所 指 的 「 四 關 穴 」 ， 為 下 列 何 穴 位 之 組 合 ？ \n",
      " \n",
      "A . 上 星 、 日 月 \n",
      "B . 合 谷 、 太 衝 \n",
      "C . 內 關 、 外 關 \n",
      "D . 上 關 、 下 關 \n",
      "2 . 依 《 靈 樞 ． 經 脈 》 記 載 ， 「 其 直 者 ， 從 巔 入 絡 腦 ， 還 出 別 下 項 ， 循 肩 膊 內 ， 挾 脊 抵 腰 中 」 ， 指 下 列 \n",
      "何 經 的 循 行 內 容 ？ \n",
      " \n",
      "A . 膀 胱 經 \n",
      "B . 膽 經 \n",
      "C . 胃 經 \n",
      "D . 肝 經 \n",
      "3 . 依 《 靈 樞 ． 經 脈 》 所 記 載 ： 「 是 主 筋 所 生 病 者 ， 痔 、 瘧 、 狂 、 癲 疾 、 頭 顖 、 項 痛 ， 目 黃 、 淚 出 ， 鼽 \n",
      "衄 ， 項 、 背 、 腰 、 尻 、 膕 、 腨 、 腳 皆 痛 ， 小 趾 不 用 」 ， 指 何 經 的 病 證 內 容 ？ \n",
      " \n",
      "A . 膀 胱 經 \n",
      "B . 膽 經 \n",
      "C . 三 焦 經 \n",
      "D . 脾 經 \n",
      "4 . 有 關 腧 穴 之 國 際 譯 名 ， 外 丘 之 編 號 為 何 ？ \n",
      " \n",
      "A . G B 3 3 \n",
      "B . G B 3 4 \n",
      "C . G B 3 5 \n",
      "D . G B 3 6 \n",
      "5 . 下 列 何 者 為 陰 維 脈 之 郄 穴 ？ \n",
      " A . 交 信 \n",
      "B . 築 賓 \n"
     ]
    }
   ],
   "source": [
    "from llama_index.readers.file import PDFReader\n",
    "from pathlib import Path\n",
    "import time\n",
    "\n",
    "file_path = Path(\"./data/114_針灸科學.pdf\")\n",
    "FULL_DOCUMENT=False\n",
    "\n",
    "pdf_reader = PDFReader(return_full_document=FULL_DOCUMENT)\n",
    "documents = pdf_reader.load_data(file=file_path)\n",
    "print(f\"len of documents: {len(documents)}\")\n",
    "text = documents[0].text\n",
    "print(f\"text len: {len(text)}\")\n",
    "print('---')\n",
    "print(text)"
   ]
  },
  {
   "cell_type": "markdown",
   "id": "35fedb96-06de-4ed0-a8f2-a51a68640355",
   "metadata": {},
   "source": [
    "# test1: Calling tools directly"
   ]
  },
  {
   "cell_type": "code",
   "execution_count": 4,
   "id": "dbbf471e-76c2-468a-9562-42de508553d4",
   "metadata": {},
   "outputs": [
    {
     "name": "stdout",
     "output_type": "stream",
     "text": [
      "# tool info: \n",
      "# name: ExtractExam\n",
      "\n",
      "# description: 提取整份考卷\n",
      "\n",
      "- qset: 單選題考題集合\n",
      "- subject: 科目名稱\n",
      "- year: 考試年分\n",
      "- times: 第幾次考試\n",
      "---\n"
     ]
    },
    {
     "name": "stderr",
     "output_type": "stream",
     "text": [
      "2025-10-01 17:15:34,959 - INFO - HTTP Request: POST http://localhost:11434/api/chat \"HTTP/1.1 200 OK\"\n"
     ]
    },
    {
     "name": "stdout",
     "output_type": "stream",
     "text": [
      "dur: 13.84 sec\n",
      "type: <class 'list'>, len: 1, dtype: <class 'llama_index.core.llms.llm.ToolSelection'>\n",
      "---\n",
      "{'metadata': {'subject': '中醫師(二)', 'times': 1, 'year': 114},\n",
      " 'qset': [{'ans': None,\n",
      "           'options': {'A': '上星、日月', 'B': '合谷、太衝', 'C': '內關、外關', 'D': '上關、下關'},\n",
      "           'qid': 1,\n",
      "           'question': '常見針灸配穴法中，所指的「四關穴」，為下列何穴位之組合？'},\n",
      "          {'ans': None,\n",
      "           'options': {'A': '膀胱經', 'B': '膽經', 'C': '胃經', 'D': '肝經'},\n",
      "           'qid': 2,\n",
      "           'question': '依《靈樞．經脈》記載，「其直者，從巔入絡腦，還出別下項，循肩膊內，挾脊抵腰中」，指下列何經的循行內容？'},\n",
      "          {'ans': None,\n",
      "           'options': {'A': '膀胱經', 'B': '膽經', 'C': '三焦經', 'D': '脾經'},\n",
      "           'qid': 3,\n",
      "           'question': '依《靈樞．經脈》所記載：「是主筋所生病者，痔、瘧、狂、癲疾、頭顖、項痛，目黃、淚出，鼻衄，項、背、腰、尻、膕、腨、腳皆痛，小趾不用」，指何經的病證內容？'},\n",
      "          {'ans': None,\n",
      "           'options': {'A': 'G B 33',\n",
      "                       'B': 'G B 34',\n",
      "                       'C': 'G B 35',\n",
      "                       'D': 'G B 36'},\n",
      "           'qid': 4,\n",
      "           'question': '有關俞穴之國際譯名，外丘之編號為何？'},\n",
      "          {'ans': None,\n",
      "           'options': {'A': '交信', 'B': '築賓'},\n",
      "           'qid': 5,\n",
      "           'question': '下列何者為陰維脈之郄穴？'}]}\n"
     ]
    }
   ],
   "source": [
    "from llama_index.core.program.function_program import get_function_tool\n",
    "\n",
    "exam_tool = get_function_tool(ExtractExam)\n",
    "print(f\"# tool info: \")\n",
    "print(f\"# name: {exam_tool.metadata.name}\\n\\n# description: {exam_tool.metadata.description}\")\n",
    "print('---')\n",
    "\n",
    "# pip install llama-index-llms-ollama\n",
    "from llama_index.llms.ollama import Ollama\n",
    "llama = Ollama(\n",
    "    model=\"llama3.1:latest\",\n",
    "    request_timeout=120.0,\n",
    "    context_window=8000,\n",
    "    temperature=0.0,\n",
    ")\n",
    "\n",
    "start = time.time()\n",
    "resp = llama.chat_with_tools(\n",
    "    [exam_tool],\n",
    "    user_msg=\"請從下列文本中提取考試: \" + text,\n",
    "    tool_required=True,  # can optionally force the tool call\n",
    ")\n",
    "end = time.time()\n",
    "print(f'dur: {end-start:.2f} sec')\n",
    "tool_calls = llama.get_tool_calls_from_response(\n",
    "    resp, error_on_no_tool_call=False\n",
    ")\n",
    "print(f\"type: {type(tool_calls)}, len: {len(tool_calls)}, dtype: {type(tool_calls[0])}\")\n",
    "print('---')\n",
    "pprint(tool_calls[0].tool_kwargs)"
   ]
  },
  {
   "cell_type": "markdown",
   "id": "a94d38a4-1541-4da0-92bd-c10c77d3a9a7",
   "metadata": {},
   "source": [
    "# test2: allow multiple tool calls"
   ]
  },
  {
   "cell_type": "code",
   "execution_count": 5,
   "id": "b100a919-27b5-4a6e-a883-a3cfca7284ed",
   "metadata": {},
   "outputs": [
    {
     "name": "stdout",
     "output_type": "stream",
     "text": [
      "# name: MCQ\n",
      "\n",
      "# description: 單選題結構，包含題號、題幹、選項與答案\n"
     ]
    },
    {
     "name": "stderr",
     "output_type": "stream",
     "text": [
      "2025-10-01 17:15:44,320 - INFO - HTTP Request: POST http://localhost:11434/api/chat \"HTTP/1.1 200 OK\"\n"
     ]
    },
    {
     "name": "stdout",
     "output_type": "stream",
     "text": [
      "dur: 7.18 sec\n",
      "len of tool_call: 1\n",
      "---\n",
      "{'ans': 'C',\n",
      " 'options': {'A': '前 衡 , 南 千',\n",
      "             'B': '手机 , 卯 双',\n",
      "             'C': '全 黑 , 割 黑',\n",
      "             'D': '丽 黑 , 不 黑'},\n",
      " 'qid': 1,\n",
      " 'question': '台为 屭等 手机 先家 有的 分果 面工 、 , 我的 台为家等手机先家一些分果面工 , 。'}\n"
     ]
    }
   ],
   "source": [
    "mcq_tool = get_function_tool(MCQ)\n",
    "print(f\"# name: {mcq_tool.metadata.name}\\n\\n# description: {mcq_tool.metadata.description}\")\n",
    "\n",
    "start = time.time()\n",
    "resp = llama.chat_with_tools(\n",
    "    [mcq_tool],\n",
    "    user_msg=\"你是一個無情的考題提取機器，負責從文本中盡可能多的提取 MCQ，以下是文本資訊：\" + text,\n",
    "    tool_required=True,  # can optionally force the tool call\n",
    "    allow_parallel_tool_calls=True,\n",
    ")\n",
    "end = time.time()\n",
    "print(f\"dur: {end - start:.2f} sec\")\n",
    "tool_calls = llama.get_tool_calls_from_response(\n",
    "    resp, error_on_no_tool_call=False\n",
    ")\n",
    "print(f'len of tool_call: {len(tool_calls)}')\n",
    "print('---')\n",
    "for tool_call in tool_calls:\n",
    "    pprint(tool_call.tool_kwargs)"
   ]
  },
  {
   "cell_type": "markdown",
   "id": "95cd85a5-b83e-4861-ba84-c20b735f8630",
   "metadata": {},
   "source": [
    "# test3: gpt-5-mini with multiple tool calls"
   ]
  },
  {
   "cell_type": "code",
   "execution_count": 6,
   "id": "2b5172be-607a-48f4-b0d2-a158c9c53e2f",
   "metadata": {},
   "outputs": [
    {
     "name": "stdout",
     "output_type": "stream",
     "text": [
      "# name: MCQ\n",
      "\n",
      "# description: 單選題結構，包含題號、題幹、選項與答案\n"
     ]
    },
    {
     "name": "stderr",
     "output_type": "stream",
     "text": [
      "2025-10-01 17:21:17,820 - INFO - HTTP Request: POST https://api.openai.com/v1/chat/completions \"HTTP/1.1 200 OK\"\n"
     ]
    },
    {
     "name": "stdout",
     "output_type": "stream",
     "text": [
      "dur: 36.84 sec\n",
      "len of tool_call: 5\n",
      "---\n",
      "{'ans': None,\n",
      " 'options': {'A': '上星、日月', 'B': '合谷、太衝', 'C': '內關、外關', 'D': '上關、下關'},\n",
      " 'qid': 1,\n",
      " 'question': '常見針灸配穴法中，所指的「四關穴」，為下列何穴位之組合？'}\n",
      "{'ans': None,\n",
      " 'options': {'A': '膀胱經', 'B': '膽經', 'C': '胃經', 'D': '肝經'},\n",
      " 'qid': 2,\n",
      " 'question': '依《靈樞．經脈》記載，「其直者，從巔入絡腦，還出別下項，循肩膊內，挾脊抵腰中」，指下列何經的循行內容？'}\n",
      "{'ans': None,\n",
      " 'options': {'A': '膀胱經', 'B': '膽經', 'C': '三焦經', 'D': '脾經'},\n",
      " 'qid': 3,\n",
      " 'question': '依《靈樞．經脈》所記載：「是主筋所生病者，痔、瘧、狂、癲疾、頭顱、項痛，目黃、淚出，鼻衄，項、背、腰、尻、膕、腨、腳皆痛，小趾不用」，指何經的病證內容？'}\n",
      "{'ans': None,\n",
      " 'options': {'A': 'GB33', 'B': 'GB34', 'C': 'GB35', 'D': 'GB36'},\n",
      " 'qid': 4,\n",
      " 'question': '有關腧穴之國際譯名，外丘之編號為何？'}\n",
      "{'ans': None,\n",
      " 'options': {'A': '交信', 'B': '築賓', 'C': '', 'D': ''},\n",
      " 'qid': 5,\n",
      " 'question': '下列何者為陰維脈之郄穴？'}\n"
     ]
    }
   ],
   "source": [
    "print(f\"# name: {mcq_tool.metadata.name}\\n\\n# description: {mcq_tool.metadata.description}\")\n",
    "import os\n",
    "from dotenv import find_dotenv, load_dotenv\n",
    "_ = load_dotenv(find_dotenv())\n",
    "from llama_index.llms.openai import OpenAI\n",
    "mini = OpenAI(model=\"gpt-5-mini\")\n",
    "\n",
    "start = time.time()\n",
    "resp = mini.chat_with_tools(\n",
    "    [mcq_tool],\n",
    "    user_msg=\"你是一個無情的考題提取機器，負責從文本中盡可能多的提取 MCQ，以下是文本資訊：\" + text,\n",
    "    tool_required=True,  # can optionally force the tool call\n",
    "    allow_parallel_tool_calls=True,\n",
    ")\n",
    "end = time.time()\n",
    "print(f\"dur: {end - start:.2f} sec\")\n",
    "tool_calls = mini.get_tool_calls_from_response(\n",
    "    resp, error_on_no_tool_call=False\n",
    ")\n",
    "print(f'len of tool_call: {len(tool_calls)}')\n",
    "print('---')\n",
    "for tool_call in tool_calls:\n",
    "    pprint(tool_call.tool_kwargs)"
   ]
  },
  {
   "cell_type": "markdown",
   "id": "5e829a0d-3a76-4f44-aa39-f1b0d661e3bb",
   "metadata": {},
   "source": [
    "# test4: gemma without json mode"
   ]
  },
  {
   "cell_type": "code",
   "execution_count": 9,
   "id": "6e5b421b-0e6c-424c-a54c-a7660c2b6118",
   "metadata": {},
   "outputs": [
    {
     "name": "stderr",
     "output_type": "stream",
     "text": [
      "2025-10-01 17:32:06,955 - INFO - HTTP Request: POST http://localhost:11434/api/chat \"HTTP/1.1 200 OK\"\n"
     ]
    },
    {
     "name": "stdout",
     "output_type": "stream",
     "text": [
      "```json\n",
      "[\n",
      "  {\n",
      "    \"qid\": 1,\n",
      "    \"question\": \"常見針灸配穴法中，所指的「四關穴」，為下列何穴位之組合？\",\n",
      "    \"options\": {\n",
      "      \"A\": \"上星、日月\",\n",
      "      \"B\": \"合谷、太衝\",\n",
      "      \"C\": \"內關、外關\",\n",
      "      \"D\": \"上關、下關\"\n",
      "    },\n",
      "    \"ans\": null\n",
      "  },\n",
      "  {\n",
      "    \"qid\": 2,\n",
      "    \"question\": \"依《靈樞．經脈》記載：「其直者，從巔入絡腦，還出別下項，循肩膊內，挾脊抵腰中」，指下列何經的循行內容？\",\n",
      "    \"options\": {\n",
      "      \"A\": \"膀胱經\",\n",
      "      \"B\": \"膽經\",\n",
      "      \"C\": \"胃經\",\n",
      "      \"D\": \"肝經\"\n",
      "    },\n",
      "    \"ans\": null\n",
      "  },\n",
      "  {\n",
      "    \"qid\": 3,\n",
      "    \"question\": \"依《靈樞．經脈》所記載：「是主筋所生病者，痔、瘧、狂、癲疾、頭顖、項痛，目黃、淚出，鼽衄，項、背、腰、尻、膕、腨、腳皆痛，小趾不用」，指何經的病證內容？\",\n",
      "    \"options\": {\n",
      "      \"A\": \"膀胱經\",\n",
      "      \"B\": \"膽經\",\n",
      "      \"C\": \"三焦經\",\n",
      "      \"D\": \"脾經\"\n",
      "    },\n",
      "    \"ans\": null\n",
      "  },\n",
      "  {\n",
      "    \"qid\": 4,\n",
      "    \"question\": \"有關腧穴之國際譯名，外丘之編號為何？\",\n",
      "    \"options\": {\n",
      "      \"A\": \"G B 3 3\",\n",
      "      \"B\": \"G B 3 4\",\n",
      "      \"C\": \"G B 3 5\",\n",
      "      \"D\": \"G B 3 6\"\n",
      "    },\n",
      "    \"ans\": null\n",
      "  },\n",
      "  {\n",
      "    \"qid\": 5,\n",
      "    \"question\": \"下列何者為陰維脈之郄穴？\",\n",
      "    \"options\": {\n",
      "      \"A\": \"交信\",\n",
      "      \"B\": \"築賓\"\n",
      "    },\n",
      "    \"ans\": null\n",
      "  }\n",
      "]\n",
      "```\n"
     ]
    }
   ],
   "source": [
    "import json\n",
    "schema = MCQ.model_json_schema()\n",
    "prompt = \"Here is a JSON schema for an Exam: \" + json.dumps(\n",
    "    schema, indent=2, ensure_ascii=False\n",
    ")\n",
    "\n",
    "gemma = Ollama(\n",
    "    model=\"gemma3:12b\",\n",
    "    request_timeout=120.0,\n",
    "    # Manually set the context window to limit memory usage\n",
    "    context_window=8000,\n",
    "    json_mode=False,\n",
    "    temperature=0.0,\n",
    ")\n",
    "\n",
    "prompt += (\n",
    "    \"\"\"\n",
    "  Extract an Exam from the following text.\n",
    "  Format your output as a JSON object according to the schema above.\n",
    "  Do not include any other text than the JSON object.\n",
    "  Omit any markdown formatting. Do not include any preamble or explanation.\n",
    "  請盡可能多的提取考題\n",
    "\"\"\"\n",
    "    + text\n",
    ")\n",
    "\n",
    "response = gemma.complete(prompt)\n",
    "\n"
   ]
  },
  {
   "cell_type": "code",
   "execution_count": 14,
   "id": "4e7f9902-23b6-4f60-8cb3-72fec2a38661",
   "metadata": {},
   "outputs": [
    {
     "name": "stdout",
     "output_type": "stream",
     "text": [
      "[{'ans': None,\n",
      "  'options': {'A': '上星、日月', 'B': '合谷、太衝', 'C': '內關、外關', 'D': '上關、下關'},\n",
      "  'qid': 1,\n",
      "  'question': '常見針灸配穴法中，所指的「四關穴」，為下列何穴位之組合？'},\n",
      " {'ans': None,\n",
      "  'options': {'A': '膀胱經', 'B': '膽經', 'C': '胃經', 'D': '肝經'},\n",
      "  'qid': 2,\n",
      "  'question': '依《靈樞．經脈》記載：「其直者，從巔入絡腦，還出別下項，循肩膊內，挾脊抵腰中」，指下列何經的循行內容？'},\n",
      " {'ans': None,\n",
      "  'options': {'A': '膀胱經', 'B': '膽經', 'C': '三焦經', 'D': '脾經'},\n",
      "  'qid': 3,\n",
      "  'question': '依《靈樞．經脈》所記載：「是主筋所生病者，痔、瘧、狂、癲疾、頭顖、項痛，目黃、淚出，鼽衄，項、背、腰、尻、膕、腨、腳皆痛，小趾不用」，指何經的病證內容？'},\n",
      " {'ans': None,\n",
      "  'options': {'A': 'G B 3 3', 'B': 'G B 3 4', 'C': 'G B 3 5', 'D': 'G B 3 6'},\n",
      "  'qid': 4,\n",
      "  'question': '有關腧穴之國際譯名，外丘之編號為何？'},\n",
      " {'ans': None,\n",
      "  'options': {'A': '交信', 'B': '築賓'},\n",
      "  'qid': 5,\n",
      "  'question': '下列何者為陰維脈之郄穴？'}]\n"
     ]
    }
   ],
   "source": [
    "import re\n",
    "\n",
    "raw = response.text.strip()\n",
    "\n",
    "# 把 ```json ... ``` 和 ``` 拿掉\n",
    "if raw.startswith(\"```\"):\n",
    "    raw = re.sub(r\"^```(?:json)?\", \"\", raw)\n",
    "    raw = re.sub(r\"```$\", \"\", raw)\n",
    "    raw = raw.strip()\n",
    "\n",
    "data = json.loads(raw)\n",
    "pprint(data)\n"
   ]
  },
  {
   "cell_type": "markdown",
   "id": "cb6af4be-69b1-4ce2-9dfb-cc0514d2139c",
   "metadata": {},
   "source": [
    "# test6: gemma with json mode"
   ]
  },
  {
   "cell_type": "code",
   "execution_count": 17,
   "id": "d7aae8f1-f206-4fa9-b159-14af96085b24",
   "metadata": {},
   "outputs": [
    {
     "name": "stderr",
     "output_type": "stream",
     "text": [
      "2025-10-01 17:38:57,749 - INFO - HTTP Request: POST http://localhost:11434/api/chat \"HTTP/1.1 200 OK\"\n"
     ]
    },
    {
     "data": {
      "text/plain": [
       "{'qid': 1,\n",
       " 'question': '常見針灸配穴法中，所指的是「四關穴」，為下列何穴位之組合？',\n",
       " 'options': {'A': '上星、日月', 'B': '合谷、太衝', 'C': '內關、外關', 'D': '上關、下關'},\n",
       " 'ans': None}"
      ]
     },
     "execution_count": 17,
     "metadata": {},
     "output_type": "execute_result"
    }
   ],
   "source": [
    "json_gemma = Ollama(\n",
    "    model=\"gemma3:12b\",\n",
    "    request_timeout=120.0,\n",
    "    # Manually set the context window to limit memory usage\n",
    "    context_window=8000,\n",
    "    json_mode=True,\n",
    "    temperature=0.0,\n",
    ")\n",
    "response = json_gemma.complete(prompt)\n",
    "json.loads(response.text)"
   ]
  },
  {
   "cell_type": "markdown",
   "id": "d3927fdb-7e82-4a3d-9094-5a0831802672",
   "metadata": {},
   "source": [
    "# test7: exam schema"
   ]
  },
  {
   "cell_type": "code",
   "execution_count": 18,
   "id": "31827f81-6c70-46c4-acf7-ca1fc56b57b2",
   "metadata": {},
   "outputs": [
    {
     "name": "stderr",
     "output_type": "stream",
     "text": [
      "2025-10-01 17:42:07,973 - INFO - HTTP Request: POST http://localhost:11434/api/chat \"HTTP/1.1 200 OK\"\n"
     ]
    },
    {
     "data": {
      "text/plain": [
       "{'qset': [{'qid': 1,\n",
       "   'question': '常見針灸配穴法中，所指的「四關穴」，為下列何穴位之組合？',\n",
       "   'options': {'A': '上星、日月', 'B': '合谷、太衝', 'C': '內關、外關', 'D': '上關、下關'}},\n",
       "  {'qid': 2,\n",
       "   'question': '依《靈樞．經脈》記載：「其直者，從巔入絡腦，還出別下項，循肩膊內，挾脊抵腰中」，指下列何經的循行內容？',\n",
       "   'options': {'A': '膀胱經', 'B': '膽經', 'C': '胃經', 'D': '肝經'}},\n",
       "  {'qid': 3,\n",
       "   'question': '依《靈樞．經脈》所記載：「是主筋所生病者，痔、瘧、狂、癲疾、頭眩、項痛，目黃、淚出，鼽衄，項、背、腰、尻、膕、腨、腳皆痛，小趾不用」，指何經的病證內容？',\n",
       "   'options': {'A': '膀胱經', 'B': '膽經', 'C': '三焦經', 'D': '脾經'}},\n",
       "  {'qid': 4,\n",
       "   'question': '有關腧穴之國際譯名，外丘之編號為何？',\n",
       "   'options': {'A': 'G B 3 3',\n",
       "    'B': 'G B 3 4',\n",
       "    'C': 'G B 3 5',\n",
       "    'D': 'G B 3 6'}},\n",
       "  {'qid': 5, 'question': '下列何者為陰維脈之郄穴？', 'options': {'A': '交信', 'B': '築賓'}}],\n",
       " 'metadata': {'year': 114, 'subject': '中醫師 ( 二 )', 'times': 1}}"
      ]
     },
     "execution_count": 18,
     "metadata": {},
     "output_type": "execute_result"
    }
   ],
   "source": [
    "schema = ExtractExam.model_json_schema()\n",
    "prompt = \"Here is a JSON schema for an Exam: \" + json.dumps(\n",
    "    schema, indent=2, ensure_ascii=False\n",
    ")\n",
    "\n",
    "json_gemma = Ollama(\n",
    "    model=\"gemma3:12b\",\n",
    "    request_timeout=120.0,\n",
    "    # Manually set the context window to limit memory usage\n",
    "    context_window=8000,\n",
    "    json_mode=True,\n",
    "    temperature=0.0,\n",
    ")\n",
    "\n",
    "\n",
    "prompt += (\n",
    "    \"\"\"\n",
    "  Extract an Exam from the following text.\n",
    "  Format your output as a JSON object according to the schema above.\n",
    "  Do not include any other text than the JSON object.\n",
    "  Omit any markdown formatting. Do not include any preamble or explanation.\n",
    "  請盡可能多的提取考題\n",
    "\"\"\"\n",
    "    + text\n",
    ")\n",
    "\n",
    "response = json_gemma.complete(prompt)\n",
    "json.loads(response.text)"
   ]
  },
  {
   "cell_type": "code",
   "execution_count": null,
   "id": "206307af-c3c2-4ad0-932e-418e6cc011ca",
   "metadata": {},
   "outputs": [],
   "source": []
  }
 ],
 "metadata": {
  "kernelspec": {
   "display_name": "rag30",
   "language": "python",
   "name": "rag30"
  },
  "language_info": {
   "codemirror_mode": {
    "name": "ipython",
    "version": 3
   },
   "file_extension": ".py",
   "mimetype": "text/x-python",
   "name": "python",
   "nbconvert_exporter": "python",
   "pygments_lexer": "ipython3",
   "version": "3.12.0"
  }
 },
 "nbformat": 4,
 "nbformat_minor": 5
}
