{
 "cells": [
  {
   "cell_type": "code",
   "execution_count": null,
   "id": "e17fd577-c442-41ec-bea1-8801c8c7aa70",
   "metadata": {},
   "outputs": [],
   "source": []
  },
  {
   "cell_type": "code",
   "execution_count": 1,
   "id": "0b6e5343-5aaa-4ea2-b241-5fe167d85f3c",
   "metadata": {},
   "outputs": [],
   "source": [
    "import os\n",
    "import json\n",
    "from utils import json_load, json_dump, mkdir"
   ]
  },
  {
   "cell_type": "markdown",
   "id": "3117fcd3-cb6a-4013-a720-8a95a3cbd82f",
   "metadata": {},
   "source": [
    "### 1. load exam data first"
   ]
  },
  {
   "cell_type": "code",
   "execution_count": 2,
   "id": "1b656483-a70d-409b-abc6-cbdad5c383d2",
   "metadata": {
    "scrolled": true
   },
   "outputs": [
    {
     "name": "stdout",
     "output_type": "stream",
     "text": [
      "load data from: data/source/exam_dataset.json\n"
     ]
    },
    {
     "data": {
      "text/plain": [
       "[{'query': '題目: 常見針灸配穴法中,所指的「四關穴」,為下列何穴位之組合?\\n選項:\\n A: 上星、日月\\n B: 合谷、太衝\\n C: 內關、外關\\n D: 上關、下關\\n',\n",
       "  'query_by': {'model_name': 're', 'type': 'ai'},\n",
       "  'reference_contexts': None,\n",
       "  'reference_answer': 'B',\n",
       "  'reference_answer_by': {'model_name': 're', 'type': 'ai'}},\n",
       " {'query': '題目: 依《靈樞.經脈》記載,「其直者,從巔入絡腦,還出別下項,循肩膊內,挾脊抵腰中」,指下列 何經的循行內容?\\n選項:\\n A: 膀胱經\\n B: 膽經\\n C: 胃經\\n D: 肝經\\n',\n",
       "  'query_by': {'model_name': 're', 'type': 'ai'},\n",
       "  'reference_contexts': None,\n",
       "  'reference_answer': 'A',\n",
       "  'reference_answer_by': {'model_name': 're', 'type': 'ai'}},\n",
       " {'query': '題目: 依《靈樞.經脈》所記載:「是主筋所生病者,痔、瘧、狂、癲疾、頭顖、項痛,目黃、淚出,鼽 衄,項、背、腰、尻、膕、腨、腳皆痛,小趾不用」,指何經的病證內容?\\n選項:\\n A: 膀胱經\\n B: 膽經\\n C: 三焦經\\n D: 脾經\\n',\n",
       "  'query_by': {'model_name': 're', 'type': 'ai'},\n",
       "  'reference_contexts': None,\n",
       "  'reference_answer': 'A',\n",
       "  'reference_answer_by': {'model_name': 're', 'type': 'ai'}},\n",
       " {'query': '題目: 有關腧穴之國際譯名,外丘之編號為何?\\n選項:\\n A: GB33\\n B: GB34\\n C: GB35\\n D: GB36\\n',\n",
       "  'query_by': {'model_name': 're', 'type': 'ai'},\n",
       "  'reference_contexts': None,\n",
       "  'reference_answer': 'D',\n",
       "  'reference_answer_by': {'model_name': 're', 'type': 'ai'}},\n",
       " {'query': '題目: 下列何者為陰維脈之郄穴?\\n選項:\\n A: 交信\\n B: 築賓\\n C: 府舍\\n D: 腹哀\\n',\n",
       "  'query_by': {'model_name': 're', 'type': 'ai'},\n",
       "  'reference_contexts': None,\n",
       "  'reference_answer': 'B',\n",
       "  'reference_answer_by': {'model_name': 're', 'type': 'ai'}},\n",
       " {'query': '題目: 下列何者為足太陰脾經之絡穴?\\n選項:\\n A: 地機\\n B: 漏谷\\n C: 公孫\\n D: 太白\\n',\n",
       "  'query_by': {'model_name': 're', 'type': 'ai'},\n",
       "  'reference_contexts': None,\n",
       "  'reference_answer': 'C',\n",
       "  'reference_answer_by': {'model_name': 're', 'type': 'ai'}},\n",
       " {'query': '題目: 依《難經.六十八難》,下列何穴主心下滿?\\n選項:\\n A: 前谷\\n B: 液門\\n C: 湧泉\\n D: 跗陽\\n',\n",
       "  'query_by': {'model_name': 're', 'type': 'ai'},\n",
       "  'reference_contexts': None,\n",
       "  'reference_answer': 'C',\n",
       "  'reference_answer_by': {'model_name': 're', 'type': 'ai'}},\n",
       " {'query': '題目: 有關足太陰脾經的重要腧穴,下列敘述何者正確?\\n選項:\\n A: 井穴為大都穴\\n B: 俞穴為太白穴\\n C: 郄穴為漏谷穴\\n D: 絡穴為地機穴\\n',\n",
       "  'query_by': {'model_name': 're', 'type': 'ai'},\n",
       "  'reference_contexts': None,\n",
       "  'reference_answer': 'B',\n",
       "  'reference_answer_by': {'model_name': 're', 'type': 'ai'}},\n",
       " {'query': '題目: 下列穴位屬三焦經與膽經的交會穴共有幾個?1臑會 2顴髎 3秉風 4聽宮 5耳門\\n選項:\\n A: 2\\n B: 3\\n C: 4\\n D: 5\\n',\n",
       "  'query_by': {'model_name': 're', 'type': 'ai'},\n",
       "  'reference_contexts': None,\n",
       "  'reference_answer': 'A',\n",
       "  'reference_answer_by': {'model_name': 're', 'type': 'ai'}},\n",
       " {'query': '題目: 有關手少陰心經的「通里穴」,下列敘述共幾項正確?1手少陰心經的郄穴 2馬丹陽天星十二穴 之一 3距離靈道穴五分 4配內關,治心絞痛\\n選項:\\n A: 1\\n B: 2\\n C: 3\\n D: 4\\n',\n",
       "  'query_by': {'model_name': 're', 'type': 'ai'},\n",
       "  'reference_contexts': None,\n",
       "  'reference_answer': 'C',\n",
       "  'reference_answer_by': {'model_name': 're', 'type': 'ai'}}]"
      ]
     },
     "execution_count": 2,
     "metadata": {},
     "output_type": "execute_result"
    }
   ],
   "source": [
    "K = 10\n",
    "SOURCE_DIR = os.path.join('data', 'source')\n",
    "exam_dataset_file_path = os.path.join(SOURCE_DIR, 'exam_dataset.json')\n",
    "exam_data = json_load(exam_dataset_file_path)\n",
    "exam_data = exam_data['examples'][:K]\n",
    "exam_data"
   ]
  },
  {
   "cell_type": "markdown",
   "id": "55edd359-919d-4b65-a049-e010312ccede",
   "metadata": {},
   "source": [
    "### 2. answer directly"
   ]
  },
  {
   "cell_type": "code",
   "execution_count": 3,
   "id": "56d8f12e-3cdf-424c-b22e-ccaac3ef7d45",
   "metadata": {},
   "outputs": [],
   "source": [
    "import os\n",
    "from dotenv import find_dotenv, load_dotenv\n",
    "_ = load_dotenv(find_dotenv())\n",
    "\n",
    "from llama_index.llms.openai import OpenAI\n",
    "from llama_index.llms.ollama import Ollama\n",
    "\n",
    "llm = OpenAI(model=\"gpt-5-mini\", temperature=0, is_streaming=False, response_format={\"type\": \"json_object\"})\n",
    "#llm = Ollama(model=\"gemma3:12b\", temperature=0.0, request_timeout=120.0, context_window=8000, json_mode=True)"
   ]
  },
  {
   "cell_type": "code",
   "execution_count": 4,
   "id": "0580bb51-76b2-4a9d-99f7-d47474639ea6",
   "metadata": {},
   "outputs": [],
   "source": [
    "from llama_index.core.prompts import PromptTemplate\n",
    "\n",
    "ANSWER_PROMPT = PromptTemplate(\n",
    "    template=\"\"\"\n",
    "你是一個中醫考題專家，請根據下面的題目回答單選題。\n",
    "要求：\n",
    "1. 輸出 JSON 格式\n",
    "2. key: \"ans\" 只回答單選答案 (A/B/C/D)\n",
    "3. key: \"feedback\" 簡短說明為什麼選這個答案\n",
    "4. 不要輸出其他文字\n",
    "\n",
    "#{query}\n",
    "\n",
    "請直接輸出 JSON：\n",
    "\"\"\"\n",
    ")"
   ]
  },
  {
   "cell_type": "code",
   "execution_count": 5,
   "id": "6e37ff8f-2b63-44d6-93c6-90b38772b280",
   "metadata": {},
   "outputs": [
    {
     "data": {
      "text/plain": [
       "PromptTemplate(metadata={'prompt_type': <PromptType.CUSTOM: 'custom'>}, template_vars=['query'], kwargs={}, output_parser=None, template_var_mappings=None, function_mappings=None, template='\\n你是一個中醫考題專家，請根據下面的題目回答單選題。\\n要求：\\n1. 輸出 JSON 格式\\n2. key: \"ans\" 只回答單選答案 (A/B/C/D)\\n3. key: \"feedback\" 簡短說明為什麼選這個答案\\n4. 不要輸出其他文字\\n\\n#{query}\\n\\n請直接輸出 JSON：\\n')"
      ]
     },
     "execution_count": 5,
     "metadata": {},
     "output_type": "execute_result"
    }
   ],
   "source": [
    "ANSWER_PROMPT"
   ]
  },
  {
   "cell_type": "code",
   "execution_count": 6,
   "id": "d9ff5269-41b4-4523-9933-b7bbf3d779fd",
   "metadata": {},
   "outputs": [
    {
     "name": "stdout",
     "output_type": "stream",
     "text": [
      "idx: 0\n",
      "idx: 1\n",
      "idx: 2\n",
      "idx: 3\n",
      "idx: 4\n",
      "idx: 5\n",
      "idx: 6\n",
      "idx: 7\n",
      "idx: 8\n",
      "idx: 9\n"
     ]
    }
   ],
   "source": [
    "rvs = []\n",
    "for idx, exam in enumerate(exam_data):\n",
    "    print(f'idx: {idx}')\n",
    "    rv = {}\n",
    "    query = exam['query']\n",
    "    prompt = ANSWER_PROMPT.format(query=query)\n",
    "    # print(prompt)\n",
    "    response = llm.complete(prompt)\n",
    "    rv['query'] = query\n",
    "    rv['reference_answer'] = exam['reference_answer']\n",
    "    rv['response'] = json.loads(response.text)\n",
    "    rvs.append(rv)"
   ]
  },
  {
   "cell_type": "code",
   "execution_count": 7,
   "id": "5887c7c4-79e5-4d7d-b963-a03588c9215c",
   "metadata": {},
   "outputs": [
    {
     "name": "stdout",
     "output_type": "stream",
     "text": [
      "Directory 'data/deliverables' already exists.\n",
      "dump result to: data/deliverables/mini_response_directly.json\n"
     ]
    }
   ],
   "source": [
    "DEST_DIR = os.path.join('data', 'deliverables')\n",
    "mkdir(DEST_DIR)\n",
    "save_file_path = os.path.join(DEST_DIR, 'mini_response_directly.json')\n",
    "json_dump(save_file_path, rvs)"
   ]
  },
  {
   "cell_type": "markdown",
   "id": "5fa37121-1e85-451d-8f22-6602fdd1577d",
   "metadata": {},
   "source": [
    "# check the answer"
   ]
  },
  {
   "cell_type": "code",
   "execution_count": 8,
   "id": "956bbdb2-c13e-41b9-830f-4075c1446e22",
   "metadata": {},
   "outputs": [
    {
     "name": "stdout",
     "output_type": "stream",
     "text": [
      "7/10\n"
     ]
    }
   ],
   "source": [
    "correct = 0\n",
    "incorrect = 0\n",
    "for rv in rvs:\n",
    "    reference_answer = rv['reference_answer']\n",
    "    pred_ans = rv['response']['ans']\n",
    "    if reference_answer == pred_ans:\n",
    "        correct+=1\n",
    "    else:\n",
    "        incorrect+=1\n",
    "\n",
    "print(f\"{correct}/{correct + incorrect}\")"
   ]
  },
  {
   "cell_type": "code",
   "execution_count": 9,
   "id": "329ceaf8-1c52-4357-9569-1f182b93a30a",
   "metadata": {},
   "outputs": [
    {
     "data": {
      "text/plain": [
       "[{'query': '題目: 常見針灸配穴法中,所指的「四關穴」,為下列何穴位之組合?\\n選項:\\n A: 上星、日月\\n B: 合谷、太衝\\n C: 內關、外關\\n D: 上關、下關\\n',\n",
       "  'reference_answer': 'B',\n",
       "  'response': {'ans': 'B',\n",
       "   'feedback': '「四關」即四門/四關法，為雙側合谷（LI4）與太衝（LR3）共四穴，用以疏通氣機、止痛與調節全身氣血。'}},\n",
       " {'query': '題目: 依《靈樞.經脈》記載,「其直者,從巔入絡腦,還出別下項,循肩膊內,挾脊抵腰中」,指下列 何經的循行內容?\\n選項:\\n A: 膀胱經\\n B: 膽經\\n C: 胃經\\n D: 肝經\\n',\n",
       "  'reference_answer': 'A',\n",
       "  'response': {'ans': 'A',\n",
       "   'feedback': '記述為從巔入絡腦、出項循肩挾脊至腰者，乃膀胱經入腦並沿脊旁下行的經脈特徵。'}},\n",
       " {'query': '題目: 依《靈樞.經脈》所記載:「是主筋所生病者,痔、瘧、狂、癲疾、頭顖、項痛,目黃、淚出,鼽 衄,項、背、腰、尻、膕、腨、腳皆痛,小趾不用」,指何經的病證內容?\\n選項:\\n A: 膀胱經\\n B: 膽經\\n C: 三焦經\\n D: 脾經\\n',\n",
       "  'reference_answer': 'A',\n",
       "  'response': {'ans': 'B',\n",
       "   'feedback': '描述有目黃（黃疸）、頭項側痛及沿身側、下肢放射性疼痛等，符合膽經的循行與病證。'}},\n",
       " {'query': '題目: 有關腧穴之國際譯名,外丘之編號為何?\\n選項:\\n A: GB33\\n B: GB34\\n C: GB35\\n D: GB36\\n',\n",
       "  'reference_answer': 'D',\n",
       "  'response': {'ans': 'D', 'feedback': '外丘屬膽經下肢穴，國際腧穴編號為GB36，因此答案為D。'}},\n",
       " {'query': '題目: 下列何者為陰維脈之郄穴?\\n選項:\\n A: 交信\\n B: 築賓\\n C: 府舍\\n D: 腹哀\\n',\n",
       "  'reference_answer': 'B',\n",
       "  'response': {'ans': 'B', 'feedback': '築賓（腎9，K9）為陰維脈的郄穴，臨床用於調治陰維絡病證。'}},\n",
       " {'query': '題目: 下列何者為足太陰脾經之絡穴?\\n選項:\\n A: 地機\\n B: 漏谷\\n C: 公孫\\n D: 太白\\n',\n",
       "  'reference_answer': 'C',\n",
       "  'response': {'ans': 'C', 'feedback': '公孫（SP4）為足太陰脾經之絡穴，且為衝脈的絡會穴。'}},\n",
       " {'query': '題目: 依《難經.六十八難》,下列何穴主心下滿?\\n選項:\\n A: 前谷\\n B: 液門\\n C: 湧泉\\n D: 跗陽\\n',\n",
       "  'reference_answer': 'C',\n",
       "  'response': {'ans': 'A', 'feedback': '《難經·六十八難》記載心下滿主前谷穴，故選前谷。'}},\n",
       " {'query': '題目: 有關足太陰脾經的重要腧穴,下列敘述何者正確?\\n選項:\\n A: 井穴為大都穴\\n B: 俞穴為太白穴\\n C: 郄穴為漏谷穴\\n D: 絡穴為地機穴\\n',\n",
       "  'reference_answer': 'B',\n",
       "  'response': {'ans': 'B',\n",
       "   'feedback': '足太陰脾經的俞（輸）穴為太白（SP3）；井穴為隱白，郄穴為地機（SP8），絡穴為公孫（SP4）。'}},\n",
       " {'query': '題目: 下列穴位屬三焦經與膽經的交會穴共有幾個?1臑會 2顴髎 3秉風 4聽宮 5耳門\\n選項:\\n A: 2\\n B: 3\\n C: 4\\n D: 5\\n',\n",
       "  'reference_answer': 'A',\n",
       "  'response': {'ans': 'A',\n",
       "   'feedback': '聽宮與耳門位於耳前區域，為三焦經與膽經的交會穴；其餘穴位不屬於三焦與膽兩經的交會。'}},\n",
       " {'query': '題目: 有關手少陰心經的「通里穴」,下列敘述共幾項正確?1手少陰心經的郄穴 2馬丹陽天星十二穴 之一 3距離靈道穴五分 4配內關,治心絞痛\\n選項:\\n A: 1\\n B: 2\\n C: 3\\n D: 4\\n',\n",
       "  'reference_answer': 'C',\n",
       "  'response': {'ans': 'B',\n",
       "   'feedback': '第3、4項正確：通里為手少陰絡穴（非郄穴），非馬丹陽天星十二穴之一；通里距靈道約五分（0.5寸），常與內關合用治心絞痛。'}}]"
      ]
     },
     "execution_count": 9,
     "metadata": {},
     "output_type": "execute_result"
    }
   ],
   "source": [
    "rvs"
   ]
  },
  {
   "cell_type": "code",
   "execution_count": null,
   "id": "49469cf5-2d08-49df-b588-94b4bd1f7bac",
   "metadata": {},
   "outputs": [],
   "source": []
  }
 ],
 "metadata": {
  "kernelspec": {
   "display_name": "rag30",
   "language": "python",
   "name": "rag30"
  },
  "language_info": {
   "codemirror_mode": {
    "name": "ipython",
    "version": 3
   },
   "file_extension": ".py",
   "mimetype": "text/x-python",
   "name": "python",
   "nbconvert_exporter": "python",
   "pygments_lexer": "ipython3",
   "version": "3.12.0"
  }
 },
 "nbformat": 4,
 "nbformat_minor": 5
}
