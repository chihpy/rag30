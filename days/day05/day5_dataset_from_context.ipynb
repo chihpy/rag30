{
 "cells": [
  {
   "cell_type": "code",
   "execution_count": null,
   "id": "924a7810-a2ce-4143-9c09-93b82c14a661",
   "metadata": {},
   "outputs": [],
   "source": []
  },
  {
   "cell_type": "code",
   "execution_count": 1,
   "id": "346fe08b-fe97-4329-8c59-39239a8325cd",
   "metadata": {},
   "outputs": [
    {
     "name": "stdout",
     "output_type": "stream",
     "text": [
      "/home/poyuan/workspace/rag30/.env\n"
     ]
    }
   ],
   "source": [
    "from dotenv import find_dotenv\n",
    "from dotenv import load_dotenv\n",
    "print(find_dotenv())\n",
    "succ = load_dotenv(find_dotenv())\n",
    "if not succ:\n",
    "    raise ValueError('load_dotenv FALSE')"
   ]
  },
  {
   "cell_type": "raw",
   "id": "1a49b1d6-b86e-422e-8f79-9d68a4d5dfc2",
   "metadata": {},
   "source": [
    "# langfuse block\n",
    "from langfuse import get_client\n",
    "langfuse = get_client()\n",
    "# Verify connection\n",
    "if langfuse.auth_check():\n",
    "    print(\"Langfuse client is authenticated and ready!\")\n",
    "else:\n",
    "    print(\"Authentication failed. Please check your credentials and host.\")\n",
    "from openinference.instrumentation.llama_index import LlamaIndexInstrumentor\n",
    "\n",
    "# Initialize LlamaIndex instrumentation\n",
    "LlamaIndexInstrumentor().instrument()"
   ]
  },
  {
   "cell_type": "code",
   "execution_count": 2,
   "id": "7ed5b26e-8a21-4a93-9545-ce7c2f2a243a",
   "metadata": {},
   "outputs": [],
   "source": [
    "# llm setup\n",
    "from llama_index.llms.openai import OpenAI\n",
    "# set context for llm provider\n",
    "llm = OpenAI(model=\"gpt-5-mini\", temperature=0.0)"
   ]
  },
  {
   "cell_type": "code",
   "execution_count": 3,
   "id": "59b0dc89-b849-4bad-be36-902ae2a39226",
   "metadata": {},
   "outputs": [],
   "source": [
    "# document setup\n",
    "# read document\n",
    "from llama_index.core import SimpleDirectoryReader\n",
    "source_dir = 'data/source'\n",
    "reader = SimpleDirectoryReader(source_dir, required_exts=['.txt'])\n",
    "documents = reader.load_data()"
   ]
  },
  {
   "cell_type": "code",
   "execution_count": 4,
   "id": "1d184dc8-a274-4740-a215-0e31289ab500",
   "metadata": {},
   "outputs": [],
   "source": [
    "# simple node parser\n",
    "## reference: https://developers.llamaindex.ai/python/framework/module_guides/loading/node_parsers/\n",
    "## https://developers.llamaindex.ai/python/framework/module_guides/loading/node_parsers/modules/\n",
    "from llama_index.core.node_parser import SentenceSplitter\n",
    "CHUNK_SIZE = 1024\n",
    "CHUNK_OVERLAP = 20\n",
    "SEPARATOR = \" ?!;。！？；\\n\"\n",
    "\n",
    "node_parser = SentenceSplitter(chunk_size=CHUNK_SIZE, chunk_overlap=CHUNK_OVERLAP, separator=SEPARATOR)\n",
    "\n",
    "nodes = node_parser.get_nodes_from_documents(\n",
    "    documents, show_progress=False\n",
    ")"
   ]
  },
  {
   "cell_type": "code",
   "execution_count": 5,
   "id": "2ad5c9ec-a46d-4329-820b-2c5ca5495759",
   "metadata": {},
   "outputs": [
    {
     "data": {
      "text/plain": [
       "8"
      ]
     },
     "execution_count": 5,
     "metadata": {},
     "output_type": "execute_result"
    }
   ],
   "source": [
    "len(nodes)"
   ]
  },
  {
   "cell_type": "code",
   "execution_count": 6,
   "id": "464cb264-9318-485f-b5ef-b65deb5831de",
   "metadata": {},
   "outputs": [
    {
     "data": {
      "text/plain": [
       "TextNode(id_='f1306d52-0660-4cfc-9714-9f19edaca590', embedding=None, metadata={'file_path': '/home/poyuan/workspace/rag30/days/day05/data/source/lee.txt', 'file_name': 'lee.txt', 'file_type': 'text/plain', 'file_size': 14112, 'creation_date': '2025-10-07', 'last_modified_date': '2025-10-07'}, excluded_embed_metadata_keys=['file_name', 'file_type', 'file_size', 'creation_date', 'last_modified_date', 'last_accessed_date'], excluded_llm_metadata_keys=['file_name', 'file_type', 'file_size', 'creation_date', 'last_modified_date', 'last_accessed_date'], relationships={<NodeRelationship.SOURCE: '1'>: RelatedNodeInfo(node_id='6795090a-c0ee-47a9-9d79-9c61dc18709e', node_type=<ObjectType.DOCUMENT: '4'>, metadata={'file_path': '/home/poyuan/workspace/rag30/days/day05/data/source/lee.txt', 'file_name': 'lee.txt', 'file_type': 'text/plain', 'file_size': 14112, 'creation_date': '2025-10-07', 'last_modified_date': '2025-10-07'}, hash='59d094cda9d0399755e4648d82d090c921ba23d36deb890e58a4ab6c08aba7ab'), <NodeRelationship.PREVIOUS: '2'>: RelatedNodeInfo(node_id='1ac925b0-566f-4a8a-8273-a0ab3894c16b', node_type=<ObjectType.TEXT: '1'>, metadata={'file_path': '/home/poyuan/workspace/rag30/days/day05/data/source/lee.txt', 'file_name': 'lee.txt', 'file_type': 'text/plain', 'file_size': 14112, 'creation_date': '2025-10-07', 'last_modified_date': '2025-10-07'}, hash='cdc7b9389761a458a4ce397d6ce44c4a76a666ae45b0a346bc3ef8f1b53d3130'), <NodeRelationship.NEXT: '3'>: RelatedNodeInfo(node_id='598fd087-2c2f-4ba4-90a7-c0dfd9325dd1', node_type=<ObjectType.TEXT: '1'>, metadata={}, hash='dbeb06279b6b1b83fe0f15ac8887452c8297fbbee3773c39abe1ad406fdf1072')}, metadata_template='{key}: {value}', metadata_separator='\\n', text='有需要訓練模型的作業\\n就是特別花時間的作業\\n訓練模型就是一件非常花時間的事情\\n有一些作業呢\\n你訓練模型的時間\\n可能甚至長達三四個小時\\n有的同學會覺得說\\n這不就是跑一個城市嗎\\n跑一個城市居然要跑三四個小時\\n太荒謬了\\n所以過去有同學就跟我說\\n你怎麼可以把作業設計成這樣呢\\n為什麼作業要跑三個小時呢\\n我只允許這個作業三分鐘\\n就應該要跑完\\n我們有當然可以把這些特別花時間\\n需要特別花時間訓練的作業拿掉\\n但是我還是選擇在這門課裡面\\n保留那一些\\n需要一定訓練時間的作業\\n因為焦躁的等待人工智慧訓練的結果\\n迷茫的調參數\\n不知道會不會成功\\n這個就是人工智慧的醍醐味\\n所以大家需要學習\\n在迷茫中前進\\n這個就是模型的訓練\\n我們特別把這一部分保留在課程裡面\\n讓你體驗說\\n模型訓練不出來的焦躁\\n到底是什麼樣的感覺\\n而且我必須要強調啊\\n什麼三四個小時的等待訓練時間\\n真的不算什麼\\n我們過去有很多作業訓練時間都是\\n至少三天起跳\\n你要至少訓練三天\\n你才能夠拿到成績\\n那我知道說很多同學在做作業的時候\\n往往你都在實現\\n最後一天才開始做作業\\n但那一種啊\\n需要訓練三天以上的模型\\n你只在前一天才開始做作業\\n你是絕不可能完成的\\n這個時候我告訴你\\n你唯一可以做的事情\\n就是放棄這樣子\\n還好我們這堂課裡面呢\\n現在是沒有需要訓練一天以上的作業啦\\n我們把那種\\n特別需要花時間訓練的作業\\n還是拿掉了\\n只保留了需要訓練三四個小時的作業\\n但我只想要強調說\\n三四個小時的訓練時間\\n真的不算什麼\\n如果你要真正用大量的資料\\n大規模的訓練模型\\n訓練個數週\\n其實都是常見的事情\\n而這一些\\n需要一點訓練時間的作業\\n它的定位就像是預防針\\n幫助你在未來面對更大的挑戰', mimetype='text/plain', start_char_idx=4356, end_char_idx=5055, metadata_seperator='\\n', text_template='{metadata_str}\\n\\n{content}')"
      ]
     },
     "execution_count": 6,
     "metadata": {},
     "output_type": "execute_result"
    }
   ],
   "source": [
    "nodes[6]"
   ]
  },
  {
   "cell_type": "code",
   "execution_count": 7,
   "id": "fae2e7fc-71ce-47d5-82d3-a94a7cfbc4d0",
   "metadata": {},
   "outputs": [],
   "source": [
    "from llama_index.core.prompts.base import PromptTemplate\n",
    "num_questions_per_chunk = 1\n",
    "\n",
    "text_question_template = PromptTemplate(\n",
    "    f\"\"\"你是一位專業的課程助教，你的任務是根據上課內容的片段，設計 {num_questions_per_chunk} 個問題來問學生。\n",
    "問題風格以單一且直接的問句為主，並且需要在上課內容中找得到答案。\n",
    "若是要求出複數題，則問題應該盡可能涵蓋不同的面向。\n",
    "\n",
    "範例輸入:\n",
    "以下是上課內容片段：\n",
    "---------------------\n",
    "\"業設計成這樣呢\\n為什麼作業要跑三個小時呢\\n我只允許這個作業三分鐘\\n就應該要>跑完\\n我們有當然可以把這些特別花時間\\n需要特別花時間訓練的作業拿掉\\n但是我還是選>擇在這門課裡面\\n保留那一些\\n需要一定訓練時間的作業\\n因為焦躁的等待人工智慧訓練的結果\\n迷茫的調參數\\n不知道會不會成功\\n這個就是人工智慧的醍醐味\\n所以大家需要學習\\n在迷茫中前進\\n這個就是模型的訓練\\n我們特別把這一部分保留在課程裡面\\n讓你體驗說\\n模型訓練不出來的焦躁\\n到底是什麼樣的感覺\\n而且我必須要強調啊\\n什麼三四個小時的等待訓練時間\\n真的不算什麼\\n我們過去有很多作業訓練時間都是\\n至少三天起跳\\n你要至少訓練三天\\n你才能夠拿到成績\\n那我知道說很多同學在做作業的時候\\n往往你都在實現\\n最後一天才開始做作業\\n但那一種啊\\n需要訓練三天以上的模型\\n你只在前一天才開始做作業\\n你是絕不可能完成的\\n這個時候我告訴你\\n你唯一可以做的事情\\n就是放棄這樣子\\n還好我們這堂課裡面呢\\n現在是沒有需要訓練一天以上的作業啦\\n我們把那種\\n特別需要花時間訓練的作業\\n還是拿掉了\\n只保留了需要訓練三四個小時的作業\\n但我只想要強調說\\n三四個小時的訓練時間\\n真的不算什麼\\n如果你要真正用大量的資料\\n大規模的訓練模型\\n訓練個數週\\n其實都是常見的事情\\n而這一些\\n需要一點訓練時間的作業\\n它的定位就像是預防針\\n幫助你在未來面對更大的挑戰\\n幫助你在未來面對挑戰的時候\\n做好心理準備\\n另外呢\\n鼓勵大家如果有空的話\\n可以先看一些線上的錄影進行預習\\n那假設你對於生成式AI一無所知的話\\n那你可以先看生成式AI導論2024的課程\\n那如果2024的課程看完\\n你想要進一步了解\\n這些AI是怎麼被訓練出來的\"\n",
    "---------------------\n",
    "範例輸出:\n",
    "什麼是深度學習的醍醐味？\n",
    "\n",
    "輸入:\n",
    "以下是上課內容片段：\n",
    "---------------------\n",
    "{{context_str}}\n",
    "---------------------{{query_str}}\n",
    "\"\"\"\n",
    ")\n",
    "\n",
    "text_qa_template = PromptTemplate(\"\"\"以下是背景資訊。\n",
    "---------------------\n",
    "{context_str}\n",
    "---------------------\n",
    "僅根據上述背景資訊，而非先驗知識，回答下列問題。\n",
    "問題：{query_str}\n",
    "答案：\"\"\")\n",
    "\n",
    "question_gen_query = '輸出:\\n'"
   ]
  },
  {
   "cell_type": "code",
   "execution_count": 8,
   "id": "013eb551-5b65-436c-b925-ce3929d8df05",
   "metadata": {},
   "outputs": [
    {
     "data": {
      "text/plain": [
       "PromptTemplate(metadata={'prompt_type': <PromptType.CUSTOM: 'custom'>}, template_vars=['context_str', 'query_str'], kwargs={}, output_parser=None, template_var_mappings=None, function_mappings=None, template='以下是背景資訊。\\n---------------------\\n{context_str}\\n---------------------\\n僅根據上述背景資訊，而非先驗知識，回答下列問題。\\n問題：{query_str}\\n答案：')"
      ]
     },
     "execution_count": 8,
     "metadata": {},
     "output_type": "execute_result"
    }
   ],
   "source": [
    "text_qa_template"
   ]
  },
  {
   "cell_type": "raw",
   "id": "e81dd41f-5600-417f-977f-7589934f4826",
   "metadata": {},
   "source": [
    "DEFAULT_QUESTION_GENERATION_PROMPT = \"\"\"\\\n",
    "Context information is below.\n",
    "---------------------\n",
    "{context_str}\n",
    "---------------------\n",
    "Given the context information and not prior knowledge.\n",
    "generate only questions based on the below query.\n",
    "{query_str}\n",
    "\"\"\"\n",
    "\n",
    "DEFAULT_TEXT_QA_PROMPT_TMPL = (\n",
    "    \"Context information is below.\\n\"\n",
    "    \"---------------------\\n\"\n",
    "    \"{context_str}\\n\"\n",
    "    \"---------------------\\n\"\n",
    "    \"Given the context information and not prior knowledge, \"\n",
    "    \"answer the query.\\n\"\n",
    "    \"Query: {query_str}\\n\"\n",
    "    \"Answer: \"\n",
    ")\n",
    "DEFAULT_TEXT_QA_PROMPT = PromptTemplate(\n",
    "    DEFAULT_TEXT_QA_PROMPT_TMPL, prompt_type=PromptType.QUESTION_ANSWER\n",
    ")\n",
    "\n",
    "self.question_gen_query = (\n",
    "            question_gen_query\n",
    "            or f\"You are a Teacher/Professor. Your task is to setup {num_questions_per_chunk} questions for an upcoming quiz/examination. The questions should be diverse in nature across the document. Restrict the questions to the context information provided.\"\n",
    "        )"
   ]
  },
  {
   "cell_type": "code",
   "execution_count": 9,
   "id": "ba313ef2-cc26-422d-8dc9-78ff8439d7e7",
   "metadata": {},
   "outputs": [],
   "source": [
    "from llama_index.core.llama_dataset.generator import RagDatasetGenerator"
   ]
  },
  {
   "cell_type": "code",
   "execution_count": 10,
   "id": "e2d452b3-f8a3-4cc0-80de-468776d4e4b9",
   "metadata": {},
   "outputs": [],
   "source": [
    "dataset_generator = RagDatasetGenerator(\n",
    "    nodes,\n",
    "    llm=llm,\n",
    "    num_questions_per_chunk=num_questions_per_chunk,\n",
    "    text_question_template = text_question_template,\n",
    "    text_qa_template = text_qa_template,\n",
    "    question_gen_query = question_gen_query,\n",
    "    show_progress=True,\n",
    ")"
   ]
  },
  {
   "cell_type": "code",
   "execution_count": 11,
   "id": "3c9230ff-49ec-4d99-bd13-8442c9a02ef8",
   "metadata": {},
   "outputs": [
    {
     "data": {
      "text/plain": [
       "8"
      ]
     },
     "execution_count": 11,
     "metadata": {},
     "output_type": "execute_result"
    }
   ],
   "source": [
    "len(dataset_generator.nodes)"
   ]
  },
  {
   "cell_type": "code",
   "execution_count": 12,
   "id": "10dbaf50-8749-4ab4-bca0-4f99f9ec91c6",
   "metadata": {},
   "outputs": [
    {
     "name": "stderr",
     "output_type": "stream",
     "text": [
      "/home/poyuan/miniconda3/envs/rag30/lib/python3.12/site-packages/tqdm/auto.py:21: TqdmWarning: IProgress not found. Please update jupyter and ipywidgets. See https://ipywidgets.readthedocs.io/en/stable/user_install.html\n",
      "  from .autonotebook import tqdm as notebook_tqdm\n",
      "  0%|                                                                                             | 0/8 [00:00<?, ?it/s]2025-10-07 16:59:44,922 - INFO - HTTP Request: POST https://api.openai.com/v1/chat/completions \"HTTP/1.1 200 OK\"\n",
      " 12%|██████████▋                                                                          | 1/8 [00:05<00:39,  5.59s/it]2025-10-07 16:59:45,662 - INFO - HTTP Request: POST https://api.openai.com/v1/chat/completions \"HTTP/1.1 200 OK\"\n",
      " 25%|█████████████████████▎                                                               | 2/8 [00:06<00:16,  2.74s/it]2025-10-07 16:59:46,801 - INFO - HTTP Request: POST https://api.openai.com/v1/chat/completions \"HTTP/1.1 200 OK\"\n",
      " 38%|███████████████████████████████▉                                                     | 3/8 [00:07<00:10,  2.00s/it]2025-10-07 16:59:49,467 - INFO - HTTP Request: POST https://api.openai.com/v1/chat/completions \"HTTP/1.1 200 OK\"\n",
      "2025-10-07 16:59:49,469 - INFO - HTTP Request: POST https://api.openai.com/v1/chat/completions \"HTTP/1.1 200 OK\"\n",
      " 50%|██████████████████████████████████████████▌                                          | 4/8 [00:10<00:09,  2.27s/it]2025-10-07 16:59:52,273 - INFO - HTTP Request: POST https://api.openai.com/v1/chat/completions \"HTTP/1.1 200 OK\"\n",
      " 75%|███████████████████████████████████████████████████████████████▊                     | 6/8 [00:12<00:03,  1.81s/it]2025-10-07 16:59:52,377 - INFO - HTTP Request: POST https://api.openai.com/v1/chat/completions \"HTTP/1.1 200 OK\"\n",
      " 88%|██████████████████████████████████████████████████████████████████████████▍          | 7/8 [00:13<00:01,  1.34s/it]2025-10-07 16:59:56,493 - INFO - HTTP Request: POST https://api.openai.com/v1/chat/completions \"HTTP/1.1 200 OK\"\n",
      "100%|█████████████████████████████████████████████████████████████████████████████████████| 8/8 [00:17<00:00,  2.15s/it]\n",
      "  0%|                                                                                             | 0/1 [00:00<?, ?it/s]2025-10-07 16:59:59,309 - INFO - HTTP Request: POST https://api.openai.com/v1/chat/completions \"HTTP/1.1 200 OK\"\n",
      "100%|█████████████████████████████████████████████████████████████████████████████████████| 1/1 [00:02<00:00,  2.80s/it]\n",
      "  0%|                                                                                             | 0/1 [00:00<?, ?it/s]2025-10-07 17:00:03,848 - INFO - HTTP Request: POST https://api.openai.com/v1/chat/completions \"HTTP/1.1 200 OK\"\n",
      "100%|█████████████████████████████████████████████████████████████████████████████████████| 1/1 [00:04<00:00,  4.54s/it]\n",
      "  0%|                                                                                             | 0/1 [00:00<?, ?it/s]2025-10-07 17:00:08,610 - INFO - HTTP Request: POST https://api.openai.com/v1/chat/completions \"HTTP/1.1 200 OK\"\n",
      "100%|█████████████████████████████████████████████████████████████████████████████████████| 1/1 [00:04<00:00,  4.78s/it]\n",
      "  0%|                                                                                             | 0/1 [00:00<?, ?it/s]2025-10-07 17:00:11,439 - INFO - HTTP Request: POST https://api.openai.com/v1/chat/completions \"HTTP/1.1 200 OK\"\n",
      "100%|█████████████████████████████████████████████████████████████████████████████████████| 1/1 [00:02<00:00,  2.81s/it]\n",
      "  0%|                                                                                             | 0/1 [00:00<?, ?it/s]2025-10-07 17:00:15,538 - INFO - HTTP Request: POST https://api.openai.com/v1/chat/completions \"HTTP/1.1 200 OK\"\n",
      "100%|█████████████████████████████████████████████████████████████████████████████████████| 1/1 [00:04<00:00,  4.10s/it]\n",
      "  0%|                                                                                             | 0/1 [00:00<?, ?it/s]2025-10-07 17:00:18,461 - INFO - HTTP Request: POST https://api.openai.com/v1/chat/completions \"HTTP/1.1 200 OK\"\n",
      "100%|█████████████████████████████████████████████████████████████████████████████████████| 1/1 [00:02<00:00,  2.92s/it]\n",
      "  0%|                                                                                             | 0/1 [00:00<?, ?it/s]2025-10-07 17:00:21,831 - INFO - HTTP Request: POST https://api.openai.com/v1/chat/completions \"HTTP/1.1 200 OK\"\n",
      "100%|█████████████████████████████████████████████████████████████████████████████████████| 1/1 [00:03<00:00,  3.38s/it]\n",
      "  0%|                                                                                             | 0/1 [00:00<?, ?it/s]2025-10-07 17:00:25,295 - INFO - HTTP Request: POST https://api.openai.com/v1/chat/completions \"HTTP/1.1 200 OK\"\n",
      "100%|█████████████████████████████████████████████████████████████████████████████████████| 1/1 [00:03<00:00,  3.44s/it]\n"
     ]
    }
   ],
   "source": [
    "rag_dataset = dataset_generator.generate_dataset_from_nodes()"
   ]
  },
  {
   "cell_type": "code",
   "execution_count": 13,
   "id": "6090b69e-d03b-4085-8c32-36661eb9a695",
   "metadata": {},
   "outputs": [
    {
     "data": {
      "text/html": [
       "<div>\n",
       "<style scoped>\n",
       "    .dataframe tbody tr th:only-of-type {\n",
       "        vertical-align: middle;\n",
       "    }\n",
       "\n",
       "    .dataframe tbody tr th {\n",
       "        vertical-align: top;\n",
       "    }\n",
       "\n",
       "    .dataframe thead th {\n",
       "        text-align: right;\n",
       "    }\n",
       "</style>\n",
       "<table border=\"1\" class=\"dataframe\">\n",
       "  <thead>\n",
       "    <tr style=\"text-align: right;\">\n",
       "      <th></th>\n",
       "      <th>query</th>\n",
       "      <th>reference_contexts</th>\n",
       "      <th>reference_answer</th>\n",
       "      <th>reference_answer_by</th>\n",
       "      <th>query_by</th>\n",
       "    </tr>\n",
       "  </thead>\n",
       "  <tbody>\n",
       "    <tr>\n",
       "      <th>0</th>\n",
       "      <td>這門課希望學生從使用者變成什麼？</td>\n",
       "      <td>[各位同學大家好 我們來上課吧\\n剛才只是用Google的VO3\\n這個可以生成影片的人工智...</td>\n",
       "      <td>理解者，甚至是創造者。</td>\n",
       "      <td>ai (gpt-5-mini)</td>\n",
       "      <td>ai (gpt-5-mini)</td>\n",
       "    </tr>\n",
       "    <tr>\n",
       "      <th>1</th>\n",
       "      <td>剛才用來生成倒數計時影片和讓人長出翅膀的影片是使用哪個工具？</td>\n",
       "      <td>[第一種\\n如果你未來想要更深入人工智慧領域\\n這門可絕對是很好的入門\\n當然要完全掌握AI...</td>\n",
       "      <td>答案：Google 的 VO3</td>\n",
       "      <td>ai (gpt-5-mini)</td>\n",
       "      <td>ai (gpt-5-mini)</td>\n",
       "    </tr>\n",
       "    <tr>\n",
       "      <th>2</th>\n",
       "      <td>哪個軟體被用來合成講師的聲音？</td>\n",
       "      <td>[也是VO3自己生成的\\n他產生的影片是帶有聲音的\\n那其他中文講課的聲音也通通都是合成的\\...</td>\n",
       "      <td>答案：Eleven Labs。</td>\n",
       "      <td>ai (gpt-5-mini)</td>\n",
       "      <td>ai (gpt-5-mini)</td>\n",
       "    </tr>\n",
       "  </tbody>\n",
       "</table>\n",
       "</div>"
      ],
      "text/plain": [
       "                            query  \\\n",
       "0                這門課希望學生從使用者變成什麼？   \n",
       "1  剛才用來生成倒數計時影片和讓人長出翅膀的影片是使用哪個工具？   \n",
       "2                 哪個軟體被用來合成講師的聲音？   \n",
       "\n",
       "                                  reference_contexts reference_answer  \\\n",
       "0  [各位同學大家好 我們來上課吧\\n剛才只是用Google的VO3\\n這個可以生成影片的人工智...      理解者，甚至是創造者。   \n",
       "1  [第一種\\n如果你未來想要更深入人工智慧領域\\n這門可絕對是很好的入門\\n當然要完全掌握AI...  答案：Google 的 VO3   \n",
       "2  [也是VO3自己生成的\\n他產生的影片是帶有聲音的\\n那其他中文講課的聲音也通通都是合成的\\...  答案：Eleven Labs。   \n",
       "\n",
       "  reference_answer_by         query_by  \n",
       "0     ai (gpt-5-mini)  ai (gpt-5-mini)  \n",
       "1     ai (gpt-5-mini)  ai (gpt-5-mini)  \n",
       "2     ai (gpt-5-mini)  ai (gpt-5-mini)  "
      ]
     },
     "execution_count": 13,
     "metadata": {},
     "output_type": "execute_result"
    }
   ],
   "source": [
    "df = rag_dataset.to_pandas()\n",
    "df.head(3)"
   ]
  },
  {
   "cell_type": "code",
   "execution_count": 14,
   "id": "f2f4b092-db0f-4bf7-952b-323e2e709d36",
   "metadata": {},
   "outputs": [],
   "source": [
    "import os\n",
    "DEST_DIR = os.path.join('data', 'deliverables')\n",
    "os.makedirs(DEST_DIR, exist_ok=True)\n",
    "save_file_path = os.path.join(DEST_DIR, 'lee_course0_rag_dataset.csv')\n",
    "df.to_csv(save_file_path, index=False)"
   ]
  },
  {
   "cell_type": "markdown",
   "id": "ed7e8e62-1122-4177-a5f3-a523b93f5c97",
   "metadata": {},
   "source": [
    "# reload"
   ]
  },
  {
   "cell_type": "code",
   "execution_count": 15,
   "id": "2937b69a-df4a-465c-97e5-26a0317e39e7",
   "metadata": {},
   "outputs": [],
   "source": [
    "import pandas as pd\n",
    "import os"
   ]
  },
  {
   "cell_type": "code",
   "execution_count": 16,
   "id": "dd7f4aff-4ebf-4beb-8ddc-19546d393476",
   "metadata": {},
   "outputs": [
    {
     "data": {
      "text/html": [
       "<div>\n",
       "<style scoped>\n",
       "    .dataframe tbody tr th:only-of-type {\n",
       "        vertical-align: middle;\n",
       "    }\n",
       "\n",
       "    .dataframe tbody tr th {\n",
       "        vertical-align: top;\n",
       "    }\n",
       "\n",
       "    .dataframe thead th {\n",
       "        text-align: right;\n",
       "    }\n",
       "</style>\n",
       "<table border=\"1\" class=\"dataframe\">\n",
       "  <thead>\n",
       "    <tr style=\"text-align: right;\">\n",
       "      <th></th>\n",
       "      <th>query</th>\n",
       "      <th>reference_contexts</th>\n",
       "      <th>reference_answer</th>\n",
       "      <th>reference_answer_by</th>\n",
       "      <th>query_by</th>\n",
       "    </tr>\n",
       "  </thead>\n",
       "  <tbody>\n",
       "    <tr>\n",
       "      <th>0</th>\n",
       "      <td>這門課希望學生從使用者變成什麼？</td>\n",
       "      <td>['各位同學大家好 我們來上課吧\\n剛才只是用Google的VO3\\n這個可以生成影片的人工...</td>\n",
       "      <td>理解者，甚至是創造者。</td>\n",
       "      <td>ai (gpt-5-mini)</td>\n",
       "      <td>ai (gpt-5-mini)</td>\n",
       "    </tr>\n",
       "    <tr>\n",
       "      <th>1</th>\n",
       "      <td>剛才用來生成倒數計時影片和讓人長出翅膀的影片是使用哪個工具？</td>\n",
       "      <td>['第一種\\n如果你未來想要更深入人工智慧領域\\n這門可絕對是很好的入門\\n當然要完全掌握A...</td>\n",
       "      <td>答案：Google 的 VO3</td>\n",
       "      <td>ai (gpt-5-mini)</td>\n",
       "      <td>ai (gpt-5-mini)</td>\n",
       "    </tr>\n",
       "    <tr>\n",
       "      <th>2</th>\n",
       "      <td>哪個軟體被用來合成講師的聲音？</td>\n",
       "      <td>['也是VO3自己生成的\\n他產生的影片是帶有聲音的\\n那其他中文講課的聲音也通通都是合成的...</td>\n",
       "      <td>答案：Eleven Labs。</td>\n",
       "      <td>ai (gpt-5-mini)</td>\n",
       "      <td>ai (gpt-5-mini)</td>\n",
       "    </tr>\n",
       "  </tbody>\n",
       "</table>\n",
       "</div>"
      ],
      "text/plain": [
       "                            query  \\\n",
       "0                這門課希望學生從使用者變成什麼？   \n",
       "1  剛才用來生成倒數計時影片和讓人長出翅膀的影片是使用哪個工具？   \n",
       "2                 哪個軟體被用來合成講師的聲音？   \n",
       "\n",
       "                                  reference_contexts reference_answer  \\\n",
       "0  ['各位同學大家好 我們來上課吧\\n剛才只是用Google的VO3\\n這個可以生成影片的人工...      理解者，甚至是創造者。   \n",
       "1  ['第一種\\n如果你未來想要更深入人工智慧領域\\n這門可絕對是很好的入門\\n當然要完全掌握A...  答案：Google 的 VO3   \n",
       "2  ['也是VO3自己生成的\\n他產生的影片是帶有聲音的\\n那其他中文講課的聲音也通通都是合成的...  答案：Eleven Labs。   \n",
       "\n",
       "  reference_answer_by         query_by  \n",
       "0     ai (gpt-5-mini)  ai (gpt-5-mini)  \n",
       "1     ai (gpt-5-mini)  ai (gpt-5-mini)  \n",
       "2     ai (gpt-5-mini)  ai (gpt-5-mini)  "
      ]
     },
     "execution_count": 16,
     "metadata": {},
     "output_type": "execute_result"
    }
   ],
   "source": [
    "df = pd.read_csv(os.path.join('data', 'deliverables', 'lee_course0_rag_dataset.csv'))\n",
    "df.head(3)"
   ]
  },
  {
   "cell_type": "code",
   "execution_count": 18,
   "id": "cbfb844b-22f5-422d-93bb-2f3f1055ce98",
   "metadata": {},
   "outputs": [],
   "source": [
    "df.to_json(\n",
    "    os.path.join('data', 'deliverables', 'lee_course0_rag_dataset.json'),\n",
    "    orient=\"records\",\n",
    "    force_ascii=False,\n",
    "    indent=2\n",
    ")"
   ]
  },
  {
   "cell_type": "code",
   "execution_count": null,
   "id": "d9d5ccf1-f3f3-40ca-80cc-b70931cab67c",
   "metadata": {},
   "outputs": [],
   "source": []
  }
 ],
 "metadata": {
  "kernelspec": {
   "display_name": "rag30",
   "language": "python",
   "name": "rag30"
  },
  "language_info": {
   "codemirror_mode": {
    "name": "ipython",
    "version": 3
   },
   "file_extension": ".py",
   "mimetype": "text/x-python",
   "name": "python",
   "nbconvert_exporter": "python",
   "pygments_lexer": "ipython3",
   "version": "3.12.0"
  }
 },
 "nbformat": 4,
 "nbformat_minor": 5
}
