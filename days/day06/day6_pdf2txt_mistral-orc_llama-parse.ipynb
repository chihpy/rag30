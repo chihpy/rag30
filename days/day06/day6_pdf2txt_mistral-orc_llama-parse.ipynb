{
 "cells": [
  {
   "cell_type": "code",
   "execution_count": null,
   "id": "f389c4d3-e5bd-4e7a-ae30-7985c6842d46",
   "metadata": {},
   "outputs": [],
   "source": []
  },
  {
   "cell_type": "code",
   "execution_count": null,
   "id": "79a3a37c-82dd-4ae6-8133-d2152ccb66f2",
   "metadata": {},
   "outputs": [],
   "source": [
    "import os\n",
    "SOURCE_DIR = 'data'\n",
    "print(os.listdir(SOURCE_DIR))"
   ]
  },
  {
   "cell_type": "code",
   "execution_count": null,
   "id": "0b60460e-ce44-4305-9605-d6ac8b904b81",
   "metadata": {},
   "outputs": [],
   "source": [
    "import fitz  # pip install PyMuPDF\n",
    "import pdfplumber  # pip install pdfplumber\n",
    "import re\n",
    "\n",
    "DEST_DIR = 'parsed_txt'\n",
    "os.makedirs(DEST_DIR, exist_ok=True)\n",
    "\n",
    "SYMBOL_MAPPING = {\n",
    "    \"\": \"A. \", \"\": \"B. \", \"\": \"C. \", \"\": \"D. \"\n",
    "}\n",
    "\n",
    "pattern = re.compile(\"|\".join(map(re.escape, SYMBOL_MAPPING.keys())))\n",
    "\n",
    "def replace_symbol(match):\n",
    "    return SYMBOL_MAPPING[match.group(0)]\n",
    "\n",
    "def pdf2txt_fitz(source_file_path):\n",
    "    text = []\n",
    "    with fitz.open(source_file_path) as doc:\n",
    "        for page in doc:\n",
    "            page_txt = page.get_text(\"text\")\n",
    "            replace_txt = pattern.sub(replace_symbol, page_txt)\n",
    "            text.append(replace_txt)  # 取得純文字\n",
    "    return \"\\n\\n\".join(text)\n",
    "\n",
    "def pdf2txt_pdfplumber(source_file_path):\n",
    "    text = []\n",
    "    with pdfplumber.open(source_file_path) as doc:\n",
    "        for page in doc.pages:\n",
    "            page_txt = page.extract_text()\n",
    "            replace_txt = pattern.sub(replace_symbol, page_txt)\n",
    "            text.append(replace_txt)  # 取得純文字\n",
    "    return \"\\n\\n\".join(text)\n",
    "\n",
    "def txt_dump(file_path, data):\n",
    "    print(\"write result to: \" + file_path)\n",
    "    with open(file_path, 'w') as f:\n",
    "        f.write(data)\n",
    "\n",
    "file_names = os.listdir(SOURCE_DIR)\n",
    "\n",
    "for file_name in file_names:\n",
    "    file_path = os.path.join(SOURCE_DIR, file_name)\n",
    "    base_name, _ext = os.path.splitext(os.path.basename(file_path))\n",
    "    txt_fitz = pdf2txt_fitz(file_path)\n",
    "    txt_pdfplumber = pdf2txt_pdfplumber(file_path)\n",
    "    txt_dump(os.path.join(DEST_DIR, f\"{base_name}_fitz.txt\"), txt_fitz)\n",
    "    txt_dump(os.path.join(DEST_DIR, f\"{base_name}_pdfplumber.txt\"), txt_pdfplumber)"
   ]
  },
  {
   "cell_type": "code",
   "execution_count": null,
   "id": "40790a8f-9177-443a-8a0f-c1c6a08b4120",
   "metadata": {},
   "outputs": [],
   "source": [
    "file_path"
   ]
  },
  {
   "cell_type": "markdown",
   "id": "80796b2a-7170-420c-9bec-215a0dff3bfe",
   "metadata": {},
   "source": [
    "# llama-parse"
   ]
  },
  {
   "cell_type": "code",
   "execution_count": null,
   "id": "a46379d2-da02-475d-ae61-6ab7e00662f0",
   "metadata": {},
   "outputs": [],
   "source": [
    "from dotenv import find_dotenv, load_dotenv\n",
    "_ = load_dotenv(find_dotenv())"
   ]
  },
  {
   "cell_type": "code",
   "execution_count": null,
   "id": "0229c135-1ca4-4117-91f1-99a2810fa194",
   "metadata": {},
   "outputs": [],
   "source": [
    "from llama_parse import LlamaParse\n",
    "\n",
    "parser = LlamaParse(\n",
    "   # api_key=\"llx-...\",  # if you did not create an environmental variable you can set the API key here\n",
    "   result_type=\"text\",  # \"markdown\" and \"text\" are available\n",
    "   language = 'ch_tra',\n",
    "   )\n",
    "\n",
    "file_name = 'data/104-2_內外科護理學.pdf'\n",
    "extra_info = {\"file_name\": file_name}\n",
    "\n",
    "with open(f\"./{file_name}\", \"rb\") as f:\n",
    "   # must provide extra_info with file_name key with passing file object\n",
    "   documents = parser.load_data(f, extra_info=extra_info)\n",
    "\n",
    "with open(\"parsed_txt/104-2_內外科護理學_llama-parse.txt\", \"w\", encoding=\"utf-8\") as f:\n",
    "   for doc in documents:\n",
    "       f.write(doc.text)"
   ]
  },
  {
   "cell_type": "code",
   "execution_count": null,
   "id": "1fcbc074-6453-4da6-9950-ff93b93039a5",
   "metadata": {},
   "outputs": [],
   "source": [
    "from llama_parse import LlamaParse\n",
    "\n",
    "parser = LlamaParse(\n",
    "   # api_key=\"llx-...\",  # if you did not create an environmental variable you can set the API key here\n",
    "   result_type=\"text\",  # \"markdown\" and \"text\" are available\n",
    "   language = 'ch_tra',\n",
    "   )\n",
    "\n",
    "file_name = 'data/104-2_內外科護理學.pdf'\n",
    "extra_info = {\"file_name\": file_name}\n",
    "\n",
    "with open(f\"./{file_name}\", \"rb\") as f:\n",
    "   # must provide extra_info with file_name key with passing file object\n",
    "   documents = parser.load_data(f, extra_info=extra_info)\n",
    "\n",
    "with open(\"parsed_txt/104-2_內外科護理學_llama-parse.txt\", \"w\", encoding=\"utf-8\") as f:\n",
    "   for doc in documents:\n",
    "       f.write(doc.text)"
   ]
  },
  {
   "cell_type": "code",
   "execution_count": null,
   "id": "07a5454c-189e-4e5f-a219-2180a3719215",
   "metadata": {},
   "outputs": [],
   "source": [
    "file_path = 'data/108-1_精神科與社區衛生護理.pdf'"
   ]
  },
  {
   "cell_type": "markdown",
   "id": "40cdf161-0e03-40fa-bdf5-ec69379cc3fb",
   "metadata": {},
   "source": [
    "# mistral ocr"
   ]
  },
  {
   "cell_type": "code",
   "execution_count": null,
   "id": "f76fd098-28c9-42c4-8afb-389345d0f6d7",
   "metadata": {},
   "outputs": [],
   "source": [
    "from mistralai import Mistral\n",
    "from dotenv import load_dotenv\n",
    "\n",
    "load_dotenv()\n",
    "\n",
    "api_key = os.getenv(\"MISTRAL_API_KEY\")\n",
    "client = Mistral(api_key=api_key)"
   ]
  },
  {
   "cell_type": "code",
   "execution_count": null,
   "id": "dd85c6f7-4311-40a4-800f-abb7b56d7f44",
   "metadata": {},
   "outputs": [],
   "source": [
    "from pathlib import Path\n",
    "from mistralai import DocumentURLChunk, ImageURLChunk, TextChunk\n",
    "import json\n",
    "\n",
    "# Verify PDF file exists\n",
    "pdf_file = Path(file_path)\n",
    "assert pdf_file.is_file()"
   ]
  },
  {
   "cell_type": "code",
   "execution_count": null,
   "id": "9e7c69b7-9161-4aea-8853-f8f80c4fefc7",
   "metadata": {},
   "outputs": [],
   "source": [
    "# Upload PDF file to Mistral's OCR service\n",
    "uploaded_file = client.files.upload(\n",
    "    file={\n",
    "        \"file_name\": pdf_file.stem,\n",
    "        \"content\": pdf_file.read_bytes(),\n",
    "    },\n",
    "    purpose=\"ocr\",\n",
    ")\n",
    "# Get URL for the uploaded file\n",
    "signed_url = client.files.get_signed_url(file_id=uploaded_file.id, expiry=1)\n"
   ]
  },
  {
   "cell_type": "code",
   "execution_count": null,
   "id": "952fda40-ac4a-4093-a653-54efb5b5511a",
   "metadata": {},
   "outputs": [],
   "source": [
    "# Process PDF with OCR, including embedded images\n",
    "pdf_response = client.ocr.process(\n",
    "    document=DocumentURLChunk(document_url=signed_url.url),\n",
    "    model=\"mistral-ocr-latest\",\n",
    "    include_image_base64=True\n",
    ")\n",
    "\n",
    "# Convert response to JSON format\n",
    "response_dict = json.loads(pdf_response.model_dump_json())\n",
    "\n",
    "with open('mistral.json', 'w', encoding=\"utf-8\") as f:\n",
    "    f.write(json.dumps(response_dict, indent=2, ensure_ascii=False))"
   ]
  }
 ],
 "metadata": {
  "kernelspec": {
   "display_name": "rag30",
   "language": "python",
   "name": "rag30"
  },
  "language_info": {
   "codemirror_mode": {
    "name": "ipython",
    "version": 3
   },
   "file_extension": ".py",
   "mimetype": "text/x-python",
   "name": "python",
   "nbconvert_exporter": "python",
   "pygments_lexer": "ipython3",
   "version": "3.12.0"
  }
 },
 "nbformat": 4,
 "nbformat_minor": 5
}
