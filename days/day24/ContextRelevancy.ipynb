{
 "cells": [
  {
   "cell_type": "code",
   "execution_count": 1,
   "id": "9efe8b80-9970-4da2-96a9-75eb0c293e5c",
   "metadata": {},
   "outputs": [],
   "source": [
    "import os\n",
    "import json\n",
    "import pandas as pd\n",
    "from tqdm import tqdm\n",
    "from ast import literal_eval\n",
    "\n",
    "from dotenv import find_dotenv, load_dotenv\n",
    "_ = load_dotenv(find_dotenv())\n",
    "\n",
    "from llama_index.llms.openai import OpenAI\n",
    "from llama_index.core.prompts import PromptTemplate\n",
    "\n",
    "from utils import json_load"
   ]
  },
  {
   "cell_type": "code",
   "execution_count": 2,
   "id": "93e62aa7-8140-44b9-8dc1-71466b11a814",
   "metadata": {},
   "outputs": [
    {
     "name": "stdout",
     "output_type": "stream",
     "text": [
      "load data from: data/source/baseline_rag_result.json\n"
     ]
    },
    {
     "data": {
      "text/html": [
       "<div>\n",
       "<style scoped>\n",
       "    .dataframe tbody tr th:only-of-type {\n",
       "        vertical-align: middle;\n",
       "    }\n",
       "\n",
       "    .dataframe tbody tr th {\n",
       "        vertical-align: top;\n",
       "    }\n",
       "\n",
       "    .dataframe thead th {\n",
       "        text-align: right;\n",
       "    }\n",
       "</style>\n",
       "<table border=\"1\" class=\"dataframe\">\n",
       "  <thead>\n",
       "    <tr style=\"text-align: right;\">\n",
       "      <th></th>\n",
       "      <th>query</th>\n",
       "      <th>response</th>\n",
       "      <th>retrieved_nodes</th>\n",
       "      <th>reranked_nodes</th>\n",
       "    </tr>\n",
       "  </thead>\n",
       "  <tbody>\n",
       "    <tr>\n",
       "      <th>0</th>\n",
       "      <td>這門課希望學生從使用者變成什麼？</td>\n",
       "      <td>這門課希望學生從使用者變成理解者，甚至是創造者。</td>\n",
       "      <td>[{'id': '18773912-c8b5-4fb4-8d4b-cb4e38758012'...</td>\n",
       "      <td>[{'id': 'eba16e20-d000-4b3e-b05a-b1589f6b9fe9'...</td>\n",
       "    </tr>\n",
       "    <tr>\n",
       "      <th>1</th>\n",
       "      <td>剛才用來生成倒數計時影片和讓人長出翅膀的影片是使用哪個工具？</td>\n",
       "      <td>剛才用來生成倒數計時影片和讓人長出翅膀的影片是使用Google的VO3。</td>\n",
       "      <td>[{'id': '18773912-c8b5-4fb4-8d4b-cb4e38758012'...</td>\n",
       "      <td>[{'id': 'c9b0c2ac-d7b7-4183-9bcd-6c3d57686b61'...</td>\n",
       "    </tr>\n",
       "    <tr>\n",
       "      <th>2</th>\n",
       "      <td>哪個軟體被用來合成講師的聲音？</td>\n",
       "      <td>Eleven Labs這個軟體被用來合成講師的聲音。</td>\n",
       "      <td>[{'id': '18773912-c8b5-4fb4-8d4b-cb4e38758012'...</td>\n",
       "      <td>[{'id': 'c9b0c2ac-d7b7-4183-9bcd-6c3d57686b61'...</td>\n",
       "    </tr>\n",
       "    <tr>\n",
       "      <th>3</th>\n",
       "      <td>這門課的上課時間是週五下午幾點幾分開始？</td>\n",
       "      <td>這門課的上課時間是週五下午2點20分開始。</td>\n",
       "      <td>[{'id': 'f1b8dce2-5b45-4ed8-b44d-0bf6e2306877'...</td>\n",
       "      <td>[{'id': 'f0e22525-58ae-443d-8c9f-024c8a93b944'...</td>\n",
       "    </tr>\n",
       "    <tr>\n",
       "      <th>4</th>\n",
       "      <td>前兩個作業的截止日期延後到哪一天繳交？</td>\n",
       "      <td>前兩個作業的截止日期延後到10月17號繳交。</td>\n",
       "      <td>[{'id': '18773912-c8b5-4fb4-8d4b-cb4e38758012'...</td>\n",
       "      <td>[{'id': 'f1b8dce2-5b45-4ed8-b44d-0bf6e2306877'...</td>\n",
       "    </tr>\n",
       "    <tr>\n",
       "      <th>5</th>\n",
       "      <td>助教預計在幾月幾號把成績送出？</td>\n",
       "      <td>助教預計在1月12號把成績送出。</td>\n",
       "      <td>[{'id': '18773912-c8b5-4fb4-8d4b-cb4e38758012'...</td>\n",
       "      <td>[{'id': 'f1b8dce2-5b45-4ed8-b44d-0bf6e2306877'...</td>\n",
       "    </tr>\n",
       "    <tr>\n",
       "      <th>6</th>\n",
       "      <td>課程中目前保留需要訓練多少時間的作業？</td>\n",
       "      <td>課程中保留需要訓練模型的作業，這些作業通常需要特別花時間，可能長達三到四個小時才能完成。</td>\n",
       "      <td>[{'id': '18773912-c8b5-4fb4-8d4b-cb4e38758012'...</td>\n",
       "      <td>[{'id': 'cb9fc3f6-be14-46c2-a608-03a6bfd9d99d'...</td>\n",
       "    </tr>\n",
       "    <tr>\n",
       "      <th>7</th>\n",
       "      <td>如果你對生成式AI一無所知，建議先看哪一門課程？</td>\n",
       "      <td>建議先看生成式AI導論2024的課程。</td>\n",
       "      <td>[{'id': '18773912-c8b5-4fb4-8d4b-cb4e38758012'...</td>\n",
       "      <td>[{'id': '8c34bf19-2fb0-4755-8b8b-86746a99481a'...</td>\n",
       "    </tr>\n",
       "  </tbody>\n",
       "</table>\n",
       "</div>"
      ],
      "text/plain": [
       "                            query  \\\n",
       "0                這門課希望學生從使用者變成什麼？   \n",
       "1  剛才用來生成倒數計時影片和讓人長出翅膀的影片是使用哪個工具？   \n",
       "2                 哪個軟體被用來合成講師的聲音？   \n",
       "3            這門課的上課時間是週五下午幾點幾分開始？   \n",
       "4             前兩個作業的截止日期延後到哪一天繳交？   \n",
       "5                 助教預計在幾月幾號把成績送出？   \n",
       "6             課程中目前保留需要訓練多少時間的作業？   \n",
       "7        如果你對生成式AI一無所知，建議先看哪一門課程？   \n",
       "\n",
       "                                       response  \\\n",
       "0                      這門課希望學生從使用者變成理解者，甚至是創造者。   \n",
       "1          剛才用來生成倒數計時影片和讓人長出翅膀的影片是使用Google的VO3。   \n",
       "2                    Eleven Labs這個軟體被用來合成講師的聲音。   \n",
       "3                         這門課的上課時間是週五下午2點20分開始。   \n",
       "4                        前兩個作業的截止日期延後到10月17號繳交。   \n",
       "5                              助教預計在1月12號把成績送出。   \n",
       "6  課程中保留需要訓練模型的作業，這些作業通常需要特別花時間，可能長達三到四個小時才能完成。   \n",
       "7                           建議先看生成式AI導論2024的課程。   \n",
       "\n",
       "                                     retrieved_nodes  \\\n",
       "0  [{'id': '18773912-c8b5-4fb4-8d4b-cb4e38758012'...   \n",
       "1  [{'id': '18773912-c8b5-4fb4-8d4b-cb4e38758012'...   \n",
       "2  [{'id': '18773912-c8b5-4fb4-8d4b-cb4e38758012'...   \n",
       "3  [{'id': 'f1b8dce2-5b45-4ed8-b44d-0bf6e2306877'...   \n",
       "4  [{'id': '18773912-c8b5-4fb4-8d4b-cb4e38758012'...   \n",
       "5  [{'id': '18773912-c8b5-4fb4-8d4b-cb4e38758012'...   \n",
       "6  [{'id': '18773912-c8b5-4fb4-8d4b-cb4e38758012'...   \n",
       "7  [{'id': '18773912-c8b5-4fb4-8d4b-cb4e38758012'...   \n",
       "\n",
       "                                      reranked_nodes  \n",
       "0  [{'id': 'eba16e20-d000-4b3e-b05a-b1589f6b9fe9'...  \n",
       "1  [{'id': 'c9b0c2ac-d7b7-4183-9bcd-6c3d57686b61'...  \n",
       "2  [{'id': 'c9b0c2ac-d7b7-4183-9bcd-6c3d57686b61'...  \n",
       "3  [{'id': 'f0e22525-58ae-443d-8c9f-024c8a93b944'...  \n",
       "4  [{'id': 'f1b8dce2-5b45-4ed8-b44d-0bf6e2306877'...  \n",
       "5  [{'id': 'f1b8dce2-5b45-4ed8-b44d-0bf6e2306877'...  \n",
       "6  [{'id': 'cb9fc3f6-be14-46c2-a608-03a6bfd9d99d'...  \n",
       "7  [{'id': '8c34bf19-2fb0-4755-8b8b-86746a99481a'...  "
      ]
     },
     "execution_count": 2,
     "metadata": {},
     "output_type": "execute_result"
    }
   ],
   "source": [
    "# load llm response\n",
    "response_dir = os.path.join('data', 'source')\n",
    "#response_file_path = os.path.join(response_dir, 'baseline_rag_result_R3.json')\n",
    "response_file_path = os.path.join(response_dir, 'baseline_rag_result.json')\n",
    "response = json_load(response_file_path)\n",
    "response_df = pd.DataFrame(response)\n",
    "response_df\n",
    "#df = pd.merge(df, response_df, how='left', on='query')\n",
    "#df['reference_contexts'] = df['reference_contexts'].apply(literal_eval)\n",
    "\n",
    "#df.head(3)"
   ]
  },
  {
   "cell_type": "code",
   "execution_count": 3,
   "id": "fefe099e-28f2-41c8-a673-99540c44a089",
   "metadata": {},
   "outputs": [],
   "source": [
    "df = response_df.copy()"
   ]
  },
  {
   "cell_type": "code",
   "execution_count": 4,
   "id": "bad37de4-6c62-4352-97f0-992cfe06b93e",
   "metadata": {},
   "outputs": [
    {
     "name": "stdout",
     "output_type": "stream",
     "text": [
      "baseline_rag_result\n",
      "write result to:data/temp/baseline_rag_result_context_relevancy.csv\n"
     ]
    }
   ],
   "source": [
    "pipeline_name = os.path.splitext(os.path.basename(response_file_path))[0]\n",
    "print(pipeline_name)\n",
    "save_dir = os.path.join('data', 'temp')\n",
    "os.makedirs(save_dir, exist_ok=True)\n",
    "save_file_path = os.path.join(save_dir, f\"{pipeline_name}_context_relevancy.csv\")\n",
    "print('write result to:' + save_file_path)"
   ]
  },
  {
   "cell_type": "code",
   "execution_count": 5,
   "id": "66276ca9-86e4-45a1-b6ac-ccf3833fffad",
   "metadata": {},
   "outputs": [],
   "source": [
    "from llama_index.core.evaluation import (\n",
    "    AnswerRelevancyEvaluator,\n",
    "    ContextRelevancyEvaluator,\n",
    ")"
   ]
  },
  {
   "cell_type": "code",
   "execution_count": 6,
   "id": "712a42fa-da17-4cf6-afbb-f494f0ab3238",
   "metadata": {},
   "outputs": [],
   "source": [
    "llm = OpenAI(model=\"gpt-5-mini\", temperature=0, is_streaming=False)"
   ]
  },
  {
   "cell_type": "code",
   "execution_count": 7,
   "id": "2138cb83-7be6-42b5-bf67-e43136c9cadf",
   "metadata": {},
   "outputs": [],
   "source": [
    "evaluator = ContextRelevancyEvaluator(llm)"
   ]
  },
  {
   "cell_type": "code",
   "execution_count": 8,
   "id": "b80637e6-7562-4dbb-9c34-e6b5d253b6b7",
   "metadata": {},
   "outputs": [
    {
     "name": "stderr",
     "output_type": "stream",
     "text": [
      "  0%|                                                                                             | 0/8 [00:00<?, ?it/s]\n"
     ]
    }
   ],
   "source": [
    "for idx, row in tqdm(df.iterrows(), total=len(df)):\n",
    "    break"
   ]
  },
  {
   "cell_type": "code",
   "execution_count": 9,
   "id": "a8c8b8a6-0918-401b-a1ac-8e9ce143aa7a",
   "metadata": {},
   "outputs": [
    {
     "data": {
      "text/plain": [
       "'這門課希望學生從使用者變成什麼？'"
      ]
     },
     "execution_count": 9,
     "metadata": {},
     "output_type": "execute_result"
    }
   ],
   "source": [
    "row.query"
   ]
  },
  {
   "cell_type": "code",
   "execution_count": 10,
   "id": "93910d52-2138-40f1-b517-d22349f339b3",
   "metadata": {},
   "outputs": [
    {
     "data": {
      "text/plain": [
       "\u001b[31mSignature:\u001b[39m\n",
       "evaluator.evaluate(\n",
       "    query: Optional[str] = \u001b[38;5;28;01mNone\u001b[39;00m,\n",
       "    response: Optional[str] = \u001b[38;5;28;01mNone\u001b[39;00m,\n",
       "    contexts: Optional[Sequence[str]] = \u001b[38;5;28;01mNone\u001b[39;00m,\n",
       "    **kwargs: Any,\n",
       ") -> llama_index.core.evaluation.base.EvaluationResult\n",
       "\u001b[31mDocstring:\u001b[39m\n",
       "Run evaluation with query string, retrieved contexts,\n",
       "and generated response string.\n",
       "\n",
       "Subclasses can override this method to provide custom evaluation logic and\n",
       "take in additional arguments.\n",
       "\u001b[31mFile:\u001b[39m      ~/miniconda3/envs/rag30/lib/python3.12/site-packages/llama_index/core/evaluation/base.py\n",
       "\u001b[31mType:\u001b[39m      method"
      ]
     },
     "metadata": {},
     "output_type": "display_data"
    }
   ],
   "source": [
    "evaluator.evaluate?"
   ]
  },
  {
   "cell_type": "code",
   "execution_count": 11,
   "id": "674bb0b1-84fe-4cb7-a224-3484846155bf",
   "metadata": {},
   "outputs": [],
   "source": [
    "def get_context(nodes):\n",
    "    context = []\n",
    "    for node in nodes:\n",
    "        context.append(node['text'])\n",
    "    return context\n",
    "    "
   ]
  },
  {
   "cell_type": "code",
   "execution_count": 12,
   "id": "d4b72b35-4761-4924-bf35-8995e564608c",
   "metadata": {
    "scrolled": true
   },
   "outputs": [
    {
     "name": "stderr",
     "output_type": "stream",
     "text": [
      "/home/poyuan/miniconda3/envs/rag30/lib/python3.12/site-packages/tqdm/auto.py:21: TqdmWarning: IProgress not found. Please update jupyter and ipywidgets. See https://ipywidgets.readthedocs.io/en/stable/user_install.html\n",
      "  from .autonotebook import tqdm as notebook_tqdm\n"
     ]
    },
    {
     "data": {
      "text/plain": [
       "EvaluationResult(query='這門課希望學生從使用者變成什麼？', contexts=['Cool上留言區的問題\\n那旁聽生\\n如果你想要加入NTU Cool的話\\n請直接寄信給助教\\n只要你寄信給助教說你要旁聽\\n我們都可以把你加入NTU Cool\\n那怎麼找到NTU Cool上面的留言區呢\\n假設你已經有選上這門課的話\\n那你就已經在NTU Cool裡面\\n那你在NTU Cool裡面點討論\\n然後你就可以看到9月12號上課\\n即時討論區這一個區域\\n然後你可以把你的問題留在這個地方\\n如果我有時間的話\\n會優先回答在討論區裡面的問題\\n那另外一個很重要的訊息要跟大家講的就是\\n因為呢\\n網路不是非常的穩定\\n所以直播是有可能斷線的\\n我們剛才測試的時候\\n其實直播就斷線了好幾次\\n那直播斷線有可能造成的問題就是\\n你可能會沒有辦法用同一個連結\\n再繼續看直播\\n所以假設我們遇到斷線的狀況\\n接下來我們的操作是\\n會開一個新的直播連結\\n然後透過NTU Cool寄給所有有修課的同學\\n但是假設你發現直播斷線\\n非常重要的一點就是\\n請勿驚慌 請勿驚慌', 'Cool寄給所有有修課的同學\\n但是假設你發現直播斷線\\n非常重要的一點就是\\n請勿驚慌 請勿驚慌 請勿驚慌\\n所有的課程統統都有錄影\\n所以直播斷線你就去做別的事情\\n反正所有的課程都是有錄影的\\n好接下來呢\\n我們講一下作業的規劃\\n我們這門課總共有十講\\n每一講都有一個對應的作業\\n那我把每一個作業的公告日期\\n還有截止日期都放在投影片上面\\n那基本上的每一個作業呢\\n都是留給大家三週的時間來完成\\n那唯一例外的呢\\n是前兩個作業\\n前兩個作業呢\\n我們特別把它的截止日期延後\\n延後到10月17號繳交\\n因為我知道說這門課\\n是很多不同學校的學生一起選修\\n那每一個學校加退選的時間都不一樣\\n所以大家加選到這門課的時間是不一樣的\\n所以前面幾個作業的日期延後\\n讓大家比較有時間可以完成\\n前面幾個作業\\n那另外一個要注意的事情就是\\n我們最後一個作業\\n作業時的截止日期是明年的1月9號\\n那我們要收到所有的作業以後\\n才能夠送出成績\\n所以送出成績的時間\\n一定是在1月9號之後\\n那我們目前預計1月12號把成績送出\\n那如果你有合理的理由\\n需要提早知道成績\\n那你可以跟助教講\\n因為我知道每一個學校呢\\n這個學期結束的時間是不一樣的\\n如果你需要提早知道成績\\n你可以跟助教講\\n那在12月19號作業時公告之後\\n我們可以優先改\\n需要提早知道成績的同學的作業\\n那每一個作業的繳交方式啊\\n是不一樣的\\n那這邊我列舉了每一個作業的繳交方式\\n那有一些作業呢\\n是透過NTU Cool這個平台繳交的\\n那會透過NTU Cool這個平台繳交的作業呢\\n就是出成選擇題\\n你就在NTU Cool那個平台上面\\n回答一些選擇題\\n就算是完成作業的繳交\\n那今天就會公告作業一\\n那等一下作業一的助教會告訴你說\\n怎麼在NTU Cool上面繳交作業\\n那除了透過NTU Cool繳交作業以外\\n我們還有另外一個繳交作業的系統\\n叫做JudgeBoi\\n什麼是JudgeB', 'code放在這頁投影片上面\\n那我們上課的方式呢\\n主要是以直播進行\\n那我會在那個台灣大學的新生教學館202\\n錄直播\\n然後所以如果你在現場看的話\\n你就是現場看那個直播的錄影\\n因為我們教室不大\\n所以鼓勵大家呢\\n其實可以在家裡看直播就好\\n那我們以後上課的時間\\n就是週五的下午2點20\\n那我們在週五下午要做的事情\\n是首先呢\\n我會先上課\\n那我通常上課上一個半小時到兩個小時左右\\n那上課的內容呢\\n會是以講解概念為主\\n但是有時候呢\\n我也會帶一些實作來作為輔助\\n那我上完課之後呢\\n接下來呢\\n助教會講解作業\\n那這個部分呢\\n通常是半個小時到一個小時左右\\n那大家要注意一下\\n我們下課的時間是不固定的\\n那我們就是2點20準時開始上課\\n那至於要講多久\\n取決於我們當週準備了多少的內容\\n那講完我們就下課\\n所以有時候可能會稍微提早下課\\n有時候可能會比較晚下課\\n但是因為課程的內容\\n通通都是會錄影的\\n所以假設說你有事情沒有辦法上這一門課\\n或這一門課持續的太長了\\n超過5點20\\n你有其他事情要去做\\n你都歡迎隨時可以離開\\n歡迎隨時可以中斷這個課程\\n因為反正所有課程的內容都會錄影\\n那最後也會上線\\n那我們上線的時間\\n以後預計就是我們週五錄影\\n然後預計在週一結束前\\n下一個週一結束前把影片上線\\n那如果在上課的時候\\n你對於上課的內容有問題的話\\n你可以在NTU Cool上面發問\\n那每次課程都會開一個對應的留言區\\n那我如果上課上到一段落有時間的話\\n就會優先回答放在NTU Cool上留言區的問題\\n那旁聽生\\n如果你想要加入NTU Cool的話\\n請直接寄信給助教\\n只要你寄信給助教說你要旁聽\\n我們都可以把你加入NTU Cool\\n那怎麼找到NTU Cool上面的留言區呢\\n假設你已經有選上這門課的話\\n那你就已經在NTU Cool裡面\\n那你在NTU', 'Cool那個平台上面\\n回答一些選擇題\\n就算是完成作業的繳交\\n那今天就會公告作業一\\n那等一下作業一的助教會告訴你說\\n怎麼在NTU Cool上面繳交作業\\n那除了透過NTU Cool繳交作業以外\\n我們還有另外一個繳交作業的系統\\n叫做JudgeBoi\\n什麼是JudgeBoi呢\\n就有一些作業不是選擇題\\n所以它的批改比較困難\\n我們會透過AI助教來批改\\n所以JudgeBoi就是背後有一個AI助教\\n在批改作業的平台\\n你把你的作業上傳到JudgeBoi\\n會由AI助教來批改你的作業\\n那這邊呢\\n告訴大家每一個作業預測的難度\\n從一顆星到三顆星\\n那一顆星代表說這個作業呢\\n預計在十幾分鐘內就可以完成\\n但我要強調一下\\n完成並不是說拿到滿分的成績\\n完成意思是說\\n你可以拿到一個及格的成績\\n假設滿分是十分的話\\n你可以拿到六分的成績\\n那如果兩顆星的作業代表呢\\n至少需要超過一個小時以上\\n才有辦法完成\\n三顆星代表說\\n可能需要好幾好多個小時\\n數個小時三四個小時\\n才有辦法達到及格的成績\\n那有一些作業呢\\n需要訓練模型\\n那也許還不是每位同學都知道\\n訓練模型是什麼意思\\n但你就質疑的說\\n有需要訓練模型的作業\\n就是特別花時間的作業\\n訓練模型就是一件非常花時間的事情\\n有一些作業呢\\n你訓練模型的時間\\n可能甚至長達三四個小時\\n有的同學會覺得說\\n這不就是跑一個城市嗎\\n跑一個城市居然要跑三四個小時\\n太荒謬了\\n所以過去有同學就跟我說\\n你怎麼可以把作業設計成這樣呢\\n為什麼作業要跑三個小時呢\\n我只允許這個作業三分鐘\\n就應該要跑完\\n我們有當然可以把這些特別花時間\\n需要特別花時間訓練的作業拿掉\\n但是我還是選擇在這門課裡面\\n保留那一些\\n需要一定訓練時間的作業\\n因為焦躁的等待人工智慧訓練的結果\\n迷茫的調參數\\n不', '各位同學大家好 我們來上課吧\\n剛才只是用Google的VO3\\n這個可以生成影片的人工智慧\\n隨便生了一些影片\\n作為開場,我們現在來正式開始這門課\\n我們先把投影片開起來\\n歡迎來到這門超級有趣的課程\\n很高興能在這個AI大爆發的時代\\n跟大家一起學習\\n我們要一起走進最酷的AI時代\\n在開始之前,我想問問大家\\n有多少人已經在用ChatGPT了\\n我相信大部分同學都已經在用了\\n相信大家都已經感受到AI的厲害了\\n但是今天這門課\\n我們要做的事情會更有趣\\n那麼這門課到底要學什麼呢?\\n首先別以為只是學會用ChatGPT寫作業\\n我知道你們可能已經很會用了\\n這個課程不是要跟你講\\n你怎麼用這些工具\\n我們要做的是更深層的事情\\n我們要了解這些神奇工具背後的原理\\n他們到底是怎麼被打造出來的\\n以及如果你想要進一步善用\\n甚至讓這些工具變得更厲害\\n你還可以怎麼做\\n簡單來說\\n我們要從使用者變成理解者\\n甚至是創造者\\n那你可能會問\\n了解原理有什麼好處呢?\\n我現在不懂原理也能用得很好啊\\n這個問題問得很好\\n讓我用一個比喻來說明\\n現在的生成式AI超級強大\\n使用起來就像是編模數一樣\\n每個人突然都能變出神奇的效果\\n但是這裡有個關鍵的差別\\n如果你不懂原理\\n你依然能用這些工具\\n但你很容易把魔術錯誤的當作魔法\\n什麼意思呢?\\n魔術是有技巧有原理的\\n而魔法是神秘不可解釋的\\n當你把AI當作魔法來看\\n你可能會產生各種誤解\\n比如覺得AI全能或者害怕AI會取代所有人\\n但如果你懂得背後的原理\\n魔術就不再是魔法\\n你可以更清楚的看到魔術背後的技巧\\n甚至可以創造自己的魔術\\n接下來我們來談談這門課的定位\\n這是一門AI入門課\\n希望讓大家對AI有正確而且深入的認識\\n那麼什麼樣的同學適合來選修\\n我們這門課呢?', 'to this course\\n這個也是VO3自己生成的\\n他產生的影片是帶有聲音的\\n那其他中文講課的聲音也通通都是合成的\\n我是用Eleven Labs這個軟體合成的\\n我是用Eleven Labs這個軟體合成的\\nEleven Labs做的事情就是\\n我給他一段我上課的錄影\\n他接下來就可以模仿我的聲音\\n我輸一段文字\\n他就用我的聲音把那段文字念出來\\n然後你看到的這個Talking head\\n就好像在一個房間裡面演講的這個頭像\\n是用一個叫Heygen的軟體生成的\\n那我做的事情就是給他一張我的照片和一段語音\\n他就可以自動讓照片中的人開始說話\\n那最後投影片的部分\\n也是人工智慧生成的\\n這是用一個叫做Genspark的平台生成的\\nGenspark其實是一個AI agent\\n那我們下週會講到AI agent的概念\\n那我在生成投影片的時候\\n我就是給他我們的課程說明\\n叫他把投影片做出來\\n他就產生投影片還有講稿\\n那我再把講稿丟給Eleven Labs\\n讓他產生聲音\\n所以剛才你看到的東西真的都是人工智慧生成的\\n而且我剛才並沒有用任何神奇的技術\\n這些都是你今天唾手可得的技術\\n好那我們就正式開始這門課\\n這門課叫做生成式人工智慧與機器學習導論\\n那我是李宏毅\\n那這是台灣大專院校人工智慧學程聯盟的課程\\n那這是我們的課程規劃\\n這門課我準備講十講\\n那每一講要講的日期\\n我都已經寫在這個投影片上面\\n那每一講要講的主題也都已經寫在投影片上\\n那我們這門課的前四講\\n會帶大家了解現有的生成式人工智慧\\n你會知道現有的生成式人工智慧\\n他是怎麼運作的\\n第五講到第八講\\n我會告訴大家\\n這些生成式人工智慧是怎麼被打造出來的\\n你也有機會自己訓練生成式人工智慧\\n那前八講呢\\n主要以文字互動為主\\n那第九講跟第十講\\n我們會講影像跟語音\\n那有關這門課的所有的資訊\\n包括上課錄影\\n課程投影片\\n還有作業的講解\\n你其實都可以在課程的公開網頁找到\\n那我把課程的公開網頁\\n放在這頁投影片上面\\n那我把QR', '像是預防針\\n幫助你在未來面對更大的挑戰\\n幫助你在未來面對挑戰的時候\\n做好心理準備\\n另外呢\\n鼓勵大家如果有空的話\\n可以先看一些線上的錄影進行預習\\n那假設你對於生成式AI一無所知的話\\n那你可以先看生成式AI導論2024的課程\\n那如果2024的課程看完\\n你想要進一步了解\\n這些AI是怎麼被訓練出來的\\n鼓勵你可以看機器學習2021\\n那不過這一堂門課呢\\n我們會從基礎開始講起\\n所以就算你沒有時間預習也無所謂\\n但是如果你能夠找到時間預習的話\\n未來上課你可以有更多的收穫', '作業設計成這樣呢\\n為什麼作業要跑三個小時呢\\n我只允許這個作業三分鐘\\n就應該要跑完\\n我們有當然可以把這些特別花時間\\n需要特別花時間訓練的作業拿掉\\n但是我還是選擇在這門課裡面\\n保留那一些\\n需要一定訓練時間的作業\\n因為焦躁的等待人工智慧訓練的結果\\n迷茫的調參數\\n不知道會不會成功\\n這個就是人工智慧的醍醐味\\n所以大家需要學習\\n在迷茫中前進\\n這個就是模型的訓練\\n我們特別把這一部分保留在課程裡面\\n讓你體驗說\\n模型訓練不出來的焦躁\\n到底是什麼樣的感覺\\n而且我必須要強調啊\\n什麼三四個小時的等待訓練時間\\n真的不算什麼\\n我們過去有很多作業訓練時間都是\\n至少三天起跳\\n你要至少訓練三天\\n你才能夠拿到成績\\n那我知道說很多同學在做作業的時候\\n往往你都在實現\\n最後一天才開始做作業\\n但那一種啊\\n需要訓練三天以上的模型\\n你只在前一天才開始做作業\\n你是絕不可能完成的\\n這個時候我告訴你\\n你唯一可以做的事情\\n就是放棄這樣子\\n還好我們這堂課裡面呢\\n現在是沒有需要訓練一天以上的作業啦\\n我們把那種\\n特別需要花時間訓練的作業\\n還是拿掉了\\n只保留了需要訓練三四個小時的作業\\n但我只想要強調說\\n三四個小時的訓練時間\\n真的不算什麼\\n如果你要真正用大量的資料\\n大規模的訓練模型\\n訓練個數週\\n其實都是常見的事情\\n而這一些\\n需要一點訓練時間的作業\\n它的定位就像是預防針\\n幫助你在未來面對更大的挑戰\\n幫助你在未來面對挑戰的時候\\n做好心理準備\\n另外呢\\n鼓勵大家如果有空的話\\n可以先看一些線上的錄影進行預習\\n那假設你對於生成式AI一無所知的話\\n那你可以先看生成式AI導論2024的課程\\n那如果2024的課程看完\\n你想要進一步了解\\n這些AI是怎麼被訓練出來'], response=None, passing=None, feedback='1) 是否符合使用者問題的主題？\\n評分：2/2\\n理由：上下文中明確討論課程目標，包含直接回答句「簡單來說 我們要從使用者變成理解者 甚至是創造者」，完全對應到問題「這門課希望學生從使用者變成什麼？」因此與查詢主題高度符合。\\n\\n2) 是否能僅靠檢索到的內容就完整回答查詢？\\n評分：2/2\\n理由：檢索內容已明確且直接給出答案（「理解者」「甚至是創造者」），不需額外資料即可完整回覆查詢。上下文亦提供前後說明，強化該結論的語境與意圖。\\n\\n總結建議回覆（可直接用於回答查詢）：\\n這門課希望學生「從使用者變成理解者，甚至是創造者」。\\n\\n[RESULT] 4.0', score=1.0, pairwise_source=None, invalid_result=False, invalid_reason=None)"
      ]
     },
     "execution_count": 12,
     "metadata": {},
     "output_type": "execute_result"
    }
   ],
   "source": [
    "context = get_context(row.retrieved_nodes)\n",
    "\n",
    "result = evaluator.evaluate(query=row.query, contexts=context)\n",
    "result"
   ]
  },
  {
   "cell_type": "code",
   "execution_count": 13,
   "id": "694ff197-1b53-4842-8f9e-672041289fc9",
   "metadata": {},
   "outputs": [
    {
     "data": {
      "text/plain": [
       "'1) 是否符合使用者問題的主題？\\n評分：2/2\\n理由：上下文中明確討論課程目標，包含直接回答句「簡單來說 我們要從使用者變成理解者 甚至是創造者」，完全對應到問題「這門課希望學生從使用者變成什麼？」因此與查詢主題高度符合。\\n\\n2) 是否能僅靠檢索到的內容就完整回答查詢？\\n評分：2/2\\n理由：檢索內容已明確且直接給出答案（「理解者」「甚至是創造者」），不需額外資料即可完整回覆查詢。上下文亦提供前後說明，強化該結論的語境與意圖。\\n\\n總結建議回覆（可直接用於回答查詢）：\\n這門課希望學生「從使用者變成理解者，甚至是創造者」。\\n\\n[RESULT] 4.0'"
      ]
     },
     "execution_count": 13,
     "metadata": {},
     "output_type": "execute_result"
    }
   ],
   "source": [
    "result.feedback"
   ]
  },
  {
   "cell_type": "code",
   "execution_count": 14,
   "id": "f5d837b7-d7af-481f-b154-f1a0614c4670",
   "metadata": {},
   "outputs": [
    {
     "data": {
      "text/plain": [
       "1.0"
      ]
     },
     "execution_count": 14,
     "metadata": {},
     "output_type": "execute_result"
    }
   ],
   "source": [
    "result.score"
   ]
  },
  {
   "cell_type": "code",
   "execution_count": 15,
   "id": "d6dafad4-0145-4ab7-b087-e2b6e0a69bc5",
   "metadata": {},
   "outputs": [
    {
     "name": "stderr",
     "output_type": "stream",
     "text": [
      "100%|█████████████████████████████████████████████████████████████████████████████████████| 8/8 [01:54<00:00, 14.36s/it]\n"
     ]
    }
   ],
   "source": [
    "context_score = []\n",
    "context_feedback = []\n",
    "for idx, row in tqdm(df.iterrows(), total=len(df)):\n",
    "    nodes = row.retrieved_nodes\n",
    "    context = get_context(nodes)\n",
    "    query = row.query\n",
    "    result = evaluator.evaluate(\n",
    "        query=query,\n",
    "        contexts=context,\n",
    "    )\n",
    "\n",
    "    context_score.append(result.score)\n",
    "    context_feedback.append(result.feedback)\n",
    "\n",
    "df['context_score'] = context_score\n",
    "df['context_feedback'] = context_feedback\n",
    "df.to_csv(save_file_path, index=False)"
   ]
  },
  {
   "cell_type": "code",
   "execution_count": 16,
   "id": "a2894c9e-26de-4896-98f3-ced45ffa6571",
   "metadata": {},
   "outputs": [
    {
     "data": {
      "text/plain": [
       "[<matplotlib.lines.Line2D at 0x7c99dce6b020>]"
      ]
     },
     "execution_count": 16,
     "metadata": {},
     "output_type": "execute_result"
    },
    {
     "data": {
      "image/png": "[encoded data removed]",
      "text/plain": [
       "<Figure size 640x480 with 1 Axes>"
      ]
     },
     "metadata": {},
     "output_type": "display_data"
    }
   ],
   "source": [
    "import matplotlib.pyplot as plt\n",
    "\n",
    "plt.plot(context_score)"
   ]
  },
  {
   "cell_type": "code",
   "execution_count": null,
   "id": "134f030c-5655-4cae-9074-f14cb3538981",
   "metadata": {},
   "outputs": [],
   "source": []
  }
 ],
 "metadata": {
  "kernelspec": {
   "display_name": "rag30",
   "language": "python",
   "name": "rag30"
  },
  "language_info": {
   "codemirror_mode": {
    "name": "ipython",
    "version": 3
   },
   "file_extension": ".py",
   "mimetype": "text/x-python",
   "name": "python",
   "nbconvert_exporter": "python",
   "pygments_lexer": "ipython3",
   "version": "3.12.0"
  }
 },
 "nbformat": 4,
 "nbformat_minor": 5
}
