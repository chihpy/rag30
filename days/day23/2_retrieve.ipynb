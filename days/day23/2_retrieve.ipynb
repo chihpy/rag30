{
 "cells": [
  {
   "cell_type": "code",
   "execution_count": null,
   "id": "8e2216ac-b5f6-479e-a7ab-1f736c242c9e",
   "metadata": {},
   "outputs": [],
   "source": []
  },
  {
   "cell_type": "code",
   "execution_count": 1,
   "id": "2a96cc99-54ab-4831-bb85-f846e984f154",
   "metadata": {},
   "outputs": [],
   "source": [
    "# setup\n",
    "import os\n",
    "from dotenv import find_dotenv, load_dotenv\n",
    "_ = load_dotenv(find_dotenv())\n",
    "from llama_index.vector_stores.faiss import FaissVectorStore\n",
    "from llama_index.core import StorageContext\n",
    "from llama_index.core import load_index_from_storage\n",
    "\n",
    "from llama_index.llms.openai import OpenAI\n",
    "from llama_index.core.postprocessor.llm_rerank import LLMRerank\n",
    "from llama_index.core import QueryBundle\n",
    "from llama_index.core.response_synthesizers import CompactAndRefine"
   ]
  },
  {
   "cell_type": "code",
   "execution_count": 2,
   "id": "710a5a77-dc02-4bcf-8b6b-b80430e4049e",
   "metadata": {},
   "outputs": [
    {
     "name": "stdout",
     "output_type": "stream",
     "text": [
      "Loading llama_index.core.storage.kvstore.simple_kvstore from storage/docstore.json.\n",
      "Loading llama_index.core.storage.kvstore.simple_kvstore from storage/index_store.json.\n"
     ]
    },
    {
     "name": "stderr",
     "output_type": "stream",
     "text": [
      "/home/poyuan/miniconda3/envs/rag30/lib/python3.12/site-packages/tqdm/auto.py:21: TqdmWarning: IProgress not found. Please update jupyter and ipywidgets. See https://ipywidgets.readthedocs.io/en/stable/user_install.html\n",
      "  from .autonotebook import tqdm as notebook_tqdm\n"
     ]
    }
   ],
   "source": [
    "# load index\n",
    "INDEX_DIR = 'storage'\n",
    "# load index from disk\n",
    "vector_store = FaissVectorStore.from_persist_dir(INDEX_DIR)\n",
    "storage_context = StorageContext.from_defaults(\n",
    "    vector_store=vector_store, persist_dir=INDEX_DIR\n",
    ")\n",
    "index = load_index_from_storage(storage_context=storage_context)"
   ]
  },
  {
   "cell_type": "markdown",
   "id": "3ae32f11-a970-4489-8c71-232ab9339555",
   "metadata": {},
   "source": [
    "# retriever"
   ]
  },
  {
   "cell_type": "code",
   "execution_count": 3,
   "id": "f0eff05b-0b23-46f6-921c-7b914f4eab28",
   "metadata": {},
   "outputs": [
    {
     "name": "stdout",
     "output_type": "stream",
     "text": [
      "Retrieved 8 nodes.\n"
     ]
    }
   ],
   "source": [
    "# retriever\n",
    "retriever = index.as_retriever(similarity_top_k=8)\n",
    "query = '什麼是深度學習的醍醐味?'\n",
    "#query = '什麼是人工智慧的醍醐味?'\n",
    "nodes = await retriever.aretrieve(query)\n",
    "print(f\"Retrieved {len(nodes)} nodes.\")"
   ]
  },
  {
   "cell_type": "code",
   "execution_count": 4,
   "id": "cda383fa-bd3e-4c28-b9d0-c9feba80ced5",
   "metadata": {},
   "outputs": [],
   "source": [
    "save_node_info = []\n",
    "for node in nodes:\n",
    "    rv = {\n",
    "        'id': node.id_,\n",
    "        'text': node.text,\n",
    "        'score': node.score\n",
    "    }\n",
    "    save_node_info.append(rv)"
   ]
  },
  {
   "cell_type": "code",
   "execution_count": 5,
   "id": "6ce1c78d-4dbc-443e-8f23-c39d371b581f",
   "metadata": {},
   "outputs": [
    {
     "data": {
      "text/plain": [
       "'e6955f99-8070-4c73-aa72-c338f2c2c1c2'"
      ]
     },
     "execution_count": 5,
     "metadata": {},
     "output_type": "execute_result"
    }
   ],
   "source": [
    "node.id_"
   ]
  },
  {
   "cell_type": "code",
   "execution_count": 6,
   "id": "7436f535-2965-4e2c-b4ef-79cae0e72848",
   "metadata": {},
   "outputs": [
    {
     "data": {
      "text/plain": [
       "TextNode(id_='e6955f99-8070-4c73-aa72-c338f2c2c1c2', embedding=None, metadata={'file_path': '/home/poyuan/workspace/rag30/days/day23/data/source/lee/lee.txt', 'file_name': 'lee.txt', 'file_type': 'text/plain', 'file_size': 14112, 'creation_date': '2025-10-07', 'last_modified_date': '2025-09-19'}, excluded_embed_metadata_keys=['file_name', 'file_type', 'file_size', 'creation_date', 'last_modified_date', 'last_accessed_date'], excluded_llm_metadata_keys=['file_name', 'file_type', 'file_size', 'creation_date', 'last_modified_date', 'last_accessed_date'], relationships={<NodeRelationship.SOURCE: '1'>: RelatedNodeInfo(node_id='0b63edfd-2de7-45d8-993a-786b2b1967a6', node_type='4', metadata={'file_path': '/home/poyuan/workspace/rag30/days/day23/data/source/lee/lee.txt', 'file_name': 'lee.txt', 'file_type': 'text/plain', 'file_size': 14112, 'creation_date': '2025-10-07', 'last_modified_date': '2025-09-19'}, hash='93ea7cda1ebeec3bd19b0131a8b7a66cdc7f985ee30b3f792b0450cc5c724eab'), <NodeRelationship.PREVIOUS: '2'>: RelatedNodeInfo(node_id='cb9fc3f6-be14-46c2-a608-03a6bfd9d99d', node_type='1', metadata={'file_path': '/home/poyuan/workspace/rag30/days/day23/data/source/lee/lee.txt', 'file_name': 'lee.txt', 'file_type': 'text/plain', 'file_size': 14112, 'creation_date': '2025-10-07', 'last_modified_date': '2025-09-19'}, hash='974a7ec7838177e83880bd6f52eda4bf99804e41f9d0e60db3e0827e2935d1b6'), <NodeRelationship.NEXT: '3'>: RelatedNodeInfo(node_id='8c34bf19-2fb0-4755-8b8b-86746a99481a', node_type='1', metadata={}, hash='39f61734fe9fc073997067d406358ff1c72f135161bad54c834a1e96332a8427')}, metadata_template='{key}: {value}', metadata_separator='\\n', text='作業設計成這樣呢\\n為什麼作業要跑三個小時呢\\n我只允許這個作業三分鐘\\n就應該要跑完\\n我們有當然可以把這些特別花時間\\n需要特別花時間訓練的作業拿掉\\n但是我還是選擇在這門課裡面\\n保留那一些\\n需要一定訓練時間的作業\\n因為焦躁的等待人工智慧訓練的結果\\n迷茫的調參數\\n不知道會不會成功\\n這個就是人工智慧的醍醐味\\n所以大家需要學習\\n在迷茫中前進\\n這個就是模型的訓練\\n我們特別把這一部分保留在課程裡面\\n讓你體驗說\\n模型訓練不出來的焦躁\\n到底是什麼樣的感覺\\n而且我必須要強調啊\\n什麼三四個小時的等待訓練時間\\n真的不算什麼\\n我們過去有很多作業訓練時間都是\\n至少三天起跳\\n你要至少訓練三天\\n你才能夠拿到成績\\n那我知道說很多同學在做作業的時候\\n往往你都在實現\\n最後一天才開始做作業\\n但那一種啊\\n需要訓練三天以上的模型\\n你只在前一天才開始做作業\\n你是絕不可能完成的\\n這個時候我告訴你\\n你唯一可以做的事情\\n就是放棄這樣子\\n還好我們這堂課裡面呢\\n現在是沒有需要訓練一天以上的作業啦\\n我們把那種\\n特別需要花時間訓練的作業\\n還是拿掉了\\n只保留了需要訓練三四個小時的作業\\n但我只想要強調說\\n三四個小時的訓練時間\\n真的不算什麼\\n如果你要真正用大量的資料\\n大規模的訓練模型\\n訓練個數週\\n其實都是常見的事情\\n而這一些\\n需要一點訓練時間的作業\\n它的定位就像是預防針\\n幫助你在未來面對更大的挑戰\\n幫助你在未來面對挑戰的時候\\n做好心理準備\\n另外呢\\n鼓勵大家如果有空的話\\n可以先看一些線上的錄影進行預習\\n那假設你對於生成式AI一無所知的話\\n那你可以先看生成式AI導論2024的課程\\n那如果2024的課程看完\\n你想要進一步了解\\n這些AI是怎麼被訓練出來', mimetype='text/plain', start_char_idx=4481, end_char_idx=5181, metadata_seperator='\\n', text_template='{metadata_str}\\n\\n{content}')"
      ]
     },
     "execution_count": 6,
     "metadata": {},
     "output_type": "execute_result"
    }
   ],
   "source": [
    "index.docstore.get_node(node.id_)"
   ]
  },
  {
   "cell_type": "markdown",
   "id": "ed888d65-348f-47f6-93f4-1bbcd3fb20f1",
   "metadata": {},
   "source": [
    "# rerank"
   ]
  },
  {
   "cell_type": "raw",
   "id": "23602c21-9708-4458-94d7-c5d6bcd57178",
   "metadata": {},
   "source": [
    "    @step\n",
    "    async def rerank(self, ctx: Context, ev: RetrieverEvent) -> RerankEvent:\n",
    "        # Rerank the nodes\n",
    "        ranker = LLMRerank(\n",
    "            choice_batch_size=5, top_n=3, llm=OpenAI(model=\"gpt-4o-mini\")\n",
    "        )\n",
    "        print(await ctx.store.get(\"query\", default=None), flush=True)\n",
    "        new_nodes = ranker.postprocess_nodes(\n",
    "            ev.nodes, query_str=await ctx.store.get(\"query\", default=None)\n",
    "        )\n",
    "        print(f\"Reranked nodes to {len(new_nodes)}\")\n",
    "        return RerankEvent(nodes=new_nodes)"
   ]
  },
  {
   "cell_type": "markdown",
   "id": "b8d7e93c-016c-4856-97ab-966277c3300d",
   "metadata": {},
   "source": [
    "## usage"
   ]
  },
  {
   "cell_type": "raw",
   "id": "095b7aab-3e5f-4899-977c-7569cb4e25ad",
   "metadata": {},
   "source": [
    "example: https://developers.llamaindex.ai/python/examples/node_postprocessor/llmreranker-gatsby"
   ]
  },
  {
   "cell_type": "code",
   "execution_count": 7,
   "id": "60ea0871-66d6-4f05-91c6-3c430e75e1bc",
   "metadata": {},
   "outputs": [],
   "source": [
    "reranker = LLMRerank(\n",
    "    choice_batch_size=8,\n",
    "    top_n=3,\n",
    "    llm=OpenAI(model=\"gpt-4o-mini\")\n",
    ")\n",
    "query_bundle = QueryBundle(query)\n",
    "retrieved_nodes = reranker.postprocess_nodes(\n",
    "    nodes, query_bundle\n",
    ")"
   ]
  },
  {
   "cell_type": "code",
   "execution_count": 11,
   "id": "e9135b79-31f1-47ce-9ac8-b3b3ef9218f2",
   "metadata": {},
   "outputs": [
    {
     "data": {
      "text/plain": [
       "9.0"
      ]
     },
     "execution_count": 11,
     "metadata": {},
     "output_type": "execute_result"
    }
   ],
   "source": [
    "retrieved_nodes[0].score"
   ]
  },
  {
   "cell_type": "markdown",
   "id": "dfae5e2d-974c-4349-b22c-f0705b43dee4",
   "metadata": {},
   "source": [
    "## deep devide"
   ]
  },
  {
   "cell_type": "raw",
   "id": "9f6a768d-1dff-460d-9be2-e52fb1c63a66",
   "metadata": {},
   "source": [
    "https://github.com/run-llama/llama_index/blob/3fff9c918409cd0792df6a368bc1f88ac5225d6b/llama-index-core/llama_index/core/postprocessor/llm_rerank.py#L19"
   ]
  },
  {
   "cell_type": "raw",
   "id": "f7718a71-1f0f-458b-84c3-d4a714fd5bb3",
   "metadata": {},
   "source": [
    "# DEFAULT_CHOICE_SELECT_PROMPT_TMPL = (\n",
    "    \"A list of documents is shown below. Each document has a number next to it along \"\n",
    "    \"with a summary of the document. A question is also provided. \\n\"\n",
    "    \"Respond with the numbers of the documents \"\n",
    "    \"you should consult to answer the question, in order of relevance, as well \\n\"\n",
    "    \"as the relevance score. The relevance score is a number from 1-10 based on \"\n",
    "    \"how relevant you think the document is to the question.\\n\"\n",
    "    \"Do not include any documents that are not relevant to the question. \\n\"\n",
    "    \"Example format: \\n\"\n",
    "    \"Document 1:\\n<summary of document 1>\\n\\n\"\n",
    "    \"Document 2:\\n<summary of document 2>\\n\\n\"\n",
    "    \"...\\n\\n\"\n",
    "    \"Document 10:\\n<summary of document 10>\\n\\n\"\n",
    "    \"Question: <question>\\n\"\n",
    "    \"Answer:\\n\"\n",
    "    \"Doc: 9, Relevance: 7\\n\"\n",
    "    \"Doc: 3, Relevance: 4\\n\"\n",
    "    \"Doc: 7, Relevance: 3\\n\\n\"\n",
    "    \"Let's try this now: \\n\\n\"\n",
    "    \"{context_str}\\n\"\n",
    "    \"Question: {query_str}\\n\"\n",
    "    \"Answer:\\n\"\n",
    ")"
   ]
  },
  {
   "cell_type": "markdown",
   "id": "3f50ca7c-d88e-4af1-b4a1-c8d2e204c3d8",
   "metadata": {},
   "source": [
    "# synthesis"
   ]
  },
  {
   "cell_type": "raw",
   "id": "8d3124f1-f475-4776-8f12-340a2ec4500d",
   "metadata": {},
   "source": [
    "    @step\n",
    "    async def synthesize(self, ctx: Context, ev: RerankEvent) -> StopEvent:\n",
    "        \"\"\"Return a streaming response using reranked nodes.\"\"\"\n",
    "        llm = OpenAI(model=\"gpt-4o-mini\")\n",
    "        summarizer = CompactAndRefine(llm=llm, streaming=True, verbose=True)\n",
    "        query = await ctx.store.get(\"query\", default=None)\n",
    "\n",
    "        response = await summarizer.asynthesize(query, nodes=ev.nodes)\n",
    "        return StopEvent(result=response)"
   ]
  },
  {
   "cell_type": "code",
   "execution_count": 8,
   "id": "2be756fd-c367-4bef-90b8-3a64656e0102",
   "metadata": {},
   "outputs": [],
   "source": [
    "llm = OpenAI(model=\"gpt-4o-mini\")\n",
    "\n",
    "summarizer = CompactAndRefine(llm=llm, streaming=False, verbose=True)"
   ]
  },
  {
   "cell_type": "code",
   "execution_count": 9,
   "id": "9b390827-fe66-4ccd-af2a-9072bfc86fe1",
   "metadata": {},
   "outputs": [
    {
     "data": {
      "text/plain": [
       "'深度學習的醍醐味在於模型訓練過程中的焦躁與不確定性，這種等待訓練結果的過程讓人體驗到調參的迷茫和挑戰。透過這樣的過程，學習者能夠理解模型訓練的複雜性，並在面對未來更大挑戰時做好心理準備。'"
      ]
     },
     "execution_count": 9,
     "metadata": {},
     "output_type": "execute_result"
    }
   ],
   "source": [
    "# response without rerank\n",
    "response = summarizer.synthesize(query, nodes)\n",
    "response.response"
   ]
  },
  {
   "cell_type": "raw",
   "id": "f4014a6d-d09e-4891-bb60-247b67851d86",
   "metadata": {},
   "source": [
    "DEFAULT_TEXT_QA_PROMPT_TMPL = (\n",
    "    \"Context information is below.\\n\"\n",
    "    \"---------------------\\n\"\n",
    "    \"{context_str}\\n\"\n",
    "    \"---------------------\\n\"\n",
    "    \"Given the context information and not prior knowledge, \"\n",
    "    \"answer the query.\\n\"\n",
    "    \"Query: {query_str}\\n\"\n",
    "    \"Answer: \"\n",
    ")\n",
    "DEFAULT_REFINE_PROMPT_TMPL = (\n",
    "    \"The original query is as follows: {query_str}\\n\"\n",
    "    \"We have provided an existing answer: {existing_answer}\\n\"\n",
    "    \"We have the opportunity to refine the existing answer \"\n",
    "    \"(only if needed) with some more context below.\\n\"\n",
    "    \"------------\\n\"\n",
    "    \"{context_msg}\\n\"\n",
    "    \"------------\\n\"\n",
    "    \"Given the new context, refine the original answer to better \"\n",
    "    \"answer the query. \"\n",
    "    \"If the context isn't useful, return the original answer.\\n\"\n",
    "    \"Refined Answer: \"\n",
    ")"
   ]
  }
 ],
 "metadata": {
  "kernelspec": {
   "display_name": "rag30",
   "language": "python",
   "name": "rag30"
  },
  "language_info": {
   "codemirror_mode": {
    "name": "ipython",
    "version": 3
   },
   "file_extension": ".py",
   "mimetype": "text/x-python",
   "name": "python",
   "nbconvert_exporter": "python",
   "pygments_lexer": "ipython3",
   "version": "3.12.0"
  }
 },
 "nbformat": 4,
 "nbformat_minor": 5
}
