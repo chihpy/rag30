{
 "cells": [
  {
   "cell_type": "code",
   "execution_count": 1,
   "id": "9efe8b80-9970-4da2-96a9-75eb0c293e5c",
   "metadata": {},
   "outputs": [],
   "source": [
    "import os\n",
    "import json\n",
    "import pandas as pd\n",
    "from tqdm import tqdm\n",
    "from ast import literal_eval\n",
    "\n",
    "from dotenv import find_dotenv, load_dotenv\n",
    "_ = load_dotenv(find_dotenv())\n",
    "\n",
    "from llama_index.llms.openai import OpenAI\n",
    "from llama_index.core.prompts import PromptTemplate\n",
    "\n",
    "from utils import json_load"
   ]
  },
  {
   "cell_type": "code",
   "execution_count": 2,
   "id": "93e62aa7-8140-44b9-8dc1-71466b11a814",
   "metadata": {},
   "outputs": [
    {
     "name": "stdout",
     "output_type": "stream",
     "text": [
      "load data from: data/source/baseline_rag_result_R3.json\n"
     ]
    },
    {
     "data": {
      "text/html": [
       "<div>\n",
       "<style scoped>\n",
       "    .dataframe tbody tr th:only-of-type {\n",
       "        vertical-align: middle;\n",
       "    }\n",
       "\n",
       "    .dataframe tbody tr th {\n",
       "        vertical-align: top;\n",
       "    }\n",
       "\n",
       "    .dataframe thead th {\n",
       "        text-align: right;\n",
       "    }\n",
       "</style>\n",
       "<table border=\"1\" class=\"dataframe\">\n",
       "  <thead>\n",
       "    <tr style=\"text-align: right;\">\n",
       "      <th></th>\n",
       "      <th>query</th>\n",
       "      <th>response</th>\n",
       "      <th>retrieved_nodes</th>\n",
       "      <th>reranked_nodes</th>\n",
       "    </tr>\n",
       "  </thead>\n",
       "  <tbody>\n",
       "    <tr>\n",
       "      <th>0</th>\n",
       "      <td>這門課希望學生從使用者變成什麼？</td>\n",
       "      <td>這門課希望學生從使用者變成創作者。</td>\n",
       "      <td>[{'id': '18773912-c8b5-4fb4-8d4b-cb4e38758012'...</td>\n",
       "      <td>[{'id': 'f1b8dce2-5b45-4ed8-b44d-0bf6e2306877'...</td>\n",
       "    </tr>\n",
       "    <tr>\n",
       "      <th>1</th>\n",
       "      <td>剛才用來生成倒數計時影片和讓人長出翅膀的影片是使用哪個工具？</td>\n",
       "      <td>抱歉，無法提供該工具的資訊。</td>\n",
       "      <td>[{'id': '18773912-c8b5-4fb4-8d4b-cb4e38758012'...</td>\n",
       "      <td>[{'id': '18773912-c8b5-4fb4-8d4b-cb4e38758012'...</td>\n",
       "    </tr>\n",
       "    <tr>\n",
       "      <th>2</th>\n",
       "      <td>哪個軟體被用來合成講師的聲音？</td>\n",
       "      <td>沒有提到任何軟體被用來合成講師的聲音。</td>\n",
       "      <td>[{'id': '18773912-c8b5-4fb4-8d4b-cb4e38758012'...</td>\n",
       "      <td>[{'id': '18773912-c8b5-4fb4-8d4b-cb4e38758012'...</td>\n",
       "    </tr>\n",
       "    <tr>\n",
       "      <th>3</th>\n",
       "      <td>這門課的上課時間是週五下午幾點幾分開始？</td>\n",
       "      <td>這門課的上課時間是週五下午2點20分開始。</td>\n",
       "      <td>[{'id': 'f1b8dce2-5b45-4ed8-b44d-0bf6e2306877'...</td>\n",
       "      <td>[{'id': 'f0e22525-58ae-443d-8c9f-024c8a93b944'...</td>\n",
       "    </tr>\n",
       "    <tr>\n",
       "      <th>4</th>\n",
       "      <td>前兩個作業的截止日期延後到哪一天繳交？</td>\n",
       "      <td>前兩個作業的截止日期延後到下週一。</td>\n",
       "      <td>[{'id': '18773912-c8b5-4fb4-8d4b-cb4e38758012'...</td>\n",
       "      <td>[{'id': 'f0e22525-58ae-443d-8c9f-024c8a93b944'...</td>\n",
       "    </tr>\n",
       "    <tr>\n",
       "      <th>5</th>\n",
       "      <td>助教預計在幾月幾號把成績送出？</td>\n",
       "      <td>助教預計在1月12號把成績送出。</td>\n",
       "      <td>[{'id': '18773912-c8b5-4fb4-8d4b-cb4e38758012'...</td>\n",
       "      <td>[{'id': 'f1b8dce2-5b45-4ed8-b44d-0bf6e2306877'...</td>\n",
       "    </tr>\n",
       "    <tr>\n",
       "      <th>6</th>\n",
       "      <td>課程中目前保留需要訓練多少時間的作業？</td>\n",
       "      <td>課程中每一個作業通常留給大家三週的時間來完成，前兩個作業的截止日期特別延後到10月17號。</td>\n",
       "      <td>[{'id': '18773912-c8b5-4fb4-8d4b-cb4e38758012'...</td>\n",
       "      <td>[{'id': 'f1b8dce2-5b45-4ed8-b44d-0bf6e2306877'...</td>\n",
       "    </tr>\n",
       "    <tr>\n",
       "      <th>7</th>\n",
       "      <td>如果你對生成式AI一無所知，建議先看哪一門課程？</td>\n",
       "      <td>建議先選修這門課程，因為它提供了基礎的概念講解和實作輔助，適合對生成式AI一無所知的學生。</td>\n",
       "      <td>[{'id': '18773912-c8b5-4fb4-8d4b-cb4e38758012'...</td>\n",
       "      <td>[{'id': '18773912-c8b5-4fb4-8d4b-cb4e38758012'...</td>\n",
       "    </tr>\n",
       "  </tbody>\n",
       "</table>\n",
       "</div>"
      ],
      "text/plain": [
       "                            query  \\\n",
       "0                這門課希望學生從使用者變成什麼？   \n",
       "1  剛才用來生成倒數計時影片和讓人長出翅膀的影片是使用哪個工具？   \n",
       "2                 哪個軟體被用來合成講師的聲音？   \n",
       "3            這門課的上課時間是週五下午幾點幾分開始？   \n",
       "4             前兩個作業的截止日期延後到哪一天繳交？   \n",
       "5                 助教預計在幾月幾號把成績送出？   \n",
       "6             課程中目前保留需要訓練多少時間的作業？   \n",
       "7        如果你對生成式AI一無所知，建議先看哪一門課程？   \n",
       "\n",
       "                                        response  \\\n",
       "0                              這門課希望學生從使用者變成創作者。   \n",
       "1                                 抱歉，無法提供該工具的資訊。   \n",
       "2                            沒有提到任何軟體被用來合成講師的聲音。   \n",
       "3                          這門課的上課時間是週五下午2點20分開始。   \n",
       "4                              前兩個作業的截止日期延後到下週一。   \n",
       "5                               助教預計在1月12號把成績送出。   \n",
       "6  課程中每一個作業通常留給大家三週的時間來完成，前兩個作業的截止日期特別延後到10月17號。   \n",
       "7  建議先選修這門課程，因為它提供了基礎的概念講解和實作輔助，適合對生成式AI一無所知的學生。   \n",
       "\n",
       "                                     retrieved_nodes  \\\n",
       "0  [{'id': '18773912-c8b5-4fb4-8d4b-cb4e38758012'...   \n",
       "1  [{'id': '18773912-c8b5-4fb4-8d4b-cb4e38758012'...   \n",
       "2  [{'id': '18773912-c8b5-4fb4-8d4b-cb4e38758012'...   \n",
       "3  [{'id': 'f1b8dce2-5b45-4ed8-b44d-0bf6e2306877'...   \n",
       "4  [{'id': '18773912-c8b5-4fb4-8d4b-cb4e38758012'...   \n",
       "5  [{'id': '18773912-c8b5-4fb4-8d4b-cb4e38758012'...   \n",
       "6  [{'id': '18773912-c8b5-4fb4-8d4b-cb4e38758012'...   \n",
       "7  [{'id': '18773912-c8b5-4fb4-8d4b-cb4e38758012'...   \n",
       "\n",
       "                                      reranked_nodes  \n",
       "0  [{'id': 'f1b8dce2-5b45-4ed8-b44d-0bf6e2306877'...  \n",
       "1  [{'id': '18773912-c8b5-4fb4-8d4b-cb4e38758012'...  \n",
       "2  [{'id': '18773912-c8b5-4fb4-8d4b-cb4e38758012'...  \n",
       "3  [{'id': 'f0e22525-58ae-443d-8c9f-024c8a93b944'...  \n",
       "4  [{'id': 'f0e22525-58ae-443d-8c9f-024c8a93b944'...  \n",
       "5  [{'id': 'f1b8dce2-5b45-4ed8-b44d-0bf6e2306877'...  \n",
       "6  [{'id': 'f1b8dce2-5b45-4ed8-b44d-0bf6e2306877'...  \n",
       "7  [{'id': '18773912-c8b5-4fb4-8d4b-cb4e38758012'...  "
      ]
     },
     "execution_count": 2,
     "metadata": {},
     "output_type": "execute_result"
    }
   ],
   "source": [
    "# load llm response\n",
    "response_dir = os.path.join('data', 'source')\n",
    "response_file_path = os.path.join(response_dir, 'baseline_rag_result_R3.json')\n",
    "#response_file_path = os.path.join(response_dir, 'baseline_rag_result.json')\n",
    "response = json_load(response_file_path)\n",
    "response_df = pd.DataFrame(response)\n",
    "response_df\n",
    "#df = pd.merge(df, response_df, how='left', on='query')\n",
    "#df['reference_contexts'] = df['reference_contexts'].apply(literal_eval)\n",
    "\n",
    "#df.head(3)"
   ]
  },
  {
   "cell_type": "code",
   "execution_count": 3,
   "id": "fefe099e-28f2-41c8-a673-99540c44a089",
   "metadata": {},
   "outputs": [],
   "source": [
    "df = response_df.copy()"
   ]
  },
  {
   "cell_type": "code",
   "execution_count": 4,
   "id": "bad37de4-6c62-4352-97f0-992cfe06b93e",
   "metadata": {},
   "outputs": [
    {
     "name": "stdout",
     "output_type": "stream",
     "text": [
      "baseline_rag_result_R3\n",
      "write result to:data/temp/baseline_rag_result_R3_answer_relevancy.csv\n"
     ]
    }
   ],
   "source": [
    "pipeline_name = os.path.splitext(os.path.basename(response_file_path))[0]\n",
    "print(pipeline_name)\n",
    "save_dir = os.path.join('data', 'temp')\n",
    "os.makedirs(save_dir, exist_ok=True)\n",
    "save_file_path = os.path.join(save_dir, f\"{pipeline_name}_answer_relevancy.csv\")\n",
    "print('write result to:' + save_file_path)"
   ]
  },
  {
   "cell_type": "code",
   "execution_count": 5,
   "id": "66276ca9-86e4-45a1-b6ac-ccf3833fffad",
   "metadata": {},
   "outputs": [],
   "source": [
    "from llama_index.core.evaluation import (\n",
    "    AnswerRelevancyEvaluator,\n",
    "    ContextRelevancyEvaluator,\n",
    ")"
   ]
  },
  {
   "cell_type": "code",
   "execution_count": 6,
   "id": "712a42fa-da17-4cf6-afbb-f494f0ab3238",
   "metadata": {},
   "outputs": [],
   "source": [
    "llm = OpenAI(model=\"gpt-5-mini\", temperature=0, is_streaming=False)"
   ]
  },
  {
   "cell_type": "code",
   "execution_count": 7,
   "id": "2138cb83-7be6-42b5-bf67-e43136c9cadf",
   "metadata": {},
   "outputs": [],
   "source": [
    "evaluator = AnswerRelevancyEvaluator(llm)"
   ]
  },
  {
   "cell_type": "code",
   "execution_count": 8,
   "id": "b80637e6-7562-4dbb-9c34-e6b5d253b6b7",
   "metadata": {},
   "outputs": [
    {
     "name": "stderr",
     "output_type": "stream",
     "text": [
      "  0%|                                                                                             | 0/8 [00:00<?, ?it/s]\n"
     ]
    }
   ],
   "source": [
    "for idx, row in tqdm(df.iterrows(), total=len(df)):\n",
    "    break"
   ]
  },
  {
   "cell_type": "code",
   "execution_count": 9,
   "id": "a8c8b8a6-0918-401b-a1ac-8e9ce143aa7a",
   "metadata": {},
   "outputs": [
    {
     "data": {
      "text/plain": [
       "'這門課希望學生從使用者變成什麼？'"
      ]
     },
     "execution_count": 9,
     "metadata": {},
     "output_type": "execute_result"
    }
   ],
   "source": [
    "row.query"
   ]
  },
  {
   "cell_type": "code",
   "execution_count": 10,
   "id": "93910d52-2138-40f1-b517-d22349f339b3",
   "metadata": {},
   "outputs": [
    {
     "data": {
      "text/plain": [
       "\u001b[31mSignature:\u001b[39m\n",
       "evaluator.evaluate(\n",
       "    query: Optional[str] = \u001b[38;5;28;01mNone\u001b[39;00m,\n",
       "    response: Optional[str] = \u001b[38;5;28;01mNone\u001b[39;00m,\n",
       "    contexts: Optional[Sequence[str]] = \u001b[38;5;28;01mNone\u001b[39;00m,\n",
       "    **kwargs: Any,\n",
       ") -> llama_index.core.evaluation.base.EvaluationResult\n",
       "\u001b[31mDocstring:\u001b[39m\n",
       "Run evaluation with query string, retrieved contexts,\n",
       "and generated response string.\n",
       "\n",
       "Subclasses can override this method to provide custom evaluation logic and\n",
       "take in additional arguments.\n",
       "\u001b[31mFile:\u001b[39m      ~/miniconda3/envs/rag30/lib/python3.12/site-packages/llama_index/core/evaluation/base.py\n",
       "\u001b[31mType:\u001b[39m      method"
      ]
     },
     "metadata": {},
     "output_type": "display_data"
    }
   ],
   "source": [
    "evaluator.evaluate?"
   ]
  },
  {
   "cell_type": "code",
   "execution_count": 11,
   "id": "d4b72b35-4761-4924-bf35-8995e564608c",
   "metadata": {},
   "outputs": [
    {
     "data": {
      "text/plain": [
       "EvaluationResult(query='這門課希望學生從使用者變成什麼？', contexts=None, response='這門課希望學生從使用者變成創作者。', passing=None, feedback='1. 回答是否符合使用者詢問的主題？(1 分)\\n是。使用者問「這門課希望學生從使用者變成什麼？」回覆直接指明「變成創作者」，主題（學生的轉變目標）被正面回應，因此給 1 分。\\n\\n2. 回答是否嘗試針對使用者提出的聚焦或角度進行回應？(1 分)\\n是。使用者問的是「從使用者變成什麼」，回覆以單一句話明確指出轉換的角色（創作者），符合原問題的角度與重點，因此給 1 分。\\n\\n總評：回覆簡潔且直接回答問題，但若要更完整可補充為何要成為「創作者」或課程如何達到此目標。  \\n[RESULT] 2', score=1.0, pairwise_source=None, invalid_result=False, invalid_reason=None)"
      ]
     },
     "execution_count": 11,
     "metadata": {},
     "output_type": "execute_result"
    }
   ],
   "source": [
    "result = evaluator.evaluate(query=row.query, response=row.response)\n",
    "result"
   ]
  },
  {
   "cell_type": "code",
   "execution_count": 12,
   "id": "694ff197-1b53-4842-8f9e-672041289fc9",
   "metadata": {},
   "outputs": [
    {
     "data": {
      "text/plain": [
       "'1. 回答是否符合使用者詢問的主題？(1 分)\\n是。使用者問「這門課希望學生從使用者變成什麼？」回覆直接指明「變成創作者」，主題（學生的轉變目標）被正面回應，因此給 1 分。\\n\\n2. 回答是否嘗試針對使用者提出的聚焦或角度進行回應？(1 分)\\n是。使用者問的是「從使用者變成什麼」，回覆以單一句話明確指出轉換的角色（創作者），符合原問題的角度與重點，因此給 1 分。\\n\\n總評：回覆簡潔且直接回答問題，但若要更完整可補充為何要成為「創作者」或課程如何達到此目標。  \\n[RESULT] 2'"
      ]
     },
     "execution_count": 12,
     "metadata": {},
     "output_type": "execute_result"
    }
   ],
   "source": [
    "result.feedback"
   ]
  },
  {
   "cell_type": "code",
   "execution_count": 13,
   "id": "f5d837b7-d7af-481f-b154-f1a0614c4670",
   "metadata": {},
   "outputs": [
    {
     "data": {
      "text/plain": [
       "1.0"
      ]
     },
     "execution_count": 13,
     "metadata": {},
     "output_type": "execute_result"
    }
   ],
   "source": [
    "result.score"
   ]
  },
  {
   "cell_type": "code",
   "execution_count": 14,
   "id": "d6dafad4-0145-4ab7-b087-e2b6e0a69bc5",
   "metadata": {},
   "outputs": [
    {
     "name": "stderr",
     "output_type": "stream",
     "text": [
      "100%|█████████████████████████████████████████████████████████████████████████████████████| 8/8 [01:58<00:00, 14.82s/it]\n"
     ]
    }
   ],
   "source": [
    "answer_score = []\n",
    "answer_feedback = []\n",
    "for idx, row in tqdm(df.iterrows(), total=len(df)):\n",
    "    query = row.query\n",
    "    response = row.response\n",
    "    result = evaluator.evaluate(\n",
    "        query=query,\n",
    "        response=response,\n",
    "    )\n",
    "\n",
    "    answer_score.append(result.score)\n",
    "    answer_feedback.append(result.feedback)\n",
    "\n",
    "df['answer_score'] = answer_score\n",
    "df['answer_feedback'] = answer_feedback\n",
    "df.to_csv(save_file_path, index=False)"
   ]
  },
  {
   "cell_type": "code",
   "execution_count": 15,
   "id": "a2894c9e-26de-4896-98f3-ced45ffa6571",
   "metadata": {},
   "outputs": [
    {
     "data": {
      "text/plain": [
       "[<matplotlib.lines.Line2D at 0x7ec08a64b860>]"
      ]
     },
     "execution_count": 15,
     "metadata": {},
     "output_type": "execute_result"
    },
    {
     "data": {
      "image/png": "[encoded data removed]",
      "text/plain": [
       "<Figure size 640x480 with 1 Axes>"
      ]
     },
     "metadata": {},
     "output_type": "display_data"
    }
   ],
   "source": []
  },
  {
   "cell_type": "code",
   "execution_count": null,
   "id": "134f030c-5655-4cae-9074-f14cb3538981",
   "metadata": {},
   "outputs": [],
   "source": []
  }
 ],
 "metadata": {
  "kernelspec": {
   "display_name": "rag30",
   "language": "python",
   "name": "rag30"
  },
  "language_info": {
   "codemirror_mode": {
    "name": "ipython",
    "version": 3
   },
   "file_extension": ".py",
   "mimetype": "text/x-python",
   "name": "python",
   "nbconvert_exporter": "python",
   "pygments_lexer": "ipython3",
   "version": "3.12.0"
  }
 },
 "nbformat": 4,
 "nbformat_minor": 5
}
