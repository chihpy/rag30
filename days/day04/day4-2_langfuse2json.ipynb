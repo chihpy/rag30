{
 "cells": [
  {
   "cell_type": "raw",
   "id": "573d468f-94a8-425d-8b69-2787ea0f340e",
   "metadata": {},
   "source": [
    "對於retrieverQueryEngine，我們主要在意：\n",
    "- VectorIndexRetriever.retrieve\n",
    "- OpanAI.chat\n",
    "# TODO:\n",
    "自訂 span 把 retrieved 的結果丟出來"
   ]
  },
  {
   "cell_type": "code",
   "execution_count": null,
   "id": "03c50ee7-0d15-434a-94b9-08776e14950b",
   "metadata": {},
   "outputs": [],
   "source": [
    "from dotenv import find_dotenv, load_dotenv\n",
    "from langfuse import get_client\n",
    "\n",
    "_ = load_dotenv(find_dotenv())\n",
    "langfuse = get_client()"
   ]
  },
  {
   "cell_type": "code",
   "execution_count": null,
   "id": "bbc4bfb8-4b52-4e99-9c05-a85668c3bdb6",
   "metadata": {},
   "outputs": [],
   "source": [
    "# get TraceWithDetails\n",
    "traces = langfuse.api.trace.list(limit=1)\n",
    "trace_data = traces.data[0]\n",
    "trace_id = trace_data.id\n",
    "print(f\"trace_id: {trace_data.id}\")\n",
    "print(f\"trace input: {trace_data.input}\")\n",
    "print(f\"trace data type: {type(trace_data)}\")"
   ]
  },
  {
   "cell_type": "code",
   "execution_count": null,
   "id": "d2a53775-677d-4916-9378-2b9ef7dcd87d",
   "metadata": {},
   "outputs": [],
   "source": [
    "trace_data"
   ]
  },
  {
   "cell_type": "code",
   "execution_count": null,
   "id": "2ebd7942-4691-4bdc-9a13-037c79b40e73",
   "metadata": {
    "scrolled": true
   },
   "outputs": [],
   "source": [
    "TraceWithFullDetails = langfuse.api.trace.get(trace_id)\n",
    "TraceWithFullDetails"
   ]
  },
  {
   "cell_type": "code",
   "execution_count": null,
   "id": "1e6d2d05-a508-4790-b66b-706fb3f9cc3c",
   "metadata": {},
   "outputs": [],
   "source": [
    "observations = TraceWithFullDetails.observations\n",
    "len(observations)"
   ]
  },
  {
   "cell_type": "code",
   "execution_count": null,
   "id": "faada74d-9809-43c2-87fb-a44dff688664",
   "metadata": {
    "scrolled": true
   },
   "outputs": [],
   "source": [
    "observations"
   ]
  },
  {
   "cell_type": "code",
   "execution_count": null,
   "id": "625dae18-b756-47aa-a008-74e2b34ce161",
   "metadata": {},
   "outputs": [],
   "source": [
    "for obv in observations:\n",
    "    print(obv.name)"
   ]
  },
  {
   "cell_type": "code",
   "execution_count": null,
   "id": "70ca4519-b06c-4890-9979-bf3e06419b87",
   "metadata": {},
   "outputs": [],
   "source": [
    "def retrieve_parser(obv):\n",
    "    start_time = obv.start_time\n",
    "    end_time = obv.end_time\n",
    "    query_text = obv.input\n",
    "    output_nodes = obv.output\n",
    "    num_doc = len(output_nodes)\n",
    "    \n",
    "    meta_dict = obv.metadata['attributes']\n",
    "    docs = []\n",
    "    for idx in range(num_doc):\n",
    "        rv = {\n",
    "            'id': meta_dict[f'retrieval.documents.{idx}.document.id'],\n",
    "            'content': meta_dict[f'retrieval.documents.{idx}.document.content'],\n",
    "            'score': meta_dict[f'retrieval.documents.{idx}.document.score'],\n",
    "        }\n",
    "        docs.append(rv)\n",
    "        \n",
    "    rv = {\n",
    "        'start_time': start_time,\n",
    "        'end_time': end_time,\n",
    "        'query': query_text,\n",
    "        'output_nodes': output_nodes,\n",
    "        'num_doc': num_doc,\n",
    "        'docs': docs\n",
    "    }\n",
    "    return rv\n",
    "\n",
    "def chat_parser(obv):\n",
    "    start_time = obv.start_time\n",
    "    end_time = obv.end_time\n",
    "    model_name = obv.model\n",
    "    num_message = len(obv.input['messages'])\n",
    "    attributes = obv.metadata['attributes']\n",
    "    messages = []\n",
    "    for idx in range(num_message):\n",
    "        rv = {\n",
    "            'role': attributes[f'llm.input_messages.{idx}.message.role'],\n",
    "            'content': attributes[f'llm.input_messages.{idx}.message.content'],\n",
    "        }\n",
    "        messages.append(rv)\n",
    "    rv = {\n",
    "        'start_time': start_time,\n",
    "        'end_time': end_time,\n",
    "        'model_name': model_name,\n",
    "        'num_message': num_message,\n",
    "        'messages': messages,\n",
    "    }\n",
    "    return rv"
   ]
  },
  {
   "cell_type": "code",
   "execution_count": null,
   "id": "45868f84-6bea-4363-960e-f2166e7259f7",
   "metadata": {},
   "outputs": [],
   "source": [
    "data = {}\n",
    "for obv in observations:\n",
    "    name = obv.name\n",
    "    if name == 'VectorIndexRetriever.retrieve':\n",
    "        data['retrieve_parsed'] = retrieve_parser(obv)\n",
    "    elif name == 'OpenAI.chat':\n",
    "        data['chat_parsed'] = chat_parser(obv)\n",
    "\n",
    "data"
   ]
  }
 ],
 "metadata": {
  "kernelspec": {
   "display_name": "rag30",
   "language": "python",
   "name": "rag30"
  },
  "language_info": {
   "codemirror_mode": {
    "name": "ipython",
    "version": 3
   },
   "file_extension": ".py",
   "mimetype": "text/x-python",
   "name": "python",
   "nbconvert_exporter": "python",
   "pygments_lexer": "ipython3",
   "version": "3.12.0"
  }
 },
 "nbformat": 4,
 "nbformat_minor": 5
}
