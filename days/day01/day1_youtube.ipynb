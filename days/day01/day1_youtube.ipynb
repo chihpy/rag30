{
 "cells": [
  {
   "cell_type": "code",
   "execution_count": null,
   "id": "21cac966-9794-4c3e-bc34-4fb80354b1b9",
   "metadata": {},
   "outputs": [],
   "source": []
  },
  {
   "cell_type": "code",
   "execution_count": null,
   "id": "edeeb337-282a-484b-94a1-35c7ad4695ce",
   "metadata": {},
   "outputs": [],
   "source": [
    "import re\n",
    "\n",
    "from urllib.parse import urlparse, parse_qs"
   ]
  },
  {
   "cell_type": "code",
   "execution_count": null,
   "id": "8595f03e-74ca-4056-ba55-2f7528740f77",
   "metadata": {},
   "outputs": [],
   "source": [
    "links = [\n",
    "    'https://www.youtube.com/watch?v=VuQUF1VVX40',  # lee\n",
    "    'https://www.youtube.com/watch?v=g4LYbQYDy14',  # hung\n",
    "]"
   ]
  },
  {
   "cell_type": "code",
   "execution_count": null,
   "id": "f8d7029f-c5f5-4ba7-9691-de7bdc0f1273",
   "metadata": {},
   "outputs": [],
   "source": [
    "def _extract_video_id(url: str) -> str:\n",
    "    p = urlparse(url)\n",
    "    if p.netloc.endswith(\"youtu.be\"):\n",
    "        return p.path.lstrip(\"/\").split(\"/\")[0]\n",
    "    q = parse_qs(p.query)\n",
    "    if \"v\" in q:\n",
    "        return q[\"v\"][0]\n",
    "    m = re.search(r\"/(shorts|embed)/([A-Za-z0-9_-]{6,})\", p.path)\n",
    "    if m:\n",
    "        return m.group(2)\n",
    "    raise ValueError(\"無法從網址解析出 YouTube 影片 ID。\")"
   ]
  },
  {
   "cell_type": "code",
   "execution_count": null,
   "id": "05f442a6-fce7-4ea2-93c1-0bd8ef4bbdd3",
   "metadata": {},
   "outputs": [],
   "source": [
    "_extract_video_id(links[0])"
   ]
  },
  {
   "cell_type": "code",
   "execution_count": null,
   "id": "ab7a5b97-e982-41f0-a6fc-245c6f64f926",
   "metadata": {},
   "outputs": [],
   "source": [
    "url = links[0]"
   ]
  },
  {
   "cell_type": "code",
   "execution_count": null,
   "id": "7ab41347-fe28-4516-a7eb-e6ed6ed4e616",
   "metadata": {},
   "outputs": [],
   "source": [
    "from youtube_transcript_api import YouTubeTranscriptApi"
   ]
  },
  {
   "cell_type": "code",
   "execution_count": null,
   "id": "a6ed1df6-6e0e-4c54-b757-43f26ebf8bc8",
   "metadata": {},
   "outputs": [],
   "source": [
    "api = YouTubeTranscriptApi()"
   ]
  },
  {
   "cell_type": "code",
   "execution_count": null,
   "id": "c6050e34-7e00-45bc-9953-748afead4313",
   "metadata": {},
   "outputs": [],
   "source": [
    "video_id = _extract_video_id(url)"
   ]
  },
  {
   "cell_type": "code",
   "execution_count": null,
   "id": "0ceaa2f7-d6b4-4790-a3e8-552b5be22458",
   "metadata": {},
   "outputs": [],
   "source": [
    "api.list(video_id)"
   ]
  },
  {
   "cell_type": "code",
   "execution_count": null,
   "id": "1682b370-c2cf-4028-8668-7e4d07d412e9",
   "metadata": {},
   "outputs": [],
   "source": [
    "def has_youtube_captions(url: str, preferred_langs=None) -> bool:\n",
    "    \"\"\"\n",
    "    檢查 YouTube 影片是否有可用字幕（人工或自動）。\n",
    "    - url: YouTube 影片連結\n",
    "    - preferred_langs: 語言優先序，若 None 則不過濾，任意語言有字幕就回 True\n",
    "    回傳: True = 有字幕可抓, False = 沒有字幕\n",
    "    \"\"\"\n",
    "    from youtube_transcript_api import YouTubeTranscriptApi\n",
    "    from youtube_transcript_api._errors import TranscriptsDisabled\n",
    "    from youtube_transcript_api import NoTranscriptFound\n",
    "\n",
    "    video_id = _extract_video_id(url)\n",
    "    api = YouTubeTranscriptApi()\n",
    "\n",
    "    try:\n",
    "        tlist = api.list(video_id)  # TranscriptList，可疊代\n",
    "    except (TranscriptsDisabled, NoTranscriptFound):\n",
    "        return False\n",
    "    except Exception:\n",
    "        return False\n",
    "\n",
    "    if preferred_langs:\n",
    "        try:\n",
    "            tlist.find_transcript(preferred_langs)\n",
    "            return True\n",
    "        except NoTranscriptFound:\n",
    "            return False\n",
    "    else:\n",
    "        return len(list(tlist)) > 0\n"
   ]
  },
  {
   "cell_type": "code",
   "execution_count": null,
   "id": "c5755331-b16a-4639-8007-78a43af0d2b9",
   "metadata": {},
   "outputs": [],
   "source": [
    "has_youtube_captions(links[0])"
   ]
  },
  {
   "cell_type": "code",
   "execution_count": null,
   "id": "d6bc8fae-dcb4-4692-a3fc-5664779bd9d8",
   "metadata": {},
   "outputs": [],
   "source": [
    "has_youtube_captions(links[1])"
   ]
  },
  {
   "cell_type": "markdown",
   "id": "8eb5c40e-5396-4e4b-8ffe-7d59c05cdcb7",
   "metadata": {},
   "source": [
    "## case1: has youtube captions"
   ]
  },
  {
   "cell_type": "code",
   "execution_count": null,
   "id": "9d8b585d-1231-4779-ac28-c39978c7bf84",
   "metadata": {},
   "outputs": [],
   "source": [
    "def fetch_youtube_captions(\n",
    "    url: str,\n",
    "    preferred_langs=None,\n",
    "    translate_to: str | None = None,\n",
    "    join_with: str = \"\\n\",\n",
    "    preserve_formatting: bool = False,\n",
    ") -> str:\n",
    "    \"\"\"\n",
    "    取得 YouTube 字幕純文字\n",
    "    - url: YouTube 連結\n",
    "    - preferred_langs: 語言優先序，預設 ['zh-Hant','zh-TW','zh-Hans','zh','en']\n",
    "    - translate_to: 翻譯成目標語言（如 'zh-Hant','en'），若為 None 則不翻譯\n",
    "    - join_with: 合併字幕的分隔符號\n",
    "    - preserve_formatting: 是否保留 HTML 格式標籤\n",
    "    \"\"\"\n",
    "    if preferred_langs is None:\n",
    "        preferred_langs = [\"zh-Hant\", \"zh-TW\", \"zh-Hans\", \"zh\", \"en\"]\n",
    "\n",
    "    video_id = _extract_video_id(url)\n",
    "    from youtube_transcript_api import YouTubeTranscriptApi, NoTranscriptFound\n",
    "\n",
    "    api = YouTubeTranscriptApi()\n",
    "\n",
    "    if translate_to:\n",
    "        # 先找到一個字幕，再翻譯\n",
    "        tlist = api.list(video_id)\n",
    "        try:\n",
    "            base_t = tlist.find_transcript(preferred_langs)\n",
    "        except NoTranscriptFound:\n",
    "            base_t = next(iter(tlist), None)\n",
    "        fetched = base_t.translate(translate_to).fetch(preserve_formatting=preserve_formatting)\n",
    "    else:\n",
    "        fetched = api.fetch(video_id, languages=preferred_langs, preserve_formatting=preserve_formatting)\n",
    "\n",
    "    raw = fetched.to_raw_data()\n",
    "    lines = [d[\"text\"].strip() for d in raw if d.get(\"text\", \"\").strip()]\n",
    "    junk = {\"[Music]\", \"[Applause]\", \"[Laughter]\"}\n",
    "    return join_with.join([ln for ln in lines if ln not in junk])\n"
   ]
  },
  {
   "cell_type": "code",
   "execution_count": null,
   "id": "02960751-44b6-41f4-a788-cc14c921436c",
   "metadata": {},
   "outputs": [],
   "source": [
    "_extract_video_id(links[0])"
   ]
  },
  {
   "cell_type": "code",
   "execution_count": null,
   "id": "85f6ad53-0c22-46ee-a574-86e32ac4695e",
   "metadata": {},
   "outputs": [],
   "source": [
    "text = fetch_youtube_captions(links[0])"
   ]
  },
  {
   "cell_type": "code",
   "execution_count": null,
   "id": "df7d67c6-6dc7-4e07-80f8-d1ebe37f90d9",
   "metadata": {},
   "outputs": [],
   "source": [
    "text[:30]"
   ]
  },
  {
   "cell_type": "markdown",
   "id": "f4f7b642-df0c-4bf4-b068-ced8772c4375",
   "metadata": {},
   "source": [
    "# case2: NoTranscriptFound"
   ]
  },
  {
   "cell_type": "code",
   "execution_count": null,
   "id": "6d93b3e0-aa9e-4abb-b3a7-9193603bd5f8",
   "metadata": {},
   "outputs": [],
   "source": [
    "import yt_dlp"
   ]
  },
  {
   "cell_type": "code",
   "execution_count": null,
   "id": "58ec2e68-9425-4244-a573-4fc5346e1445",
   "metadata": {},
   "outputs": [],
   "source": [
    "def download_audio(url, output):\n",
    "    ydl_opts = {\n",
    "        \"format\": \"bestaudio/best\",\n",
    "        \"outtmpl\": output,\n",
    "        \"postprocessors\": [{\n",
    "            \"key\": \"FFmpegExtractAudio\",\n",
    "            \"preferredcodec\": \"mp3\",\n",
    "            \"preferredquality\": \"192\"\n",
    "        }]\n",
    "    }\n",
    "    with yt_dlp.YoutubeDL(ydl_opts) as ydl:\n",
    "        ydl.download([url])\n",
    "    return output"
   ]
  },
  {
   "cell_type": "code",
   "execution_count": null,
   "id": "4f4426be-ed60-411a-ad53-f60c509432d6",
   "metadata": {},
   "outputs": [],
   "source": [
    "output_path = 'audio.mp3'\n",
    "download_audio(links[1], output_path)"
   ]
  },
  {
   "cell_type": "markdown",
   "id": "265f1d9b-5ee7-4e97-bc36-0c5901f7c2ac",
   "metadata": {},
   "source": [
    "## faster_whisper"
   ]
  },
  {
   "cell_type": "code",
   "execution_count": null,
   "id": "15823571-180c-49a0-978f-b24f54dc01e4",
   "metadata": {},
   "outputs": [],
   "source": [
    "output_path = 'audio.mp3'"
   ]
  },
  {
   "cell_type": "code",
   "execution_count": null,
   "id": "4725237f-7ade-4d50-ae7a-3569bb488d7f",
   "metadata": {},
   "outputs": [],
   "source": [
    "import os\n",
    "os.environ[\"KMP_DUPLICATE_LIB_OK\"] = \"TRUE\"  # 允許 OpenMP 重複載入，避免直接 abort\n",
    "os.environ[\"OMP_NUM_THREADS\"] = \"4\"          # 限制執行緒，穩定一點（可選）\n"
   ]
  },
  {
   "cell_type": "code",
   "execution_count": null,
   "id": "09f68dcf-22c8-4b9f-b418-ab5f4dde4955",
   "metadata": {},
   "outputs": [],
   "source": [
    "import numpy as np\n",
    "import ctranslate2, sys\n",
    "from faster_whisper import WhisperModel\n",
    "print(\"py\", sys.version)\n",
    "print(\"ct2\", ctranslate2.__version__)\n"
   ]
  },
  {
   "cell_type": "code",
   "execution_count": null,
   "id": "6aa07f4a-f009-449f-836c-224ad58e83c0",
   "metadata": {},
   "outputs": [],
   "source": [
    "m = WhisperModel(\n",
    "    \"tiny\", device=\"cpu\", compute_type=\"int8\",\n",
    "    cpu_threads=2, num_workers=1\n",
    ")\n",
    "segs, info = m.transcribe(output_path, vad_filter=False, beam_size=1)\n",
    "print(info.language, info.language_probability, len(list(segs)))\n"
   ]
  },
  {
   "cell_type": "code",
   "execution_count": null,
   "id": "ec9af388-e9b2-4cdf-b175-0fc202667b2c",
   "metadata": {},
   "outputs": [],
   "source": [
    "import sys, shutil, subprocess\n",
    "import ctranslate2 as ct2\n",
    "\n",
    "print(\"Python:\", sys.version)\n",
    "print(\"ctranslate2:\", ct2.__version__)\n",
    "ngpu = ct2.get_cuda_device_count()\n",
    "print(\"CUDA devices:\", ngpu)\n",
    "\n",
    "if ngpu > 0:\n",
    "    print(\"Supported compute types (cuda):\", ct2.get_supported_compute_types(\"cuda\"))\n",
    "    # 額外查驅動/Runtime（用 nvidia-smi）\n",
    "    if shutil.which(\"nvidia-smi\"):\n",
    "        out = subprocess.check_output([\"nvidia-smi\"], text=True)\n",
    "        # 直接看頁首會出現 \"CUDA Version: 12.x\"\n",
    "        print(out.splitlines()[0])\n",
    "else:\n",
    "    print(\"Supported compute types (cpu):\", ct2.get_supported_compute_types(\"cpu\"))\n"
   ]
  },
  {
   "cell_type": "code",
   "execution_count": null,
   "id": "9f4bf49b-96ba-4cec-9d5a-f4b6ce581f48",
   "metadata": {},
   "outputs": [],
   "source": [
    "from faster_whisper import WhisperModel\n",
    "from pathlib import Path\n",
    "\n",
    "def transcribe_faster_whisper(\n",
    "    audio_file: str | Path,\n",
    "    model_name: str = \"large-v3\",\n",
    "    device: str = \"auto\",          # \"cuda\" | \"cpu\" | \"auto\"\n",
    "    compute_type: str = \"auto\",     # \"float16\" | \"int8_float16\" | \"int8\" | \"auto\"\n",
    "    language: str | None = None,    # \"zh\"、\"en\"、None=自動偵測\n",
    "):\n",
    "    audio_file = str(audio_file)\n",
    "    model = WhisperModel(model_name, device=device, compute_type=compute_type)\n",
    "    segments, info = model.transcribe(\n",
    "        audio_file,\n",
    "        language=language,\n",
    "        vad_filter=True,        # 內建 Voice Activity Detection，通常品質更穩\n",
    "        beam_size=5,\n",
    "    )\n",
    "    # 收集所有 segments\n",
    "    segs = []\n",
    "    full_text = []\n",
    "    for seg in segments:\n",
    "        segs.append({\"start\": seg.start, \"end\": seg.end, \"text\": seg.text})\n",
    "        full_text.append(seg.text)\n",
    "    return {\n",
    "        \"text\": \" \".join(full_text).strip(),\n",
    "        \"segments\": segs,\n",
    "        \"language\": info.language,\n",
    "        \"language_probability\": info.language_probability,\n",
    "    }"
   ]
  },
  {
   "cell_type": "code",
   "execution_count": null,
   "id": "545c0d9e-a04a-4591-86d4-988431439f07",
   "metadata": {},
   "outputs": [],
   "source": [
    "import time"
   ]
  },
  {
   "cell_type": "code",
   "execution_count": null,
   "id": "76c18fe1-e59a-467f-92f9-243cbd727eb3",
   "metadata": {},
   "outputs": [],
   "source": [
    "start = time.time()\n",
    "\n",
    "result = transcribe_faster_whisper(output_path, model_name=\"small\")\n",
    "print(result[\"language\"], result[\"language_probability\"])\n",
    "print(result[\"text\"][:100])\n",
    "\n",
    "end = time.time()\n",
    "print(f'dur: {end - start}')\n"
   ]
  },
  {
   "cell_type": "code",
   "execution_count": null,
   "id": "7114ae8f-d09b-4803-9dfd-77e23294bf5f",
   "metadata": {},
   "outputs": [],
   "source": []
  }
 ],
 "metadata": {
  "kernelspec": {
   "display_name": "rag30",
   "language": "python",
   "name": "rag30"
  },
  "language_info": {
   "codemirror_mode": {
    "name": "ipython",
    "version": 3
   },
   "file_extension": ".py",
   "mimetype": "text/x-python",
   "name": "python",
   "nbconvert_exporter": "python",
   "pygments_lexer": "ipython3",
   "version": "3.12.0"
  }
 },
 "nbformat": 4,
 "nbformat_minor": 5
}
