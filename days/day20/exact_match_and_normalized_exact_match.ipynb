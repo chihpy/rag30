{
 "cells": [
  {
   "cell_type": "code",
   "execution_count": 1,
   "id": "cfe4650f-0829-4883-9134-1e2b5cb1a68e",
   "metadata": {},
   "outputs": [
    {
     "data": {
      "text/plain": [
       "['gemma_evaluation_data.json']"
      ]
     },
     "execution_count": 1,
     "metadata": {},
     "output_type": "execute_result"
    }
   ],
   "source": [
    "import os\n",
    "import json\n",
    "\n",
    "SOURCE_DIR = os.path.join('data', 'temp')\n",
    "os.listdir(SOURCE_DIR)"
   ]
  },
  {
   "cell_type": "code",
   "execution_count": 2,
   "id": "226a0134-4e09-45db-801b-f191b28aa61c",
   "metadata": {},
   "outputs": [],
   "source": [
    "def json_load(file_path):\n",
    "    with open(file_path, 'r') as f:\n",
    "        data_dict = json.load(f)\n",
    "    return data_dict\n",
    "\n",
    "def json_dump(file_path, data):\n",
    "    with open(file_path, 'w') as f:\n",
    "        print(\"write result to: \" + file_path)\n",
    "        json.dump(data, f, indent=1, ensure_ascii=False)"
   ]
  },
  {
   "cell_type": "code",
   "execution_count": 3,
   "id": "51cf0a40-b3a6-4d32-8a86-90de2e166cdf",
   "metadata": {},
   "outputs": [
    {
     "data": {
      "text/plain": [
       "{'reference_answer': {'qid': '1',\n",
       "  'stem': '常見針灸配穴法中,所指的「四關穴」,為下列何穴位之組合?',\n",
       "  'A': '上星、日月',\n",
       "  'B': '合谷、太衝',\n",
       "  'C': '內關、外關',\n",
       "  'D': '上關、下關'},\n",
       " 'reference_context': ['1.常見針灸配穴法中，所指的「四關穴」，為下列何穴位之組合？\\n\\xa0\\nA.上星、日月\\nB.合谷、太衝\\nC.內關、外關\\nD.上關、下關'],\n",
       " 'response': {'qid': 1,\n",
       "  'stem': '常見針灸配穴法中，所指的「四關穴」，為下列何穴位之組合？',\n",
       "  'A': '上星、日月',\n",
       "  'B': '合谷、太衝',\n",
       "  'C': '內關、外關',\n",
       "  'D': '上關、下關'}}"
      ]
     },
     "execution_count": 3,
     "metadata": {},
     "output_type": "execute_result"
    }
   ],
   "source": [
    "gemma_eval_file_path = os.path.join(SOURCE_DIR, 'gemma_evaluation_data.json')\n",
    "data = json_load(gemma_eval_file_path)\n",
    "data[0]"
   ]
  },
  {
   "cell_type": "code",
   "execution_count": 4,
   "id": "f2edd976-8b13-4681-8eec-bebae8965a00",
   "metadata": {},
   "outputs": [
    {
     "name": "stdout",
     "output_type": "stream",
     "text": [
      "succ_rate: 0.00\n"
     ]
    }
   ],
   "source": [
    "num_succ = 0\n",
    "num_fail = 0\n",
    "total = len(data)\n",
    "fail_case = []\n",
    "for example in data:\n",
    "    label_stem = example['reference_answer']['stem']\n",
    "    pred_stem = example['response']['stem']\n",
    "    if label_stem == pred_stem:\n",
    "        num_succ+=1\n",
    "    else:\n",
    "        num_fail+=1\n",
    "        fail_case.append(\n",
    "            {\n",
    "                'label': label_stem,\n",
    "                'pred': pred_stem,\n",
    "            }\n",
    "        )\n",
    "\n",
    "print(f\"succ_rate: {num_succ/total:.2f}\")\n"
   ]
  },
  {
   "cell_type": "code",
   "execution_count": 5,
   "id": "6145f4e3-0617-4174-900b-bc5ee79fff3e",
   "metadata": {},
   "outputs": [
    {
     "data": {
      "text/plain": [
       "{'label': '常見針灸配穴法中,所指的「四關穴」,為下列何穴位之組合?',\n",
       " 'pred': '常見針灸配穴法中，所指的「四關穴」，為下列何穴位之組合？'}"
      ]
     },
     "execution_count": 5,
     "metadata": {},
     "output_type": "execute_result"
    }
   ],
   "source": [
    "fail_case[0]"
   ]
  },
  {
   "cell_type": "markdown",
   "id": "e3182904-a211-4d96-8905-9b1da1c3b653",
   "metadata": {},
   "source": [
    "# normalize exact match"
   ]
  },
  {
   "cell_type": "code",
   "execution_count": 16,
   "id": "1cff4ed4-9d1e-4ce6-a8ac-79c18c0962eb",
   "metadata": {},
   "outputs": [],
   "source": [
    "import re\n",
    "\n",
    "def normalize_text(s: str) -> str:\n",
    "    \"\"\"簡單的 normalization: 小寫化、去標點、去多餘空白\"\"\"\n",
    "    # 全部轉小寫\n",
    "    s = s.lower()\n",
    "    # 移除所有標點符號（只保留中英文、數字、空白）\n",
    "    s = re.sub(r\"[^0-9a-z\\u4e00-\\u9fff\\s]\", \"\", s)\n",
    "    # 去掉多餘空白\n",
    "    s = \" \".join(s.split())\n",
    "    return s"
   ]
  },
  {
   "cell_type": "code",
   "execution_count": 20,
   "id": "0419727a-e76c-445b-babb-ca57c9a6d0ee",
   "metadata": {},
   "outputs": [
    {
     "name": "stdout",
     "output_type": "stream",
     "text": [
      "succ_rate: 0.75\n"
     ]
    }
   ],
   "source": [
    "num_succ = 0\n",
    "num_fail = 0\n",
    "total = len(data)\n",
    "fail_case = []\n",
    "for example in data:\n",
    "    qid = example['reference_answer']['qid']\n",
    "    label_stem = normalize_text(example['reference_answer']['stem'])\n",
    "    pred_stem = normalize_text(example['response']['stem'])\n",
    "    if label_stem == pred_stem:\n",
    "        num_succ+=1\n",
    "    else:\n",
    "        num_fail+=1\n",
    "        fail_case.append(\n",
    "            {\n",
    "                'qid': qid,\n",
    "                'label': label_stem,\n",
    "                'pred': pred_stem,\n",
    "            }\n",
    "        )\n",
    "\n",
    "print(f\"succ_rate: {num_succ/total:.2f}\")\n"
   ]
  },
  {
   "cell_type": "code",
   "execution_count": 21,
   "id": "f52e6c37-0e53-4c35-b4c7-8596caa0fbee",
   "metadata": {
    "scrolled": true
   },
   "outputs": [
    {
     "data": {
      "text/plain": [
       "[{'qid': '2',\n",
       "  'label': '依靈樞經脈記載其直者從巔入絡腦還出別下項循肩膊內挾脊抵腰中指下列 何經的循行內容',\n",
       "  'pred': '依靈樞經脈記載其直者從巔入絡腦還出別下項循肩膊內挾脊抵腰中指下列何經的循行內容'},\n",
       " {'qid': '9',\n",
       "  'label': '下列穴位屬三焦經與膽經的交會穴共有幾個1臑會 2顴髎 3秉風 4聽宮 5耳門',\n",
       "  'pred': '下列穴位屬三焦經與膽經的交會穴共有幾個臑會 顴髎 秉風 聽宮 耳門'},\n",
       " {'qid': '10',\n",
       "  'label': '有關手少陰心經的通里穴下列敘述共幾項正確1手少陰心經的郄穴 2馬丹陽天星十二穴 之一 3距離靈道穴五分 4配內關治心絞痛',\n",
       "  'pred': '有關手少陰心經的通里穴下列敘述共幾項正確手少陰心經的郄穴 馬丹陽天星十二穴之一 距離靈道穴五分 配內關治心絞痛'},\n",
       " {'qid': '16',\n",
       "  'label': '有關本神穴的敘述下列選項何者正確1上入髮際一寸從神庭外開二寸處 2曲差旁一寸五分 3可治頭痛目眩等 4配百會人中十宣治中風不省人事',\n",
       "  'pred': '有關本神穴的敘述下列選項何者正確上入髮際一寸從神庭外開二寸處 曲差旁一寸五分 可治頭痛目眩等 配百會人中十宣治中風不省人事'},\n",
       " {'qid': '28',\n",
       "  'label': '48歲女性患者診斷為類風濕性關節炎已2年主訴四肢肩膀至手指遊走性疼痛夜間及氣候變化 疼痛加重下列敘述何者錯誤',\n",
       "  'pred': '2848歲女性患者診斷為類風濕性關節炎已2年主訴四肢肩膀至手指遊走性疼痛夜間及氣候變化疼痛加重下列敘述何者錯誤'}]"
      ]
     },
     "execution_count": 21,
     "metadata": {},
     "output_type": "execute_result"
    }
   ],
   "source": [
    "fail_case[:5]"
   ]
  },
  {
   "cell_type": "code",
   "execution_count": 22,
   "id": "c25a9287-630a-46af-a2bf-979b9fd9bcec",
   "metadata": {},
   "outputs": [],
   "source": [
    "import unicodedata\n",
    "import re\n",
    "from typing import List, Tuple\n",
    "\n",
    "def _remove_punctuation(text: str) -> str:\n",
    "    # 移除所有 Unicode 標點 (類別以 'P' 開頭)\n",
    "    return \"\".join(ch for ch in text if not unicodedata.category(ch).startswith('P'))\n",
    "\n",
    "def _remove_all_whitespace(text: str) -> str:\n",
    "    # \\s 包含空格、tab、換行、全形空白等各種空白\n",
    "    return re.sub(r\"\\s+\", \"\", text)\n",
    "\n",
    "def normalize_text(\n",
    "    s: str,\n",
    "    *,\n",
    "    use_nfkc: bool = True,\n",
    "    lowercase: bool = True,\n",
    "    remove_space: bool = True,\n",
    "    remove_punct: bool = True\n",
    ") -> str:\n",
    "    \"\"\"\n",
    "    常見 normalized exact match 的正規化步驟：\n",
    "    - NFKC：全形→半形、相容字元折疊（建議開）\n",
    "    - lowercase：小寫化（對中文無影響，但混合文本時建議開）\n",
    "    - remove_space：移除所有空白（做比對時建議開）\n",
    "    - remove_punct：移除所有標點（建議開，以避免中英標點差異）\n",
    "    \"\"\"\n",
    "    if s is None:\n",
    "        return \"\"\n",
    "    if use_nfkc:\n",
    "        s = unicodedata.normalize(\"NFKC\", s)\n",
    "    if lowercase:\n",
    "        s = s.lower()\n",
    "    if remove_punct:\n",
    "        s = _remove_punctuation(s)\n",
    "    if remove_space:\n",
    "        s = _remove_all_whitespace(s)\n",
    "    return s"
   ]
  },
  {
   "cell_type": "code",
   "execution_count": 1,
   "id": "5ea54acf-5341-4a46-8532-83b53f755d5a",
   "metadata": {},
   "outputs": [],
   "source": [
    "import unicodedata\n",
    "def unicode_normalize(txt):\n",
    "    s = unicodedata.normalize(\"NFKC\", txt)\n",
    "    return s"
   ]
  },
  {
   "cell_type": "code",
   "execution_count": 2,
   "id": "bc60f7f6-6a4c-45e7-83f4-07218c45628b",
   "metadata": {
    "scrolled": true
   },
   "outputs": [
    {
     "name": "stdout",
     "output_type": "stream",
     "text": [
      "1臑會 2顴髎 3秉風 4聽宮 5耳門\n"
     ]
    }
   ],
   "source": [
    "example_text = '①臑會　②顴髎　③秉風　④聽宮　⑤耳門'\n",
    "print(unicode_normalize(example_text))"
   ]
  },
  {
   "cell_type": "code",
   "execution_count": 27,
   "id": "30c41b39-e530-489f-a7f7-43bea39f531d",
   "metadata": {},
   "outputs": [
    {
     "name": "stdout",
     "output_type": "stream",
     "text": [
      "succ_rate: 0.99\n"
     ]
    }
   ],
   "source": [
    "all_case = []\n",
    "num_succ = 0\n",
    "num_fail = 0\n",
    "total = len(data)\n",
    "fail_case = []\n",
    "for example in data:\n",
    "    qid = example['reference_answer']['qid']\n",
    "    label_stem = example['reference_answer']['stem']\n",
    "    pred_stem = example['response']['stem']\n",
    "    nlabel_stem = normalize_text(label_stem)\n",
    "    npred_stem = normalize_text(pred_stem)\n",
    "    \n",
    "    if nlabel_stem == npred_stem:\n",
    "        num_succ+=1\n",
    "    else:\n",
    "        num_fail+=1\n",
    "        fail_case.append(\n",
    "            {\n",
    "                'qid': qid,\n",
    "                'label': label_stem,\n",
    "                'pred': pred_stem,\n",
    "                'nlabel': nlabel_stem,\n",
    "                'npred': npred_stem,\n",
    "            }\n",
    "        )\n",
    "    all_case.append(\n",
    "            {\n",
    "                'qid': qid,\n",
    "                'label': label_stem,\n",
    "                'pred': pred_stem,\n",
    "                'nlabel': nlabel_stem,\n",
    "                'npred': npred_stem,\n",
    "            }\n",
    "    )\n",
    "\n",
    "print(f\"succ_rate: {num_succ/total:.2f}\")\n"
   ]
  },
  {
   "cell_type": "code",
   "execution_count": 24,
   "id": "3835e9a0-e818-4897-8091-3c5a45dc4c56",
   "metadata": {},
   "outputs": [
    {
     "data": {
      "text/plain": [
       "[{'qid': '28',\n",
       "  'label': '48歲女性患者診斷為類風濕性關節炎已2年主訴四肢肩膀至手指遊走性疼痛夜間及氣候變化疼痛加重下列敘述何者錯誤',\n",
       "  'pred': '2848歲女性患者診斷為類風濕性關節炎已2年主訴四肢肩膀至手指遊走性疼痛夜間及氣候變化疼痛加重下列敘述何者錯誤'}]"
      ]
     },
     "execution_count": 24,
     "metadata": {},
     "output_type": "execute_result"
    }
   ],
   "source": [
    "fail_case"
   ]
  },
  {
   "cell_type": "code",
   "execution_count": 28,
   "id": "77af66bc-cd0e-49a9-8d48-f96e85724005",
   "metadata": {},
   "outputs": [
    {
     "data": {
      "text/plain": [
       "{'qid': '1',\n",
       " 'label': '常見針灸配穴法中,所指的「四關穴」,為下列何穴位之組合?',\n",
       " 'pred': '常見針灸配穴法中，所指的「四關穴」，為下列何穴位之組合？',\n",
       " 'nlabel': '常見針灸配穴法中所指的四關穴為下列何穴位之組合',\n",
       " 'npred': '常見針灸配穴法中所指的四關穴為下列何穴位之組合'}"
      ]
     },
     "execution_count": 28,
     "metadata": {},
     "output_type": "execute_result"
    }
   ],
   "source": [
    "all_case[0]"
   ]
  },
  {
   "cell_type": "code",
   "execution_count": 29,
   "id": "dd44fd79-bbba-4ae5-ae1f-59685490c5b2",
   "metadata": {},
   "outputs": [
    {
     "data": {
      "text/plain": [
       "{'qid': '2',\n",
       " 'label': '依《靈樞.經脈》記載,「其直者,從巔入絡腦,還出別下項,循肩膊內,挾脊抵腰中」,指下列 何經的循行內容?',\n",
       " 'pred': '依《靈樞．經脈》記載，「其直者，從巔入絡腦，還出別下項，循肩膊內，挾脊抵腰中」，指下列何經的循行內容？',\n",
       " 'nlabel': '依靈樞經脈記載其直者從巔入絡腦還出別下項循肩膊內挾脊抵腰中指下列何經的循行內容',\n",
       " 'npred': '依靈樞經脈記載其直者從巔入絡腦還出別下項循肩膊內挾脊抵腰中指下列何經的循行內容'}"
      ]
     },
     "execution_count": 29,
     "metadata": {},
     "output_type": "execute_result"
    }
   ],
   "source": [
    "all_case[1]"
   ]
  },
  {
   "cell_type": "code",
   "execution_count": 30,
   "id": "3b73aed7-1231-40d9-882b-268fdadb2486",
   "metadata": {},
   "outputs": [
    {
     "data": {
      "text/plain": [
       "{'qid': '3',\n",
       " 'label': '依《靈樞.經脈》所記載:「是主筋所生病者,痔、瘧、狂、癲疾、頭顖、項痛,目黃、淚出,鼽 衄,項、背、腰、尻、膕、腨、腳皆痛,小趾不用」,指何經的病證內容?',\n",
       " 'pred': '依《靈樞．經脈》所記載：「是主筋所生病者，痔、瘧、狂、癲疾、頭顖、項痛，目黃、淚出，鼽\\n衄，項、背、腰、尻、膕、腨、腳皆痛，小趾不用」，指何經的病證內容？',\n",
       " 'nlabel': '依靈樞經脈所記載是主筋所生病者痔瘧狂癲疾頭顖項痛目黃淚出鼽衄項背腰尻膕腨腳皆痛小趾不用指何經的病證內容',\n",
       " 'npred': '依靈樞經脈所記載是主筋所生病者痔瘧狂癲疾頭顖項痛目黃淚出鼽衄項背腰尻膕腨腳皆痛小趾不用指何經的病證內容'}"
      ]
     },
     "execution_count": 30,
     "metadata": {},
     "output_type": "execute_result"
    }
   ],
   "source": [
    "all_case[2]"
   ]
  },
  {
   "cell_type": "code",
   "execution_count": 33,
   "id": "023f0c08-7b0d-481e-9180-bbbf265be936",
   "metadata": {},
   "outputs": [
    {
     "data": {
      "text/plain": [
       "{'qid': '9',\n",
       " 'label': '下列穴位屬三焦經與膽經的交會穴共有幾個?1臑會 2顴髎 3秉風 4聽宮 5耳門',\n",
       " 'pred': '下列穴位屬三焦經與膽經的交會穴共有幾個？①臑會\\u3000②顴髎\\u3000③秉風\\u3000④聽宮\\u3000⑤耳門',\n",
       " 'nlabel': '下列穴位屬三焦經與膽經的交會穴共有幾個1臑會2顴髎3秉風4聽宮5耳門',\n",
       " 'npred': '下列穴位屬三焦經與膽經的交會穴共有幾個1臑會2顴髎3秉風4聽宮5耳門'}"
      ]
     },
     "execution_count": 33,
     "metadata": {},
     "output_type": "execute_result"
    }
   ],
   "source": [
    "all_case[8]"
   ]
  },
  {
   "cell_type": "code",
   "execution_count": 32,
   "id": "68a4d3f0-165e-4746-b4d2-44cd6dc914dd",
   "metadata": {},
   "outputs": [
    {
     "data": {
      "text/plain": [
       "{'qid': '10',\n",
       " 'label': '有關手少陰心經的「通里穴」,下列敘述共幾項正確?1手少陰心經的郄穴 2馬丹陽天星十二穴 之一 3距離靈道穴五分 4配內關,治心絞痛',\n",
       " 'pred': '有關手少陰心經的「通里穴」，下列敘述共幾項正確？①手少陰心經的郄穴\\u3000②馬丹陽天星十二穴之一\\u3000③距離靈道穴五分\\u3000④配內關，治心絞痛',\n",
       " 'nlabel': '有關手少陰心經的通里穴下列敘述共幾項正確1手少陰心經的郄穴2馬丹陽天星十二穴之一3距離靈道穴五分4配內關治心絞痛',\n",
       " 'npred': '有關手少陰心經的通里穴下列敘述共幾項正確1手少陰心經的郄穴2馬丹陽天星十二穴之一3距離靈道穴五分4配內關治心絞痛'}"
      ]
     },
     "execution_count": 32,
     "metadata": {},
     "output_type": "execute_result"
    }
   ],
   "source": [
    "all_case[9]"
   ]
  },
  {
   "cell_type": "code",
   "execution_count": 34,
   "id": "f6dda90b-d8e6-4998-b497-b4fe8bd8a714",
   "metadata": {},
   "outputs": [
    {
     "data": {
      "text/plain": [
       "[{'qid': '28',\n",
       "  'label': '48歲女性患者,診斷為類風濕性關節炎已2年,主訴四肢肩膀至手指遊走性疼痛,夜間及氣候變化 疼痛加重。下列敘述何者錯誤?',\n",
       "  'pred': '28.48歲女性患者，診斷為類風濕性關節炎已2年，主訴四肢肩膀至手指遊走性疼痛，夜間及氣候變化疼痛加重。下列敘述何者錯誤？',\n",
       "  'nlabel': '48歲女性患者診斷為類風濕性關節炎已2年主訴四肢肩膀至手指遊走性疼痛夜間及氣候變化疼痛加重下列敘述何者錯誤',\n",
       "  'npred': '2848歲女性患者診斷為類風濕性關節炎已2年主訴四肢肩膀至手指遊走性疼痛夜間及氣候變化疼痛加重下列敘述何者錯誤'}]"
      ]
     },
     "execution_count": 34,
     "metadata": {},
     "output_type": "execute_result"
    }
   ],
   "source": [
    "fail_case"
   ]
  },
  {
   "cell_type": "code",
   "execution_count": null,
   "id": "e85d7d40-3efc-496f-b6b7-3be5e910ad30",
   "metadata": {},
   "outputs": [],
   "source": []
  }
 ],
 "metadata": {
  "kernelspec": {
   "display_name": "rag30",
   "language": "python",
   "name": "rag30"
  },
  "language_info": {
   "codemirror_mode": {
    "name": "ipython",
    "version": 3
   },
   "file_extension": ".py",
   "mimetype": "text/x-python",
   "name": "python",
   "nbconvert_exporter": "python",
   "pygments_lexer": "ipython3",
   "version": "3.12.0"
  }
 },
 "nbformat": 4,
 "nbformat_minor": 5
}
