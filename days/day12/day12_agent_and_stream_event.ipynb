{
 "cells": [
  {
   "cell_type": "raw",
   "id": "9f105bb7-8f44-4c9c-9c34-36754140ae0a",
   "metadata": {},
   "source": [
    "[streaming_events](https://developers.llamaindex.ai/python/framework/understanding/workflows/stream/)\n",
    "[react_agent_usage](https://github.com/run-llama/llama_index/blob/fa53efbf241a4a46e4ab8e12d87c915dea5fac1e/docs/docs/examples/agent/react_agent.ipynb#L4)"
   ]
  },
  {
   "cell_type": "code",
   "execution_count": null,
   "id": "09b2d55a-81be-4e34-9ddd-6d1f7987354c",
   "metadata": {},
   "outputs": [],
   "source": [
    "sub_question = '關於多發性硬化症（MS）現今常用的診斷檢查有哪些？'"
   ]
  },
  {
   "cell_type": "markdown",
   "id": "de1d68fd-d247-4ab0-9f56-6414442f34a9",
   "metadata": {},
   "source": [
    "# import"
   ]
  },
  {
   "cell_type": "code",
   "execution_count": null,
   "id": "5f81410c-7492-4209-ba8d-d1a9e79ab180",
   "metadata": {},
   "outputs": [],
   "source": [
    "import os\n",
    "from dotenv import find_dotenv, load_dotenv\n",
    "_ = load_dotenv(find_dotenv())\n",
    "\n",
    "TAVILY_API_KEY = os.getenv(\"TAVILY_API_KEY\")\n",
    "\n",
    "from llama_index.core.tools import FunctionTool\n",
    "from llama_index.core.agent.workflow import (\n",
    "    FunctionAgent,\n",
    "    ReActAgent,\n",
    ")"
   ]
  },
  {
   "cell_type": "markdown",
   "id": "79a019f5-1f2d-4fb0-a6cf-170b6a27f463",
   "metadata": {},
   "source": [
    "# tools"
   ]
  },
  {
   "cell_type": "code",
   "execution_count": null,
   "id": "5dcd9b9f-b9f0-4473-b38f-5a305b1d726c",
   "metadata": {},
   "outputs": [],
   "source": [
    "# tools\n",
    "from llama_index.tools.tavily_research.base import TavilyToolSpec\n",
    "\n",
    "tavily_tool = TavilyToolSpec(\n",
    "    api_key=TAVILY_API_KEY,\n",
    ")\n",
    "type(tavily_tool)  # llama_index.tools.tavily_research.base.TavilyToolSpec\n",
    "\n",
    "# 來學一下自訂 python function 當成 tool"
   ]
  },
  {
   "cell_type": "code",
   "execution_count": null,
   "id": "ef2843a5-5206-4f85-ace7-66d6d61d4403",
   "metadata": {},
   "outputs": [],
   "source": [
    "#tavily_tool_list = tavily_tool.to_tool_list()\n",
    "#type(tavily_tool_list[0])  # llama_index.core.tools.function_tool.FunctionTool\n",
    "\n",
    "from typing import List, Dict\n",
    "from llama_index.core import Document\n",
    "from llama_index.core.tools import FunctionTool\n",
    "MAX_RESULTS = 3\n",
    "\n",
    "def tavily_search(query: str) -> List[Document]:\n",
    "    \"\"\"Search Tavily and return a list[Document], one per result.\"\"\"\n",
    "    docs = tavily_tool.search(query=query, max_results=MAX_RESULTS)\n",
    "    return docs\n",
    "\n",
    "tavily_function_tool = FunctionTool.from_defaults(\n",
    "    fn=tavily_search,\n",
    "    name=\"tavily_search\",\n",
    "    description=\"Search Tavily and return a list of Document objects (one block per result).\",\n",
    ")\n",
    "# 本來是直接 tavily_tool.to_tool_list() -> 參數有 query 跟 max_result\n",
    "# 現在是包成 FunctionTool.from_defaults -> 參數只有 query\n",
    "# call: response = tavily_function_tool('多發性硬化症')"
   ]
  },
  {
   "cell_type": "raw",
   "id": "0b381b11-a0c4-450a-b6a1-fe18ff6d0a77",
   "metadata": {},
   "source": [
    "response = tavily_function_tool('多發性硬化症')\n",
    "len(response.blocks)  # 3"
   ]
  },
  {
   "cell_type": "markdown",
   "id": "0ea9ca9e-a035-4f27-9fdc-dd1750bc797f",
   "metadata": {},
   "source": [
    "# ReAct Agent"
   ]
  },
  {
   "cell_type": "code",
   "execution_count": null,
   "id": "2ee62d86-2426-40bb-9dc8-7a6bc050cbce",
   "metadata": {},
   "outputs": [],
   "source": [
    "from llama_index.llms.openai import OpenAI\n",
    "from llama_index.core.workflow import Context\n",
    "\n",
    "llm = OpenAI(model=\"gpt-5-mini\", temperature=0, is_streaming=False)  # streaming False for non-verified organisations\n",
    "agent = ReActAgent(tools=[tavily_function_tool], llm=llm, streaming=False, verbose=False)\n",
    "# Create a context to store the conversation history/session state\n",
    "ctx = Context(agent)"
   ]
  },
  {
   "cell_type": "code",
   "execution_count": null,
   "id": "b78be082-5361-4012-a159-cf011e26ead7",
   "metadata": {},
   "outputs": [],
   "source": [
    "from llama_index.core.agent.workflow import AgentInput, AgentOutput, ToolCall, ToolCallResult\n",
    "\n",
    "sub_question = '關於多發性硬化症（MS）現今常用的診斷檢查有哪些？'\n",
    "handler = agent.run(sub_question, ctx=ctx)\n",
    "rvs = []\n",
    "async for ev in handler.stream_events(expose_internal=False):\n",
    "    name = ev.__class__.__name__\n",
    "    print(f\"-----stream event: {name}\")\n",
    "    rvs.append((name, ev))\n",
    "\n",
    "    if isinstance(ev, AgentInput):\n",
    "        print(f\"len of chat message: {len(ev.input)}\")\n",
    "    elif isinstance(ev, AgentOutput):\n",
    "        print(ev.response.blocks[0].text)\n",
    "    elif isinstance(ev, ToolCall):\n",
    "        print(f\"{ev.tool_name}: {ev.tool_kwargs}\")\n",
    "    elif isinstance(ev, ToolCallResult):\n",
    "        num_rv = len(ev.tool_output.blocks)\n",
    "        print(f\"num_result: {num_rv}\")\n",
    "response = await handler\n",
    "#print(response)"
   ]
  },
  {
   "cell_type": "code",
   "execution_count": null,
   "id": "51912e4b-f46a-4052-8bbf-e1635aa690bb",
   "metadata": {},
   "outputs": [],
   "source": [
    "func_agent = FunctionAgent(tools=[tavily_function_tool], \n",
    "                           system_prompt='你是一個網路查詢助理，會先使用網路搜索工具來才回答問題。',\n",
    "                           llm=llm, streaming=False, verbose=False)\n",
    "ctx = Context(func_agent)"
   ]
  },
  {
   "cell_type": "code",
   "execution_count": null,
   "id": "1f271592-b92e-4ab4-a4d0-5b363371632f",
   "metadata": {},
   "outputs": [],
   "source": [
    "from llama_index.core.agent.workflow import AgentInput, AgentOutput, ToolCall, ToolCallResult\n",
    "\n",
    "sub_question = '關於多發性硬化症（MS）現今常用的診斷檢查有哪些？'\n",
    "handler = func_agent.run(sub_question, ctx=ctx)\n",
    "rvs = []\n",
    "async for ev in handler.stream_events(expose_internal=False):\n",
    "    name = ev.__class__.__name__\n",
    "    print(f\"-----stream event: {name}\")\n",
    "    rvs.append((name, ev))\n",
    "\n",
    "    if isinstance(ev, AgentInput):\n",
    "        print(f\"len of chat message: {len(ev.input)}\")\n",
    "    elif isinstance(ev, AgentOutput):\n",
    "        if len(ev.response.blocks):\n",
    "            print(ev.response.blocks[0].text)\n",
    "        else:\n",
    "            print(ev.response.additional_kwargs['tool_calls'])\n",
    "    elif isinstance(ev, ToolCall):\n",
    "        print(f\"{ev.tool_name}: {ev.tool_kwargs}\")\n",
    "    elif isinstance(ev, ToolCallResult):\n",
    "        num_rv = len(ev.tool_output.blocks)\n",
    "        print(f\"num_result: {num_rv}\")\n",
    "response = await handler\n",
    "#print(response)"
   ]
  },
  {
   "cell_type": "code",
   "execution_count": null,
   "id": "338c86bf-7b69-4035-a294-5e2358b7b33b",
   "metadata": {},
   "outputs": [],
   "source": [
    "rvs[1][1].response.additional_kwargs['tool_calls']"
   ]
  },
  {
   "cell_type": "code",
   "execution_count": null,
   "id": "dea3ae1b-5ddc-4b35-a85c-c09d0b620867",
   "metadata": {},
   "outputs": [],
   "source": [
    "rvs[1][1].response"
   ]
  },
  {
   "cell_type": "code",
   "execution_count": null,
   "id": "df1c2a17-41c3-4143-9be4-b3bd4e5c45a5",
   "metadata": {},
   "outputs": [],
   "source": [
    "rvs[0]"
   ]
  },
  {
   "cell_type": "code",
   "execution_count": null,
   "id": "92b14395-28b8-4277-9bbd-250a1acc5882",
   "metadata": {},
   "outputs": [],
   "source": [
    "response.tool_calls"
   ]
  },
  {
   "cell_type": "code",
   "execution_count": null,
   "id": "1cc2d879-4a2b-4eb7-aa06-3d241c9478e5",
   "metadata": {},
   "outputs": [],
   "source": [
    "agent = FunctionAgent(\n",
    "    tools=[multiply_tool, add_tool, subtract_tool],\n",
    "    llm=llm,\n",
    ")"
   ]
  },
  {
   "cell_type": "markdown",
   "id": "9734b3af-90ef-490e-86e8-81f1dbbb8e05",
   "metadata": {},
   "source": [
    "# view Prompts"
   ]
  },
  {
   "cell_type": "code",
   "execution_count": null,
   "id": "81e761fd-d347-419d-9199-94eabc17d50e",
   "metadata": {},
   "outputs": [],
   "source": [
    "agent.get_prompts()"
   ]
  },
  {
   "cell_type": "code",
   "execution_count": null,
   "id": "deb1a573-e669-49c6-be8e-ba5a5ab0cc47",
   "metadata": {},
   "outputs": [],
   "source": [
    "print(agent.get_prompts()['react_header'])"
   ]
  },
  {
   "cell_type": "code",
   "execution_count": null,
   "id": "93d6917d-6b63-4b3e-b508-5b9ef6fd9cff",
   "metadata": {},
   "outputs": [],
   "source": [
    "agent.get_tools()"
   ]
  },
  {
   "cell_type": "code",
   "execution_count": null,
   "id": "431e4d06-a48d-4c77-91b3-7c2ce1100309",
   "metadata": {},
   "outputs": [],
   "source": []
  }
 ],
 "metadata": {
  "kernelspec": {
   "display_name": "rag30",
   "language": "python",
   "name": "rag30"
  },
  "language_info": {
   "codemirror_mode": {
    "name": "ipython",
    "version": 3
   },
   "file_extension": ".py",
   "mimetype": "text/x-python",
   "name": "python",
   "nbconvert_exporter": "python",
   "pygments_lexer": "ipython3",
   "version": "3.12.0"
  }
 },
 "nbformat": 4,
 "nbformat_minor": 5
}
