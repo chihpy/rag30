{
 "cells": [
  {
   "cell_type": "code",
   "execution_count": 1,
   "id": "f4a56461-d14c-4f6f-9611-de54cc7628aa",
   "metadata": {},
   "outputs": [],
   "source": [
    "import os\n",
    "import json\n",
    "import pandas as pd\n",
    "from tqdm import tqdm\n",
    "\n",
    "from dotenv import find_dotenv, load_dotenv\n",
    "_ = load_dotenv(find_dotenv())\n",
    "\n",
    "from llama_index.llms.openai import OpenAI\n",
    "from llama_index.core.prompts import PromptTemplate\n",
    "from llama_index.core.evaluation import SemanticSimilarityEvaluator\n",
    "from llama_index.core.evaluation import CorrectnessEvaluator\n",
    "from llama_index.core.evaluation import FaithfulnessEvaluator\n",
    "\n",
    "from utils import json_load"
   ]
  },
  {
   "cell_type": "markdown",
   "id": "43c3de6b-29dc-4132-8f57-c08f966bce47",
   "metadata": {},
   "source": [
    "## data prepare"
   ]
  },
  {
   "cell_type": "code",
   "execution_count": 2,
   "id": "95361418-6971-49bc-9665-dfc58d317ae5",
   "metadata": {},
   "outputs": [
    {
     "name": "stdout",
     "output_type": "stream",
     "text": [
      "(8, 5)\n"
     ]
    },
    {
     "data": {
      "text/html": [
       "<div>\n",
       "<style scoped>\n",
       "    .dataframe tbody tr th:only-of-type {\n",
       "        vertical-align: middle;\n",
       "    }\n",
       "\n",
       "    .dataframe tbody tr th {\n",
       "        vertical-align: top;\n",
       "    }\n",
       "\n",
       "    .dataframe thead th {\n",
       "        text-align: right;\n",
       "    }\n",
       "</style>\n",
       "<table border=\"1\" class=\"dataframe\">\n",
       "  <thead>\n",
       "    <tr style=\"text-align: right;\">\n",
       "      <th></th>\n",
       "      <th>query</th>\n",
       "      <th>reference_contexts</th>\n",
       "      <th>reference_answer</th>\n",
       "      <th>reference_answer_by</th>\n",
       "      <th>query_by</th>\n",
       "    </tr>\n",
       "  </thead>\n",
       "  <tbody>\n",
       "    <tr>\n",
       "      <th>0</th>\n",
       "      <td>這門課希望學生從使用者變成什麼？</td>\n",
       "      <td>['各位同學大家好 我們來上課吧\\n剛才只是用Google的VO3\\n這個可以生成影片的人工...</td>\n",
       "      <td>理解者，甚至是創造者。</td>\n",
       "      <td>ai (gpt-5-mini)</td>\n",
       "      <td>ai (gpt-5-mini)</td>\n",
       "    </tr>\n",
       "    <tr>\n",
       "      <th>1</th>\n",
       "      <td>剛才用來生成倒數計時影片和讓人長出翅膀的影片是使用哪個工具？</td>\n",
       "      <td>['第一種\\n如果你未來想要更深入人工智慧領域\\n這門可絕對是很好的入門\\n當然要完全掌握A...</td>\n",
       "      <td>答案：Google 的 VO3</td>\n",
       "      <td>ai (gpt-5-mini)</td>\n",
       "      <td>ai (gpt-5-mini)</td>\n",
       "    </tr>\n",
       "    <tr>\n",
       "      <th>2</th>\n",
       "      <td>哪個軟體被用來合成講師的聲音？</td>\n",
       "      <td>['也是VO3自己生成的\\n他產生的影片是帶有聲音的\\n那其他中文講課的聲音也通通都是合成的...</td>\n",
       "      <td>答案：Eleven Labs。</td>\n",
       "      <td>ai (gpt-5-mini)</td>\n",
       "      <td>ai (gpt-5-mini)</td>\n",
       "    </tr>\n",
       "  </tbody>\n",
       "</table>\n",
       "</div>"
      ],
      "text/plain": [
       "                            query  \\\n",
       "0                這門課希望學生從使用者變成什麼？   \n",
       "1  剛才用來生成倒數計時影片和讓人長出翅膀的影片是使用哪個工具？   \n",
       "2                 哪個軟體被用來合成講師的聲音？   \n",
       "\n",
       "                                  reference_contexts reference_answer  \\\n",
       "0  ['各位同學大家好 我們來上課吧\\n剛才只是用Google的VO3\\n這個可以生成影片的人工...      理解者，甚至是創造者。   \n",
       "1  ['第一種\\n如果你未來想要更深入人工智慧領域\\n這門可絕對是很好的入門\\n當然要完全掌握A...  答案：Google 的 VO3   \n",
       "2  ['也是VO3自己生成的\\n他產生的影片是帶有聲音的\\n那其他中文講課的聲音也通通都是合成的...  答案：Eleven Labs。   \n",
       "\n",
       "  reference_answer_by         query_by  \n",
       "0     ai (gpt-5-mini)  ai (gpt-5-mini)  \n",
       "1     ai (gpt-5-mini)  ai (gpt-5-mini)  \n",
       "2     ai (gpt-5-mini)  ai (gpt-5-mini)  "
      ]
     },
     "execution_count": 2,
     "metadata": {},
     "output_type": "execute_result"
    }
   ],
   "source": [
    "# load ground-truth question and answer pair\n",
    "dataset_dir = os.path.join('data', 'source')\n",
    "dataset_file_path = os.path.join(dataset_dir, 'lee_course0_rag_dataset.csv')\n",
    "df = pd.read_csv(dataset_file_path)\n",
    "print(df.shape)\n",
    "df.head(3)"
   ]
  },
  {
   "cell_type": "code",
   "execution_count": 3,
   "id": "ec49b92f-ab87-4e83-b5b0-3c0ae55908e0",
   "metadata": {},
   "outputs": [
    {
     "name": "stdout",
     "output_type": "stream",
     "text": [
      "load data from: data/source/baseline_rag_result_R3.json\n"
     ]
    },
    {
     "data": {
      "text/html": [
       "<div>\n",
       "<style scoped>\n",
       "    .dataframe tbody tr th:only-of-type {\n",
       "        vertical-align: middle;\n",
       "    }\n",
       "\n",
       "    .dataframe tbody tr th {\n",
       "        vertical-align: top;\n",
       "    }\n",
       "\n",
       "    .dataframe thead th {\n",
       "        text-align: right;\n",
       "    }\n",
       "</style>\n",
       "<table border=\"1\" class=\"dataframe\">\n",
       "  <thead>\n",
       "    <tr style=\"text-align: right;\">\n",
       "      <th></th>\n",
       "      <th>query</th>\n",
       "      <th>reference_contexts</th>\n",
       "      <th>reference_answer</th>\n",
       "      <th>reference_answer_by</th>\n",
       "      <th>query_by</th>\n",
       "      <th>response</th>\n",
       "      <th>retrieved_nodes</th>\n",
       "      <th>reranked_nodes</th>\n",
       "    </tr>\n",
       "  </thead>\n",
       "  <tbody>\n",
       "    <tr>\n",
       "      <th>0</th>\n",
       "      <td>這門課希望學生從使用者變成什麼？</td>\n",
       "      <td>['各位同學大家好 我們來上課吧\\n剛才只是用Google的VO3\\n這個可以生成影片的人工...</td>\n",
       "      <td>理解者，甚至是創造者。</td>\n",
       "      <td>ai (gpt-5-mini)</td>\n",
       "      <td>ai (gpt-5-mini)</td>\n",
       "      <td>這門課希望學生從使用者變成創作者。</td>\n",
       "      <td>[{'id': '18773912-c8b5-4fb4-8d4b-cb4e38758012'...</td>\n",
       "      <td>[{'id': 'f1b8dce2-5b45-4ed8-b44d-0bf6e2306877'...</td>\n",
       "    </tr>\n",
       "    <tr>\n",
       "      <th>1</th>\n",
       "      <td>剛才用來生成倒數計時影片和讓人長出翅膀的影片是使用哪個工具？</td>\n",
       "      <td>['第一種\\n如果你未來想要更深入人工智慧領域\\n這門可絕對是很好的入門\\n當然要完全掌握A...</td>\n",
       "      <td>答案：Google 的 VO3</td>\n",
       "      <td>ai (gpt-5-mini)</td>\n",
       "      <td>ai (gpt-5-mini)</td>\n",
       "      <td>抱歉，無法提供該工具的資訊。</td>\n",
       "      <td>[{'id': '18773912-c8b5-4fb4-8d4b-cb4e38758012'...</td>\n",
       "      <td>[{'id': '18773912-c8b5-4fb4-8d4b-cb4e38758012'...</td>\n",
       "    </tr>\n",
       "    <tr>\n",
       "      <th>2</th>\n",
       "      <td>哪個軟體被用來合成講師的聲音？</td>\n",
       "      <td>['也是VO3自己生成的\\n他產生的影片是帶有聲音的\\n那其他中文講課的聲音也通通都是合成的...</td>\n",
       "      <td>答案：Eleven Labs。</td>\n",
       "      <td>ai (gpt-5-mini)</td>\n",
       "      <td>ai (gpt-5-mini)</td>\n",
       "      <td>沒有提到任何軟體被用來合成講師的聲音。</td>\n",
       "      <td>[{'id': '18773912-c8b5-4fb4-8d4b-cb4e38758012'...</td>\n",
       "      <td>[{'id': '18773912-c8b5-4fb4-8d4b-cb4e38758012'...</td>\n",
       "    </tr>\n",
       "  </tbody>\n",
       "</table>\n",
       "</div>"
      ],
      "text/plain": [
       "                            query  \\\n",
       "0                這門課希望學生從使用者變成什麼？   \n",
       "1  剛才用來生成倒數計時影片和讓人長出翅膀的影片是使用哪個工具？   \n",
       "2                 哪個軟體被用來合成講師的聲音？   \n",
       "\n",
       "                                  reference_contexts reference_answer  \\\n",
       "0  ['各位同學大家好 我們來上課吧\\n剛才只是用Google的VO3\\n這個可以生成影片的人工...      理解者，甚至是創造者。   \n",
       "1  ['第一種\\n如果你未來想要更深入人工智慧領域\\n這門可絕對是很好的入門\\n當然要完全掌握A...  答案：Google 的 VO3   \n",
       "2  ['也是VO3自己生成的\\n他產生的影片是帶有聲音的\\n那其他中文講課的聲音也通通都是合成的...  答案：Eleven Labs。   \n",
       "\n",
       "  reference_answer_by         query_by             response  \\\n",
       "0     ai (gpt-5-mini)  ai (gpt-5-mini)    這門課希望學生從使用者變成創作者。   \n",
       "1     ai (gpt-5-mini)  ai (gpt-5-mini)       抱歉，無法提供該工具的資訊。   \n",
       "2     ai (gpt-5-mini)  ai (gpt-5-mini)  沒有提到任何軟體被用來合成講師的聲音。   \n",
       "\n",
       "                                     retrieved_nodes  \\\n",
       "0  [{'id': '18773912-c8b5-4fb4-8d4b-cb4e38758012'...   \n",
       "1  [{'id': '18773912-c8b5-4fb4-8d4b-cb4e38758012'...   \n",
       "2  [{'id': '18773912-c8b5-4fb4-8d4b-cb4e38758012'...   \n",
       "\n",
       "                                      reranked_nodes  \n",
       "0  [{'id': 'f1b8dce2-5b45-4ed8-b44d-0bf6e2306877'...  \n",
       "1  [{'id': '18773912-c8b5-4fb4-8d4b-cb4e38758012'...  \n",
       "2  [{'id': '18773912-c8b5-4fb4-8d4b-cb4e38758012'...  "
      ]
     },
     "execution_count": 3,
     "metadata": {},
     "output_type": "execute_result"
    }
   ],
   "source": [
    "# load llm response\n",
    "response_dir = os.path.join('data', 'source')\n",
    "response_file_path = os.path.join(response_dir, 'baseline_rag_result_R3.json')\n",
    "#response_file_path = os.path.join(response_dir, 'baseline_rag_result.json')\n",
    "response = json_load(response_file_path)\n",
    "response_df = pd.DataFrame(response)\n",
    "df = pd.merge(df, response_df, how='left', on='query')\n",
    "df.head(3)"
   ]
  },
  {
   "cell_type": "code",
   "execution_count": 4,
   "id": "a8e2457d-0830-4829-b375-42aca6ffb542",
   "metadata": {},
   "outputs": [
    {
     "name": "stdout",
     "output_type": "stream",
     "text": [
      "baseline_rag_result_R3\n"
     ]
    }
   ],
   "source": [
    "pipeline_name = os.path.splitext(os.path.basename(response_file_path))[0]\n",
    "print(pipeline_name)\n",
    "save_dir = os.path.join('data', 'temp')\n",
    "os.makedirs(save_dir, exist_ok=True)\n",
    "save_file_path = os.path.join(save_dir, f\"{pipeline_name}_semantic.csv\")"
   ]
  },
  {
   "cell_type": "code",
   "execution_count": 5,
   "id": "a2e30e4a-0e7a-4eae-9ca2-e4abc6052550",
   "metadata": {},
   "outputs": [],
   "source": [
    "from llama_index.embeddings.openai import OpenAIEmbedding\n",
    "from llama_index.core.evaluation import SemanticSimilarityEvaluator\n",
    "embed_model = OpenAIEmbedding(model=\"text-embedding-3-small\")\n",
    "semantic_evaluator = SemanticSimilarityEvaluator(embed_model=embed_model, similarity_threshold=0.8)"
   ]
  },
  {
   "cell_type": "code",
   "execution_count": 6,
   "id": "d0fa30e5-ee03-4a73-a56f-63041b0be4bd",
   "metadata": {},
   "outputs": [
    {
     "name": "stderr",
     "output_type": "stream",
     "text": [
      "100%|█████████████████████████████████████████████████████████████████████████████████████| 8/8 [00:06<00:00,  1.24it/s]"
     ]
    },
    {
     "name": "stdout",
     "output_type": "stream",
     "text": [
      "write result to data/temp/baseline_rag_result_R3_semantic.csv\n"
     ]
    },
    {
     "name": "stderr",
     "output_type": "stream",
     "text": [
      "\n"
     ]
    }
   ],
   "source": [
    "similarity_score = []\n",
    "for idx, row in tqdm(df.iterrows(), total=len(df)):\n",
    "    reference = row.reference_answer\n",
    "    response = row.response\n",
    "    result = await semantic_evaluator.aevaluate(\n",
    "        response=response,\n",
    "        reference=reference,\n",
    "    )\n",
    "    similarity_score.append(result.score)\n",
    "\n",
    "df['similarity_score'] = similarity_score\n",
    "print('write result to ' + save_file_path)\n",
    "df.to_csv(save_file_path, index=False)"
   ]
  },
  {
   "cell_type": "code",
   "execution_count": 7,
   "id": "cda7fbd2-9ab0-4b36-a7f6-a32f6073f86f",
   "metadata": {},
   "outputs": [
    {
     "data": {
      "text/html": [
       "<div>\n",
       "<style scoped>\n",
       "    .dataframe tbody tr th:only-of-type {\n",
       "        vertical-align: middle;\n",
       "    }\n",
       "\n",
       "    .dataframe tbody tr th {\n",
       "        vertical-align: top;\n",
       "    }\n",
       "\n",
       "    .dataframe thead th {\n",
       "        text-align: right;\n",
       "    }\n",
       "</style>\n",
       "<table border=\"1\" class=\"dataframe\">\n",
       "  <thead>\n",
       "    <tr style=\"text-align: right;\">\n",
       "      <th></th>\n",
       "      <th>query</th>\n",
       "      <th>reference_contexts</th>\n",
       "      <th>reference_answer</th>\n",
       "      <th>reference_answer_by</th>\n",
       "      <th>query_by</th>\n",
       "      <th>response</th>\n",
       "      <th>retrieved_nodes</th>\n",
       "      <th>reranked_nodes</th>\n",
       "      <th>similarity_score</th>\n",
       "    </tr>\n",
       "  </thead>\n",
       "  <tbody>\n",
       "    <tr>\n",
       "      <th>0</th>\n",
       "      <td>這門課希望學生從使用者變成什麼？</td>\n",
       "      <td>['各位同學大家好 我們來上課吧\\n剛才只是用Google的VO3\\n這個可以生成影片的人工...</td>\n",
       "      <td>理解者，甚至是創造者。</td>\n",
       "      <td>ai (gpt-5-mini)</td>\n",
       "      <td>ai (gpt-5-mini)</td>\n",
       "      <td>這門課希望學生從使用者變成創作者。</td>\n",
       "      <td>[{'id': '18773912-c8b5-4fb4-8d4b-cb4e38758012'...</td>\n",
       "      <td>[{'id': 'f1b8dce2-5b45-4ed8-b44d-0bf6e2306877'...</td>\n",
       "      <td>0.468794</td>\n",
       "    </tr>\n",
       "    <tr>\n",
       "      <th>1</th>\n",
       "      <td>剛才用來生成倒數計時影片和讓人長出翅膀的影片是使用哪個工具？</td>\n",
       "      <td>['第一種\\n如果你未來想要更深入人工智慧領域\\n這門可絕對是很好的入門\\n當然要完全掌握A...</td>\n",
       "      <td>答案：Google 的 VO3</td>\n",
       "      <td>ai (gpt-5-mini)</td>\n",
       "      <td>ai (gpt-5-mini)</td>\n",
       "      <td>抱歉，無法提供該工具的資訊。</td>\n",
       "      <td>[{'id': '18773912-c8b5-4fb4-8d4b-cb4e38758012'...</td>\n",
       "      <td>[{'id': '18773912-c8b5-4fb4-8d4b-cb4e38758012'...</td>\n",
       "      <td>0.263029</td>\n",
       "    </tr>\n",
       "    <tr>\n",
       "      <th>2</th>\n",
       "      <td>哪個軟體被用來合成講師的聲音？</td>\n",
       "      <td>['也是VO3自己生成的\\n他產生的影片是帶有聲音的\\n那其他中文講課的聲音也通通都是合成的...</td>\n",
       "      <td>答案：Eleven Labs。</td>\n",
       "      <td>ai (gpt-5-mini)</td>\n",
       "      <td>ai (gpt-5-mini)</td>\n",
       "      <td>沒有提到任何軟體被用來合成講師的聲音。</td>\n",
       "      <td>[{'id': '18773912-c8b5-4fb4-8d4b-cb4e38758012'...</td>\n",
       "      <td>[{'id': '18773912-c8b5-4fb4-8d4b-cb4e38758012'...</td>\n",
       "      <td>0.222621</td>\n",
       "    </tr>\n",
       "  </tbody>\n",
       "</table>\n",
       "</div>"
      ],
      "text/plain": [
       "                            query  \\\n",
       "0                這門課希望學生從使用者變成什麼？   \n",
       "1  剛才用來生成倒數計時影片和讓人長出翅膀的影片是使用哪個工具？   \n",
       "2                 哪個軟體被用來合成講師的聲音？   \n",
       "\n",
       "                                  reference_contexts reference_answer  \\\n",
       "0  ['各位同學大家好 我們來上課吧\\n剛才只是用Google的VO3\\n這個可以生成影片的人工...      理解者，甚至是創造者。   \n",
       "1  ['第一種\\n如果你未來想要更深入人工智慧領域\\n這門可絕對是很好的入門\\n當然要完全掌握A...  答案：Google 的 VO3   \n",
       "2  ['也是VO3自己生成的\\n他產生的影片是帶有聲音的\\n那其他中文講課的聲音也通通都是合成的...  答案：Eleven Labs。   \n",
       "\n",
       "  reference_answer_by         query_by             response  \\\n",
       "0     ai (gpt-5-mini)  ai (gpt-5-mini)    這門課希望學生從使用者變成創作者。   \n",
       "1     ai (gpt-5-mini)  ai (gpt-5-mini)       抱歉，無法提供該工具的資訊。   \n",
       "2     ai (gpt-5-mini)  ai (gpt-5-mini)  沒有提到任何軟體被用來合成講師的聲音。   \n",
       "\n",
       "                                     retrieved_nodes  \\\n",
       "0  [{'id': '18773912-c8b5-4fb4-8d4b-cb4e38758012'...   \n",
       "1  [{'id': '18773912-c8b5-4fb4-8d4b-cb4e38758012'...   \n",
       "2  [{'id': '18773912-c8b5-4fb4-8d4b-cb4e38758012'...   \n",
       "\n",
       "                                      reranked_nodes  similarity_score  \n",
       "0  [{'id': 'f1b8dce2-5b45-4ed8-b44d-0bf6e2306877'...          0.468794  \n",
       "1  [{'id': '18773912-c8b5-4fb4-8d4b-cb4e38758012'...          0.263029  \n",
       "2  [{'id': '18773912-c8b5-4fb4-8d4b-cb4e38758012'...          0.222621  "
      ]
     },
     "execution_count": 7,
     "metadata": {},
     "output_type": "execute_result"
    }
   ],
   "source": [
    "df.head(3)"
   ]
  },
  {
   "cell_type": "code",
   "execution_count": null,
   "id": "d6f6cfd8-91b7-4aa3-8625-07bd46b8e9a9",
   "metadata": {},
   "outputs": [],
   "source": []
  }
 ],
 "metadata": {
  "kernelspec": {
   "display_name": "rag30",
   "language": "python",
   "name": "rag30"
  },
  "language_info": {
   "codemirror_mode": {
    "name": "ipython",
    "version": 3
   },
   "file_extension": ".py",
   "mimetype": "text/x-python",
   "name": "python",
   "nbconvert_exporter": "python",
   "pygments_lexer": "ipython3",
   "version": "3.12.0"
  }
 },
 "nbformat": 4,
 "nbformat_minor": 5
}
