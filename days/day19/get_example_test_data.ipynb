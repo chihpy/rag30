{
 "cells": [
  {
   "cell_type": "code",
   "execution_count": 1,
   "id": "890b5d9a-384d-47fe-89de-eaaee04f7042",
   "metadata": {},
   "outputs": [
    {
     "name": "stdout",
     "output_type": "stream",
     "text": [
      "['4_gemma.json', '3_llama_chat.json', '5_json_gemma.json', '2_llama_zh.json', '1_llama_en.json']\n",
      "['structured_output_dataset.json']\n"
     ]
    }
   ],
   "source": [
    "import os\n",
    "import json\n",
    "\n",
    "def mkdir(dir):\n",
    "    if os.path.isdir(dir):\n",
    "        print(f\"Directory '{dir}' already exists.\")\n",
    "    else:\n",
    "        os.makedirs(dir)\n",
    "        print(f\"Directory '{dir}' created successfully.\")\n",
    "\n",
    "def json_load(file_path):\n",
    "    #print(\"load data from: \" + file_path)\n",
    "    with open(file_path, 'r') as f:\n",
    "        data_dict = json.load(f)\n",
    "    return data_dict\n",
    "\n",
    "def json_dump(file_path, data):\n",
    "    \"\"\"\n",
    "    Dumps a dictionary to a JSON file.\n",
    "    \n",
    "    Parameters:\n",
    "    - data (dict): The dictionary to be dumped.\n",
    "    - filename (str): The path to the file where the JSON will be saved.\n",
    "    \"\"\"\n",
    "    try:\n",
    "        with open(file_path, 'w') as f:\n",
    "            print(\"write result to: \" + file_path)\n",
    "            json.dump(data, f, indent=1, ensure_ascii=False)\n",
    "\n",
    "    except Exception as e:\n",
    "        print(f\"Error occurred: {e}\")\n",
    "\n",
    "source_dir = os.path.join('..', 'day18', 'data')\n",
    "response_dir = os.path.join(source_dir, 'temp')\n",
    "print(os.listdir(response_dir))\n",
    "answer_dir = os.path.join(source_dir, 'source')\n",
    "print(os.listdir(answer_dir))"
   ]
  },
  {
   "cell_type": "code",
   "execution_count": 2,
   "id": "a13e06a5-fa74-4d8f-b188-7d5c18ddcef1",
   "metadata": {},
   "outputs": [],
   "source": [
    "# SemanticSimilarityEvaluator\n",
    "## input: response, reference_answer\n",
    "### response: json_gemma, llama_en\n",
    "## output: source, padding and similarity_threshold\n",
    "\n",
    "# CorrectnessEvaluator:\n",
    "## input: query, response, reference_answer\n",
    "### query: extract_prompt + text\n",
    "### response: json_gemma, llama_en\n",
    "### reference_answer: re\n",
    "## output: feedback, score, passing, and _score_threshold\n",
    "\n",
    "# FaithfulnessEvaluator:\n",
    "## input: prompt_faithfulness, response, context\n",
    "### response: json_gemma, fake_json_gemma\n",
    "### context: context\n",
    "## output: (0/1) feedback, passing, score"
   ]
  },
  {
   "cell_type": "code",
   "execution_count": 3,
   "id": "a3c63620-970d-4e9e-ba43-908f0f37f96b",
   "metadata": {},
   "outputs": [],
   "source": [
    "# let's collect our requirement\n",
    "data = {}"
   ]
  },
  {
   "cell_type": "code",
   "execution_count": 4,
   "id": "2969ee7c-5a97-4db0-94c7-6ce37ea44d83",
   "metadata": {},
   "outputs": [
    {
     "data": {
      "text/plain": [
       "{'query': 'Pydantic',\n",
       " 'query_by': 'human',\n",
       " 'reference_answer': {'qid': '1',\n",
       "  'stem': '常見針灸配穴法中,所指的「四關穴」,為下列何穴位之組合?',\n",
       "  'A': '上星、日月',\n",
       "  'B': '合谷、太衝',\n",
       "  'C': '內關、外關',\n",
       "  'D': '上關、下關'},\n",
       " 'reference_answer_by': {'model_name': 're', 'type': 'ai'},\n",
       " 'reference_context': ['1.常見針灸配穴法中，所指的「四關穴」，為下列何穴位之組合？\\n\\xa0\\nA.上星、日月\\nB.合谷、太衝\\nC.內關、外關\\nD.上關、下關']}"
      ]
     },
     "execution_count": 4,
     "metadata": {},
     "output_type": "execute_result"
    }
   ],
   "source": [
    "redata = json_load(os.path.join(answer_dir, 'structured_output_dataset.json'))\n",
    "redata['examples'][0]"
   ]
  },
  {
   "cell_type": "code",
   "execution_count": 5,
   "id": "bc47ab71-a7d1-4956-b9d0-dbc7e750c3a4",
   "metadata": {},
   "outputs": [
    {
     "data": {
      "text/plain": [
       "'1.常見針灸配穴法中，所指的「四關穴」，為下列何穴位之組合？\\n\\xa0\\nA.上星、日月\\nB.合谷、太衝\\nC.內關、外關\\nD.上關、下關'"
      ]
     },
     "execution_count": 5,
     "metadata": {},
     "output_type": "execute_result"
    }
   ],
   "source": [
    "context = redata['examples'][0]['reference_context'][0]\n",
    "context"
   ]
  },
  {
   "cell_type": "code",
   "execution_count": 6,
   "id": "f000f900-08c6-4af2-99a9-b7f5eb460818",
   "metadata": {},
   "outputs": [
    {
     "data": {
      "text/plain": [
       "{'qid': '1',\n",
       " 'stem': '常見針灸配穴法中,所指的「四關穴」,為下列何穴位之組合?',\n",
       " 'A': '上星、日月',\n",
       " 'B': '合谷、太衝',\n",
       " 'C': '內關、外關',\n",
       " 'D': '上關、下關'}"
      ]
     },
     "execution_count": 6,
     "metadata": {},
     "output_type": "execute_result"
    }
   ],
   "source": [
    "reference_answer = redata['examples'][0]['reference_answer']\n",
    "reference_answer"
   ]
  },
  {
   "cell_type": "code",
   "execution_count": 7,
   "id": "8e84c93d-68e3-48f0-b829-a385731c23bc",
   "metadata": {},
   "outputs": [
    {
     "data": {
      "text/plain": [
       "{'qid': 1,\n",
       " 'stem': '常見針灸配穴法中，所指的「四關穴」，為下列何穴位之組合？',\n",
       " 'A': '上星、日月',\n",
       " 'B': '合谷、太衝',\n",
       " 'C': '內關、外關',\n",
       " 'D': '上關、下關'}"
      ]
     },
     "execution_count": 7,
     "metadata": {},
     "output_type": "execute_result"
    }
   ],
   "source": [
    "# get response from json_gemma\n",
    "json_gemma_answer = json_load(os.path.join(response_dir, '5_json_gemma.json'))\n",
    "json_gemma_response = json_gemma_answer[0]['response']\n",
    "json_gemma_response"
   ]
  },
  {
   "cell_type": "code",
   "execution_count": 8,
   "id": "e16918b9-4677-48f8-8cb6-08acaaecf29d",
   "metadata": {},
   "outputs": [
    {
     "data": {
      "text/plain": [
       "{'A': '主蒙，曜月',\n",
       " 'B': '合座，夡里',\n",
       " 'C': '到递，割递',\n",
       " 'D': '主递，一递',\n",
       " 'qid': 1,\n",
       " 'stem': '台九気动组化。\\n\\nA.主蒙，曜月\\nB.合座，夡里\\nC.到递，割递\\nD.主递，一递'}"
      ]
     },
     "execution_count": 8,
     "metadata": {},
     "output_type": "execute_result"
    }
   ],
   "source": [
    "llama_en_answer = json_load(os.path.join(response_dir, '1_llama_en.json'))\n",
    "llama_en_response = llama_en_answer[7]['response']\n",
    "llama_en_response"
   ]
  },
  {
   "cell_type": "code",
   "execution_count": 9,
   "id": "b03ec122-1d08-47f6-9251-5ce847733d90",
   "metadata": {},
   "outputs": [
    {
     "data": {
      "text/plain": [
       "{'context': '1.常見針灸配穴法中，所指的「四關穴」，為下列何穴位之組合？\\n\\xa0\\nA.上星、日月\\nB.合谷、太衝\\nC.內關、外關\\nD.上關、下關',\n",
       " 'reference_answer': {'qid': '1',\n",
       "  'stem': '常見針灸配穴法中,所指的「四關穴」,為下列何穴位之組合?',\n",
       "  'A': '上星、日月',\n",
       "  'B': '合谷、太衝',\n",
       "  'C': '內關、外關',\n",
       "  'D': '上關、下關'},\n",
       " 'json_gemma_response': {'qid': 1,\n",
       "  'stem': '常見針灸配穴法中，所指的「四關穴」，為下列何穴位之組合？',\n",
       "  'A': '上星、日月',\n",
       "  'B': '合谷、太衝',\n",
       "  'C': '內關、外關',\n",
       "  'D': '上關、下關'},\n",
       " 'llama_en_response': {'A': '主蒙，曜月',\n",
       "  'B': '合座，夡里',\n",
       "  'C': '到递，割递',\n",
       "  'D': '主递，一递',\n",
       "  'qid': 1,\n",
       "  'stem': '台九気动组化。\\n\\nA.主蒙，曜月\\nB.合座，夡里\\nC.到递，割递\\nD.主递，一递'}}"
      ]
     },
     "execution_count": 9,
     "metadata": {},
     "output_type": "execute_result"
    }
   ],
   "source": [
    "data['context'] = context\n",
    "data['reference_answer'] = reference_answer\n",
    "data['json_gemma_response'] = json_gemma_response\n",
    "data['llama_en_response'] = llama_en_response\n",
    "data"
   ]
  },
  {
   "cell_type": "code",
   "execution_count": 10,
   "id": "39a80470-0d6f-4ea3-bdbe-f2af0d7bdd8f",
   "metadata": {},
   "outputs": [
    {
     "name": "stdout",
     "output_type": "stream",
     "text": [
      "Directory 'data/source' created successfully.\n",
      "write result to: data/source/example_test_data.json\n"
     ]
    }
   ],
   "source": [
    "DEST_DIR = os.path.join('data', 'source')\n",
    "mkdir(DEST_DIR)\n",
    "save_file_path = os.path.join(DEST_DIR, 'example_test_data.json')\n",
    "json_dump(save_file_path, data)"
   ]
  }
 ],
 "metadata": {
  "kernelspec": {
   "display_name": "rag30",
   "language": "python",
   "name": "rag30"
  },
  "language_info": {
   "codemirror_mode": {
    "name": "ipython",
    "version": 3
   },
   "file_extension": ".py",
   "mimetype": "text/x-python",
   "name": "python",
   "nbconvert_exporter": "python",
   "pygments_lexer": "ipython3",
   "version": "3.12.0"
  }
 },
 "nbformat": 4,
 "nbformat_minor": 5
}
