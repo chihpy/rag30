{
 "cells": [
  {
   "cell_type": "code",
   "execution_count": 3,
   "id": "e00e4dbd-7f86-4e3f-a2ff-b5d8bf8185dd",
   "metadata": {},
   "outputs": [],
   "source": [
    "import os\n",
    "from dotenv import find_dotenv, load_dotenv\n",
    "_ = load_dotenv(find_dotenv())\n",
    "import json\n",
    "from utils import json_load, json_dump, mkdir"
   ]
  },
  {
   "cell_type": "code",
   "execution_count": 4,
   "id": "9af2bd19-b952-4978-9c17-38aebad6b106",
   "metadata": {
    "scrolled": true
   },
   "outputs": [
    {
     "name": "stdout",
     "output_type": "stream",
     "text": [
      "load data from: data/deliverables/gemma_response_with_tavily.json\n"
     ]
    },
    {
     "data": {
      "text/plain": [
       "{'query': '題目: 常見針灸配穴法中,所指的「四關穴」,為下列何穴位之組合?\\n選項:\\n A: 上星、日月\\n B: 合谷、太衝\\n C: 內關、外關\\n D: 上關、下關\\n',\n",
       " 'reference_answer': 'B',\n",
       " 'response': {'ans': 'C',\n",
       "  'feedback': '題目問的是「四關穴」，而參考資料中沒有提及四關穴的定義或組成。因此，無法根據提供的資料判斷正確答案。'},\n",
       " 'wiki_results': {'四關穴': None,\n",
       "  '合谷': {'title': '合谷穴',\n",
       "   'url': 'https://zh.wikipedia.org/wiki/%E5%90%88%E8%B0%B7%E7%A9%B4',\n",
       "   'summary': '合谷穴（LI 4）是手陽明大腸經的原穴，出自《靈樞·本輸》，又名虎口。“合”意即合攏，“谷”是山谷的意思。此穴在第一、二掌骨之間，兩骨相合，形狀如山谷的地方，所以名為合谷。又因位於手拇指虎口兩骨之間，所以又稱為虎口。',\n",
       "   'content': '合谷穴（LI 4）是手陽明大腸經的原穴，出自《靈樞·本輸》，又名虎口。“合”意即合攏，“谷”是山谷的意思。此穴在第一、二掌骨之間，兩骨相合，形狀如山谷的地方，所以名為合谷。又因位於手拇指虎口兩骨之間，所以又稱為虎口。\\n\\n\\n== 定位 ==\\n位於手背，第一、二掌骨之間，約當第二掌骨橈側的中點處取穴。\\n\\n\\n== 取穴法 ==\\n簡便取穴法：以一手的拇指指骨關節橫紋，放在另一手拇、食指之間的指蹼緣上，當拇指尖下是穴。\\n\\n《針灸甲乙經》：在手大指次指歧骨間。\\n《針灸大成》：在手大指次指歧骨間陷中。\\n\\n\\n== 局部解剖 ==\\n在第一、二掌骨之間，第一骨間背側肌中，深層有拇內收肌橫頭。有手背靜脈網。腧穴近側正當橈動脈從手背穿向手掌之處。布有橈神經淺支的掌背側神經，深部有正中神經的指掌側固有神經。\\n\\n\\n== 刺灸法 ==\\n直刺0.5-0.8寸，可灸。\\n\\n《針灸大成》：針三分, 留六呼, 灸三壯。合谷，婦人妊娠可瀉不可補，補即墮胎。\\n\\n\\n== 主治 ==\\n功能：清熱解表，明目聰耳，鎮靜止痛\\n主治：\\n\\n本經脈所過部位的疾患：指孿，臂痛，半身不遂。\\n外感疾患：熱病無汗，多汗，咳嗽。\\n五官疾患：頭痛眩暈，目赤腫痛，鼻衂鼻淵，齒痛耳聾，痄腮，面腫，咽喉腫痛，咽喉痕痒，牙關緊閉，口眼歪斜，失喑。\\n胃腸疾患：胃痛，腹痛，便秘，痢疾。\\n皮膚疾患：疔瘡，瘾疹，疥瘡。\\n婦科疾患：經閉，滯產。\\n兒科疾患：小兒惊風。\\n《四總穴歌》：面口合谷收。\\n《醫宗金鑒》：破傷風、風痺、筋骨疼痛、諸般頭痛、水腫、難產及小兒惊風。\\n\\n\\n== 注釋 =='},\n",
       "  '太衝': None,\n",
       "  '內關': None,\n",
       "  '外關': None},\n",
       " 'keywords': ['四關穴', '合谷', '太衝', '內關', '外關'],\n",
       " 'context': '-----搜索關鍵字: 合谷\\n條目名稱: 合谷穴\\n內容: 合谷穴（LI 4）是手陽明大腸經的原穴，出自《靈樞·本輸》，又名虎口。“合”意即合攏，“谷”是山谷的意思。此穴在第一、二掌骨之間，兩骨相合，形狀如山谷的地方，所以名為合谷。又因位於手拇指虎口兩骨之間，所以又稱為虎口。\\n\\n\\n== 定位 ==\\n位於手背，第一、二掌骨之間，約當第二掌骨橈側的中點處取穴。\\n\\n\\n== 取穴法 ==\\n簡便取穴法：以一手的拇指指骨關節橫紋，放在另一手拇、食指之間的指蹼緣上，當拇指尖下是穴。\\n\\n《針灸甲乙經》：在手大指次指歧骨間。\\n《針灸大成》：在手大指次指歧骨間陷中。\\n\\n\\n== 局部解剖 ==\\n在第一、二掌骨之間，第一骨間背側肌中，深層有拇內收肌橫頭。有手背靜脈網。腧穴近側正當橈動脈從手背穿向手掌之處。布有橈神經淺支的掌背側神經，深部有正中神經的指掌側固有神經。\\n\\n\\n== 刺灸法 ==\\n直刺0.5-0.8寸，可灸。\\n\\n《針灸大成》：針三分, 留六呼, 灸三壯。合谷，婦人妊娠可瀉不可補，補即墮胎。\\n\\n\\n== 主治 ==\\n功能：清熱解表，明目聰耳，鎮靜止痛\\n主治：\\n\\n本經脈所過部位的疾患：指孿，臂痛，半身不遂。\\n外感疾患：熱病無汗，多汗，咳嗽。\\n五官疾患：頭痛眩暈，目赤腫痛，鼻衂鼻淵，齒痛耳聾，痄腮，面腫，咽喉腫痛，咽喉痕痒，牙關緊閉，口眼歪斜，失喑。\\n胃腸疾患：胃痛，腹痛，便秘，痢疾。\\n皮膚疾患：疔瘡，瘾疹，疥瘡。\\n婦科疾患：經閉，滯產。\\n兒科疾患：小兒惊風。\\n《四總穴歌》：面口合谷收。\\n《醫宗金鑒》：破傷風、風痺、筋骨疼痛、諸般頭痛、水腫、難產及小兒惊風。\\n\\n\\n== 注釋 ==\\n-----',\n",
       " 'cr_feedback': '1) 是否與使用者查詢的主題相符？\\n評分：1.0 / 2.0\\n回饋：檢索內容為「合谷穴」的完整條目，與題目選項中的「合谷」完全相關，因而部分符合查詢主題。但題目問的是「四關穴」的組合（典型上為合谷與太衝的配合），而檢索內容並未提及「四關」或另一穴位「太衝」，故僅能部分對應查詢主題而非完全匹配。\\n\\n2) 檢索內容是否可單獨用來完整回答使用者的問題？\\n評分：0.0 / 2.0\\n回饋：不能單獨使用。雖有合谷的詳細資料，但未提供「四關穴」的定義或組合（即是否為合谷+太衝），也缺乏太衝穴（太沖、LV3）的資訊，因此無法憑此內容完整判定正確選項或解釋四關的意義與用途。\\n\\n總結建議：需補充關於「四關」或「四關穴」（或稱“四關法”/「四關穴位配伍」）的來源說明，並提供太衝（太沖／太衝穴、LV3）的條目或說明，才能充分並確定地回答題目（正確選項為 B：合谷、太衝）。\\n\\n[RESULT] 1.0',\n",
       " 'cr_score': 0.25,\n",
       " 'ff_feedback': 'NO',\n",
       " 'ff_score': 0.0,\n",
       " 'evaluator_result': {'verdict': 'incorrect',\n",
       "  'next_query': '四關穴是哪些穴位組合？(查詢：四關穴 合谷 太衝 內關 外關 上星 日月 上關 下關)'},\n",
       " 'tavily_response': [{'url': 'https://www.medsci.cn/article/show_article.do?id=a208810e0081',\n",
       "   'txt': '合谷、太冲两对穴位一上一下，上下对应，好似把住人体的主要关口。 · 太冲穴属足厥阴肝经之原穴；合谷穴属手阳明大肠经之原穴。 · 太冲穴属足厥阴肝经，为少气多'},\n",
       "  {'url': 'https://health.baidu.com/m/detail/ar_14987693690775503196',\n",
       "   'txt': '四关穴是合谷穴与太冲穴的合称，左右各一对，合称四关。四关穴具有疏肝理气、调和气血、通经活络等功效，在中医临床中常用于调理气机不畅、经络不通等证'},\n",
       "  {'url': 'https://www.toutiao.com/article/6976773933915734539/',\n",
       "   'txt': '四关穴与气血、阴阳学说也有着密切的关系。合谷为大肠原穴，为阳，主气；太冲，肝经原穴，为阴，主血，两者可谓气化功能之关键，气血通行之要塞，以应“气行则血行，'},\n",
       "  {'url': 'https://pdf.hanspub.org/tcm2025142_502272505.pdf',\n",
       "   'txt': '如太冲、阳陵泉等则从整体上调整机体的气血和经络，体现了中医的整体观念；组合②有清解热邪、祛 瘀通络、舒筋止痛的作用，对于辩证为血热证的PHN 疗效佳；组合③支沟穴《类经图翼》中指出：“凡 三焦相火炽盛，及大便不通，胁肋疼痛者，俱得泻之。”即支沟穴具疏利三焦，缓解疼痛的作用，亦可辩 证搭配组合②加强泄热的作用；组合④为足太阴脾经上的穴位，脾喜燥恶湿，为后天之本，所有的生命 活动都有赖于后天的脾胃摄入营养物质提供能量，脾的功能状态直接影响到人体的健康和疾病状态，故 取阴陵泉祛湿健脾和胃之效。组合⑤有助于调节机体的免疫功能，改善局部血液循环，减轻炎症反应， 从而缓解PHN 的症状。在TN 的聚类分析中同样得到5 个核心聚类群，组合①：合谷–下关–四白–地 仓–内庭–太冲；组合②：颧髎–迎香；组合③：颊车–翳风；组合④：攒竹–阳白；组合⑤：风池–太 阳。组合①为治疗TN 的常用穴位，体现了针灸中“远近配伍”的配穴原则，还有“开四关”的治疗方 法，《标幽赋》中提出：“拘挛闭塞，遣八邪而去矣；寒热痹痛，开四关而已之。”即合谷、太冲配伍可 [...] 下关(79)风池(60)四白(53)地仓(41)攒竹(40)颊车(33)太阳(30)颧髎(28)阳白 (25)迎香(24)翳风(21)承浆(18)天柱(18)神庭(17)完骨(17)印堂(17)鱼腰(16) 水沟(15)丝竹空(12)百会(11)头维(10)夹承浆(10)大迎(5)巨髎(5)风府(4)上 关(4)颅息(3)听宫(3)列缺(2)大椎(1)耳门(1)颔厌(1)上星(1)四神聪(1) 麦书铭 等 DOI: 10.12677/tcm.2025.142118 790 中医学 续表 胸腹部 3 (0.33%) 3 (5.45%) 期门(1)气海(1)膻中(1) 腰背部 4 (0.44%) 1 (1.81%) 膈俞(4) 上肢部 129 (14.16%) 6 (10.90%) 合谷(107)外关(11)曲池(5)内关(3)温溜(2)神门(1) 下肢部 130 (14.57%) 11 (20.00%) 内庭(47)太冲(45)丘墟(12)三阴交(8)血海(4)阳陵泉(4)足临泣(4)行间(3)梁 丘(1)太溪(1)足三里(1) 由于阿是穴位置非固定，故排除在外后共纳入100 [...] 10.12677/tcm.2025.142118 785 中医学 ② 科技成果、动物实验、研究进展、Meta 分析、会议论文、机制研究、不具代表性的个案报道等非 临床研究类文献； ③ 干预措施非以普通针刺为主的治疗，且病例数 < 20 例； ④ 无明确的针灸处方； ⑤ 重复发表的文章。 2.5. 文献筛选流程 ① 第一次筛选：快速浏览文献的题目、摘要，从多个数据库中搜寻相关信息，并使用NoteExpress 软件对其中的内容进行分类、去重，依据纳排标准，筛选与本次研究无关的文献； ② 第二次筛选：下载并阅读全文，再次按纳入、排除标准，确定符合本研究的文献；最终纳入共文 献118 篇。 2.6. 腧穴名称规范 依据《腧穴名称与定位》(GB/T 12346-2006)和《针灸穴名国际标准化手册》，对所有采用的腧穴统 一归类，以确保其正确性及规范化。同一穴位，不同名称的统一名称，如“人中”统一为“水沟”， “肾 腧”统一为“肾俞”，若涉及透刺，如“迎香透四白”则按“迎香”“四白”两个穴位来记录，若涉及穴 位组合，如“四关穴”，则拆分为“合谷”“太冲”两个穴位记录。 2.7. 数据分析'},\n",
       "  {'url': 'https://zhuanlan.zhihu.com/p/13674152581',\n",
       "   'txt': '一、针灸口诀头面颈项部病症面口针合谷，眩晕配太冲；风池清头目，颞痛太阳攻。 鼻塞迎香穴，印堂眉额中；目疾睛明取，承泣球后同。 牙关面颊症，下关与翳风；'}],\n",
       " 'context_v2': '合谷、太冲两对穴位一上一下，上下对应，好似把住人体的主要关口。 · 太冲穴属足厥阴肝经之原穴；合谷穴属手阳明大肠经之原穴。 · 太冲穴属足厥阴肝经，为少气多\\n\\n四关穴是合谷穴与太冲穴的合称，左右各一对，合称四关。四关穴具有疏肝理气、调和气血、通经活络等功效，在中医临床中常用于调理气机不畅、经络不通等证\\n\\n四关穴与气血、阴阳学说也有着密切的关系。合谷为大肠原穴，为阳，主气；太冲，肝经原穴，为阴，主血，两者可谓气化功能之关键，气血通行之要塞，以应“气行则血行，\\n\\n如太冲、阳陵泉等则从整体上调整机体的气血和经络，体现了中医的整体观念；组合②有清解热邪、祛 瘀通络、舒筋止痛的作用，对于辩证为血热证的PHN 疗效佳；组合③支沟穴《类经图翼》中指出：“凡 三焦相火炽盛，及大便不通，胁肋疼痛者，俱得泻之。”即支沟穴具疏利三焦，缓解疼痛的作用，亦可辩 证搭配组合②加强泄热的作用；组合④为足太阴脾经上的穴位，脾喜燥恶湿，为后天之本，所有的生命 活动都有赖于后天的脾胃摄入营养物质提供能量，脾的功能状态直接影响到人体的健康和疾病状态，故 取阴陵泉祛湿健脾和胃之效。组合⑤有助于调节机体的免疫功能，改善局部血液循环，减轻炎症反应， 从而缓解PHN 的症状。在TN 的聚类分析中同样得到5 个核心聚类群，组合①：合谷–下关–四白–地 仓–内庭–太冲；组合②：颧髎–迎香；组合③：颊车–翳风；组合④：攒竹–阳白；组合⑤：风池–太 阳。组合①为治疗TN 的常用穴位，体现了针灸中“远近配伍”的配穴原则，还有“开四关”的治疗方 法，《标幽赋》中提出：“拘挛闭塞，遣八邪而去矣；寒热痹痛，开四关而已之。”即合谷、太冲配伍可 [...] 下关(79)风池(60)四白(53)地仓(41)攒竹(40)颊车(33)太阳(30)颧髎(28)阳白 (25)迎香(24)翳风(21)承浆(18)天柱(18)神庭(17)完骨(17)印堂(17)鱼腰(16) 水沟(15)丝竹空(12)百会(11)头维(10)夹承浆(10)大迎(5)巨髎(5)风府(4)上 关(4)颅息(3)听宫(3)列缺(2)大椎(1)耳门(1)颔厌(1)上星(1)四神聪(1) 麦书铭 等 DOI: 10.12677/tcm.2025.142118 790 中医学 续表 胸腹部 3 (0.33%) 3 (5.45%) 期门(1)气海(1)膻中(1) 腰背部 4 (0.44%) 1 (1.81%) 膈俞(4) 上肢部 129 (14.16%) 6 (10.90%) 合谷(107)外关(11)曲池(5)内关(3)温溜(2)神门(1) 下肢部 130 (14.57%) 11 (20.00%) 内庭(47)太冲(45)丘墟(12)三阴交(8)血海(4)阳陵泉(4)足临泣(4)行间(3)梁 丘(1)太溪(1)足三里(1) 由于阿是穴位置非固定，故排除在外后共纳入100 [...] 10.12677/tcm.2025.142118 785 中医学 ② 科技成果、动物实验、研究进展、Meta 分析、会议论文、机制研究、不具代表性的个案报道等非 临床研究类文献； ③ 干预措施非以普通针刺为主的治疗，且病例数 < 20 例； ④ 无明确的针灸处方； ⑤ 重复发表的文章。 2.5. 文献筛选流程 ① 第一次筛选：快速浏览文献的题目、摘要，从多个数据库中搜寻相关信息，并使用NoteExpress 软件对其中的内容进行分类、去重，依据纳排标准，筛选与本次研究无关的文献； ② 第二次筛选：下载并阅读全文，再次按纳入、排除标准，确定符合本研究的文献；最终纳入共文 献118 篇。 2.6. 腧穴名称规范 依据《腧穴名称与定位》(GB/T 12346-2006)和《针灸穴名国际标准化手册》，对所有采用的腧穴统 一归类，以确保其正确性及规范化。同一穴位，不同名称的统一名称，如“人中”统一为“水沟”， “肾 腧”统一为“肾俞”，若涉及透刺，如“迎香透四白”则按“迎香”“四白”两个穴位来记录，若涉及穴 位组合，如“四关穴”，则拆分为“合谷”“太冲”两个穴位记录。 2.7. 数据分析\\n\\n一、针灸口诀头面颈项部病症面口针合谷，眩晕配太冲；风池清头目，颞痛太阳攻。 鼻塞迎香穴，印堂眉额中；目疾睛明取，承泣球后同。 牙关面颊症，下关与翳风；\\n\\n',\n",
       " 'response_v2': {'ans': 'B', 'feedback': '根据参考资料，四关穴是合谷穴与太冲穴的合称。'}}"
      ]
     },
     "execution_count": 4,
     "metadata": {},
     "output_type": "execute_result"
    }
   ],
   "source": [
    "K = 10\n",
    "SOURCE_DIR = os.path.join('data', 'deliverables')\n",
    "exam_dataset_file_path = os.path.join(SOURCE_DIR, 'gemma_response_with_tavily.json')\n",
    "exam_data = json_load(exam_dataset_file_path)\n",
    "exam_data[0]"
   ]
  },
  {
   "cell_type": "code",
   "execution_count": 5,
   "id": "8c9380a4-6f1c-4788-b602-0c4a1b5c7235",
   "metadata": {},
   "outputs": [],
   "source": [
    "from llama_index.llms.openai import OpenAI\n",
    "from llama_index.core.evaluation import FaithfulnessEvaluator\n",
    "from llama_index.core.evaluation import ContextRelevancyEvaluator\n",
    "llm = OpenAI(model=\"gpt-5-mini\", temperature=0, is_streaming=False)\n",
    "faithful = FaithfulnessEvaluator(llm=llm)\n",
    "context_relevancy = ContextRelevancyEvaluator(llm)"
   ]
  },
  {
   "cell_type": "code",
   "execution_count": 6,
   "id": "0bd51ee7-f730-4285-b456-59ae7caac73f",
   "metadata": {},
   "outputs": [
    {
     "name": "stderr",
     "output_type": "stream",
     "text": [
      "/home/poyuan/miniconda3/envs/rag30/lib/python3.12/site-packages/tqdm/auto.py:21: TqdmWarning: IProgress not found. Please update jupyter and ipywidgets. See https://ipywidgets.readthedocs.io/en/stable/user_install.html\n",
      "  from .autonotebook import tqdm as notebook_tqdm\n"
     ]
    }
   ],
   "source": [
    "rvs = []\n",
    "for idx, qset in enumerate(exam_data):\n",
    "    print(idx, end=', ')\n",
    "    rv = qset.copy()\n",
    "    query = qset['query']\n",
    "    response = f\"ans: {qset['response_v2']['ans']}\\nfeedback: {qset['response_v2']['feedback']}\"\n",
    "    context = qset['context_v2']\n",
    "    cr_result = context_relevancy.evaluate(query=query, contexts=[context])\n",
    "    rv['cr_feedback'] = cr_result.feedback\n",
    "    rv['cr_score'] = cr_result.score\n",
    "\n",
    "    ff_result = faithful.evaluate(response=response, contexts=[context])\n",
    "    rv['ff_feedback'] = ff_result.feedback\n",
    "    rv['ff_score'] = ff_result.score\n",
    "    rvs.append(rv)"
   ]
  },
  {
   "cell_type": "code",
   "execution_count": 7,
   "id": "89c9dd11-8fa5-485c-9682-effcd9e03ba0",
   "metadata": {},
   "outputs": [
    {
     "name": "stdout",
     "output_type": "stream",
     "text": [
      "dump result to: data/deliverables/gemma_response_with_tavily_proxy.json\n"
     ]
    }
   ],
   "source": [
    "DEST_DIR = os.path.join('data', 'deliverables')\n",
    "save_file_path = os.path.join(DEST_DIR, 'gemma_response_with_tavily_proxy.json')\n",
    "json_dump(save_file_path, rvs)"
   ]
  },
  {
   "cell_type": "code",
   "execution_count": 11,
   "id": "f01326d6-f660-431f-b239-3830e8d574ef",
   "metadata": {},
   "outputs": [
    {
     "name": "stdout",
     "output_type": "stream",
     "text": [
      "B B\n",
      "A A\n",
      "A A\n",
      "D C\n",
      "B A\n",
      "C C\n",
      "C A\n",
      "B B\n",
      "A A\n",
      "C C\n"
     ]
    },
    {
     "data": {
      "text/plain": [
       "(7, 3)"
      ]
     },
     "execution_count": 11,
     "metadata": {},
     "output_type": "execute_result"
    }
   ],
   "source": [
    "correct_ff = []\n",
    "incorrect_ff = []\n",
    "correct_cr = []\n",
    "incorrect_cr = []\n",
    "correct_idx = []\n",
    "incorrect_idx = []\n",
    "\n",
    "for idx, data in enumerate(rvs):\n",
    "    \n",
    "    ans = data['reference_answer']\n",
    "    pred = data['response_v2']['ans']\n",
    "    print(ans, pred)\n",
    "    if ans == pred:\n",
    "        correct_idx.append(idx)\n",
    "        correct_ff.append(data['ff_score'])\n",
    "        correct_cr.append(data['cr_score'])\n",
    "    else:\n",
    "        incorrect_idx.append(idx)\n",
    "        incorrect_ff.append(data['ff_score'])\n",
    "        incorrect_cr.append(data['cr_score'])\n",
    "\n",
    "len(correct_ff), len(incorrect_ff)"
   ]
  },
  {
   "cell_type": "code",
   "execution_count": 12,
   "id": "db77f3c2-3f4c-4bed-96e5-4ed18a8aed91",
   "metadata": {},
   "outputs": [
    {
     "data": {
      "image/png": "[encoded data removed]",
      "text/plain": [
       "<Figure size 600x600 with 1 Axes>"
      ]
     },
     "metadata": {},
     "output_type": "display_data"
    }
   ],
   "source": [
    "import numpy as np\n",
    "import matplotlib.pyplot as plt\n",
    "\n",
    "faithful_score = correct_ff\n",
    "context_score = correct_cr\n",
    "\n",
    "# 加上小擾動 (jitter)，避免點完全重疊\n",
    "jitter_strength = 0.02  # 可以依需求調整\n",
    "x = faithful_score + np.random.uniform(-jitter_strength, jitter_strength, size=len(faithful_score))\n",
    "y = context_score + np.random.uniform(-jitter_strength, jitter_strength, size=len(context_score))\n",
    "\n",
    "plt.figure(figsize=(6, 6))\n",
    "plt.scatter(x, y, alpha=0.6, s=60, edgecolor='k')\n",
    "\n",
    "# 畫 threshold 線 (例如 0.5)\n",
    "plt.axhline(0.5, color='gray', linestyle='--', linewidth=1)\n",
    "plt.axvline(0.5, color='gray', linestyle='--', linewidth=1)\n",
    "\n",
    "plt.xlabel(\"Faithfulness Score\")\n",
    "plt.ylabel(\"Context Relevancy Score\")\n",
    "plt.title(\"Component-wise Evaluation: Faithfulness vs Context Relevancy\")\n",
    "plt.grid(alpha=0.3)\n",
    "\n",
    "\n",
    "faithful_score = incorrect_ff\n",
    "context_score = incorrect_cr\n",
    "# 加上小擾動 (jitter)，避免點完全重疊\n",
    "jitter_strength = 0.02  # 可以依需求調整\n",
    "x = faithful_score + np.random.uniform(-jitter_strength, jitter_strength, size=len(faithful_score))\n",
    "y = context_score + np.random.uniform(-jitter_strength, jitter_strength, size=len(context_score))\n",
    "plt.scatter(x, y, alpha=0.6, s=60, edgecolor='k', color='r')\n",
    "plt.xlim(left=0)\n",
    "plt.ylim(bottom=0)\n",
    "plt.show()\n"
   ]
  },
  {
   "cell_type": "code",
   "execution_count": null,
   "id": "3fd26ef8-4ccb-4605-9857-39571c69d876",
   "metadata": {},
   "outputs": [],
   "source": []
  },
  {
   "cell_type": "code",
   "execution_count": null,
   "id": "f93a2577-a2a1-4ba6-a11d-d98d51925534",
   "metadata": {},
   "outputs": [],
   "source": []
  }
 ],
 "metadata": {
  "kernelspec": {
   "display_name": "rag30",
   "language": "python",
   "name": "rag30"
  },
  "language_info": {
   "codemirror_mode": {
    "name": "ipython",
    "version": 3
   },
   "file_extension": ".py",
   "mimetype": "text/x-python",
   "name": "python",
   "nbconvert_exporter": "python",
   "pygments_lexer": "ipython3",
   "version": "3.12.0"
  }
 },
 "nbformat": 4,
 "nbformat_minor": 5
}
