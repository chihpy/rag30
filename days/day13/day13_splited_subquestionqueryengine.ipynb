{
 "cells": [
  {
   "cell_type": "raw",
   "id": "39ea3a7d-2b91-427c-8d28-bfb771f76614",
   "metadata": {},
   "source": [
    "- ReAct Agent 的 Prompt 改成中文之後，他會用中文思考\n",
    "# 後續想法：\n",
    "- [ ] workflow 的單步執行\n",
    "- [ ] 改用引導式發問來拆子問題"
   ]
  },
  {
   "cell_type": "code",
   "execution_count": null,
   "id": "3bfb3ce7-8bf3-4fe9-9042-2f2fb7511152",
   "metadata": {},
   "outputs": [],
   "source": [
    "import os, json\n",
    "\n",
    "from llama_index.core.workflow import (\n",
    "    step,\n",
    "    Context,\n",
    "    Workflow,\n",
    "    Event,\n",
    "    StartEvent,\n",
    "    StopEvent,\n",
    ")\n",
    "\n",
    "from llama_index.llms.openai import OpenAI\n",
    "from llama_index.utils.workflow import draw_all_possible_flows\n",
    "\n",
    "import os\n",
    "from dotenv import find_dotenv, load_dotenv\n",
    "_ = load_dotenv(find_dotenv())\n",
    "\n",
    "TAVILY_API_KEY = os.getenv(\"TAVILY_API_KEY\")\n",
    "from llama_index.tools.tavily_research.base import TavilyToolSpec\n",
    "from llama_index.core import PromptTemplate\n",
    "from llama_index.core.tools import FunctionTool\n",
    "from llama_index.core.agent.workflow import ReActAgent\n",
    "\n",
    "import llama_index\n",
    "import importlib.metadata\n",
    "print(importlib.metadata.version(\"llama-index-core\"))"
   ]
  },
  {
   "cell_type": "markdown",
   "id": "e59933d0-5806-4c50-98ea-5a29824934f0",
   "metadata": {},
   "source": [
    "# exam"
   ]
  },
  {
   "cell_type": "code",
   "execution_count": null,
   "id": "db23e772-15cf-40dc-9ab1-c7b21b8e21a0",
   "metadata": {},
   "outputs": [],
   "source": [
    "qset = {\n",
    "  \"id\": \"113-1-1-med-surg\",\n",
    "  \"year\": \"113\",\n",
    "  \"time\": \"1\",\n",
    "  \"qid\": \"1\",\n",
    "  \"discipline\": \"內外科護理學\",\n",
    "  \"ans\": \"C\",\n",
    "  \"question\": \"有關多發性硬化症之診斷檢查，下列何者錯誤？\",\n",
    "  \"options\": {\n",
    "   \"A\": \"腦脊髓液分析可發現IgG抗體上升\",\n",
    "   \"B\": \"視覺誘發電位可觀察到受損的神經在傳導過程出現延遲和中斷\",\n",
    "   \"C\": \"超音波檢查可發現中樞神經系統髓鞘脫失\",\n",
    "   \"D\": \"核磁共振影像可用來確認多發性硬化症之斑塊\"\n",
    "  },\n",
    "  \"discipline_slug\": \"med-surg\"\n",
    "}\n",
    "\n",
    "exam_question = f\"題幹: {qset['question']}\\n選項: \\nA: {qset['options']['A']}; B: {qset['options']['B']}; C: {qset['options']['C']}; D: {qset['options']['D']}.\"\n",
    "print(exam_question)"
   ]
  },
  {
   "cell_type": "markdown",
   "id": "15ec53c4-1baf-4a01-86c2-88afe3f42824",
   "metadata": {},
   "source": [
    "# SubQuestions"
   ]
  },
  {
   "cell_type": "code",
   "execution_count": null,
   "id": "f399b54f-6665-4cad-b376-548c10398288",
   "metadata": {},
   "outputs": [],
   "source": [
    "sub_question_prompt = PromptTemplate(\"\"\"你是一個考題拆解助手。請根據以下單選題，產生一系列子問題。規則如下：\n",
    "\n",
    "1. 子問題需為單一問句，避免複合句。\n",
    "2. 每個子問題必須包含完整上下文，不可依賴原始題目才能理解。\n",
    "3. 子問題的集合在合併答案後，應能完整回答此單選題。\n",
    "4. 回應必須是**純 JSON 格式**，不得包含任何額外文字或 Markdown。\n",
    "\n",
    "### 範例輸出：\n",
    "{{\n",
    "  \"sub_questions\": [\n",
    "    \"舊金山的人口是多少？\",\n",
    "    \"舊金山的年度預算是多少？\",\n",
    "    \"舊金山的 GDP 是多少？\"\n",
    "  ]\n",
    "}}\n",
    "\n",
    "以下是單選題：\n",
    "{exam_question}\n",
    "\"\"\"\n",
    ")"
   ]
  },
  {
   "cell_type": "code",
   "execution_count": null,
   "id": "e9861599-9538-43ec-9cac-7129ed64e735",
   "metadata": {},
   "outputs": [],
   "source": [
    "print(sub_question_prompt.format(exam_question = exam_question))"
   ]
  },
  {
   "cell_type": "code",
   "execution_count": null,
   "id": "5dd02495-418f-4ea4-b2eb-f030aefc0383",
   "metadata": {},
   "outputs": [],
   "source": [
    "llm = OpenAI(\n",
    "    model=\"gpt-5-mini\",\n",
    "    temperature=0,\n",
    "    json_mode=True,\n",
    ")\n",
    "response = llm.complete(sub_question_prompt.format(exam_question=exam_question))\n",
    "json.loads(response.text)"
   ]
  },
  {
   "cell_type": "code",
   "execution_count": null,
   "id": "1f2c206e-16e6-43fb-9cb4-53380c50fc71",
   "metadata": {},
   "outputs": [],
   "source": [
    "sub_questions = json.loads(response.text)['sub_questions']\n",
    "sub_questions"
   ]
  },
  {
   "cell_type": "markdown",
   "id": "ad0a5aec-771f-48b1-8448-a058d512d164",
   "metadata": {},
   "source": [
    "# ReActAgent"
   ]
  },
  {
   "cell_type": "markdown",
   "id": "32a65658-875d-4ffc-aa2a-335a443c8375",
   "metadata": {},
   "source": [
    "### build tools"
   ]
  },
  {
   "cell_type": "code",
   "execution_count": null,
   "id": "be85edde-018f-42d6-beb5-1abe97e641c1",
   "metadata": {},
   "outputs": [],
   "source": [
    "tavily_tool = TavilyToolSpec(\n",
    "    api_key=TAVILY_API_KEY,\n",
    ")\n",
    "tavily_tool_list = tavily_tool.to_tool_list()\n",
    "type(tavily_tool_list[0])  # llama_index.core.tools.function_tool.FunctionTool\n",
    "llm = OpenAI(model=\"gpt-5-mini\", temperature=0, is_streaming=False)  # streaming False for non-verified organisations\n",
    "agent = ReActAgent(tools=tavily_tool_list, llm=llm, streaming=False, verbose=False)"
   ]
  },
  {
   "cell_type": "markdown",
   "id": "f27fdba6-aa7e-4826-b036-3691a136c95f",
   "metadata": {},
   "source": [
    "### ReActAgent Run"
   ]
  },
  {
   "cell_type": "code",
   "execution_count": null,
   "id": "28d2f6d6-456e-424c-a398-9c413141e31f",
   "metadata": {},
   "outputs": [],
   "source": [
    "from llama_index.core.agent.workflow import AgentInput, AgentOutput, ToolCall, ToolCallResult\n",
    "\n",
    "async def run_agent_with_stream(agent, query):\n",
    "    handler = agent.run(query)\n",
    "    results = []\n",
    "\n",
    "    async for ev in handler.stream_events(expose_internal=False):\n",
    "        name = ev.__class__.__name__\n",
    "        print(f\"-----stream event: {name}\")\n",
    "        results.append((name, ev))\n",
    "\n",
    "        if isinstance(ev, AgentInput):\n",
    "            print(f\"len of chat message: {len(ev.input)}\")\n",
    "        elif isinstance(ev, AgentOutput):\n",
    "            print(ev.response.blocks[0].text)\n",
    "        elif isinstance(ev, ToolCall):\n",
    "            print(f\"{ev.tool_name}: {ev.tool_kwargs}\")\n",
    "        elif isinstance(ev, ToolCallResult):\n",
    "            num_rv = len(ev.tool_output.blocks)\n",
    "            print(f\"num_result: {num_rv}\")\n",
    "\n",
    "    # 最終 response\n",
    "    response = await handler\n",
    "    return results, response\n",
    "\n",
    "results, response = await run_agent_with_stream(agent, sub_questions[0])\n",
    "# await agent.run(query, ctx=ctx)\n",
    "#response = await agent.run(sub_questions[0])"
   ]
  },
  {
   "cell_type": "markdown",
   "id": "1dbcad94-044f-4268-a954-98d3a4e97666",
   "metadata": {},
   "source": [
    "### Customizing the Prompt"
   ]
  },
  {
   "cell_type": "code",
   "execution_count": null,
   "id": "3c85236e-8d97-4955-9683-0748aed8b94f",
   "metadata": {},
   "outputs": [],
   "source": [
    "print(agent.get_prompts()['react_header'].template)"
   ]
  },
  {
   "cell_type": "code",
   "execution_count": null,
   "id": "0f81d4c5-4566-4912-9bf2-2447c4d54169",
   "metadata": {},
   "outputs": [],
   "source": [
    "AGENT_PROMPT = PromptTemplate(\"\"\"你被設計來協助處理各種任務，包含提供查詢到的資料用以回答問題、提供摘要以及其他類型的分析。\n",
    "並且為了確保資訊的更新，請盡可能的在有相關查詢內容的情況下才回答。\n",
    "\n",
    "## 工具\n",
    "\n",
    "你可以使用各式各樣的工具。你需要自行決定使用這些工具的順序來完成任務。\n",
    "這可能需要將任務拆解成子任務，並使用不同的工具來完成每個子任務。\n",
    "\n",
    "你能使用以下工具：\n",
    "{tool_desc}\n",
    "\n",
    "\n",
    "## 輸出格式\n",
    "\n",
    "請用與問題相同的語言回答，並使用以下格式：\n",
    "\n",
    "```\n",
    "\n",
    "Thought: 我需要使用一個工具來協助回答問題。\n",
    "Action: 工具名稱 (必須是 {tool_names} 之一，如果要用工具的話)\n",
    "Action Input: 工具的輸入，必須是 JSON 格式，代表 kwargs (例如 {{\"input\": \"hello world\", \"num_beams\": 5}})\n",
    "\n",
    "```\n",
    "\n",
    "請務必**總是以 Thought 開始**。\n",
    "\n",
    "絕對不要用 Markdown 的程式碼區塊把整個回應包起來。但如果需要，你可以在回應中使用程式碼區塊。\n",
    "\n",
    "請務必使用合法的 JSON 格式作為 Action Input。\n",
    "如果你包含了 \"Action:\" 這一行，那麼你也必須包含 \"Action Input:\" 這一行，即使該工具不需要任何參數，此時你也必須寫 \"Action Input: {{}}\"。\n",
    "\n",
    "如果使用這個格式，工具會回傳以下格式的結果：\n",
    "\n",
    "```\n",
    "\n",
    "Observation: 工具的回應\n",
    "\n",
    "```\n",
    "\n",
    "你需要重複上述格式，直到你有足夠的資訊來回答問題而不再需要使用工具。  \n",
    "這時你必須用以下兩種格式之一來回答：\n",
    "\n",
    "```\n",
    "\n",
    "Thought: 我已經可以不用更多工具就回答問題。\n",
    "Answer: [在這裡寫下你的答案]\n",
    "\n",
    "```\n",
    "```\n",
    "\n",
    "Thought: 我無法使用提供的工具回答問題。\n",
    "Answer: [在這裡寫下你的答案]\n",
    "\n",
    "```\n",
    "\n",
    "## 當前對話\n",
    "\n",
    "以下是目前的對話內容，由使用者與助手交錯的訊息組成：\n",
    "\"\"\"\n",
    ")"
   ]
  },
  {
   "cell_type": "code",
   "execution_count": null,
   "id": "f970653c-4e23-4146-a3c8-4fad6368ccc6",
   "metadata": {},
   "outputs": [],
   "source": [
    "print(AGENT_PROMPT.template_vars)\n",
    "agent.update_prompts({\"react_header\": AGENT_PROMPT})"
   ]
  },
  {
   "cell_type": "code",
   "execution_count": null,
   "id": "6c5fc9b5-43b6-4af8-b14f-3244f701e379",
   "metadata": {},
   "outputs": [],
   "source": [
    "results, response = await run_agent_with_stream(agent, sub_questions[0])"
   ]
  },
  {
   "cell_type": "markdown",
   "id": "5d22b2c5-2a83-459c-ae1d-c9b8e47fbc7f",
   "metadata": {},
   "source": [
    "# combine_answers"
   ]
  },
  {
   "cell_type": "code",
   "execution_count": null,
   "id": "a8e43ecf-f596-47ce-9a31-7b31f7b62559",
   "metadata": {},
   "outputs": [],
   "source": [
    "qas = []\n",
    "for question in sub_questions:\n",
    "    #response = await agent.run(question)\n",
    "    print(f\"##### question: {question}\")\n",
    "    results, response = await run_agent_with_stream(agent, question)\n",
    "    answer = response.response.blocks[0].text\n",
    "    qas.append({\n",
    "        'question': question,\n",
    "        'answer': answer,\n",
    "    })"
   ]
  },
  {
   "cell_type": "code",
   "execution_count": null,
   "id": "c6c5dacb-8f8b-4556-8f0e-c9dad6d4ca30",
   "metadata": {},
   "outputs": [],
   "source": [
    "sub_qa = \"\\n\\n\".join([\n",
    "    f\"Question: {qa['question']}: \\n Answer: {qa['answer']}\"\n",
    "    for qa in qas\n",
    "])\n",
    "print(sub_qa)"
   ]
  },
  {
   "cell_type": "markdown",
   "id": "421b43f4-b45f-4004-96f2-fe8bba751c23",
   "metadata": {},
   "source": [
    "# combine answer"
   ]
  },
  {
   "cell_type": "code",
   "execution_count": null,
   "id": "6dd470d5-d22e-4171-a2c1-af6a8074bc75",
   "metadata": {},
   "outputs": [],
   "source": [
    "COMBINE_ANSWER_PROMPT = PromptTemplate(\"\"\"你是一個考題作答助手。以下是一題單選題，已經被拆解成數個子問題，並且每個子問題都已有答案。\n",
    "請將所有子問題的答案整合，產生一個完整且連貫的最終解答，以回答原始單選題。\n",
    "\n",
    "以下是單選題：\n",
    "{exam_question}\n",
    "\n",
    "子問題與答案：\n",
    "{sub_qa}\n",
    "\"\"\")\n",
    "print(COMBINE_ANSWER_PROMPT.format(sub_qa=sub_qa, exam_question=exam_question))"
   ]
  },
  {
   "cell_type": "code",
   "execution_count": null,
   "id": "4aaddc0c-9d39-41fe-ab08-eb3529e687fa",
   "metadata": {},
   "outputs": [],
   "source": [
    "response = llm.complete(COMBINE_ANSWER_PROMPT.format(sub_qa=sub_qa, exam_question=exam_question))\n",
    "print(response)"
   ]
  },
  {
   "cell_type": "code",
   "execution_count": null,
   "id": "b072371e-b68e-433c-9ac0-5b5af8ae3def",
   "metadata": {},
   "outputs": [],
   "source": [
    "response.text"
   ]
  },
  {
   "cell_type": "code",
   "execution_count": null,
   "id": "3f17fb36-8931-4845-8c2b-04ad6acb7de3",
   "metadata": {},
   "outputs": [],
   "source": []
  }
 ],
 "metadata": {
  "kernelspec": {
   "display_name": "rag30",
   "language": "python",
   "name": "rag30"
  },
  "language_info": {
   "codemirror_mode": {
    "name": "ipython",
    "version": 3
   },
   "file_extension": ".py",
   "mimetype": "text/x-python",
   "name": "python",
   "nbconvert_exporter": "python",
   "pygments_lexer": "ipython3",
   "version": "3.12.0"
  }
 },
 "nbformat": 4,
 "nbformat_minor": 5
}
