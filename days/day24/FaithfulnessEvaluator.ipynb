{
 "cells": [
  {
   "cell_type": "code",
   "execution_count": 1,
   "id": "25935c33-62e0-49d4-bc2e-cdda862e3c5e",
   "metadata": {},
   "outputs": [],
   "source": [
    "import os\n",
    "import json\n",
    "import pandas as pd\n",
    "from tqdm import tqdm\n",
    "from ast import literal_eval\n",
    "\n",
    "from dotenv import find_dotenv, load_dotenv\n",
    "_ = load_dotenv(find_dotenv())\n",
    "\n",
    "from llama_index.llms.openai import OpenAI\n",
    "from llama_index.core.prompts import PromptTemplate\n",
    "from llama_index.core.evaluation import FaithfulnessEvaluator\n",
    "\n",
    "from utils import json_load"
   ]
  },
  {
   "cell_type": "markdown",
   "id": "0b85c855-031a-4a68-830d-3632f418a317",
   "metadata": {},
   "source": [
    "# data prepare"
   ]
  },
  {
   "cell_type": "code",
   "execution_count": 2,
   "id": "f4de36f9-bba2-4cb0-9513-d41028d1151b",
   "metadata": {},
   "outputs": [
    {
     "name": "stdout",
     "output_type": "stream",
     "text": [
      "(8, 5)\n"
     ]
    },
    {
     "data": {
      "text/html": [
       "<div>\n",
       "<style scoped>\n",
       "    .dataframe tbody tr th:only-of-type {\n",
       "        vertical-align: middle;\n",
       "    }\n",
       "\n",
       "    .dataframe tbody tr th {\n",
       "        vertical-align: top;\n",
       "    }\n",
       "\n",
       "    .dataframe thead th {\n",
       "        text-align: right;\n",
       "    }\n",
       "</style>\n",
       "<table border=\"1\" class=\"dataframe\">\n",
       "  <thead>\n",
       "    <tr style=\"text-align: right;\">\n",
       "      <th></th>\n",
       "      <th>query</th>\n",
       "      <th>reference_contexts</th>\n",
       "      <th>reference_answer</th>\n",
       "      <th>reference_answer_by</th>\n",
       "      <th>query_by</th>\n",
       "    </tr>\n",
       "  </thead>\n",
       "  <tbody>\n",
       "    <tr>\n",
       "      <th>0</th>\n",
       "      <td>這門課希望學生從使用者變成什麼？</td>\n",
       "      <td>['各位同學大家好 我們來上課吧\\n剛才只是用Google的VO3\\n這個可以生成影片的人工...</td>\n",
       "      <td>理解者，甚至是創造者。</td>\n",
       "      <td>ai (gpt-5-mini)</td>\n",
       "      <td>ai (gpt-5-mini)</td>\n",
       "    </tr>\n",
       "    <tr>\n",
       "      <th>1</th>\n",
       "      <td>剛才用來生成倒數計時影片和讓人長出翅膀的影片是使用哪個工具？</td>\n",
       "      <td>['第一種\\n如果你未來想要更深入人工智慧領域\\n這門可絕對是很好的入門\\n當然要完全掌握A...</td>\n",
       "      <td>答案：Google 的 VO3</td>\n",
       "      <td>ai (gpt-5-mini)</td>\n",
       "      <td>ai (gpt-5-mini)</td>\n",
       "    </tr>\n",
       "    <tr>\n",
       "      <th>2</th>\n",
       "      <td>哪個軟體被用來合成講師的聲音？</td>\n",
       "      <td>['也是VO3自己生成的\\n他產生的影片是帶有聲音的\\n那其他中文講課的聲音也通通都是合成的...</td>\n",
       "      <td>答案：Eleven Labs。</td>\n",
       "      <td>ai (gpt-5-mini)</td>\n",
       "      <td>ai (gpt-5-mini)</td>\n",
       "    </tr>\n",
       "  </tbody>\n",
       "</table>\n",
       "</div>"
      ],
      "text/plain": [
       "                            query  \\\n",
       "0                這門課希望學生從使用者變成什麼？   \n",
       "1  剛才用來生成倒數計時影片和讓人長出翅膀的影片是使用哪個工具？   \n",
       "2                 哪個軟體被用來合成講師的聲音？   \n",
       "\n",
       "                                  reference_contexts reference_answer  \\\n",
       "0  ['各位同學大家好 我們來上課吧\\n剛才只是用Google的VO3\\n這個可以生成影片的人工...      理解者，甚至是創造者。   \n",
       "1  ['第一種\\n如果你未來想要更深入人工智慧領域\\n這門可絕對是很好的入門\\n當然要完全掌握A...  答案：Google 的 VO3   \n",
       "2  ['也是VO3自己生成的\\n他產生的影片是帶有聲音的\\n那其他中文講課的聲音也通通都是合成的...  答案：Eleven Labs。   \n",
       "\n",
       "  reference_answer_by         query_by  \n",
       "0     ai (gpt-5-mini)  ai (gpt-5-mini)  \n",
       "1     ai (gpt-5-mini)  ai (gpt-5-mini)  \n",
       "2     ai (gpt-5-mini)  ai (gpt-5-mini)  "
      ]
     },
     "execution_count": 2,
     "metadata": {},
     "output_type": "execute_result"
    }
   ],
   "source": [
    "# load ground-truth question and answer pair\n",
    "dataset_dir = os.path.join('data', 'source')\n",
    "dataset_file_path = os.path.join(dataset_dir, 'lee_course0_rag_dataset.csv')\n",
    "df = pd.read_csv(dataset_file_path)\n",
    "print(df.shape)\n",
    "df.head(3)"
   ]
  },
  {
   "cell_type": "code",
   "execution_count": 3,
   "id": "8a668d7a-a13b-4b48-8f1b-b9657be96f2a",
   "metadata": {},
   "outputs": [
    {
     "name": "stdout",
     "output_type": "stream",
     "text": [
      "load data from: data/source/baseline_rag_result_R3.json\n"
     ]
    },
    {
     "data": {
      "text/html": [
       "<div>\n",
       "<style scoped>\n",
       "    .dataframe tbody tr th:only-of-type {\n",
       "        vertical-align: middle;\n",
       "    }\n",
       "\n",
       "    .dataframe tbody tr th {\n",
       "        vertical-align: top;\n",
       "    }\n",
       "\n",
       "    .dataframe thead th {\n",
       "        text-align: right;\n",
       "    }\n",
       "</style>\n",
       "<table border=\"1\" class=\"dataframe\">\n",
       "  <thead>\n",
       "    <tr style=\"text-align: right;\">\n",
       "      <th></th>\n",
       "      <th>query</th>\n",
       "      <th>reference_contexts</th>\n",
       "      <th>reference_answer</th>\n",
       "      <th>reference_answer_by</th>\n",
       "      <th>query_by</th>\n",
       "      <th>response</th>\n",
       "      <th>retrieved_nodes</th>\n",
       "      <th>reranked_nodes</th>\n",
       "    </tr>\n",
       "  </thead>\n",
       "  <tbody>\n",
       "    <tr>\n",
       "      <th>0</th>\n",
       "      <td>這門課希望學生從使用者變成什麼？</td>\n",
       "      <td>[各位同學大家好 我們來上課吧\\n剛才只是用Google的VO3\\n這個可以生成影片的人工智...</td>\n",
       "      <td>理解者，甚至是創造者。</td>\n",
       "      <td>ai (gpt-5-mini)</td>\n",
       "      <td>ai (gpt-5-mini)</td>\n",
       "      <td>這門課希望學生從使用者變成創作者。</td>\n",
       "      <td>[{'id': '18773912-c8b5-4fb4-8d4b-cb4e38758012'...</td>\n",
       "      <td>[{'id': 'f1b8dce2-5b45-4ed8-b44d-0bf6e2306877'...</td>\n",
       "    </tr>\n",
       "    <tr>\n",
       "      <th>1</th>\n",
       "      <td>剛才用來生成倒數計時影片和讓人長出翅膀的影片是使用哪個工具？</td>\n",
       "      <td>[第一種\\n如果你未來想要更深入人工智慧領域\\n這門可絕對是很好的入門\\n當然要完全掌握AI...</td>\n",
       "      <td>答案：Google 的 VO3</td>\n",
       "      <td>ai (gpt-5-mini)</td>\n",
       "      <td>ai (gpt-5-mini)</td>\n",
       "      <td>抱歉，無法提供該工具的資訊。</td>\n",
       "      <td>[{'id': '18773912-c8b5-4fb4-8d4b-cb4e38758012'...</td>\n",
       "      <td>[{'id': '18773912-c8b5-4fb4-8d4b-cb4e38758012'...</td>\n",
       "    </tr>\n",
       "    <tr>\n",
       "      <th>2</th>\n",
       "      <td>哪個軟體被用來合成講師的聲音？</td>\n",
       "      <td>[也是VO3自己生成的\\n他產生的影片是帶有聲音的\\n那其他中文講課的聲音也通通都是合成的\\...</td>\n",
       "      <td>答案：Eleven Labs。</td>\n",
       "      <td>ai (gpt-5-mini)</td>\n",
       "      <td>ai (gpt-5-mini)</td>\n",
       "      <td>沒有提到任何軟體被用來合成講師的聲音。</td>\n",
       "      <td>[{'id': '18773912-c8b5-4fb4-8d4b-cb4e38758012'...</td>\n",
       "      <td>[{'id': '18773912-c8b5-4fb4-8d4b-cb4e38758012'...</td>\n",
       "    </tr>\n",
       "  </tbody>\n",
       "</table>\n",
       "</div>"
      ],
      "text/plain": [
       "                            query  \\\n",
       "0                這門課希望學生從使用者變成什麼？   \n",
       "1  剛才用來生成倒數計時影片和讓人長出翅膀的影片是使用哪個工具？   \n",
       "2                 哪個軟體被用來合成講師的聲音？   \n",
       "\n",
       "                                  reference_contexts reference_answer  \\\n",
       "0  [各位同學大家好 我們來上課吧\\n剛才只是用Google的VO3\\n這個可以生成影片的人工智...      理解者，甚至是創造者。   \n",
       "1  [第一種\\n如果你未來想要更深入人工智慧領域\\n這門可絕對是很好的入門\\n當然要完全掌握AI...  答案：Google 的 VO3   \n",
       "2  [也是VO3自己生成的\\n他產生的影片是帶有聲音的\\n那其他中文講課的聲音也通通都是合成的\\...  答案：Eleven Labs。   \n",
       "\n",
       "  reference_answer_by         query_by             response  \\\n",
       "0     ai (gpt-5-mini)  ai (gpt-5-mini)    這門課希望學生從使用者變成創作者。   \n",
       "1     ai (gpt-5-mini)  ai (gpt-5-mini)       抱歉，無法提供該工具的資訊。   \n",
       "2     ai (gpt-5-mini)  ai (gpt-5-mini)  沒有提到任何軟體被用來合成講師的聲音。   \n",
       "\n",
       "                                     retrieved_nodes  \\\n",
       "0  [{'id': '18773912-c8b5-4fb4-8d4b-cb4e38758012'...   \n",
       "1  [{'id': '18773912-c8b5-4fb4-8d4b-cb4e38758012'...   \n",
       "2  [{'id': '18773912-c8b5-4fb4-8d4b-cb4e38758012'...   \n",
       "\n",
       "                                      reranked_nodes  \n",
       "0  [{'id': 'f1b8dce2-5b45-4ed8-b44d-0bf6e2306877'...  \n",
       "1  [{'id': '18773912-c8b5-4fb4-8d4b-cb4e38758012'...  \n",
       "2  [{'id': '18773912-c8b5-4fb4-8d4b-cb4e38758012'...  "
      ]
     },
     "execution_count": 3,
     "metadata": {},
     "output_type": "execute_result"
    }
   ],
   "source": [
    "# load llm response\n",
    "response_dir = os.path.join('data', 'source')\n",
    "response_file_path = os.path.join(response_dir, 'baseline_rag_result_R3.json')\n",
    "#response_file_path = os.path.join(response_dir, 'baseline_rag_result.json')\n",
    "response = json_load(response_file_path)\n",
    "response_df = pd.DataFrame(response)\n",
    "df = pd.merge(df, response_df, how='left', on='query')\n",
    "df['reference_contexts'] = df['reference_contexts'].apply(literal_eval)\n",
    "\n",
    "df.head(3)"
   ]
  },
  {
   "cell_type": "code",
   "execution_count": 4,
   "id": "773ea6ca-9ef7-4680-bb0e-462848a9f794",
   "metadata": {},
   "outputs": [],
   "source": [
    "mode = 'retrieved' # 'reranked'"
   ]
  },
  {
   "cell_type": "code",
   "execution_count": 5,
   "id": "c9646b99-4f73-4c40-8933-35ed88ab1d92",
   "metadata": {},
   "outputs": [
    {
     "name": "stdout",
     "output_type": "stream",
     "text": [
      "baseline_rag_result_R3\n",
      "write result to:data/temp/baseline_rag_result_R3_retrieved_faithfulness.csv\n"
     ]
    }
   ],
   "source": [
    "pipeline_name = os.path.splitext(os.path.basename(response_file_path))[0]\n",
    "print(pipeline_name)\n",
    "save_dir = os.path.join('data', 'temp')\n",
    "os.makedirs(save_dir, exist_ok=True)\n",
    "save_file_path = os.path.join(save_dir, f\"{pipeline_name}_{mode}_faithfulness.csv\")\n",
    "print('write result to:' + save_file_path)"
   ]
  },
  {
   "cell_type": "code",
   "execution_count": 6,
   "id": "bb4e59b0-60f1-4fa7-aaa7-42d5437cc7b0",
   "metadata": {},
   "outputs": [],
   "source": [
    "llm = OpenAI(model=\"gpt-5-mini\", temperature=0, is_streaming=False)\n",
    "evaluator = FaithfulnessEvaluator(llm=llm)"
   ]
  },
  {
   "cell_type": "code",
   "execution_count": 7,
   "id": "7ac83bad-6546-4e52-a62c-7aeb5c198abb",
   "metadata": {},
   "outputs": [
    {
     "name": "stderr",
     "output_type": "stream",
     "text": [
      "100%|██████████████████████████████████████████████████████████████████████████████████| 8/8 [00:00<00:00, 11290.19it/s]"
     ]
    },
    {
     "name": "stdout",
     "output_type": "stream",
     "text": [
      "<class 'list'>\n",
      "<class 'list'>\n",
      "<class 'list'>\n",
      "<class 'list'>\n",
      "<class 'list'>\n",
      "<class 'list'>\n",
      "<class 'list'>\n",
      "<class 'list'>\n",
      "<class 'list'>\n",
      "<class 'list'>\n",
      "<class 'list'>\n",
      "<class 'list'>\n",
      "<class 'list'>\n",
      "<class 'list'>\n",
      "<class 'list'>\n",
      "<class 'list'>\n"
     ]
    },
    {
     "name": "stderr",
     "output_type": "stream",
     "text": [
      "\n"
     ]
    }
   ],
   "source": [
    "for idx, row in tqdm(df.iterrows(), total=len(df)):\n",
    "    nodes = row.reranked_nodes\n",
    "    print(type(nodes))\n",
    "    nodes = row.retrieved_nodes\n",
    "    print(type(nodes))"
   ]
  },
  {
   "cell_type": "code",
   "execution_count": 8,
   "id": "7f5e013c-7bdf-4353-a619-6a949f35f338",
   "metadata": {},
   "outputs": [
    {
     "name": "stderr",
     "output_type": "stream",
     "text": [
      "  0%|                                                                                             | 0/8 [00:00<?, ?it/s]/home/poyuan/miniconda3/envs/rag30/lib/python3.12/site-packages/tqdm/auto.py:21: TqdmWarning: IProgress not found. Please update jupyter and ipywidgets. See https://ipywidgets.readthedocs.io/en/stable/user_install.html\n",
      "  from .autonotebook import tqdm as notebook_tqdm\n",
      "100%|█████████████████████████████████████████████████████████████████████████████████████| 8/8 [00:45<00:00,  5.72s/it]\n"
     ]
    }
   ],
   "source": [
    "faithful_score = []\n",
    "faithful_feedback = []\n",
    "for idx, row in tqdm(df.iterrows(), total=len(df)):\n",
    "    if mode == 'retrieved':\n",
    "        nodes = row.retrieved_nodes\n",
    "        context = []\n",
    "        for node in nodes:\n",
    "            context.append(node['text'])\n",
    "    else:\n",
    "        nodes = row.reranked_nodes\n",
    "        context = []\n",
    "        for node in nodes:\n",
    "            context.append(node['text'])\n",
    "    response = row.response\n",
    "    result = evaluator.evaluate(\n",
    "        response=response,\n",
    "        contexts=context,\n",
    "    )\n",
    "\n",
    "    faithful_score.append(result.score)\n",
    "    faithful_feedback.append(result.feedback)\n",
    "\n",
    "df['faithful_score'] = faithful_score\n",
    "df['faithful_feedback'] = faithful_feedback\n",
    "df.to_csv(save_file_path, index=False)"
   ]
  },
  {
   "cell_type": "code",
   "execution_count": 9,
   "id": "313d5134-e9bf-4367-ab72-be7afc798116",
   "metadata": {},
   "outputs": [
    {
     "data": {
      "text/html": [
       "<div>\n",
       "<style scoped>\n",
       "    .dataframe tbody tr th:only-of-type {\n",
       "        vertical-align: middle;\n",
       "    }\n",
       "\n",
       "    .dataframe tbody tr th {\n",
       "        vertical-align: top;\n",
       "    }\n",
       "\n",
       "    .dataframe thead th {\n",
       "        text-align: right;\n",
       "    }\n",
       "</style>\n",
       "<table border=\"1\" class=\"dataframe\">\n",
       "  <thead>\n",
       "    <tr style=\"text-align: right;\">\n",
       "      <th></th>\n",
       "      <th>query</th>\n",
       "      <th>reference_contexts</th>\n",
       "      <th>reference_answer</th>\n",
       "      <th>reference_answer_by</th>\n",
       "      <th>query_by</th>\n",
       "      <th>response</th>\n",
       "      <th>retrieved_nodes</th>\n",
       "      <th>reranked_nodes</th>\n",
       "      <th>faithful_score</th>\n",
       "      <th>faithful_feedback</th>\n",
       "    </tr>\n",
       "  </thead>\n",
       "  <tbody>\n",
       "    <tr>\n",
       "      <th>0</th>\n",
       "      <td>這門課希望學生從使用者變成什麼？</td>\n",
       "      <td>[各位同學大家好 我們來上課吧\\n剛才只是用Google的VO3\\n這個可以生成影片的人工智...</td>\n",
       "      <td>理解者，甚至是創造者。</td>\n",
       "      <td>ai (gpt-5-mini)</td>\n",
       "      <td>ai (gpt-5-mini)</td>\n",
       "      <td>這門課希望學生從使用者變成創作者。</td>\n",
       "      <td>[{'id': '18773912-c8b5-4fb4-8d4b-cb4e38758012'...</td>\n",
       "      <td>[{'id': 'f1b8dce2-5b45-4ed8-b44d-0bf6e2306877'...</td>\n",
       "      <td>0.0</td>\n",
       "      <td>NO</td>\n",
       "    </tr>\n",
       "    <tr>\n",
       "      <th>1</th>\n",
       "      <td>剛才用來生成倒數計時影片和讓人長出翅膀的影片是使用哪個工具？</td>\n",
       "      <td>[第一種\\n如果你未來想要更深入人工智慧領域\\n這門可絕對是很好的入門\\n當然要完全掌握AI...</td>\n",
       "      <td>答案：Google 的 VO3</td>\n",
       "      <td>ai (gpt-5-mini)</td>\n",
       "      <td>ai (gpt-5-mini)</td>\n",
       "      <td>抱歉，無法提供該工具的資訊。</td>\n",
       "      <td>[{'id': '18773912-c8b5-4fb4-8d4b-cb4e38758012'...</td>\n",
       "      <td>[{'id': '18773912-c8b5-4fb4-8d4b-cb4e38758012'...</td>\n",
       "      <td>0.0</td>\n",
       "      <td>NO</td>\n",
       "    </tr>\n",
       "    <tr>\n",
       "      <th>2</th>\n",
       "      <td>哪個軟體被用來合成講師的聲音？</td>\n",
       "      <td>[也是VO3自己生成的\\n他產生的影片是帶有聲音的\\n那其他中文講課的聲音也通通都是合成的\\...</td>\n",
       "      <td>答案：Eleven Labs。</td>\n",
       "      <td>ai (gpt-5-mini)</td>\n",
       "      <td>ai (gpt-5-mini)</td>\n",
       "      <td>沒有提到任何軟體被用來合成講師的聲音。</td>\n",
       "      <td>[{'id': '18773912-c8b5-4fb4-8d4b-cb4e38758012'...</td>\n",
       "      <td>[{'id': '18773912-c8b5-4fb4-8d4b-cb4e38758012'...</td>\n",
       "      <td>1.0</td>\n",
       "      <td>YES</td>\n",
       "    </tr>\n",
       "  </tbody>\n",
       "</table>\n",
       "</div>"
      ],
      "text/plain": [
       "                            query  \\\n",
       "0                這門課希望學生從使用者變成什麼？   \n",
       "1  剛才用來生成倒數計時影片和讓人長出翅膀的影片是使用哪個工具？   \n",
       "2                 哪個軟體被用來合成講師的聲音？   \n",
       "\n",
       "                                  reference_contexts reference_answer  \\\n",
       "0  [各位同學大家好 我們來上課吧\\n剛才只是用Google的VO3\\n這個可以生成影片的人工智...      理解者，甚至是創造者。   \n",
       "1  [第一種\\n如果你未來想要更深入人工智慧領域\\n這門可絕對是很好的入門\\n當然要完全掌握AI...  答案：Google 的 VO3   \n",
       "2  [也是VO3自己生成的\\n他產生的影片是帶有聲音的\\n那其他中文講課的聲音也通通都是合成的\\...  答案：Eleven Labs。   \n",
       "\n",
       "  reference_answer_by         query_by             response  \\\n",
       "0     ai (gpt-5-mini)  ai (gpt-5-mini)    這門課希望學生從使用者變成創作者。   \n",
       "1     ai (gpt-5-mini)  ai (gpt-5-mini)       抱歉，無法提供該工具的資訊。   \n",
       "2     ai (gpt-5-mini)  ai (gpt-5-mini)  沒有提到任何軟體被用來合成講師的聲音。   \n",
       "\n",
       "                                     retrieved_nodes  \\\n",
       "0  [{'id': '18773912-c8b5-4fb4-8d4b-cb4e38758012'...   \n",
       "1  [{'id': '18773912-c8b5-4fb4-8d4b-cb4e38758012'...   \n",
       "2  [{'id': '18773912-c8b5-4fb4-8d4b-cb4e38758012'...   \n",
       "\n",
       "                                      reranked_nodes  faithful_score  \\\n",
       "0  [{'id': 'f1b8dce2-5b45-4ed8-b44d-0bf6e2306877'...             0.0   \n",
       "1  [{'id': '18773912-c8b5-4fb4-8d4b-cb4e38758012'...             0.0   \n",
       "2  [{'id': '18773912-c8b5-4fb4-8d4b-cb4e38758012'...             1.0   \n",
       "\n",
       "  faithful_feedback  \n",
       "0                NO  \n",
       "1                NO  \n",
       "2               YES  "
      ]
     },
     "execution_count": 9,
     "metadata": {},
     "output_type": "execute_result"
    }
   ],
   "source": [
    "df.head(3)"
   ]
  },
  {
   "cell_type": "code",
   "execution_count": null,
   "id": "e7c8d314-76c3-4f82-9d73-3a3ed0474fd0",
   "metadata": {},
   "outputs": [],
   "source": []
  }
 ],
 "metadata": {
  "kernelspec": {
   "display_name": "rag30",
   "language": "python",
   "name": "rag30"
  },
  "language_info": {
   "codemirror_mode": {
    "name": "ipython",
    "version": 3
   },
   "file_extension": ".py",
   "mimetype": "text/x-python",
   "name": "python",
   "nbconvert_exporter": "python",
   "pygments_lexer": "ipython3",
   "version": "3.12.0"
  }
 },
 "nbformat": 4,
 "nbformat_minor": 5
}
