{
 "cells": [
  {
   "cell_type": "code",
   "execution_count": null,
   "id": "d784f7d2-b734-494e-8eed-4f1b45af4415",
   "metadata": {},
   "outputs": [],
   "source": []
  },
  {
   "cell_type": "code",
   "execution_count": 1,
   "id": "e98d48d6-4c9d-4c47-85dc-f9abab8c5d8c",
   "metadata": {},
   "outputs": [],
   "source": [
    "# instrumentation\n",
    "from llama_index.core.instrumentation import get_dispatcher\n",
    "from llama_index.core.instrumentation.span_handlers import SimpleSpanHandler\n",
    "\n",
    "# root dispatcher\n",
    "root_dispatcher = get_dispatcher()\n",
    "\n",
    "# register span handler\n",
    "simple_span_handler = SimpleSpanHandler()\n",
    "root_dispatcher.add_span_handler(simple_span_handler)"
   ]
  },
  {
   "cell_type": "code",
   "execution_count": 2,
   "id": "55ff5132-d809-407b-8276-f34f8416235c",
   "metadata": {},
   "outputs": [],
   "source": [
    "# env and langfuse\n",
    "from dotenv import find_dotenv, load_dotenv\n",
    "from langfuse import get_client\n",
    "\n",
    "_ = load_dotenv(find_dotenv())\n",
    "langfuse = get_client()\n",
    "\n",
    "from openinference.instrumentation.llama_index import LlamaIndexInstrumentor\n",
    "\n",
    "# Initialize LlamaIndex instrumentation\n",
    "LlamaIndexInstrumentor().instrument()"
   ]
  },
  {
   "cell_type": "code",
   "execution_count": 3,
   "id": "ed7d47f8-4a5f-4cc0-8c9c-e0de8a4a45e5",
   "metadata": {},
   "outputs": [],
   "source": [
    "# documents\n",
    "from llama_index.core import Document\n",
    "\n",
    "text_list = [\n",
    "    'Langfuse is an open source LLM engineering platform to help teams collaboratively debug, analyze and iterate on their LLM Applications. '\n",
    "    'With the Langfuse integration, you can track and monitor performance, traces, and metrics of your LlamaIndex application.' \n",
    "    'Detailed traces of the context augmentation and the LLM querying processes are captured and can be inspected directly in the Langfuse UI.',\n",
    "    \n",
    "    'Langfuse 真香',\n",
    "    \n",
    "    'The instrumentation module (available in llama-index v0.10.20 and later) is meant to replace the legacy callbacks module.',\n",
    "    \n",
    "    'Listed below are the core classes as well as their brief description of the instrumentation module: '\n",
    "    'Event — represents a single moment in time that a certain occurrence took place within the execution of the application’s code.'\n",
    "    'EventHandler — listen to the occurrences of Event’s and execute code logic at these moments in time.'\n",
    "    'Span — represents the execution flow of a particular part in the application’s code and thus contains Event’s.'\n",
    "    'SpanHandler — is responsible for the entering, exiting, and dropping (i.e., early exiting due to error) of Span’s.'\n",
    "    'Dispatcher — emits Event’s as well as signals to enter/exit/drop a Span to the appropriate handlers.',\n",
    "]\n",
    "documents = [Document(text=t) for t in text_list]"
   ]
  },
  {
   "cell_type": "code",
   "execution_count": 4,
   "id": "706d88c9-5b49-422f-b453-65c881667eec",
   "metadata": {},
   "outputs": [],
   "source": [
    "# query\n",
    "from llama_index.llms.openai import OpenAI\n",
    "llm = OpenAI(model=\"gpt-5-mini\", temperature=0.0)\n",
    "from llama_index.core import VectorStoreIndex\n",
    "\n",
    "index = VectorStoreIndex.from_documents(documents)\n",
    "\n",
    "query_engine = index.as_query_engine(llm=llm)\n",
    "\n",
    "query = '什麼是 LlamaIndex 的instrumentation module?'\n",
    "with langfuse.start_as_current_span(name=\"notebook_test\") as span:\n",
    "    response = query_engine.query(query)\n",
    "langfuse.flush()"
   ]
  },
  {
   "cell_type": "code",
   "execution_count": 5,
   "id": "48ea3695-ac6c-434a-bca2-8d62fb24b7e4",
   "metadata": {},
   "outputs": [
    {
     "name": "stdout",
     "output_type": "stream",
     "text": [
      "SentenceSplitter.__call__-78a09c39-c1d9-4e86-bc18-404c583241e0 (0.003038)\n",
      "└── SentenceSplitter._parse_nodes-8890127b-43ed-43f8-8578-db5a0e9e56c6 (0.002031)\n",
      "    ├── SentenceSplitter.split_text_metadata_aware-f4b5200c-8172-4cc3-924f-7c8203425d59 (0.000343)\n",
      "    ├── SentenceSplitter.split_text_metadata_aware-0cbf998e-c065-4c3e-a890-7558e4f4515a (0.000136)\n",
      "    ├── SentenceSplitter.split_text_metadata_aware-0c7289c6-ff77-4402-83b2-02e192380417 (0.000137)\n",
      "    └── SentenceSplitter.split_text_metadata_aware-a29f6a8b-fa08-4635-82f8-dd85c1b900c3 (0.000134)\n",
      "\n",
      "\n",
      "OpenAIEmbedding.get_text_embedding_batch-daaf2a5d-7b42-43cd-ba85-7f9c59c4608e (0.864471)\n",
      "\n",
      "\n",
      "RetrieverQueryEngine.query-c0f62d86-71e6-4f9b-8988-720134282db0 (10.357631)\n",
      "└── RetrieverQueryEngine._query-b8d90ee8-7e2e-4fff-8da1-5a0be526cdf5 (10.356895)\n",
      "    ├── VectorIndexRetriever.retrieve-94b04d8b-cd8a-4ba2-bfbc-4de7b3b3eabe (0.557083)\n",
      "    │   └── VectorIndexRetriever._retrieve-8b776ba4-be12-4b91-bd50-bbd01ad4c2fc (0.555986)\n",
      "    │       └── OpenAIEmbedding.get_query_embedding-71253101-eaec-471e-9699-6ff78f9e969c (0.546269)\n",
      "    │           └── OpenAIEmbedding._get_query_embedding-6e09dd64-89ce-4af6-89aa-c05b214f2675 (0.54554)\n",
      "    └── CompactAndRefine.synthesize-24d03066-d015-4e59-ab99-c689b6c14ac2 (9.799188)\n",
      "        └── CompactAndRefine.get_response-2ce57c29-d0c3-4d65-a415-5b25bfaa757a (9.796068)\n",
      "            ├── TokenTextSplitter.split_text-6ca3dc15-aec4-4674-ad11-0c58e0d78cc4 (0.000398)\n",
      "            └── CompactAndRefine.get_response-c21d5fe6-5cfe-451f-a7e8-44fa5f1bcd66 (9.79461)\n",
      "                ├── TokenTextSplitter.split_text-afe832e4-f3b8-461b-ae02-e18df8e8d965 (0.000201)\n",
      "                └── DefaultRefineProgram.__call__-1982f2e8-b194-4aa6-8831-ebd6795073d6 (9.793602)\n",
      "                    └── OpenAI.predict-96fb97a9-ef32-44e6-91e7-d7bb89fa38f7 (9.79317)\n",
      "                        └── OpenAI.chat-e0916b48-41c8-459c-a11f-e295d8362abf (9.79214)\n",
      "\n",
      "\n"
     ]
    }
   ],
   "source": [
    "simple_span_handler.print_trace_trees()"
   ]
  },
  {
   "cell_type": "code",
   "execution_count": 7,
   "id": "a4685bf1-ed83-49d2-aaa8-fe3c5989e960",
   "metadata": {},
   "outputs": [
    {
     "name": "stdout",
     "output_type": "stream",
     "text": [
      "RetrieverQueryEngine.query-c0f62d86-71e6-4f9b-8988-720134282db0 (10.357631)\n",
      "└── RetrieverQueryEngine._query-b8d90ee8-7e2e-4fff-8da1-5a0be526cdf5 (10.356895)\n",
      "    ├── CompactAndRefine.synthesize-24d03066-d015-4e59-ab99-c689b6c14ac2 (9.799188)\n",
      "    │   └── CompactAndRefine.get_response-2ce57c29-d0c3-4d65-a415-5b25bfaa757a (9.796068)\n",
      "    │       ├── CompactAndRefine.get_response-c21d5fe6-5cfe-451f-a7e8-44fa5f1bcd66 (9.79461)\n",
      "    │       │   ├── DefaultRefineProgram.__call__-1982f2e8-b194-4aa6-8831-ebd6795073d6 (9.793602)\n",
      "    │       │   │   └── OpenAI.predict-96fb97a9-ef32-44e6-91e7-d7bb89fa38f7 (9.79317)\n",
      "    │       │   │       └── OpenAI.chat-e0916b48-41c8-459c-a11f-e295d8362abf (9.79214)\n",
      "    │       │   └── TokenTextSplitter.split_text-afe832e4-f3b8-461b-ae02-e18df8e8d965 (0.000201)\n",
      "    │       └── TokenTextSplitter.split_text-6ca3dc15-aec4-4674-ad11-0c58e0d78cc4 (0.000398)\n",
      "    └── VectorIndexRetriever.retrieve-94b04d8b-cd8a-4ba2-bfbc-4de7b3b3eabe (0.557083)\n",
      "        └── VectorIndexRetriever._retrieve-8b776ba4-be12-4b91-bd50-bbd01ad4c2fc (0.555986)\n",
      "            └── OpenAIEmbedding.get_query_embedding-71253101-eaec-471e-9699-6ff78f9e969c (0.546269)\n",
      "                └── OpenAIEmbedding._get_query_embedding-6e09dd64-89ce-4af6-89aa-c05b214f2675 (0.54554)\n",
      "\n"
     ]
    }
   ],
   "source": [
    "tree.show()"
   ]
  },
  {
   "cell_type": "code",
   "execution_count": 20,
   "id": "3065e961-b660-4818-afa2-9ca272f0d11e",
   "metadata": {},
   "outputs": [],
   "source": [
    "import json\n",
    "with open('trace.json', 'w') as f:\n",
    "    json.dump(json.loads(tree.to_json()), f, indent=2, ensure_ascii=False)"
   ]
  },
  {
   "cell_type": "code",
   "execution_count": 19,
   "id": "505d427c-7892-4f71-8751-fb58e68142b3",
   "metadata": {},
   "outputs": [
    {
     "name": "stdout",
     "output_type": "stream",
     "text": [
      "digraph tree {\n",
      "\t\"RetrieverQueryEngine.query-c0f62d86-71e6-4f9b-8988-720134282db0\" [label=\"RetrieverQueryEngine.query-c0f62d86-71e6-4f9b-8988-720134282db0 (10.357631)\", shape=circle]\n",
      "\t\"RetrieverQueryEngine._query-b8d90ee8-7e2e-4fff-8da1-5a0be526cdf5\" [label=\"RetrieverQueryEngine._query-b8d90ee8-7e2e-4fff-8da1-5a0be526cdf5 (10.356895)\", shape=circle]\n",
      "\t\"CompactAndRefine.synthesize-24d03066-d015-4e59-ab99-c689b6c14ac2\" [label=\"CompactAndRefine.synthesize-24d03066-d015-4e59-ab99-c689b6c14ac2 (9.799188)\", shape=circle]\n",
      "\t\"VectorIndexRetriever.retrieve-94b04d8b-cd8a-4ba2-bfbc-4de7b3b3eabe\" [label=\"VectorIndexRetriever.retrieve-94b04d8b-cd8a-4ba2-bfbc-4de7b3b3eabe (0.557083)\", shape=circle]\n",
      "\t\"CompactAndRefine.get_response-2ce57c29-d0c3-4d65-a415-5b25bfaa757a\" [label=\"CompactAndRefine.get_response-2ce57c29-d0c3-4d65-a415-5b25bfaa757a (9.796068)\", shape=circle]\n",
      "\t\"VectorIndexRetriever._retrieve-8b776ba4-be12-4b91-bd50-bbd01ad4c2fc\" [label=\"VectorIndexRetriever._retrieve-8b776ba4-be12-4b91-bd50-bbd01ad4c2fc (0.555986)\", shape=circle]\n",
      "\t\"CompactAndRefine.get_response-c21d5fe6-5cfe-451f-a7e8-44fa5f1bcd66\" [label=\"CompactAndRefine.get_response-c21d5fe6-5cfe-451f-a7e8-44fa5f1bcd66 (9.79461)\", shape=circle]\n",
      "\t\"TokenTextSplitter.split_text-6ca3dc15-aec4-4674-ad11-0c58e0d78cc4\" [label=\"TokenTextSplitter.split_text-6ca3dc15-aec4-4674-ad11-0c58e0d78cc4 (0.000398)\", shape=circle]\n",
      "\t\"OpenAIEmbedding.get_query_embedding-71253101-eaec-471e-9699-6ff78f9e969c\" [label=\"OpenAIEmbedding.get_query_embedding-71253101-eaec-471e-9699-6ff78f9e969c (0.546269)\", shape=circle]\n",
      "\t\"DefaultRefineProgram.__call__-1982f2e8-b194-4aa6-8831-ebd6795073d6\" [label=\"DefaultRefineProgram.__call__-1982f2e8-b194-4aa6-8831-ebd6795073d6 (9.793602)\", shape=circle]\n",
      "\t\"TokenTextSplitter.split_text-afe832e4-f3b8-461b-ae02-e18df8e8d965\" [label=\"TokenTextSplitter.split_text-afe832e4-f3b8-461b-ae02-e18df8e8d965 (0.000201)\", shape=circle]\n",
      "\t\"OpenAIEmbedding._get_query_embedding-6e09dd64-89ce-4af6-89aa-c05b214f2675\" [label=\"OpenAIEmbedding._get_query_embedding-6e09dd64-89ce-4af6-89aa-c05b214f2675 (0.54554)\", shape=circle]\n",
      "\t\"OpenAI.predict-96fb97a9-ef32-44e6-91e7-d7bb89fa38f7\" [label=\"OpenAI.predict-96fb97a9-ef32-44e6-91e7-d7bb89fa38f7 (9.79317)\", shape=circle]\n",
      "\t\"OpenAI.chat-e0916b48-41c8-459c-a11f-e295d8362abf\" [label=\"OpenAI.chat-e0916b48-41c8-459c-a11f-e295d8362abf (9.79214)\", shape=circle]\n",
      "\n",
      "\t\"RetrieverQueryEngine.query-c0f62d86-71e6-4f9b-8988-720134282db0\" -> \"RetrieverQueryEngine._query-b8d90ee8-7e2e-4fff-8da1-5a0be526cdf5\"\n",
      "\t\"RetrieverQueryEngine._query-b8d90ee8-7e2e-4fff-8da1-5a0be526cdf5\" -> \"VectorIndexRetriever.retrieve-94b04d8b-cd8a-4ba2-bfbc-4de7b3b3eabe\"\n",
      "\t\"RetrieverQueryEngine._query-b8d90ee8-7e2e-4fff-8da1-5a0be526cdf5\" -> \"CompactAndRefine.synthesize-24d03066-d015-4e59-ab99-c689b6c14ac2\"\n",
      "\t\"CompactAndRefine.synthesize-24d03066-d015-4e59-ab99-c689b6c14ac2\" -> \"CompactAndRefine.get_response-2ce57c29-d0c3-4d65-a415-5b25bfaa757a\"\n",
      "\t\"VectorIndexRetriever.retrieve-94b04d8b-cd8a-4ba2-bfbc-4de7b3b3eabe\" -> \"VectorIndexRetriever._retrieve-8b776ba4-be12-4b91-bd50-bbd01ad4c2fc\"\n",
      "\t\"CompactAndRefine.get_response-2ce57c29-d0c3-4d65-a415-5b25bfaa757a\" -> \"TokenTextSplitter.split_text-6ca3dc15-aec4-4674-ad11-0c58e0d78cc4\"\n",
      "\t\"CompactAndRefine.get_response-2ce57c29-d0c3-4d65-a415-5b25bfaa757a\" -> \"CompactAndRefine.get_response-c21d5fe6-5cfe-451f-a7e8-44fa5f1bcd66\"\n",
      "\t\"VectorIndexRetriever._retrieve-8b776ba4-be12-4b91-bd50-bbd01ad4c2fc\" -> \"OpenAIEmbedding.get_query_embedding-71253101-eaec-471e-9699-6ff78f9e969c\"\n",
      "\t\"CompactAndRefine.get_response-c21d5fe6-5cfe-451f-a7e8-44fa5f1bcd66\" -> \"TokenTextSplitter.split_text-afe832e4-f3b8-461b-ae02-e18df8e8d965\"\n",
      "\t\"CompactAndRefine.get_response-c21d5fe6-5cfe-451f-a7e8-44fa5f1bcd66\" -> \"DefaultRefineProgram.__call__-1982f2e8-b194-4aa6-8831-ebd6795073d6\"\n",
      "\t\"OpenAIEmbedding.get_query_embedding-71253101-eaec-471e-9699-6ff78f9e969c\" -> \"OpenAIEmbedding._get_query_embedding-6e09dd64-89ce-4af6-89aa-c05b214f2675\"\n",
      "\t\"DefaultRefineProgram.__call__-1982f2e8-b194-4aa6-8831-ebd6795073d6\" -> \"OpenAI.predict-96fb97a9-ef32-44e6-91e7-d7bb89fa38f7\"\n",
      "\t\"OpenAI.predict-96fb97a9-ef32-44e6-91e7-d7bb89fa38f7\" -> \"OpenAI.chat-e0916b48-41c8-459c-a11f-e295d8362abf\"\n",
      "}\n"
     ]
    }
   ],
   "source": [
    "tree.to_graphviz()"
   ]
  },
  {
   "cell_type": "code",
   "execution_count": 22,
   "id": "7eeb94c1-668c-4108-9a87-8fa88bfad464",
   "metadata": {},
   "outputs": [],
   "source": [
    "!dot -Tpng trace.dot -o trace.png"
   ]
  },
  {
   "cell_type": "code",
   "execution_count": null,
   "id": "fac23bee-4f4f-4be0-9487-440eb31fd43e",
   "metadata": {},
   "outputs": [],
   "source": []
  }
 ],
 "metadata": {
  "kernelspec": {
   "display_name": "rag30",
   "language": "python",
   "name": "rag30"
  },
  "language_info": {
   "codemirror_mode": {
    "name": "ipython",
    "version": 3
   },
   "file_extension": ".py",
   "mimetype": "text/x-python",
   "name": "python",
   "nbconvert_exporter": "python",
   "pygments_lexer": "ipython3",
   "version": "3.12.0"
  }
 },
 "nbformat": 4,
 "nbformat_minor": 5
}
