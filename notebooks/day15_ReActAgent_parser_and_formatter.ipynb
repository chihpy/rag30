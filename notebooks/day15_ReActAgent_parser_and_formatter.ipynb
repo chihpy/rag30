{
 "cells": [
  {
   "cell_type": "raw",
   "id": "ba5a17a4-7868-42a1-8bd5-69f0cdfc9e47",
   "metadata": {},
   "source": [
    "# understanding the :\n",
    "- ReActChatFormatter\n",
    "- ReActOutputParser\n",
    "\n",
    "# reference: https://github.com/run-llama/llama_index/blob/main/docs/examples/examples/workflow/react_agent.ipynb"
   ]
  },
  {
   "cell_type": "code",
   "execution_count": 1,
   "id": "d132caec-70d3-46bf-9927-31116b6d579c",
   "metadata": {},
   "outputs": [],
   "source": [
    "import os\n",
    "from dotenv import find_dotenv, load_dotenv\n",
    "_ = load_dotenv(find_dotenv())\n",
    "\n",
    "from llama_index.core.llms.llm import LLM\n",
    "from llama_index.llms.openai import OpenAI\n",
    "from llama_index.core.llms import ChatMessage\n",
    "\n",
    "from llama_index.core.agent.react.types import ObservationReasoningStep\n",
    "\n",
    "from llama_index.core.agent.react import ReActChatFormatter, ReActOutputParser  "
   ]
  },
  {
   "cell_type": "markdown",
   "id": "c9da54fc-35d2-4ad5-ad0e-810fde00b5ea",
   "metadata": {},
   "source": [
    "# Tools"
   ]
  },
  {
   "cell_type": "code",
   "execution_count": 2,
   "id": "b971504e-9cea-432c-8d43-5c5ff86891cb",
   "metadata": {},
   "outputs": [],
   "source": [
    "from typing import Literal\n",
    "from llama_index.core.tools import FunctionTool\n",
    "\n",
    "def add(a: Literal[0, 1], b: Literal[0, 1]) -> Literal[0, 1]:\n",
    "    \"\"\"這是一個在二元代數結構上定義的神祕「加法」，你可以藉由呼叫這個工具來釐清它的運作邏輯。\n",
    "    \n",
    "    此神秘加法滿足一下公理性特徵：\n",
    "    - 交換律：a ⊕ b = b ⊕ a\n",
    "    - 結合律：(a ⊕ b) ⊕ c = a ⊕ (b ⊕ c)\n",
    "    - 冪等律：a ⊕ a = a\n",
    "    - 加法單位元：0，使得 a ⊕ 0 = a\n",
    "    - 定義域僅含 0 與 1，且 1 ⊕ 1 = 1、0 ⊕ 1 = 1、0 ⊕ 0 = 0\n",
    "    \n",
    "    Parameters:\n",
    "        a: either 0 or 1\n",
    "        b: either 0 or 1\n",
    "    Returns:\n",
    "        0 or 1\n",
    "    \"\"\"\n",
    "    if a not in (0, 1) or b not in (0, 1):\n",
    "        raise ValueError(\"add is only defined on {0,1}.\")\n",
    "    return 1 if (a == 1 or b == 1) else 0\n",
    "    \n",
    "tools = [\n",
    "    FunctionTool.from_defaults(add)\n",
    "]"
   ]
  },
  {
   "cell_type": "markdown",
   "id": "9ee9982b-35d6-4fec-94d4-e50ba628df1f",
   "metadata": {},
   "source": [
    "## ReActChatFormatter\n",
    "\n",
    "formatter.format(tools, chat_history, current_reasoning)\n",
    "- 我們在意三種情況：\n",
    "\n",
    "1. call formatter without chat_history and current_reasoning\n",
    "    - 可以看到回傳的基本上就是 [system_prompt]\n",
    "2. call formatter with tools and chat_history\n",
    "    - 可以看到回傳的基本上就是 [system_prompt, user_prompt]\n",
    "3. call formatter with tool, chat_history and current_reasoning\n",
    "    - 可以看到回傳的基本上就是 [system_prompt, user_prompt, current_reasoning]\n",
    "    - 順序就是沿路 append 下來"
   ]
  },
  {
   "cell_type": "code",
   "execution_count": 3,
   "id": "b2ad0ad9-8756-4146-a5e5-0a2cc00e86e9",
   "metadata": {},
   "outputs": [
    {
     "name": "stdout",
     "output_type": "stream",
     "text": [
      "type: <class 'list'>, len: 1, dtype: <class 'llama_index.core.base.llms.types.ChatMessage'>\n",
      "---\n",
      "You are designed to help with a variety of tasks, from answering questions to providing summaries to other types of analyses.\n",
      "\n",
      "## Tools\n",
      "\n",
      "You have access to a wide variety of tools. You are responsible for using the tools in any sequence you deem appropriate to complete the task at hand.\n",
      "This may require breaking the task into subtasks and using different tools to complete each subtask.\n",
      "\n",
      "You have access to the following tools:\n",
      "> Tool Name: add\n",
      "Tool Description: add(a: Literal[0, 1], b: Literal[0, 1]) -> Literal[0, 1]\n",
      "這是一個在二元代數結構上定義的神祕「加法」，你可以藉由呼叫這個工具來釐清它的運作邏輯。\n",
      "Tool Args: {\"properties\": {\"a\": {\"enum\": [0, 1], \"title\": \"A\", \"type\": \"integer\"}, \"b\": {\"enum\": [0, 1], \"title\": \"B\", \"type\": \"integer\"}}, \"required\": [\"a\", \"b\"], \"type\": \"object\"}\n",
      "\n",
      "\n",
      "\n",
      "## Output Format\n",
      "\n",
      "Please answer in the same language as the question and use the following format:\n",
      "\n",
      "```\n",
      "Thought: The current language of the user is: (user's language). I need to use a tool to help me answer the question.\n",
      "Action: tool name (one of add) if using a tool.\n",
      "Action Input: the input to the tool, in a JSON format representing the kwargs (e.g. {\"input\": \"hello world\", \"num_beams\": 5})\n",
      "```\n",
      "\n",
      "Please ALWAYS start with a Thought.\n",
      "\n",
      "NEVER surround your response with markdown code markers. You may use code markers within your response if you need to.\n",
      "\n",
      "Please use a valid JSON format for the Action Input. Do NOT do this {'input': 'hello world', 'num_beams': 5}. If you include the \"Action:\" line, then you MUST include the \"Action Input:\" line too, even if the tool does not need kwargs, in that case you MUST use \"Action Input: {}\".\n",
      "\n",
      "If this format is used, the tool will respond in the following format:\n",
      "\n",
      "```\n",
      "Observation: tool response\n",
      "```\n",
      "\n",
      "You should keep repeating the above format till you have enough information to answer the question without using any more tools. At that point, you MUST respond in one of the following two formats:\n",
      "\n",
      "```\n",
      "Thought: I can answer without using any more tools. I'll use the user's language to answer\n",
      "Answer: [your answer here (In the same language as the user's question)]\n",
      "```\n",
      "\n",
      "```\n",
      "Thought: I cannot answer the question with the provided tools.\n",
      "Answer: [your answer here (In the same language as the user's question)]\n",
      "```\n",
      "\n",
      "## Current Conversation\n",
      "\n",
      "Below is the current conversation consisting of interleaving human and assistant messages.\n",
      "\n"
     ]
    }
   ],
   "source": [
    "from llama_index.core.agent.react import ReActChatFormatter\n",
    "formatter = ReActChatFormatter.from_defaults()\n",
    "\n",
    "# call formatter without chat_history and current_reasoning\n",
    "llm_input = formatter.format(tools, chat_history = [], current_reasoning = [])\n",
    "\n",
    "print(f\"type: {type(llm_input)}, len: {len(llm_input)}, dtype: {type(llm_input[0])}\")\n",
    "print('---')\n",
    "print(llm_input[0].content)"
   ]
  },
  {
   "cell_type": "code",
   "execution_count": 4,
   "id": "0915a4ef-5309-464a-be8c-ba63c7efdaaa",
   "metadata": {},
   "outputs": [
    {
     "name": "stdout",
     "output_type": "stream",
     "text": [
      "type: <class 'list'>, len: 2, dtype: <class 'llama_index.core.base.llms.types.ChatMessage'>\n",
      "---\n",
      "請重新思考一下， 1+1 等於多少，他真的等於 2 嗎? 還是會有其他可能，你有用其他工具查證嗎?\n"
     ]
    }
   ],
   "source": [
    "# call formatter with tools and chat_history\n",
    "from llama_index.core.llms import ChatMessage\n",
    "\n",
    "chat_history = [\n",
    "        ChatMessage(role=\"user\", content='請重新思考一下， 1+1 等於多少，他真的等於 2 嗎? 還是會有其他可能，你有用其他工具查證嗎?'),\n",
    "]\n",
    "\n",
    "llm_input = formatter.format(tools, chat_history = chat_history, current_reasoning = [])\n",
    "\n",
    "print(f\"type: {type(llm_input)}, len: {len(llm_input)}, dtype: {type(llm_input[1])}\")\n",
    "print('---')\n",
    "print(llm_input[1].content)"
   ]
  },
  {
   "cell_type": "code",
   "execution_count": 5,
   "id": "560efeb7-1482-4332-b213-22d9ddd961a4",
   "metadata": {},
   "outputs": [
    {
     "name": "stdout",
     "output_type": "stream",
     "text": [
      "observation='1' return_direct=False\n",
      "[ObservationReasoningStep(observation='1', return_direct=False)]\n"
     ]
    }
   ],
   "source": [
    "# call formatter with tool, chat_history and current_reasoning\n",
    "## first we make observationreasoningstep \n",
    "\n",
    "current_reasoning = []\n",
    "## get tool output first\n",
    "tool_output = tools[0](a=1, b=1)\n",
    "## make ObservationReasoningStep\n",
    "Observation = ObservationReasoningStep(observation=tool_output.content)\n",
    "print(Observation)\n",
    "current_reasoning.append(Observation)\n",
    "print(current_reasoning)"
   ]
  },
  {
   "cell_type": "code",
   "execution_count": 6,
   "id": "92fd3bf2-24e7-42e8-9c4e-66060eb13d75",
   "metadata": {},
   "outputs": [
    {
     "name": "stdout",
     "output_type": "stream",
     "text": [
      "type: <class 'list'>, len: 3, dtype: <class 'llama_index.core.base.llms.types.ChatMessage'>\n",
      "Observation: 1\n"
     ]
    }
   ],
   "source": [
    "## then check llm_input\n",
    "llm_input = formatter.format(tools, chat_history = chat_history, current_reasoning = current_reasoning)\n",
    "\n",
    "print(f\"type: {type(llm_input)}, len: {len(llm_input)}, dtype: {type(llm_input[2])}\")\n",
    "print(llm_input[2].content)"
   ]
  },
  {
   "cell_type": "markdown",
   "id": "803b9856-66a4-4585-92b2-f7cad0fbd466",
   "metadata": {},
   "source": [
    "# ReActOutputParser\n",
    "output_parser.parse(response)\n",
    "- 我們在意四種情況：\n",
    "1. 呼叫工具的事件\n",
    "2. 有結論了，回傳user\n",
    "3. 2 的特殊情況，其實沒有結論，但反正也沒有呼叫工具，我就回傳\n",
    "4. parser error"
   ]
  },
  {
   "cell_type": "code",
   "execution_count": 7,
   "id": "7fa1d976-7ddb-4cd4-9802-07d62aa1b6ee",
   "metadata": {},
   "outputs": [
    {
     "name": "stdout",
     "output_type": "stream",
     "text": [
      "Thought: The current language of the user is: 中文. I need to use a tool to help me answer the question.\n",
      "Action: add\n",
      "Action Input: {\"a\": 1, \"b\": 1}\n"
     ]
    }
   ],
   "source": [
    "# case1: use tool\n",
    "llm = OpenAI(model=\"gpt-5-mini\")\n",
    "suggest_tool_llm_input = llm_input\n",
    "use_tool_response = llm.chat(suggest_tool_llm_input)\n",
    "print(use_tool_response.message.content)"
   ]
  },
  {
   "cell_type": "code",
   "execution_count": 8,
   "id": "06026e44-9949-4c26-a1f6-5b6985786967",
   "metadata": {},
   "outputs": [
    {
     "name": "stdout",
     "output_type": "stream",
     "text": [
      "Thought: The current language of the user is: 中文。我可以不用其他工具回答。我會用中文回答。\n",
      "Answer: 1 + 1 = 2\n"
     ]
    }
   ],
   "source": [
    "# case2: don't use tool\n",
    "no_tool_chat_history = [\n",
    "        ChatMessage(role=\"user\", content='簡單的問題不要呼叫工具，不用想太多，請問1+1=?'),\n",
    "]\n",
    "no_tool_llm_input = formatter.format(tools, chat_history = no_tool_chat_history, current_reasoning = [])\n",
    "no_tool_response = llm.chat(no_tool_llm_input)\n",
    "print(no_tool_response.message.content)"
   ]
  },
  {
   "cell_type": "markdown",
   "id": "09426fb8-87f8-478c-a70d-1b2c62aeb05e",
   "metadata": {},
   "source": [
    "## let's parse"
   ]
  },
  {
   "cell_type": "code",
   "execution_count": 9,
   "id": "4938c02d-6bc6-4325-b633-3365fd144e83",
   "metadata": {},
   "outputs": [
    {
     "data": {
      "text/plain": [
       "ActionReasoningStep(thought='The current language of the user is: 中文. I need to use a tool to help me answer the question.', action='add', action_input={'a': 1, 'b': 1})"
      ]
     },
     "execution_count": 9,
     "metadata": {},
     "output_type": "execute_result"
    }
   ],
   "source": [
    "from llama_index.core.agent.react import ReActOutputParser\n",
    "output_parser = ReActOutputParser()\n",
    "\n",
    "# use tool case:\n",
    "output_parser.parse(use_tool_response.message.content)"
   ]
  },
  {
   "cell_type": "code",
   "execution_count": 10,
   "id": "05b446c8-68e9-415e-a27e-3a8c79ba3f8f",
   "metadata": {},
   "outputs": [
    {
     "data": {
      "text/plain": [
       "ResponseReasoningStep(thought='The current language of the user is: 中文。我可以不用其他工具回答。我會用中文回答。', response='1 + 1 = 2', is_streaming=False)"
      ]
     },
     "execution_count": 10,
     "metadata": {},
     "output_type": "execute_result"
    }
   ],
   "source": [
    "# don't use tool case:\n",
    "output_parser.parse(no_tool_response.message.content)"
   ]
  },
  {
   "cell_type": "code",
   "execution_count": 11,
   "id": "9d908aeb-ae2c-4c0b-a67b-cf951c23fceb",
   "metadata": {},
   "outputs": [
    {
     "data": {
      "text/plain": [
       "ResponseReasoningStep(thought='(Implicit) I can answer without any more tools!', response='抄下我聯絡電話是香港3345678， 我再重覆一次是香港3345678。你不打來找我無所謂，因為這將是你的損失。 十點後鐘不要打來，因為我睡啦！', is_streaming=False)"
      ]
     },
     "execution_count": 11,
     "metadata": {},
     "output_type": "execute_result"
    }
   ],
   "source": [
    "# special case for don't use tool\n",
    "output_parser.parse('抄下我聯絡電話是香港3345678， 我再重覆一次是香港3345678。你不打來找我無所謂，因為這將是你的損失。 十點後鐘不要打來，因為我睡啦！')"
   ]
  },
  {
   "cell_type": "code",
   "execution_count": 12,
   "id": "a8cd83b3-fb9c-4061-b5be-347dc9797d6e",
   "metadata": {},
   "outputs": [
    {
     "name": "stdout",
     "output_type": "stream",
     "text": [
      "observation='There was an error in parsing my reasoning: Could not parse output: Thought: ' return_direct=False\n"
     ]
    }
   ],
   "source": [
    "# error parse case\n",
    "try:\n",
    "    output_parser.parse('Thought: ')\n",
    "except Exception as e:\n",
    "    print(ObservationReasoningStep(observation=f\"There was an error in parsing my reasoning: {e}\"))"
   ]
  },
  {
   "cell_type": "code",
   "execution_count": null,
   "id": "e1853f4b-a1d6-44ec-b7a8-c255ee003504",
   "metadata": {},
   "outputs": [],
   "source": []
  }
 ],
 "metadata": {
  "kernelspec": {
   "display_name": "rag30",
   "language": "python",
   "name": "rag30"
  },
  "language_info": {
   "codemirror_mode": {
    "name": "ipython",
    "version": 3
   },
   "file_extension": ".py",
   "mimetype": "text/x-python",
   "name": "python",
   "nbconvert_exporter": "python",
   "pygments_lexer": "ipython3",
   "version": "3.12.0"
  }
 },
 "nbformat": 4,
 "nbformat_minor": 5
}
