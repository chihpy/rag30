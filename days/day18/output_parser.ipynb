{
 "cells": [
  {
   "cell_type": "raw",
   "id": "188ba9bd-b21f-4be3-9378-c4a79fdb4235",
   "metadata": {},
   "source": [
    "這邊先把 response 統一做成 qid 為 index 的 dictionary"
   ]
  },
  {
   "cell_type": "code",
   "execution_count": 1,
   "id": "1ef9f827-1542-4b29-83c6-6b68edcaeaf5",
   "metadata": {},
   "outputs": [],
   "source": [
    "import os\n",
    "import re\n",
    "import json\n",
    "from tqdm import tqdm\n",
    "from utils import json_load, json_dump"
   ]
  },
  {
   "cell_type": "code",
   "execution_count": 2,
   "id": "96736a7d-bf39-4ed0-8ec6-a82f8fbf53c7",
   "metadata": {},
   "outputs": [
    {
     "name": "stdout",
     "output_type": "stream",
     "text": [
      "['4_gemma.json', '3_llama_chat.json', '5_json_gemma.json', '2_llama_zh.json', '.ipynb_checkpoints', '1_llama_en.json']\n"
     ]
    }
   ],
   "source": [
    "SOURCE_DIR = os.path.join('data', 'temp')\n",
    "print(os.listdir(SOURCE_DIR))\n",
    "\n",
    "DEST_DIR = os.path.join('data', 'deliverables')\n",
    "os.makedirs(DEST_DIR, exist_ok=True)"
   ]
  },
  {
   "cell_type": "code",
   "execution_count": 3,
   "id": "11740b90-a8f1-4041-9766-19b259d17c7b",
   "metadata": {},
   "outputs": [],
   "source": [
    "# helper\n",
    "def extract_markdown_json(raw):\n",
    "    # 把 ```json ... ``` 和 ``` 拿掉\n",
    "    if raw.startswith(\"```\"):\n",
    "        raw = re.sub(r\"^```(?:json)?\", \"\", raw)\n",
    "        raw = re.sub(r\"```$\", \"\", raw)\n",
    "        raw = raw.strip()\n",
    "\n",
    "    rv = json.loads(raw)\n",
    "    return rv"
   ]
  },
  {
   "cell_type": "markdown",
   "id": "646ab431-60ef-4757-99a1-098de75da675",
   "metadata": {},
   "source": [
    "# 1. gemma parser"
   ]
  },
  {
   "cell_type": "code",
   "execution_count": 4,
   "id": "c9e844c3-0024-4b69-8fe4-f17dae3293a6",
   "metadata": {},
   "outputs": [],
   "source": [
    "save_file_path = os.path.join(DEST_DIR, '4_gemma_response.json')\n",
    "rvs = {}"
   ]
  },
  {
   "cell_type": "code",
   "execution_count": 5,
   "id": "090fbc52-7621-44ca-827c-031ee88b7754",
   "metadata": {},
   "outputs": [
    {
     "name": "stdout",
     "output_type": "stream",
     "text": [
      "80\n"
     ]
    },
    {
     "data": {
      "text/plain": [
       "{'qid_source': 1,\n",
       " 'qset_txt': '1.常見針灸配穴法中，所指的「四關穴」，為下列何穴位之組合？\\n\\xa0\\nA.上星、日月\\nB.合谷、太衝\\nC.內關、外關\\nD.上關、下關',\n",
       " 'profiling': {'model': 'gemma3:12b',\n",
       "  'created_at': '2025-10-02T18:06:23.43249882Z',\n",
       "  'done': True,\n",
       "  'done_reason': 'stop',\n",
       "  'total_duration': 20068842006,\n",
       "  'load_duration': 8571495865,\n",
       "  'prompt_eval_count': 376,\n",
       "  'prompt_eval_duration': 3052538796,\n",
       "  'eval_count': 95,\n",
       "  'eval_duration': 8443841338,\n",
       "  'usage': {'prompt_tokens': 376,\n",
       "   'completion_tokens': 95,\n",
       "   'total_tokens': 471}},\n",
       " 'response': '```json\\n{\\n  \"qid\": 1,\\n  \"stem\": \"常見針灸配穴法中，所指的「四關穴」，為下列何穴位之組合？\",\\n  \"A\": \"上星、日月\",\\n  \"B\": \"合谷、太衝\",\\n  \"C\": \"內關、外關\",\\n  \"D\": \"上關、下關\"\\n}\\n```',\n",
       " 'py_times': 17.757858514785767}"
      ]
     },
     "execution_count": 5,
     "metadata": {},
     "output_type": "execute_result"
    }
   ],
   "source": [
    "# load gemma response\n",
    "file_path = os.path.join(SOURCE_DIR, '4_gemma.json')\n",
    "data = json_load(file_path)\n",
    "print(len(data))\n",
    "data[0]"
   ]
  },
  {
   "cell_type": "code",
   "execution_count": 6,
   "id": "b653f5d5-2a54-4dd8-a36d-a325f99d9ba7",
   "metadata": {},
   "outputs": [
    {
     "name": "stderr",
     "output_type": "stream",
     "text": [
      "100%|███████████████████████████████████████████████████████████████████████████████| 80/80 [00:00<00:00, 166111.05it/s]"
     ]
    },
    {
     "name": "stdout",
     "output_type": "stream",
     "text": [
      "80\n",
      "write result to: data/deliverables/4_gemma_response.json\n"
     ]
    },
    {
     "name": "stderr",
     "output_type": "stream",
     "text": [
      "\n"
     ]
    }
   ],
   "source": [
    "error_cnt = 0\n",
    "\n",
    "for example in tqdm(data):\n",
    "    # get qid_source and qet_text\n",
    "    qid_source = example['qid_source']\n",
    "    qset_txt = example['qset_txt']\n",
    "    response = example['response']\n",
    "    try:\n",
    "        response_json = extract_markdown_json(response)\n",
    "    except:\n",
    "        response_json = {}\n",
    "        error_cnt+=1\n",
    "        print(\"cnt: {}\".format(error_cnt))\n",
    "    rv = {\n",
    "        'qset_text': qset_txt,\n",
    "        'response': response_json\n",
    "    }\n",
    "    rvs[qid_source] = rv\n",
    "\n",
    "print(len(rvs))\n",
    "\n",
    "json_dump(save_file_path, rvs)"
   ]
  },
  {
   "cell_type": "markdown",
   "id": "123ed6a1-a488-43f0-8c2e-f45edb37bc67",
   "metadata": {},
   "source": [
    "# 2. json_gemma_parser"
   ]
  },
  {
   "cell_type": "code",
   "execution_count": 7,
   "id": "c476b0dc-b424-40c7-a6b9-939efa1e01aa",
   "metadata": {},
   "outputs": [],
   "source": [
    "save_file_path = os.path.join(DEST_DIR, '5_json_gemma_response.json')"
   ]
  },
  {
   "cell_type": "code",
   "execution_count": 8,
   "id": "1dc2f40f-faa7-47e3-93d7-28509b000445",
   "metadata": {},
   "outputs": [
    {
     "name": "stdout",
     "output_type": "stream",
     "text": [
      "80\n"
     ]
    },
    {
     "data": {
      "text/plain": [
       "{'qid_source': 1,\n",
       " 'qset_txt': '1.常見針灸配穴法中，所指的「四關穴」，為下列何穴位之組合？\\n\\xa0\\nA.上星、日月\\nB.合谷、太衝\\nC.內關、外關\\nD.上關、下關',\n",
       " 'profiling': {'model': 'gemma3:12b',\n",
       "  'created_at': '2025-10-02T18:19:48.689635996Z',\n",
       "  'done': True,\n",
       "  'done_reason': 'stop',\n",
       "  'total_duration': 8750207631,\n",
       "  'load_duration': 46727309,\n",
       "  'prompt_eval_count': 376,\n",
       "  'prompt_eval_duration': 564764160,\n",
       "  'eval_count': 90,\n",
       "  'eval_duration': 8046163137,\n",
       "  'usage': {'prompt_tokens': 376,\n",
       "   'completion_tokens': 90,\n",
       "   'total_tokens': 466}},\n",
       " 'response': {'qid': 1,\n",
       "  'stem': '常見針灸配穴法中，所指的「四關穴」，為下列何穴位之組合？',\n",
       "  'A': '上星、日月',\n",
       "  'B': '合谷、太衝',\n",
       "  'C': '內關、外關',\n",
       "  'D': '上關、下關'},\n",
       " 'py_times': 8.767213582992554}"
      ]
     },
     "execution_count": 8,
     "metadata": {},
     "output_type": "execute_result"
    }
   ],
   "source": [
    "# load json_gemma response\n",
    "file_path = os.path.join(SOURCE_DIR, '5_json_gemma.json')\n",
    "data = json_load(file_path)\n",
    "print(len(data))\n",
    "data[0]"
   ]
  },
  {
   "cell_type": "code",
   "execution_count": 11,
   "id": "fda0f386-ee4c-45c4-96cf-8d74b9933a65",
   "metadata": {},
   "outputs": [],
   "source": [
    "def dataset_dump(data):\n",
    "    rvs = {}\n",
    "    error_cnt = 0\n",
    "    for example in tqdm(data):\n",
    "        # get qid_source and qet_text\n",
    "        qid_source = example['qid_source']\n",
    "        qset_txt = example['qset_txt']\n",
    "        try:\n",
    "            response_json = example['response']\n",
    "        except:\n",
    "            response_json = {}\n",
    "            error_cnt+=1\n",
    "            print(\"cnt: {}\".format(error_cnt))\n",
    "        rv = {\n",
    "            'qset_text': qset_txt,\n",
    "            'response': response_json\n",
    "        }\n",
    "        rvs[qid_source] = rv\n",
    "    print(len(rvs))\n",
    "    return rvs"
   ]
  },
  {
   "cell_type": "code",
   "execution_count": 12,
   "id": "af6e58cf-42fc-48c3-b840-9a7352a2ba16",
   "metadata": {},
   "outputs": [
    {
     "name": "stderr",
     "output_type": "stream",
     "text": [
      "100%|███████████████████████████████████████████████████████████████████████████████| 80/80 [00:00<00:00, 304763.23it/s]"
     ]
    },
    {
     "name": "stdout",
     "output_type": "stream",
     "text": [
      "80\n",
      "write result to: data/deliverables/5_json_gemma_response.json\n"
     ]
    },
    {
     "name": "stderr",
     "output_type": "stream",
     "text": [
      "\n"
     ]
    }
   ],
   "source": [
    "rvs = dataset_dump(data)\n",
    "json_dump(save_file_path, rvs)"
   ]
  },
  {
   "cell_type": "markdown",
   "id": "4ba74998-a9eb-4866-a060-5d0a81f9a56f",
   "metadata": {},
   "source": [
    "# llama_1"
   ]
  },
  {
   "cell_type": "code",
   "execution_count": 13,
   "id": "b54f7eeb-9324-4ffe-bdb5-9b9125e1c177",
   "metadata": {},
   "outputs": [
    {
     "name": "stdout",
     "output_type": "stream",
     "text": [
      "80\n"
     ]
    },
    {
     "data": {
      "text/plain": [
       "20"
      ]
     },
     "execution_count": 13,
     "metadata": {},
     "output_type": "execute_result"
    }
   ],
   "source": [
    "# load 1_llama_en.json response\n",
    "save_file_path = os.path.join(DEST_DIR, '1_llama_en_response.json')\n",
    "file_path = os.path.join(SOURCE_DIR, '1_llama_en.json')\n",
    "data = json_load(file_path)\n",
    "print(len(data))\n",
    "data[0]"
   ]
  },
  {
   "cell_type": "code",
   "execution_count": 18,
   "id": "d21c59de-3977-4ade-bee6-59f17aa61d45",
   "metadata": {},
   "outputs": [],
   "source": [
    "def get_error_qid(data):\n",
    "    error_ids = []\n",
    "    for qset in data:\n",
    "        if isinstance(qset, int):\n",
    "            error_ids.append(qset + 1)\n",
    "    return error_ids"
   ]
  },
  {
   "cell_type": "code",
   "execution_count": 21,
   "id": "92bed36b-e534-453f-ace1-0975c5112381",
   "metadata": {},
   "outputs": [
    {
     "name": "stdout",
     "output_type": "stream",
     "text": [
      "find 7 error_ids\n"
     ]
    },
    {
     "name": "stderr",
     "output_type": "stream",
     "text": [
      "100%|███████████████████████████████████████████████████████████████████████████████| 73/73 [00:00<00:00, 605107.10it/s]"
     ]
    },
    {
     "name": "stdout",
     "output_type": "stream",
     "text": [
      "73\n",
      "write result to: data/deliverables/1_llama_en_response.json\n"
     ]
    },
    {
     "name": "stderr",
     "output_type": "stream",
     "text": [
      "\n"
     ]
    }
   ],
   "source": [
    "error_ids = get_error_qid(data)\n",
    "num_error = len(error_ids)\n",
    "print(f'find {num_error} error_ids')\n",
    "\n",
    "data = data[num_error:]\n",
    "rvs = dataset_dump(data)\n",
    "json_dump(save_file_path, rvs)"
   ]
  },
  {
   "cell_type": "markdown",
   "id": "9e7467c5-6596-4747-abc1-79921447c51e",
   "metadata": {},
   "source": [
    "# llama_2"
   ]
  },
  {
   "cell_type": "code",
   "execution_count": 22,
   "id": "3ce3f20d-4c51-4437-9ebb-24571fd98689",
   "metadata": {},
   "outputs": [
    {
     "name": "stdout",
     "output_type": "stream",
     "text": [
      "80\n"
     ]
    },
    {
     "data": {
      "text/plain": [
       "1"
      ]
     },
     "execution_count": 22,
     "metadata": {},
     "output_type": "execute_result"
    }
   ],
   "source": [
    "save_file_path = os.path.join(DEST_DIR, '2_llama_zh_response.json')\n",
    "file_path = os.path.join(SOURCE_DIR, '2_llama_zh.json')\n",
    "data = json_load(file_path)\n",
    "print(len(data))\n",
    "data[0]"
   ]
  },
  {
   "cell_type": "code",
   "execution_count": 23,
   "id": "9020702a-49f6-4527-b6cc-b852db3359a0",
   "metadata": {},
   "outputs": [
    {
     "name": "stdout",
     "output_type": "stream",
     "text": [
      "find 7 error_ids\n"
     ]
    },
    {
     "name": "stderr",
     "output_type": "stream",
     "text": [
      "100%|███████████████████████████████████████████████████████████████████████████████| 73/73 [00:00<00:00, 684975.82it/s]"
     ]
    },
    {
     "name": "stdout",
     "output_type": "stream",
     "text": [
      "73\n",
      "write result to: data/deliverables/2_llama_zh_response.json\n"
     ]
    },
    {
     "name": "stderr",
     "output_type": "stream",
     "text": [
      "\n"
     ]
    }
   ],
   "source": [
    "error_ids = get_error_qid(data)\n",
    "num_error = len(error_ids)\n",
    "print(f'find {num_error} error_ids')\n",
    "\n",
    "data = data[num_error:]\n",
    "rvs = dataset_dump(data)\n",
    "json_dump(save_file_path, rvs)"
   ]
  },
  {
   "cell_type": "markdown",
   "id": "9455e3fb-3391-4d30-8f97-6c23e9db3ad5",
   "metadata": {},
   "source": [
    "# llama_3"
   ]
  },
  {
   "cell_type": "code",
   "execution_count": 24,
   "id": "6b76e1ec-a14d-46ac-a342-624dbab1121f",
   "metadata": {},
   "outputs": [
    {
     "name": "stdout",
     "output_type": "stream",
     "text": [
      "80\n"
     ]
    },
    {
     "data": {
      "text/plain": [
       "{'qid_source': 1,\n",
       " 'qset_txt': '1.常見針灸配穴法中，所指的「四關穴」，為下列何穴位之組合？\\n\\xa0\\nA.上星、日月\\nB.合谷、太衝\\nC.內關、外關\\nD.上關、下關',\n",
       " 'profiling': {'model': 'llama3.1:latest',\n",
       "  'created_at': '2025-10-02T18:00:12.319634632Z',\n",
       "  'done': True,\n",
       "  'done_reason': 'stop',\n",
       "  'total_duration': 4030284384,\n",
       "  'load_duration': 24253572,\n",
       "  'prompt_eval_count': 1260,\n",
       "  'prompt_eval_duration': 391713275,\n",
       "  'eval_count': 119,\n",
       "  'eval_duration': 3613294930,\n",
       "  'usage': {'prompt_tokens': 1260,\n",
       "   'completion_tokens': 119,\n",
       "   'total_tokens': 1379}},\n",
       " 'response': {'A': '膀胱經',\n",
       "  'B': '膽經',\n",
       "  'C': '胃經',\n",
       "  'D': '肝經',\n",
       "  'qid': 1,\n",
       "  'stem': '常見針灸配穴法中，所指的「四關穴」，為下列何穴位之組合？\\n\\nA.上星、日月\\nB.合谷、太衝\\nC.內關、外關\\nD.上關、下關'},\n",
       " 'py_times': 1.7432334423065186}"
      ]
     },
     "execution_count": 24,
     "metadata": {},
     "output_type": "execute_result"
    }
   ],
   "source": [
    "save_file_path = os.path.join(DEST_DIR, '3_llama_chat_response.json')\n",
    "file_path = os.path.join(SOURCE_DIR, '3_llama_chat.json')\n",
    "data = json_load(file_path)\n",
    "print(len(data))\n",
    "data[0]"
   ]
  },
  {
   "cell_type": "code",
   "execution_count": 25,
   "id": "1979b4a0-4aec-4b20-ba5e-17774eac1341",
   "metadata": {},
   "outputs": [
    {
     "name": "stdout",
     "output_type": "stream",
     "text": [
      "find 0 error_ids\n"
     ]
    },
    {
     "name": "stderr",
     "output_type": "stream",
     "text": [
      "100%|███████████████████████████████████████████████████████████████████████████████| 80/80 [00:00<00:00, 789516.05it/s]"
     ]
    },
    {
     "name": "stdout",
     "output_type": "stream",
     "text": [
      "80\n",
      "write result to: data/deliverables/3_llama_chat_response.json\n"
     ]
    },
    {
     "name": "stderr",
     "output_type": "stream",
     "text": [
      "\n"
     ]
    }
   ],
   "source": [
    "error_ids = get_error_qid(data)\n",
    "num_error = len(error_ids)\n",
    "print(f'find {num_error} error_ids')\n",
    "\n",
    "data = data[num_error:]\n",
    "rvs = dataset_dump(data)\n",
    "json_dump(save_file_path, rvs)"
   ]
  },
  {
   "cell_type": "code",
   "execution_count": null,
   "id": "b04c8380-132a-4de0-b1a4-e6714335107c",
   "metadata": {},
   "outputs": [],
   "source": []
  }
 ],
 "metadata": {
  "kernelspec": {
   "display_name": "rag30",
   "language": "python",
   "name": "rag30"
  },
  "language_info": {
   "codemirror_mode": {
    "name": "ipython",
    "version": 3
   },
   "file_extension": ".py",
   "mimetype": "text/x-python",
   "name": "python",
   "nbconvert_exporter": "python",
   "pygments_lexer": "ipython3",
   "version": "3.12.0"
  }
 },
 "nbformat": 4,
 "nbformat_minor": 5
}
